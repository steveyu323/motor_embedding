{
 "cells": [
  {
   "cell_type": "code",
   "execution_count": 19,
   "metadata": {},
   "outputs": [],
   "source": [
    "import numpy as np\n",
    "from sklearn.datasets import load_digits\n",
    "from sklearn.model_selection import train_test_split\n",
    "from sklearn.preprocessing import StandardScaler\n",
    "import matplotlib.pyplot as plt\n",
    "import seaborn as sns\n",
    "import pandas as pd\n",
    "from sklearn.decomposition import PCA\n",
    "import umap\n",
    "\n",
    "%matplotlib inline\n",
    "sns.set(style='white', context='notebook', rc={'figure.figsize':(14,10)})"
   ]
  },
  {
   "cell_type": "code",
   "execution_count": 20,
   "metadata": {},
   "outputs": [],
   "source": [
    "hn_dir = \"../../out/201102/embedding/esm_models\"\n",
    "tuning_dir = [\"t12\",\"t34\"]\n",
    "umap_out_dir = \"../../out/201102/umap/\"\n",
    "data_names = [\"pfamA_random\",\"motor_toolkit\",\"pfamA_balanced\",\"pfamA_target\",\"kinesin_labelled\"]"
   ]
  },
  {
   "cell_type": "code",
   "execution_count": 21,
   "metadata": {},
   "outputs": [],
   "source": [
    "def joint_embed_tsne(target,background):\n",
    "    jointed = np.concatenate((target, background), axis=0)\n",
    "    pca_jointed = PCA(n_components=5).fit_transform(jointed)\n",
    "    jointed_em_2 = TSNE(n_components=2).fit_transform(pca_jointed)\n",
    "    target_em = jointed_em_2[0:target.shape[0],:]\n",
    "    background_em = jointed_em_2[target.shape[0]:,:]\n",
    "    return target_em,background_em\n",
    "\n",
    "def joint_embed_pca(target,background):\n",
    "    jointed = np.concatenate((target, background), axis=0)\n",
    "    pca_jointed = PCA(n_components=2).fit_transform(jointed)\n",
    "    target_em = pca_jointed[0:target.shape[0],:]\n",
    "    background_em = pca_jointed[target.shape[0]:,:]\n",
    "    return target_em,background_em"
   ]
  },
  {
   "cell_type": "code",
   "execution_count": 23,
   "metadata": {},
   "outputs": [
    {
     "name": "stdout",
     "output_type": "stream",
     "text": [
      "../../out/201102/umap/t12\n",
      "../../out/201102/umap/t34\n"
     ]
    }
   ],
   "source": [
    "# make one directory for each tuning method\n",
    "import os, sys\n",
    "for tuning_dir_ in tuning_dir:\n",
    "    umap_path = umap_out_dir+tuning_dir_\n",
    "    print(umap_path)\n",
    "    os.mkdir(umap_path)\n"
   ]
  },
  {
   "cell_type": "code",
   "execution_count": 25,
   "metadata": {},
   "outputs": [
    {
     "name": "stdout",
     "output_type": "stream",
     "text": [
      "t12\n",
      "(1600, 768)\n",
      "(3255, 768)\n",
      "(18000, 768)\n",
      "(5544, 768)\n",
      "pfamA_random\n",
      "--- 4.850423097610474 seconds ---\n",
      "motor_toolkit\n"
     ]
    },
    {
     "name": "stderr",
     "output_type": "stream",
     "text": [
      "/home/cyu7/miniconda3/lib/python3.8/site-packages/sklearn/manifold/_spectral_embedding.py:236: UserWarning: Graph is not fully connected, spectral embedding may not work as expected.\n",
      "  warnings.warn(\"Graph is not fully connected, spectral embedding\"\n"
     ]
    },
    {
     "name": "stdout",
     "output_type": "stream",
     "text": [
      "--- 10.232107400894165 seconds ---\n",
      "pfamA_balanced\n",
      "--- 18.93717336654663 seconds ---\n",
      "pfamA_target\n",
      "--- 8.913695335388184 seconds ---\n",
      "kinesin_labelled\n",
      "--- 3.6831319332122803 seconds ---\n",
      "../../out/201102/umap/t12/pfamA_random.npy\n",
      "../../out/201102/umap/t12/motor_toolkit.npy\n",
      "../../out/201102/umap/t12/pfamA_balanced.npy\n",
      "../../out/201102/umap/t12/pfamA_target.npy\n",
      "../../out/201102/umap/t12/kinesin_labelled.npy\n",
      "t34\n",
      "(1600, 1280)\n",
      "(3255, 1280)\n",
      "(18000, 1280)\n",
      "(5544, 1280)\n",
      "pfamA_random\n"
     ]
    },
    {
     "name": "stderr",
     "output_type": "stream",
     "text": [
      "/home/cyu7/miniconda3/lib/python3.8/site-packages/sklearn/manifold/_spectral_embedding.py:236: UserWarning: Graph is not fully connected, spectral embedding may not work as expected.\n",
      "  warnings.warn(\"Graph is not fully connected, spectral embedding\"\n"
     ]
    },
    {
     "name": "stdout",
     "output_type": "stream",
     "text": [
      "--- 5.27403998374939 seconds ---\n",
      "motor_toolkit\n"
     ]
    },
    {
     "name": "stderr",
     "output_type": "stream",
     "text": [
      "/home/cyu7/miniconda3/lib/python3.8/site-packages/sklearn/manifold/_spectral_embedding.py:236: UserWarning: Graph is not fully connected, spectral embedding may not work as expected.\n",
      "  warnings.warn(\"Graph is not fully connected, spectral embedding\"\n"
     ]
    },
    {
     "name": "stdout",
     "output_type": "stream",
     "text": [
      "--- 11.427436351776123 seconds ---\n",
      "pfamA_balanced\n",
      "--- 13.91210150718689 seconds ---\n",
      "pfamA_target\n",
      "--- 9.452322959899902 seconds ---\n",
      "kinesin_labelled\n",
      "--- 4.002966642379761 seconds ---\n",
      "../../out/201102/umap/t34/pfamA_random.npy\n",
      "../../out/201102/umap/t34/motor_toolkit.npy\n",
      "../../out/201102/umap/t34/pfamA_balanced.npy\n",
      "../../out/201102/umap/t34/pfamA_target.npy\n",
      "../../out/201102/umap/t34/kinesin_labelled.npy\n"
     ]
    }
   ],
   "source": [
    "import glob\n",
    "# for model in models_dir:\n",
    "import time \n",
    "\n",
    "for tuning_dir_ in tuning_dir:\n",
    "#     tuning_dir_ = tuning_dir[4]\n",
    "    print(tuning_dir_)\n",
    "    dats = []\n",
    "    for dat in data_names:\n",
    "        d_path = '../../out/201102/embedding/esm_models/' + tuning_dir_ +'/'+ dat + '.npy'\n",
    "#         print(d_path)\n",
    "        d = np.load(d_path)\n",
    "        dats.append(d)\n",
    "    print(dats[0].shape)\n",
    "    print(dats[1].shape)\n",
    "    print(dats[2].shape)\n",
    "    print(dats[3].shape)\n",
    "    \n",
    "    # first, embed each of the dataset themselves\n",
    "    umap_res = []\n",
    "    for i, dat in enumerate(dats):\n",
    "        print(data_names[i])\n",
    "        start_time = time.time()\n",
    "        scaled_data = StandardScaler().fit_transform(dat)\n",
    "        pca_curr = PCA(n_components=40).fit_transform(scaled_data)\n",
    "        reducer = umap.UMAP()\n",
    "        umap_curr = reducer.fit_transform(pca_curr)\n",
    "        umap_res.append(umap_curr)\n",
    "        print(\"--- %s seconds ---\" % (time.time() - start_time))\n",
    "        \n",
    "    for i,dat_name in enumerate(data_names):\n",
    "        umap_out_path = umap_out_dir + tuning_dir_+\"/\"+dat_name+\".npy\"\n",
    "        print(umap_out_path)\n",
    "        np.save(umap_out_path, umap_res[i])\n",
    "    \n",
    "    # then, perform several jointly embedding\n",
    "    # 1. target,random\n",
    "    # 2. balanced, random\n",
    "#     for i,j in [(2,0),(3,0)]:\n",
    "#         start_time = time.time()\n",
    "#         target_tsne,background_tsne = joint_embed_tsne(dats[i],dats[j])\n",
    "#         target_pca,background_pca = joint_embed_pca(dats[i],dats[j])\n",
    "#         print(\"--- %s seconds ---\" % (time.time() - start_time))\n",
    "#         pca_out_path_t = pca_out_dir+tuning_dir_+\"/\"+data_names[i]+\"_\"+data_names[j]+\"_target.npy\"\n",
    "#         tsne_out_path_t = tsne_out_dir+tuning_dir_+\"/\"+data_names[i]+\"_\"+data_names[j]+\"_target.npy\"\n",
    "#         pca_out_path_b = pca_out_dir+tuning_dir_+\"/\"+data_names[i]+\"_\"+data_names[j]+\"_background.npy\"\n",
    "#         tsne_out_path_b = tsne_out_dir+tuning_dir_+\"/\"+data_names[i]+\"_\"+data_names[j]+\"_background.npy\"\n",
    "#         print(pca_out_path_t)\n",
    "#         print(pca_out_path_b)\n",
    "#         print(tsne_out_path_t)\n",
    "#         print(tsne_out_path_b)\n",
    "#         np.save(pca_out_path_t, target_pca)\n",
    "#         np.save(pca_out_path_b, background_pca)\n",
    "#         np.save(tsne_out_path_t, target_tsne)\n",
    "#         np.save(tsne_out_path_b, background_tsne)\n",
    "#     break\n"
   ]
  },
  {
   "cell_type": "code",
   "execution_count": 26,
   "metadata": {},
   "outputs": [],
   "source": [
    "a = np.load(\"../../out/201102/umap/t34/pfamA_random.npy\")"
   ]
  },
  {
   "cell_type": "code",
   "execution_count": 29,
   "metadata": {},
   "outputs": [
    {
     "data": {
      "text/plain": [
       "array([[ -8.854622 ,   5.582622 ],\n",
       "       [ -8.075272 ,   3.857239 ],\n",
       "       [-11.218452 ,   4.8931537],\n",
       "       [ -7.5493946,   3.8694296],\n",
       "       [-11.237478 ,   4.8996315]], dtype=float32)"
      ]
     },
     "execution_count": 29,
     "metadata": {},
     "output_type": "execute_result"
    }
   ],
   "source": [
    "a[0:5,:]"
   ]
  },
  {
   "cell_type": "code",
   "execution_count": null,
   "metadata": {},
   "outputs": [],
   "source": []
  }
 ],
 "metadata": {
  "kernelspec": {
   "display_name": "Python (base)",
   "language": "python",
   "name": "base"
  },
  "language_info": {
   "codemirror_mode": {
    "name": "ipython",
    "version": 3
   },
   "file_extension": ".py",
   "mimetype": "text/x-python",
   "name": "python",
   "nbconvert_exporter": "python",
   "pygments_lexer": "ipython3",
   "version": "3.8.3"
  }
 },
 "nbformat": 4,
 "nbformat_minor": 2
}
