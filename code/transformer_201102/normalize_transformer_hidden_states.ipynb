{
 "cells": [
  {
   "cell_type": "markdown",
   "metadata": {},
   "source": [
    "# Documentation\n",
    "#### 201111\n",
    "This code chunk aimed to normalize the hidden states of transformer_enocoder_mlm model and the esm related models. Then generate new pca and tsne embedding for the corresponding hidden states to be readily visualized as before.\n",
    "\n",
    "The folder structure should follow as before to be readily visualized\n",
    "\n",
    "pca/tsne       \n",
    "---> all the model names ---> motor_toolkit, kinesin_labelled, balanced, random, target    \n",
    "   "
   ]
  },
  {
   "cell_type": "code",
   "execution_count": 5,
   "metadata": {},
   "outputs": [],
   "source": [
    "from sklearn.manifold import TSNE\n",
    "from sklearn.decomposition import PCA\n",
    "import numpy as np\n",
    "import pandas as pd\n",
    "from sklearn.preprocessing import StandardScaler"
   ]
  },
  {
   "cell_type": "markdown",
   "metadata": {},
   "source": [
    "## Part one: Normalize the hidden states"
   ]
  },
  {
   "cell_type": "code",
   "execution_count": 6,
   "metadata": {},
   "outputs": [],
   "source": [
    "# load hidden states to be processed\n",
    "# /out/201102/embedding/esm_models/*/*.npy\n"
   ]
  },
  {
   "cell_type": "markdown",
   "metadata": {},
   "source": [
    "## A test trail on pfamA_balanced embedding from t12 esm model"
   ]
  },
  {
   "cell_type": "code",
   "execution_count": 8,
   "metadata": {},
   "outputs": [],
   "source": [
    "hn_balanced = np.load(\"../out/201102/embedding/esm_models/t12/pfamA_balanced.npy\")"
   ]
  },
  {
   "cell_type": "code",
   "execution_count": 9,
   "metadata": {},
   "outputs": [
    {
     "data": {
      "text/plain": [
       "array([4554.556  ,  907.02954,  556.1    ,  469.8737 ,  382.7925 ,\n",
       "        343.15863,  296.84637,  238.43242,  220.95883,  215.51518],\n",
       "      dtype=float32)"
      ]
     },
     "execution_count": 9,
     "metadata": {},
     "output_type": "execute_result"
    }
   ],
   "source": [
    "u, s, v = np.linalg.svd(hn_balanced)\n",
    "s[0:10]"
   ]
  },
  {
   "cell_type": "code",
   "execution_count": 10,
   "metadata": {},
   "outputs": [
    {
     "data": {
      "text/plain": [
       "array([1836.8103 , 1149.1133 , 1001.7509 ,  830.58234,  811.7272 ,\n",
       "        725.1434 ,  570.95764,  539.11926,  532.85425,  481.0784 ],\n",
       "      dtype=float32)"
      ]
     },
     "execution_count": 10,
     "metadata": {},
     "output_type": "execute_result"
    }
   ],
   "source": [
    "scaler = StandardScaler()\n",
    "scaler.fit(hn_balanced)\n",
    "hn_balanced = scaler.transform(hn_balanced)\n",
    "u, s, v = np.linalg.svd(hn_balanced)\n",
    "s[0:10]"
   ]
  },
  {
   "cell_type": "markdown",
   "metadata": {},
   "source": [
    "## A test trail on pfamA_balanced embedding from t34 esm model"
   ]
  },
  {
   "cell_type": "code",
   "execution_count": 11,
   "metadata": {},
   "outputs": [],
   "source": [
    "hn_balanced = np.load(\"../out/201102/embedding/esm_models/t34/pfamA_balanced.npy\")"
   ]
  },
  {
   "cell_type": "code",
   "execution_count": 12,
   "metadata": {},
   "outputs": [
    {
     "data": {
      "text/plain": [
       "array([10160.743  ,  1458.9883 ,  1320.6609 ,  1001.17737,   841.4909 ,\n",
       "         809.6085 ,   659.71814,   566.5445 ,   499.0098 ,   429.91965],\n",
       "      dtype=float32)"
      ]
     },
     "execution_count": 12,
     "metadata": {},
     "output_type": "execute_result"
    }
   ],
   "source": [
    "u, s, v = np.linalg.svd(hn_balanced)\n",
    "s[0:10]"
   ]
  },
  {
   "cell_type": "code",
   "execution_count": 13,
   "metadata": {},
   "outputs": [
    {
     "data": {
      "text/plain": [
       "array([1803.6572 , 1605.1532 , 1445.1599 , 1155.7971 ,  997.59686,\n",
       "        961.9244 ,  880.9136 ,  751.4918 ,  638.22876,  594.2315 ],\n",
       "      dtype=float32)"
      ]
     },
     "execution_count": 13,
     "metadata": {},
     "output_type": "execute_result"
    }
   ],
   "source": [
    "scaler = StandardScaler()\n",
    "scaler.fit(hn_balanced)\n",
    "hn_balanced = scaler.transform(hn_balanced)\n",
    "u, s, v = np.linalg.svd(hn_balanced)\n",
    "s[0:10]"
   ]
  },
  {
   "cell_type": "markdown",
   "metadata": {},
   "source": [
    "### from the above trail on esm models, it is clear that the standardization reduced the variance being accounted by each of the principal components, but could potentially neglect the scale difference information"
   ]
  },
  {
   "cell_type": "markdown",
   "metadata": {},
   "source": [
    "## A helper function to normalize each dataset"
   ]
  },
  {
   "cell_type": "code",
   "execution_count": 20,
   "metadata": {},
   "outputs": [],
   "source": [
    "def normalize_hn(hn_path, out_path):\n",
    "    '''\n",
    "    The function takes in a hiddens state path and output it to the corresponding normalized folder\n",
    "    '''\n",
    "    hn = np.load(hn_path)\n",
    "    scaler = StandardScaler()\n",
    "    scaler.fit(hn)\n",
    "    hn = scaler.transform(hn)\n",
    "    np.save(out_path,hn)\n",
    "    return"
   ]
  },
  {
   "cell_type": "code",
   "execution_count": 18,
   "metadata": {},
   "outputs": [],
   "source": [
    "hn_dir = \"../../out/201102/embedding/esm_models/\"\n",
    "out_dir = \"../../out/201102/embedding/esm_models_normalized/\"\n",
    "tuning_dir = [\"t12_balanced\",\"t12_kinesin\",\"t12_motor_toolkit\",\"t12\",\"t34\"]\n",
    "tsne_out_dir = \"../../out/201102/normalized/tsne/\"\n",
    "pca_out_dir = \"../../out/201102/normalized/pca/\"\n",
    "data_names = [\"pfamA_random\",\"motor_toolkit\",\"pfamA_balanced\",\"pfamA_target\",\"kinesin_labelled\"]"
   ]
  },
  {
   "cell_type": "code",
   "execution_count": 14,
   "metadata": {},
   "outputs": [
    {
     "name": "stdout",
     "output_type": "stream",
     "text": [
      "../../out/201102/embedding/esm_models_normalized/t12_balanced\n",
      "../../out/201102/embedding/esm_models_normalized/t12_kinesin\n",
      "../../out/201102/embedding/esm_models_normalized/t12_motor_toolkit\n",
      "../../out/201102/embedding/esm_models_normalized/t12\n",
      "../../out/201102/embedding/esm_models_normalized/t34\n"
     ]
    }
   ],
   "source": [
    "import os, sys\n",
    "for tuning_dir_ in tuning_dir:\n",
    "    out_path = out_dir+tuning_dir_\n",
    "    print(out_path)\n",
    "    os.mkdir(out_path)"
   ]
  },
  {
   "cell_type": "code",
   "execution_count": 21,
   "metadata": {},
   "outputs": [
    {
     "name": "stdout",
     "output_type": "stream",
     "text": [
      "../../out/201102/embedding/esm_models_normalized/t12_balanced/pfamA_random.npy\n",
      "../../out/201102/embedding/esm_models_normalized/t12_balanced/motor_toolkit.npy\n",
      "../../out/201102/embedding/esm_models_normalized/t12_balanced/pfamA_balanced.npy\n",
      "../../out/201102/embedding/esm_models_normalized/t12_balanced/pfamA_target.npy\n",
      "../../out/201102/embedding/esm_models_normalized/t12_balanced/kinesin_labelled.npy\n",
      "../../out/201102/embedding/esm_models_normalized/t12_kinesin/pfamA_random.npy\n",
      "../../out/201102/embedding/esm_models_normalized/t12_kinesin/motor_toolkit.npy\n",
      "../../out/201102/embedding/esm_models_normalized/t12_kinesin/pfamA_balanced.npy\n",
      "../../out/201102/embedding/esm_models_normalized/t12_kinesin/pfamA_target.npy\n",
      "../../out/201102/embedding/esm_models_normalized/t12_kinesin/kinesin_labelled.npy\n",
      "../../out/201102/embedding/esm_models_normalized/t12_motor_toolkit/pfamA_random.npy\n",
      "../../out/201102/embedding/esm_models_normalized/t12_motor_toolkit/motor_toolkit.npy\n",
      "../../out/201102/embedding/esm_models_normalized/t12_motor_toolkit/pfamA_balanced.npy\n",
      "../../out/201102/embedding/esm_models_normalized/t12_motor_toolkit/pfamA_target.npy\n",
      "../../out/201102/embedding/esm_models_normalized/t12_motor_toolkit/kinesin_labelled.npy\n",
      "../../out/201102/embedding/esm_models_normalized/t12/pfamA_random.npy\n",
      "../../out/201102/embedding/esm_models_normalized/t12/motor_toolkit.npy\n",
      "../../out/201102/embedding/esm_models_normalized/t12/pfamA_balanced.npy\n",
      "../../out/201102/embedding/esm_models_normalized/t12/pfamA_target.npy\n",
      "../../out/201102/embedding/esm_models_normalized/t12/kinesin_labelled.npy\n",
      "../../out/201102/embedding/esm_models_normalized/t34/pfamA_random.npy\n",
      "../../out/201102/embedding/esm_models_normalized/t34/motor_toolkit.npy\n",
      "../../out/201102/embedding/esm_models_normalized/t34/pfamA_balanced.npy\n",
      "../../out/201102/embedding/esm_models_normalized/t34/pfamA_target.npy\n",
      "../../out/201102/embedding/esm_models_normalized/t34/kinesin_labelled.npy\n"
     ]
    }
   ],
   "source": [
    "for t in tuning_dir:\n",
    "    for d in data_names:\n",
    "        hn_path = hn_dir+t+'/'+d+'.npy'\n",
    "        out_path = out_dir+t+'/'+d+'.npy'\n",
    "        normalize_hn(hn_path, out_path)\n",
    "        print(out_path)"
   ]
  },
  {
   "cell_type": "markdown",
   "metadata": {},
   "source": [
    "## sanity check to make sure that normalization worked"
   ]
  },
  {
   "cell_type": "code",
   "execution_count": 23,
   "metadata": {},
   "outputs": [
    {
     "data": {
      "text/plain": [
       "array([1803.6572 , 1605.1532 , 1445.1599 , 1155.7971 ,  997.59686,\n",
       "        961.9244 ,  880.9136 ,  751.4918 ,  638.22876,  594.2315 ],\n",
       "      dtype=float32)"
      ]
     },
     "execution_count": 23,
     "metadata": {},
     "output_type": "execute_result"
    }
   ],
   "source": [
    "hn_balanced = np.load(\"../../out/201102/embedding/esm_models_normalized/t34/pfamA_balanced.npy\")\n",
    "u, s, v = np.linalg.svd(hn_balanced)\n",
    "s[0:10]"
   ]
  },
  {
   "cell_type": "code",
   "execution_count": null,
   "metadata": {},
   "outputs": [],
   "source": []
  }
 ],
 "metadata": {
  "kernelspec": {
   "display_name": "Python 3",
   "language": "python",
   "name": "python3"
  },
  "language_info": {
   "codemirror_mode": {
    "name": "ipython",
    "version": 3
   },
   "file_extension": ".py",
   "mimetype": "text/x-python",
   "name": "python",
   "nbconvert_exporter": "python",
   "pygments_lexer": "ipython3",
   "version": "3.7.0"
  }
 },
 "nbformat": 4,
 "nbformat_minor": 2
}
