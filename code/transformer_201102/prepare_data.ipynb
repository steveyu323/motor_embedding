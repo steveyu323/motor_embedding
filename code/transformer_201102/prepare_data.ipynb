{
 "cells": [
  {
   "cell_type": "markdown",
   "metadata": {},
   "source": [
    "# Documentation\n",
    "- Generate the datasets used for evotuning the esm model\n",
    "- for each dataset, filter out those sequence longer than 1024\n",
    "- pfamA_balanced: 18000 entries for 4 clans related to motors\n",
    "- motor_toolkit: motor toolkit\n",
    "- kinesin_labelled: kinesin labelled dataset\n",
    "- pfamA_target_shuffled: pfamA_target\n",
    "- pfamA_target_sub: 396 of each protein family, for embedding visualization only"
   ]
  },
  {
   "cell_type": "code",
   "execution_count": 1,
   "metadata": {},
   "outputs": [],
   "source": [
    "import torch\n",
    "import torch.nn as nn \n",
    "import torch.optim as optim \n",
    "\n",
    "import torchvision \n",
    "import torchvision.transforms as transforms \n",
    "import torch.nn.functional as F\n",
    "from torch.autograd import Variable\n",
    "from torch.nn.utils.rnn import pad_sequence\n",
    "from torch.utils.data import Dataset, IterableDataset, DataLoader\n",
    "# import tqdm\n",
    "import numpy as np\n",
    "import pandas as pd\n",
    "\n",
    "import math\n",
    "\n",
    "seed = 7\n",
    "torch.manual_seed(seed)\n",
    "np.random.seed(seed)"
   ]
  },
  {
   "cell_type": "code",
   "execution_count": 3,
   "metadata": {},
   "outputs": [
    {
     "data": {
      "text/html": [
       "<div>\n",
       "<style scoped>\n",
       "    .dataframe tbody tr th:only-of-type {\n",
       "        vertical-align: middle;\n",
       "    }\n",
       "\n",
       "    .dataframe tbody tr th {\n",
       "        vertical-align: top;\n",
       "    }\n",
       "\n",
       "    .dataframe thead th {\n",
       "        text-align: right;\n",
       "    }\n",
       "</style>\n",
       "<table border=\"1\" class=\"dataframe\">\n",
       "  <thead>\n",
       "    <tr style=\"text-align: right;\">\n",
       "      <th></th>\n",
       "      <th>Unnamed: 0</th>\n",
       "      <th>id</th>\n",
       "      <th>description</th>\n",
       "      <th>seq</th>\n",
       "      <th>pfamA_acc</th>\n",
       "      <th>clan_x</th>\n",
       "      <th>pfamA_name</th>\n",
       "    </tr>\n",
       "  </thead>\n",
       "  <tbody>\n",
       "    <tr>\n",
       "      <th>0</th>\n",
       "      <td>0</td>\n",
       "      <td>A0A495CYV6_9MYCO/3-388</td>\n",
       "      <td>A0A495CYV6_9MYCO/3-388 A0A495CYV6.1 PF00871.18...</td>\n",
       "      <td>AVLVVNSGSSSIKYQVIDEQSGDRLAQGLVERIGESGRGRVVYKGA...</td>\n",
       "      <td>PF00871</td>\n",
       "      <td>actin_like</td>\n",
       "      <td>Acetate_kinase</td>\n",
       "    </tr>\n",
       "    <tr>\n",
       "      <th>1</th>\n",
       "      <td>1</td>\n",
       "      <td>A0A3A6QL58_9VIBR/4-390</td>\n",
       "      <td>A0A3A6QL58_9VIBR/4-390 A0A3A6QL58.1 PF00871.18...</td>\n",
       "      <td>LVLVLNCGSSSLKFAIVDAETGAEHLTGLAECLGLPEARMKWKLDG...</td>\n",
       "      <td>PF00871</td>\n",
       "      <td>actin_like</td>\n",
       "      <td>Acetate_kinase</td>\n",
       "    </tr>\n",
       "    <tr>\n",
       "      <th>2</th>\n",
       "      <td>2</td>\n",
       "      <td>A0A2T0AKP1_9THEO/2-389</td>\n",
       "      <td>A0A2T0AKP1_9THEO/2-389 A0A2T0AKP1.1 PF00871.18...</td>\n",
       "      <td>KILVLNCGSSSVKYQLFDMQREEVMARGLVERIGITGSMLTHRPAG...</td>\n",
       "      <td>PF00871</td>\n",
       "      <td>actin_like</td>\n",
       "      <td>Acetate_kinase</td>\n",
       "    </tr>\n",
       "    <tr>\n",
       "      <th>3</th>\n",
       "      <td>3</td>\n",
       "      <td>H1XW95_9BACT/146-327</td>\n",
       "      <td>H1XW95_9BACT/146-327 H1XW95.1 PF00871.18;Aceta...</td>\n",
       "      <td>ISGMPLIPRKSIFHALNQKAVARETAKKLGKKYRESSIIVAHMGGG...</td>\n",
       "      <td>PF00871</td>\n",
       "      <td>actin_like</td>\n",
       "      <td>Acetate_kinase</td>\n",
       "    </tr>\n",
       "    <tr>\n",
       "      <th>4</th>\n",
       "      <td>4</td>\n",
       "      <td>A0A396TZH3_9GAMM/13-397</td>\n",
       "      <td>A0A396TZH3_9GAMM/13-397 A0A396TZH3.1 PF00871.1...</td>\n",
       "      <td>AILVINCGSSSVKFSLIHPKTGQTILSGLAECLLANDAVIKIKFDN...</td>\n",
       "      <td>PF00871</td>\n",
       "      <td>actin_like</td>\n",
       "      <td>Acetate_kinase</td>\n",
       "    </tr>\n",
       "  </tbody>\n",
       "</table>\n",
       "</div>"
      ],
      "text/plain": [
       "   Unnamed: 0                       id  \\\n",
       "0           0   A0A495CYV6_9MYCO/3-388   \n",
       "1           1   A0A3A6QL58_9VIBR/4-390   \n",
       "2           2   A0A2T0AKP1_9THEO/2-389   \n",
       "3           3     H1XW95_9BACT/146-327   \n",
       "4           4  A0A396TZH3_9GAMM/13-397   \n",
       "\n",
       "                                         description  \\\n",
       "0  A0A495CYV6_9MYCO/3-388 A0A495CYV6.1 PF00871.18...   \n",
       "1  A0A3A6QL58_9VIBR/4-390 A0A3A6QL58.1 PF00871.18...   \n",
       "2  A0A2T0AKP1_9THEO/2-389 A0A2T0AKP1.1 PF00871.18...   \n",
       "3  H1XW95_9BACT/146-327 H1XW95.1 PF00871.18;Aceta...   \n",
       "4  A0A396TZH3_9GAMM/13-397 A0A396TZH3.1 PF00871.1...   \n",
       "\n",
       "                                                 seq pfamA_acc      clan_x  \\\n",
       "0  AVLVVNSGSSSIKYQVIDEQSGDRLAQGLVERIGESGRGRVVYKGA...   PF00871  actin_like   \n",
       "1  LVLVLNCGSSSLKFAIVDAETGAEHLTGLAECLGLPEARMKWKLDG...   PF00871  actin_like   \n",
       "2  KILVLNCGSSSVKYQLFDMQREEVMARGLVERIGITGSMLTHRPAG...   PF00871  actin_like   \n",
       "3  ISGMPLIPRKSIFHALNQKAVARETAKKLGKKYRESSIIVAHMGGG...   PF00871  actin_like   \n",
       "4  AILVINCGSSSVKFSLIHPKTGQTILSGLAECLLANDAVIKIKFDN...   PF00871  actin_like   \n",
       "\n",
       "       pfamA_name  \n",
       "0  Acetate_kinase  \n",
       "1  Acetate_kinase  \n",
       "2  Acetate_kinase  \n",
       "3  Acetate_kinase  \n",
       "4  Acetate_kinase  "
      ]
     },
     "execution_count": 3,
     "metadata": {},
     "output_type": "execute_result"
    }
   ],
   "source": [
    "pfamA_motors = pd.read_csv(\"../../data/pfamA_motors_named.csv\")\n",
    "pfamA_motors.head()"
   ]
  },
  {
   "cell_type": "code",
   "execution_count": 6,
   "metadata": {},
   "outputs": [
    {
     "data": {
      "text/plain": [
       "1907329"
      ]
     },
     "execution_count": 6,
     "metadata": {},
     "output_type": "execute_result"
    }
   ],
   "source": [
    "sum(np.array([len(a) for a in pfamA_motors[\"seq\"]])<1025)"
   ]
  },
  {
   "cell_type": "code",
   "execution_count": 7,
   "metadata": {},
   "outputs": [
    {
     "data": {
      "text/plain": [
       "7502"
      ]
     },
     "execution_count": 7,
     "metadata": {},
     "output_type": "execute_result"
    }
   ],
   "source": [
    "sum(np.array([len(a) for a in pfamA_motors[\"seq\"]])>=1025)"
   ]
  },
  {
   "cell_type": "code",
   "execution_count": 8,
   "metadata": {},
   "outputs": [
    {
     "data": {
      "text/plain": [
       "0.00393324906190804"
      ]
     },
     "execution_count": 8,
     "metadata": {},
     "output_type": "execute_result"
    }
   ],
   "source": [
    "7502/1907329"
   ]
  },
  {
   "cell_type": "code",
   "execution_count": 11,
   "metadata": {},
   "outputs": [],
   "source": [
    "pfamA_motors =  pfamA_motors.loc[np.array([len(a) for a in pfamA_motors[\"seq\"]])<1025,:]"
   ]
  },
  {
   "cell_type": "code",
   "execution_count": 5,
   "metadata": {},
   "outputs": [
    {
     "data": {
      "text/html": [
       "<div>\n",
       "<style scoped>\n",
       "    .dataframe tbody tr th:only-of-type {\n",
       "        vertical-align: middle;\n",
       "    }\n",
       "\n",
       "    .dataframe tbody tr th {\n",
       "        vertical-align: top;\n",
       "    }\n",
       "\n",
       "    .dataframe thead th {\n",
       "        text-align: right;\n",
       "    }\n",
       "</style>\n",
       "<table border=\"1\" class=\"dataframe\">\n",
       "  <thead>\n",
       "    <tr style=\"text-align: right;\">\n",
       "      <th></th>\n",
       "      <th>Entry</th>\n",
       "      <th>Entry name</th>\n",
       "      <th>Status</th>\n",
       "      <th>Protein names</th>\n",
       "      <th>Gene names</th>\n",
       "      <th>Organism</th>\n",
       "      <th>Length</th>\n",
       "      <th>seq</th>\n",
       "      <th>type</th>\n",
       "    </tr>\n",
       "  </thead>\n",
       "  <tbody>\n",
       "    <tr>\n",
       "      <th>0</th>\n",
       "      <td>P52732</td>\n",
       "      <td>KIF11_HUMAN</td>\n",
       "      <td>reviewed</td>\n",
       "      <td>Kinesin-like protein KIF11 (Kinesin-like prote...</td>\n",
       "      <td>KIF11 EG5 KNSL1 TRIP5</td>\n",
       "      <td>Homo sapiens (Human)</td>\n",
       "      <td>1056</td>\n",
       "      <td>MASQPNSSAKKKEEKGKNIQVVVRCRPFNLAERKASAHSIVECDPV...</td>\n",
       "      <td>kinesin</td>\n",
       "    </tr>\n",
       "    <tr>\n",
       "      <th>1</th>\n",
       "      <td>Q9LX99</td>\n",
       "      <td>KN14A_ARATH</td>\n",
       "      <td>reviewed</td>\n",
       "      <td>Kinesin-like protein KIN-14A (Geminivirus Rep-...</td>\n",
       "      <td>KIN14A GRIMP KAC1 KCA1 KSN1 TH65 At5g10470 F12...</td>\n",
       "      <td>Arabidopsis thaliana (Mouse-ear cress)</td>\n",
       "      <td>1273</td>\n",
       "      <td>MADQRSKTNRWNWEVSGFEPRKSSSNASFAESTGHRTTGPLLRRNS...</td>\n",
       "      <td>kinesin</td>\n",
       "    </tr>\n",
       "    <tr>\n",
       "      <th>2</th>\n",
       "      <td>Q9FKP4</td>\n",
       "      <td>KN14B_ARATH</td>\n",
       "      <td>reviewed</td>\n",
       "      <td>Kinesin-like protein KIN-14B (Kinesin CDKA-1-a...</td>\n",
       "      <td>KIN14B KAC2 KCA2 At5g65460 MNA5.20</td>\n",
       "      <td>Arabidopsis thaliana (Mouse-ear cress)</td>\n",
       "      <td>1264</td>\n",
       "      <td>MAEQKSTNMWNWEVTGFESKKSPSSEEGVHRTPSSMLRRYSIPKNS...</td>\n",
       "      <td>kinesin</td>\n",
       "    </tr>\n",
       "    <tr>\n",
       "      <th>3</th>\n",
       "      <td>Q9FZ06</td>\n",
       "      <td>KINUA_ARATH</td>\n",
       "      <td>reviewed</td>\n",
       "      <td>Kinesin-like protein KIN-UA (AtKINUa) (Protein...</td>\n",
       "      <td>KINUA ARK3 PAK At1g12430 F5O11.15</td>\n",
       "      <td>Arabidopsis thaliana (Mouse-ear cress)</td>\n",
       "      <td>919</td>\n",
       "      <td>MSTTSGTGGVSYRNGTQRSSLRTQSSASTSSGGQKASVKSKSVLRK...</td>\n",
       "      <td>kinesin</td>\n",
       "    </tr>\n",
       "    <tr>\n",
       "      <th>4</th>\n",
       "      <td>P33176</td>\n",
       "      <td>KINH_HUMAN</td>\n",
       "      <td>reviewed</td>\n",
       "      <td>Kinesin-1 heavy chain (Conventional kinesin he...</td>\n",
       "      <td>KIF5B KNS KNS1</td>\n",
       "      <td>Homo sapiens (Human)</td>\n",
       "      <td>963</td>\n",
       "      <td>MADLAECNIKVMCRFRPLNESEVNRGDKYIAKFQGEDTVVIASKPY...</td>\n",
       "      <td>kinesin</td>\n",
       "    </tr>\n",
       "  </tbody>\n",
       "</table>\n",
       "</div>"
      ],
      "text/plain": [
       "    Entry   Entry name    Status  \\\n",
       "0  P52732  KIF11_HUMAN  reviewed   \n",
       "1  Q9LX99  KN14A_ARATH  reviewed   \n",
       "2  Q9FKP4  KN14B_ARATH  reviewed   \n",
       "3  Q9FZ06  KINUA_ARATH  reviewed   \n",
       "4  P33176   KINH_HUMAN  reviewed   \n",
       "\n",
       "                                       Protein names  \\\n",
       "0  Kinesin-like protein KIF11 (Kinesin-like prote...   \n",
       "1  Kinesin-like protein KIN-14A (Geminivirus Rep-...   \n",
       "2  Kinesin-like protein KIN-14B (Kinesin CDKA-1-a...   \n",
       "3  Kinesin-like protein KIN-UA (AtKINUa) (Protein...   \n",
       "4  Kinesin-1 heavy chain (Conventional kinesin he...   \n",
       "\n",
       "                                          Gene names  \\\n",
       "0                              KIF11 EG5 KNSL1 TRIP5   \n",
       "1  KIN14A GRIMP KAC1 KCA1 KSN1 TH65 At5g10470 F12...   \n",
       "2                 KIN14B KAC2 KCA2 At5g65460 MNA5.20   \n",
       "3                  KINUA ARK3 PAK At1g12430 F5O11.15   \n",
       "4                                     KIF5B KNS KNS1   \n",
       "\n",
       "                                 Organism  Length  \\\n",
       "0                    Homo sapiens (Human)    1056   \n",
       "1  Arabidopsis thaliana (Mouse-ear cress)    1273   \n",
       "2  Arabidopsis thaliana (Mouse-ear cress)    1264   \n",
       "3  Arabidopsis thaliana (Mouse-ear cress)     919   \n",
       "4                    Homo sapiens (Human)     963   \n",
       "\n",
       "                                                 seq     type  \n",
       "0  MASQPNSSAKKKEEKGKNIQVVVRCRPFNLAERKASAHSIVECDPV...  kinesin  \n",
       "1  MADQRSKTNRWNWEVSGFEPRKSSSNASFAESTGHRTTGPLLRRNS...  kinesin  \n",
       "2  MAEQKSTNMWNWEVTGFESKKSPSSEEGVHRTPSSMLRRYSIPKNS...  kinesin  \n",
       "3  MSTTSGTGGVSYRNGTQRSSLRTQSSASTSSGGQKASVKSKSVLRK...  kinesin  \n",
       "4  MADLAECNIKVMCRFRPLNESEVNRGDKYIAKFQGEDTVVIASKPY...  kinesin  "
      ]
     },
     "execution_count": 5,
     "metadata": {},
     "output_type": "execute_result"
    }
   ],
   "source": [
    "motor_toolkit = pd.read_csv(\"../../data/motor_tookits.csv\")\n",
    "motor_toolkit.head()"
   ]
  },
  {
   "cell_type": "code",
   "execution_count": 9,
   "metadata": {},
   "outputs": [
    {
     "data": {
      "text/plain": [
       "2184"
      ]
     },
     "execution_count": 9,
     "metadata": {},
     "output_type": "execute_result"
    }
   ],
   "source": [
    "# truncate motor_toolkit to be <=1024 \n",
    "sum(motor_toolkit[\"Length\"]<=1024)"
   ]
  },
  {
   "cell_type": "code",
   "execution_count": 12,
   "metadata": {},
   "outputs": [],
   "source": [
    "motor_toolkit.loc[motor_toolkit[\"Length\"]>1024,\"seq\"] = motor_toolkit.loc[motor_toolkit[\"Length\"]>1024,\"seq\"].apply(lambda s: s[0:1024])"
   ]
  },
  {
   "cell_type": "code",
   "execution_count": 13,
   "metadata": {},
   "outputs": [],
   "source": [
    "motor_toolkit[\"Length\"] = motor_toolkit.loc[:,\"seq\"].apply(lambda s: len(s))"
   ]
  },
  {
   "cell_type": "code",
   "execution_count": 14,
   "metadata": {},
   "outputs": [
    {
     "data": {
      "text/plain": [
       "0"
      ]
     },
     "execution_count": 14,
     "metadata": {},
     "output_type": "execute_result"
    }
   ],
   "source": [
    "sum(motor_toolkit[\"Length\"]>1024)"
   ]
  },
  {
   "cell_type": "code",
   "execution_count": 15,
   "metadata": {},
   "outputs": [],
   "source": [
    "kinesin_labelled = pd.read_csv(\"../../data/kinesin_labelled.csv\")"
   ]
  },
  {
   "cell_type": "code",
   "execution_count": 16,
   "metadata": {},
   "outputs": [
    {
     "data": {
      "text/html": [
       "<div>\n",
       "<style scoped>\n",
       "    .dataframe tbody tr th:only-of-type {\n",
       "        vertical-align: middle;\n",
       "    }\n",
       "\n",
       "    .dataframe tbody tr th {\n",
       "        vertical-align: top;\n",
       "    }\n",
       "\n",
       "    .dataframe thead th {\n",
       "        text-align: right;\n",
       "    }\n",
       "</style>\n",
       "<table border=\"1\" class=\"dataframe\">\n",
       "  <thead>\n",
       "    <tr style=\"text-align: right;\">\n",
       "      <th></th>\n",
       "      <th>Entry</th>\n",
       "      <th>Entry name</th>\n",
       "      <th>Status</th>\n",
       "      <th>Protein names</th>\n",
       "      <th>Gene names</th>\n",
       "      <th>Organism</th>\n",
       "      <th>Length</th>\n",
       "      <th>seq</th>\n",
       "      <th>type</th>\n",
       "      <th>label</th>\n",
       "    </tr>\n",
       "  </thead>\n",
       "  <tbody>\n",
       "    <tr>\n",
       "      <th>0</th>\n",
       "      <td>P52732</td>\n",
       "      <td>KIF11_HUMAN</td>\n",
       "      <td>reviewed</td>\n",
       "      <td>Kinesin-like protein KIF11 (Kinesin-like prote...</td>\n",
       "      <td>KIF11 EG5 KNSL1 TRIP5</td>\n",
       "      <td>Homo sapiens (Human)</td>\n",
       "      <td>1056</td>\n",
       "      <td>MASQPNSSAKKKEEKGKNIQVVVRCRPFNLAERKASAHSIVECDPV...</td>\n",
       "      <td>kinesin</td>\n",
       "      <td>kinesin_5</td>\n",
       "    </tr>\n",
       "    <tr>\n",
       "      <th>1</th>\n",
       "      <td>Q9LX99</td>\n",
       "      <td>KN14A_ARATH</td>\n",
       "      <td>reviewed</td>\n",
       "      <td>Kinesin-like protein KIN-14A (Geminivirus Rep-...</td>\n",
       "      <td>KIN14A GRIMP KAC1 KCA1 KSN1 TH65 At5g10470 F12...</td>\n",
       "      <td>Arabidopsis thaliana (Mouse-ear cress)</td>\n",
       "      <td>1273</td>\n",
       "      <td>MADQRSKTNRWNWEVSGFEPRKSSSNASFAESTGHRTTGPLLRRNS...</td>\n",
       "      <td>kinesin</td>\n",
       "      <td>unlabeled</td>\n",
       "    </tr>\n",
       "    <tr>\n",
       "      <th>2</th>\n",
       "      <td>Q9FKP4</td>\n",
       "      <td>KN14B_ARATH</td>\n",
       "      <td>reviewed</td>\n",
       "      <td>Kinesin-like protein KIN-14B (Kinesin CDKA-1-a...</td>\n",
       "      <td>KIN14B KAC2 KCA2 At5g65460 MNA5.20</td>\n",
       "      <td>Arabidopsis thaliana (Mouse-ear cress)</td>\n",
       "      <td>1264</td>\n",
       "      <td>MAEQKSTNMWNWEVTGFESKKSPSSEEGVHRTPSSMLRRYSIPKNS...</td>\n",
       "      <td>kinesin</td>\n",
       "      <td>unlabeled</td>\n",
       "    </tr>\n",
       "    <tr>\n",
       "      <th>3</th>\n",
       "      <td>Q9FZ06</td>\n",
       "      <td>KINUA_ARATH</td>\n",
       "      <td>reviewed</td>\n",
       "      <td>Kinesin-like protein KIN-UA (AtKINUa) (Protein...</td>\n",
       "      <td>KINUA ARK3 PAK At1g12430 F5O11.15</td>\n",
       "      <td>Arabidopsis thaliana (Mouse-ear cress)</td>\n",
       "      <td>919</td>\n",
       "      <td>MSTTSGTGGVSYRNGTQRSSLRTQSSASTSSGGQKASVKSKSVLRK...</td>\n",
       "      <td>kinesin</td>\n",
       "      <td>unlabeled</td>\n",
       "    </tr>\n",
       "    <tr>\n",
       "      <th>4</th>\n",
       "      <td>P33176</td>\n",
       "      <td>KINH_HUMAN</td>\n",
       "      <td>reviewed</td>\n",
       "      <td>Kinesin-1 heavy chain (Conventional kinesin he...</td>\n",
       "      <td>KIF5B KNS KNS1</td>\n",
       "      <td>Homo sapiens (Human)</td>\n",
       "      <td>963</td>\n",
       "      <td>MADLAECNIKVMCRFRPLNESEVNRGDKYIAKFQGEDTVVIASKPY...</td>\n",
       "      <td>kinesin</td>\n",
       "      <td>kinesin_1</td>\n",
       "    </tr>\n",
       "  </tbody>\n",
       "</table>\n",
       "</div>"
      ],
      "text/plain": [
       "    Entry   Entry name    Status  \\\n",
       "0  P52732  KIF11_HUMAN  reviewed   \n",
       "1  Q9LX99  KN14A_ARATH  reviewed   \n",
       "2  Q9FKP4  KN14B_ARATH  reviewed   \n",
       "3  Q9FZ06  KINUA_ARATH  reviewed   \n",
       "4  P33176   KINH_HUMAN  reviewed   \n",
       "\n",
       "                                       Protein names  \\\n",
       "0  Kinesin-like protein KIF11 (Kinesin-like prote...   \n",
       "1  Kinesin-like protein KIN-14A (Geminivirus Rep-...   \n",
       "2  Kinesin-like protein KIN-14B (Kinesin CDKA-1-a...   \n",
       "3  Kinesin-like protein KIN-UA (AtKINUa) (Protein...   \n",
       "4  Kinesin-1 heavy chain (Conventional kinesin he...   \n",
       "\n",
       "                                          Gene names  \\\n",
       "0                              KIF11 EG5 KNSL1 TRIP5   \n",
       "1  KIN14A GRIMP KAC1 KCA1 KSN1 TH65 At5g10470 F12...   \n",
       "2                 KIN14B KAC2 KCA2 At5g65460 MNA5.20   \n",
       "3                  KINUA ARK3 PAK At1g12430 F5O11.15   \n",
       "4                                     KIF5B KNS KNS1   \n",
       "\n",
       "                                 Organism  Length  \\\n",
       "0                    Homo sapiens (Human)    1056   \n",
       "1  Arabidopsis thaliana (Mouse-ear cress)    1273   \n",
       "2  Arabidopsis thaliana (Mouse-ear cress)    1264   \n",
       "3  Arabidopsis thaliana (Mouse-ear cress)     919   \n",
       "4                    Homo sapiens (Human)     963   \n",
       "\n",
       "                                                 seq     type      label  \n",
       "0  MASQPNSSAKKKEEKGKNIQVVVRCRPFNLAERKASAHSIVECDPV...  kinesin  kinesin_5  \n",
       "1  MADQRSKTNRWNWEVSGFEPRKSSSNASFAESTGHRTTGPLLRRNS...  kinesin  unlabeled  \n",
       "2  MAEQKSTNMWNWEVTGFESKKSPSSEEGVHRTPSSMLRRYSIPKNS...  kinesin  unlabeled  \n",
       "3  MSTTSGTGGVSYRNGTQRSSLRTQSSASTSSGGQKASVKSKSVLRK...  kinesin  unlabeled  \n",
       "4  MADLAECNIKVMCRFRPLNESEVNRGDKYIAKFQGEDTVVIASKPY...  kinesin  kinesin_1  "
      ]
     },
     "execution_count": 16,
     "metadata": {},
     "output_type": "execute_result"
    }
   ],
   "source": [
    "kinesin_labelled.head()"
   ]
  },
  {
   "cell_type": "code",
   "execution_count": 17,
   "metadata": {},
   "outputs": [],
   "source": [
    "kinesin_labelled.loc[kinesin_labelled[\"Length\"]>1024,\"seq\"] = kinesin_labelled.loc[kinesin_labelled[\"Length\"]>1024,\"seq\"].apply(lambda s: s[0:1024])"
   ]
  },
  {
   "cell_type": "code",
   "execution_count": 18,
   "metadata": {},
   "outputs": [],
   "source": [
    "kinesin_labelled[\"Length\"] = kinesin_labelled.loc[:,\"seq\"].apply(lambda s: len(s))"
   ]
  },
  {
   "cell_type": "code",
   "execution_count": 19,
   "metadata": {},
   "outputs": [
    {
     "data": {
      "text/plain": [
       "0"
      ]
     },
     "execution_count": 19,
     "metadata": {},
     "output_type": "execute_result"
    }
   ],
   "source": [
    "sum(kinesin_labelled[\"Length\"]>1024)"
   ]
  },
  {
   "cell_type": "code",
   "execution_count": null,
   "metadata": {},
   "outputs": [],
   "source": []
  },
  {
   "cell_type": "code",
   "execution_count": 21,
   "metadata": {},
   "outputs": [],
   "source": [
    "pfamA_motors_balanced = pfamA_motors.groupby('clan_x').apply(lambda _df: _df.sample(4500,random_state=1))\n",
    "pfamA_motors_balanced = pfamA_motors_balanced.apply(lambda x: x.reset_index(drop = True))"
   ]
  },
  {
   "cell_type": "code",
   "execution_count": 22,
   "metadata": {},
   "outputs": [
    {
     "data": {
      "text/plain": [
       "(18000, 7)"
      ]
     },
     "execution_count": 22,
     "metadata": {},
     "output_type": "execute_result"
    }
   ],
   "source": [
    "pfamA_motors_balanced.shape"
   ]
  },
  {
   "cell_type": "code",
   "execution_count": 29,
   "metadata": {},
   "outputs": [
    {
     "data": {
      "text/plain": [
       "0"
      ]
     },
     "execution_count": 29,
     "metadata": {},
     "output_type": "execute_result"
    }
   ],
   "source": [
    "sum(np.array([len(a) for a in pfamA_motors_balanced[\"seq\"]])>=1025)"
   ]
  },
  {
   "cell_type": "code",
   "execution_count": 23,
   "metadata": {},
   "outputs": [],
   "source": [
    "pfamA_target_name = [\"PF00349\",\"PF00022\",\"PF03727\",\"PF06723\",\\\n",
    "                       \"PF14450\",\"PF03953\",\"PF12327\",\"PF00091\",\"PF10644\",\\\n",
    "                      \"PF13809\",\"PF14881\",\"PF00063\",\"PF00225\",\"PF03028\"]\n",
    "\n",
    "pfamA_target = pfamA_motors.loc[pfamA_motors[\"pfamA_acc\"].isin(pfamA_target_name),:].reset_index()"
   ]
  },
  {
   "cell_type": "code",
   "execution_count": 26,
   "metadata": {},
   "outputs": [],
   "source": [
    "pfamA_target = pfamA_target.iloc[:,1:]"
   ]
  },
  {
   "cell_type": "code",
   "execution_count": 27,
   "metadata": {},
   "outputs": [],
   "source": [
    "pfamA_target_sub = pfamA_target.sample(frac = 1).groupby(\"pfamA_acc\").head(396)"
   ]
  },
  {
   "cell_type": "code",
   "execution_count": 28,
   "metadata": {},
   "outputs": [
    {
     "data": {
      "text/html": [
       "<div>\n",
       "<style scoped>\n",
       "    .dataframe tbody tr th:only-of-type {\n",
       "        vertical-align: middle;\n",
       "    }\n",
       "\n",
       "    .dataframe tbody tr th {\n",
       "        vertical-align: top;\n",
       "    }\n",
       "\n",
       "    .dataframe thead th {\n",
       "        text-align: right;\n",
       "    }\n",
       "</style>\n",
       "<table border=\"1\" class=\"dataframe\">\n",
       "  <thead>\n",
       "    <tr style=\"text-align: right;\">\n",
       "      <th></th>\n",
       "      <th>Unnamed: 0</th>\n",
       "      <th>id</th>\n",
       "      <th>description</th>\n",
       "      <th>seq</th>\n",
       "      <th>clan_x</th>\n",
       "      <th>pfamA_name</th>\n",
       "    </tr>\n",
       "    <tr>\n",
       "      <th>pfamA_acc</th>\n",
       "      <th></th>\n",
       "      <th></th>\n",
       "      <th></th>\n",
       "      <th></th>\n",
       "      <th></th>\n",
       "      <th></th>\n",
       "    </tr>\n",
       "  </thead>\n",
       "  <tbody>\n",
       "    <tr>\n",
       "      <th>PF00022</th>\n",
       "      <td>396</td>\n",
       "      <td>396</td>\n",
       "      <td>396</td>\n",
       "      <td>396</td>\n",
       "      <td>396</td>\n",
       "      <td>396</td>\n",
       "    </tr>\n",
       "    <tr>\n",
       "      <th>PF00063</th>\n",
       "      <td>396</td>\n",
       "      <td>396</td>\n",
       "      <td>396</td>\n",
       "      <td>396</td>\n",
       "      <td>396</td>\n",
       "      <td>396</td>\n",
       "    </tr>\n",
       "    <tr>\n",
       "      <th>PF00091</th>\n",
       "      <td>396</td>\n",
       "      <td>396</td>\n",
       "      <td>396</td>\n",
       "      <td>396</td>\n",
       "      <td>396</td>\n",
       "      <td>396</td>\n",
       "    </tr>\n",
       "    <tr>\n",
       "      <th>PF00225</th>\n",
       "      <td>396</td>\n",
       "      <td>396</td>\n",
       "      <td>396</td>\n",
       "      <td>396</td>\n",
       "      <td>396</td>\n",
       "      <td>396</td>\n",
       "    </tr>\n",
       "    <tr>\n",
       "      <th>PF00349</th>\n",
       "      <td>396</td>\n",
       "      <td>396</td>\n",
       "      <td>396</td>\n",
       "      <td>396</td>\n",
       "      <td>396</td>\n",
       "      <td>396</td>\n",
       "    </tr>\n",
       "    <tr>\n",
       "      <th>PF03028</th>\n",
       "      <td>396</td>\n",
       "      <td>396</td>\n",
       "      <td>396</td>\n",
       "      <td>396</td>\n",
       "      <td>396</td>\n",
       "      <td>396</td>\n",
       "    </tr>\n",
       "    <tr>\n",
       "      <th>PF03727</th>\n",
       "      <td>396</td>\n",
       "      <td>396</td>\n",
       "      <td>396</td>\n",
       "      <td>396</td>\n",
       "      <td>396</td>\n",
       "      <td>396</td>\n",
       "    </tr>\n",
       "    <tr>\n",
       "      <th>PF03953</th>\n",
       "      <td>396</td>\n",
       "      <td>396</td>\n",
       "      <td>396</td>\n",
       "      <td>396</td>\n",
       "      <td>396</td>\n",
       "      <td>396</td>\n",
       "    </tr>\n",
       "    <tr>\n",
       "      <th>PF06723</th>\n",
       "      <td>396</td>\n",
       "      <td>396</td>\n",
       "      <td>396</td>\n",
       "      <td>396</td>\n",
       "      <td>396</td>\n",
       "      <td>396</td>\n",
       "    </tr>\n",
       "    <tr>\n",
       "      <th>PF10644</th>\n",
       "      <td>396</td>\n",
       "      <td>396</td>\n",
       "      <td>396</td>\n",
       "      <td>396</td>\n",
       "      <td>396</td>\n",
       "      <td>396</td>\n",
       "    </tr>\n",
       "    <tr>\n",
       "      <th>PF12327</th>\n",
       "      <td>396</td>\n",
       "      <td>396</td>\n",
       "      <td>396</td>\n",
       "      <td>396</td>\n",
       "      <td>396</td>\n",
       "      <td>396</td>\n",
       "    </tr>\n",
       "    <tr>\n",
       "      <th>PF13809</th>\n",
       "      <td>396</td>\n",
       "      <td>396</td>\n",
       "      <td>396</td>\n",
       "      <td>396</td>\n",
       "      <td>396</td>\n",
       "      <td>396</td>\n",
       "    </tr>\n",
       "    <tr>\n",
       "      <th>PF14450</th>\n",
       "      <td>396</td>\n",
       "      <td>396</td>\n",
       "      <td>396</td>\n",
       "      <td>396</td>\n",
       "      <td>396</td>\n",
       "      <td>396</td>\n",
       "    </tr>\n",
       "    <tr>\n",
       "      <th>PF14881</th>\n",
       "      <td>396</td>\n",
       "      <td>396</td>\n",
       "      <td>396</td>\n",
       "      <td>396</td>\n",
       "      <td>396</td>\n",
       "      <td>396</td>\n",
       "    </tr>\n",
       "  </tbody>\n",
       "</table>\n",
       "</div>"
      ],
      "text/plain": [
       "           Unnamed: 0   id  description  seq  clan_x  pfamA_name\n",
       "pfamA_acc                                                       \n",
       "PF00022           396  396          396  396     396         396\n",
       "PF00063           396  396          396  396     396         396\n",
       "PF00091           396  396          396  396     396         396\n",
       "PF00225           396  396          396  396     396         396\n",
       "PF00349           396  396          396  396     396         396\n",
       "PF03028           396  396          396  396     396         396\n",
       "PF03727           396  396          396  396     396         396\n",
       "PF03953           396  396          396  396     396         396\n",
       "PF06723           396  396          396  396     396         396\n",
       "PF10644           396  396          396  396     396         396\n",
       "PF12327           396  396          396  396     396         396\n",
       "PF13809           396  396          396  396     396         396\n",
       "PF14450           396  396          396  396     396         396\n",
       "PF14881           396  396          396  396     396         396"
      ]
     },
     "execution_count": 28,
     "metadata": {},
     "output_type": "execute_result"
    }
   ],
   "source": [
    "pfamA_target_sub.groupby(\"pfamA_acc\").count()"
   ]
  },
  {
   "cell_type": "code",
   "execution_count": 30,
   "metadata": {},
   "outputs": [
    {
     "data": {
      "text/plain": [
       "0"
      ]
     },
     "execution_count": 30,
     "metadata": {},
     "output_type": "execute_result"
    }
   ],
   "source": [
    "sum(np.array([len(a) for a in pfamA_target_sub[\"seq\"]])>=1025)"
   ]
  },
  {
   "cell_type": "code",
   "execution_count": 31,
   "metadata": {},
   "outputs": [],
   "source": [
    "pfamA_target_sub.to_csv(\"../../data/esm/pfamA_target_sub.csv\",index = False)\n",
    "pfamA_target.to_csv(\"../../data/esm/pfamA_target.csv\",index = False)\n",
    "kinesin_labelled.to_csv(\"../../data/esm/kinesin_labelled.csv\",index = False)\n",
    "motor_toolkit.to_csv(\"../../data/esm/motor_toolkit.csv\",index = False)\n",
    "pfamA_motors_balanced.to_csv(\"../../data/esm/pfamA_motors_balanced.csv\",index = False)"
   ]
  },
  {
   "cell_type": "code",
   "execution_count": null,
   "metadata": {},
   "outputs": [],
   "source": []
  }
 ],
 "metadata": {
  "kernelspec": {
   "display_name": "Python 3",
   "language": "python",
   "name": "python3"
  },
  "language_info": {
   "codemirror_mode": {
    "name": "ipython",
    "version": 3
   },
   "file_extension": ".py",
   "mimetype": "text/x-python",
   "name": "python",
   "nbconvert_exporter": "python",
   "pygments_lexer": "ipython3",
   "version": "3.7.0"
  }
 },
 "nbformat": 4,
 "nbformat_minor": 2
}
