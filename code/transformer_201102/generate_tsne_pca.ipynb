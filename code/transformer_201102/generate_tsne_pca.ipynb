{
 "cells": [
  {
   "cell_type": "code",
   "execution_count": 14,
   "metadata": {},
   "outputs": [],
   "source": [
    "from sklearn.manifold import TSNE\n",
    "from sklearn.decomposition import PCA\n",
    "import numpy as np\n",
    "import pandas as pd"
   ]
  },
  {
   "cell_type": "code",
   "execution_count": 6,
   "metadata": {},
   "outputs": [],
   "source": [
    "hn_dir = \"../../out/201102/embedding/esm_models\"\n",
    "tuning_dir = [\"t12_balanced\",\"t12_kinesin\",\"t12_motor_toolkit\",\"t12\",\"t34\"]\n",
    "tsne_out_dir = \"../../out/201102/tsne/\"\n",
    "pca_out_dir = \"../../out/201102/pca/\"\n",
    "data_names = [\"pfamA_random\",\"motor_toolkit\",\"pfamA_balanced\",\"pfamA_target\",\"kinesin_labelled\"]"
   ]
  },
  {
   "cell_type": "code",
   "execution_count": 3,
   "metadata": {},
   "outputs": [],
   "source": [
    "def joint_embed_tsne(target,background):\n",
    "    jointed = np.concatenate((target, background), axis=0)\n",
    "    pca_jointed = PCA(n_components=5).fit_transform(jointed)\n",
    "    jointed_em_2 = TSNE(n_components=2).fit_transform(pca_jointed)\n",
    "    target_em = jointed_em_2[0:target.shape[0],:]\n",
    "    background_em = jointed_em_2[target.shape[0]:,:]\n",
    "    return target_em,background_em\n",
    "\n",
    "def joint_embed_pca(target,background):\n",
    "    jointed = np.concatenate((target, background), axis=0)\n",
    "    pca_jointed = PCA(n_components=2).fit_transform(jointed)\n",
    "    target_em = pca_jointed[0:target.shape[0],:]\n",
    "    background_em = pca_jointed[target.shape[0]:,:]\n",
    "    return target_em,background_em"
   ]
  },
  {
   "cell_type": "code",
   "execution_count": 5,
   "metadata": {},
   "outputs": [
    {
     "name": "stdout",
     "output_type": "stream",
     "text": [
      "../../out/201102/pca/t12_balanced\n",
      "../../out/201102/pca/t12_kinesin\n",
      "../../out/201102/pca/t12_motor_toolkit\n",
      "../../out/201102/pca/t12\n",
      "../../out/201102/pca/t34\n"
     ]
    }
   ],
   "source": [
    "# make one directory for each tuning method\n",
    "import os, sys\n",
    "for tuning_dir_ in tuning_dir:\n",
    "    pca_path = pca_out_dir+tuning_dir_\n",
    "    print(pca_path)\n",
    "    os.mkdir(pca_path)\n",
    "    tsne_path = tsne_out_dir+tuning_dir_\n",
    "    os.mkdir(tsne_path)"
   ]
  },
  {
   "cell_type": "code",
   "execution_count": 13,
   "metadata": {},
   "outputs": [
    {
     "name": "stdout",
     "output_type": "stream",
     "text": [
      "t34\n",
      "(1600, 1280)\n",
      "(3255, 1280)\n",
      "(18000, 1280)\n",
      "(5544, 1280)\n",
      "pfamA_random\n",
      "--- 27.485255479812622 seconds ---\n",
      "motor_toolkit\n",
      "--- 61.85527753829956 seconds ---\n",
      "pfamA_balanced\n",
      "--- 383.7116119861603 seconds ---\n",
      "pfamA_target\n",
      "--- 104.35140609741211 seconds ---\n",
      "kinesin_labelled\n",
      "--- 18.764127492904663 seconds ---\n",
      "../../out/201102/pca/t34/pfamA_random.npy\n",
      "../../out/201102/tsne/t34/pfamA_random.npy\n",
      "../../out/201102/pca/t34/motor_toolkit.npy\n",
      "../../out/201102/tsne/t34/motor_toolkit.npy\n",
      "../../out/201102/pca/t34/pfamA_balanced.npy\n",
      "../../out/201102/tsne/t34/pfamA_balanced.npy\n",
      "../../out/201102/pca/t34/pfamA_target.npy\n",
      "../../out/201102/tsne/t34/pfamA_target.npy\n",
      "../../out/201102/pca/t34/kinesin_labelled.npy\n",
      "../../out/201102/tsne/t34/kinesin_labelled.npy\n",
      "--- 420.0373899936676 seconds ---\n",
      "../../out/201102/pca/t34/pfamA_balanced_pfamA_random_target.npy\n",
      "../../out/201102/pca/t34/pfamA_balanced_pfamA_random_background.npy\n",
      "../../out/201102/tsne/t34/pfamA_balanced_pfamA_random_target.npy\n",
      "../../out/201102/tsne/t34/pfamA_balanced_pfamA_random_background.npy\n",
      "--- 139.94706559181213 seconds ---\n",
      "../../out/201102/pca/t34/pfamA_target_pfamA_random_target.npy\n",
      "../../out/201102/pca/t34/pfamA_target_pfamA_random_background.npy\n",
      "../../out/201102/tsne/t34/pfamA_target_pfamA_random_target.npy\n",
      "../../out/201102/tsne/t34/pfamA_target_pfamA_random_background.npy\n"
     ]
    }
   ],
   "source": [
    "import glob\n",
    "# for model in models_dir:\n",
    "import time \n",
    "\n",
    "for tuning_dir_ in tuning_dir:\n",
    "    \n",
    "    tuning_dir_ = tuning_dir[4]\n",
    "    print(tuning_dir_)\n",
    "    dats = []\n",
    "    for dat in data_names:\n",
    "        d_path = '../../out/201102/embedding/esm_models/'+tuning_dir_ +'/'+dat+ '.npy'\n",
    "#         print(d_path)\n",
    "        d = np.load(d_path)\n",
    "        dats.append(d)\n",
    "    print(dats[0].shape)\n",
    "    print(dats[1].shape)\n",
    "    print(dats[2].shape)\n",
    "    print(dats[3].shape)\n",
    "    \n",
    "    # first, embed each of the dataset themselves\n",
    "    pca_res = []\n",
    "    tsne_res = []\n",
    "    for i, dat in enumerate(dats):\n",
    "        print(data_names[i])\n",
    "        start_time = time.time()\n",
    "        pca_curr = PCA(n_components=2).fit_transform(dat)\n",
    "        pca_res.append(pca_curr)\n",
    "        tsne_curr = PCA(n_components=10).fit_transform(dat)\n",
    "        tsne_curr = TSNE(n_components=2).fit_transform(tsne_curr)\n",
    "        tsne_res.append(tsne_curr)\n",
    "        print(\"--- %s seconds ---\" % (time.time() - start_time))\n",
    "  \n",
    "        \n",
    "    for i,dat_name in enumerate(data_names):\n",
    "        pca_out_path = pca_out_dir + tuning_dir_+\"/\"+dat_name+\".npy\"\n",
    "        tsne_out_path = tsne_out_dir + tuning_dir_+\"/\"+dat_name+\".npy\"\n",
    "        print(pca_out_path)\n",
    "        print(tsne_out_path)\n",
    "        np.save(pca_out_path, pca_res[i])\n",
    "        np.save(tsne_out_path, tsne_res[i])\n",
    "    \n",
    "    # then, perform several jointly embedding\n",
    "    #1. target,random\n",
    "    #2. balanced, random\n",
    "    for i,j in [(2,0),(3,0)]:\n",
    "        start_time = time.time()\n",
    "        target_tsne,background_tsne = joint_embed_tsne(dats[i],dats[j])\n",
    "        target_pca,background_pca = joint_embed_pca(dats[i],dats[j])\n",
    "        print(\"--- %s seconds ---\" % (time.time() - start_time))\n",
    "        pca_out_path_t = pca_out_dir+tuning_dir_+\"/\"+data_names[i]+\"_\"+data_names[j]+\"_target.npy\"\n",
    "        tsne_out_path_t = tsne_out_dir+tuning_dir_+\"/\"+data_names[i]+\"_\"+data_names[j]+\"_target.npy\"\n",
    "        pca_out_path_b = pca_out_dir+tuning_dir_+\"/\"+data_names[i]+\"_\"+data_names[j]+\"_background.npy\"\n",
    "        tsne_out_path_b = tsne_out_dir+tuning_dir_+\"/\"+data_names[i]+\"_\"+data_names[j]+\"_background.npy\"\n",
    "        print(pca_out_path_t)\n",
    "        print(pca_out_path_b)\n",
    "        print(tsne_out_path_t)\n",
    "        print(tsne_out_path_b)\n",
    "        np.save(pca_out_path_t, target_pca)\n",
    "        np.save(pca_out_path_b, background_pca)\n",
    "        np.save(tsne_out_path_t, target_tsne)\n",
    "        np.save(tsne_out_path_b, background_tsne)\n",
    "    break\n"
   ]
  },
  {
   "cell_type": "code",
   "execution_count": null,
   "metadata": {},
   "outputs": [],
   "source": []
  }
 ],
 "metadata": {
  "kernelspec": {
   "display_name": "Python 3",
   "language": "python",
   "name": "python3"
  },
  "language_info": {
   "codemirror_mode": {
    "name": "ipython",
    "version": 3
   },
   "file_extension": ".py",
   "mimetype": "text/x-python",
   "name": "python",
   "nbconvert_exporter": "python",
   "pygments_lexer": "ipython3",
   "version": "3.7.0"
  }
 },
 "nbformat": 4,
 "nbformat_minor": 2
}
