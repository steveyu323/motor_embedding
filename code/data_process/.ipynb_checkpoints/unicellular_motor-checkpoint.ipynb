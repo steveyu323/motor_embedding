{
 "cells": [
  {
   "cell_type": "code",
   "execution_count": 2,
   "metadata": {},
   "outputs": [],
   "source": [
    "from Bio import SeqIO\n",
    "import pandas as pd\n",
    "import numpy as np\n",
    "import matplotlib.pyplot as plt\n",
    "import seaborn as sns\n",
    "import tqdm \n",
    "import glob\n",
    "import re\n",
    "import requests\n",
    "import io"
   ]
  },
  {
   "cell_type": "markdown",
   "metadata": {},
   "source": []
  },
  {
   "cell_type": "code",
   "execution_count": 7,
   "metadata": {},
   "outputs": [
    {
     "data": {
      "text/html": [
       "<div>\n",
       "<style scoped>\n",
       "    .dataframe tbody tr th:only-of-type {\n",
       "        vertical-align: middle;\n",
       "    }\n",
       "\n",
       "    .dataframe tbody tr th {\n",
       "        vertical-align: top;\n",
       "    }\n",
       "\n",
       "    .dataframe thead th {\n",
       "        text-align: right;\n",
       "    }\n",
       "</style>\n",
       "<table border=\"1\" class=\"dataframe\">\n",
       "  <thead>\n",
       "    <tr style=\"text-align: right;\">\n",
       "      <th></th>\n",
       "      <th>Unnamed: 0</th>\n",
       "      <th>id</th>\n",
       "      <th>description</th>\n",
       "      <th>seq</th>\n",
       "      <th>pfamA_acc</th>\n",
       "      <th>clan</th>\n",
       "    </tr>\n",
       "  </thead>\n",
       "  <tbody>\n",
       "    <tr>\n",
       "      <th>0</th>\n",
       "      <td>0</td>\n",
       "      <td>A0A495CYV6_9MYCO/3-388</td>\n",
       "      <td>A0A495CYV6_9MYCO/3-388 A0A495CYV6.1 PF00871.18...</td>\n",
       "      <td>AVLVVNSGSSSIKYQVIDEQSGDRLAQGLVERIGESGRGRVVYKGA...</td>\n",
       "      <td>PF00871</td>\n",
       "      <td>actin_like</td>\n",
       "    </tr>\n",
       "    <tr>\n",
       "      <th>1</th>\n",
       "      <td>1</td>\n",
       "      <td>A0A3A6QL58_9VIBR/4-390</td>\n",
       "      <td>A0A3A6QL58_9VIBR/4-390 A0A3A6QL58.1 PF00871.18...</td>\n",
       "      <td>LVLVLNCGSSSLKFAIVDAETGAEHLTGLAECLGLPEARMKWKLDG...</td>\n",
       "      <td>PF00871</td>\n",
       "      <td>actin_like</td>\n",
       "    </tr>\n",
       "    <tr>\n",
       "      <th>2</th>\n",
       "      <td>2</td>\n",
       "      <td>A0A2T0AKP1_9THEO/2-389</td>\n",
       "      <td>A0A2T0AKP1_9THEO/2-389 A0A2T0AKP1.1 PF00871.18...</td>\n",
       "      <td>KILVLNCGSSSVKYQLFDMQREEVMARGLVERIGITGSMLTHRPAG...</td>\n",
       "      <td>PF00871</td>\n",
       "      <td>actin_like</td>\n",
       "    </tr>\n",
       "    <tr>\n",
       "      <th>3</th>\n",
       "      <td>3</td>\n",
       "      <td>H1XW95_9BACT/146-327</td>\n",
       "      <td>H1XW95_9BACT/146-327 H1XW95.1 PF00871.18;Aceta...</td>\n",
       "      <td>ISGMPLIPRKSIFHALNQKAVARETAKKLGKKYRESSIIVAHMGGG...</td>\n",
       "      <td>PF00871</td>\n",
       "      <td>actin_like</td>\n",
       "    </tr>\n",
       "    <tr>\n",
       "      <th>4</th>\n",
       "      <td>4</td>\n",
       "      <td>A0A396TZH3_9GAMM/13-397</td>\n",
       "      <td>A0A396TZH3_9GAMM/13-397 A0A396TZH3.1 PF00871.1...</td>\n",
       "      <td>AILVINCGSSSVKFSLIHPKTGQTILSGLAECLLANDAVIKIKFDN...</td>\n",
       "      <td>PF00871</td>\n",
       "      <td>actin_like</td>\n",
       "    </tr>\n",
       "  </tbody>\n",
       "</table>\n",
       "</div>"
      ],
      "text/plain": [
       "   Unnamed: 0                       id  \\\n",
       "0           0   A0A495CYV6_9MYCO/3-388   \n",
       "1           1   A0A3A6QL58_9VIBR/4-390   \n",
       "2           2   A0A2T0AKP1_9THEO/2-389   \n",
       "3           3     H1XW95_9BACT/146-327   \n",
       "4           4  A0A396TZH3_9GAMM/13-397   \n",
       "\n",
       "                                         description  \\\n",
       "0  A0A495CYV6_9MYCO/3-388 A0A495CYV6.1 PF00871.18...   \n",
       "1  A0A3A6QL58_9VIBR/4-390 A0A3A6QL58.1 PF00871.18...   \n",
       "2  A0A2T0AKP1_9THEO/2-389 A0A2T0AKP1.1 PF00871.18...   \n",
       "3  H1XW95_9BACT/146-327 H1XW95.1 PF00871.18;Aceta...   \n",
       "4  A0A396TZH3_9GAMM/13-397 A0A396TZH3.1 PF00871.1...   \n",
       "\n",
       "                                                 seq pfamA_acc        clan  \n",
       "0  AVLVVNSGSSSIKYQVIDEQSGDRLAQGLVERIGESGRGRVVYKGA...   PF00871  actin_like  \n",
       "1  LVLVLNCGSSSLKFAIVDAETGAEHLTGLAECLGLPEARMKWKLDG...   PF00871  actin_like  \n",
       "2  KILVLNCGSSSVKYQLFDMQREEVMARGLVERIGITGSMLTHRPAG...   PF00871  actin_like  \n",
       "3  ISGMPLIPRKSIFHALNQKAVARETAKKLGKKYRESSIIVAHMGGG...   PF00871  actin_like  \n",
       "4  AILVINCGSSSVKFSLIHPKTGQTILSGLAECLLANDAVIKIKFDN...   PF00871  actin_like  "
      ]
     },
     "execution_count": 7,
     "metadata": {},
     "output_type": "execute_result"
    }
   ],
   "source": [
    "pfamA_motors = pd.read_csv(\"../../data/pfamA_motors.csv\")\n",
    "pfamA_motors.head()"
   ]
  },
  {
   "cell_type": "code",
   "execution_count": 9,
   "metadata": {},
   "outputs": [
    {
     "data": {
      "text/plain": [
       "(15099, 6)"
      ]
     },
     "execution_count": 9,
     "metadata": {},
     "output_type": "execute_result"
    }
   ],
   "source": [
    "kinesin = pfamA_motors.loc[pfamA_motors[\"pfamA_acc\"] == \"PF00225\",:] \n",
    "kinesin.shape"
   ]
  },
  {
   "cell_type": "code",
   "execution_count": 10,
   "metadata": {},
   "outputs": [
    {
     "data": {
      "text/plain": [
       "(5951, 6)"
      ]
     },
     "execution_count": 10,
     "metadata": {},
     "output_type": "execute_result"
    }
   ],
   "source": [
    "tubulin = pfamA_motors.loc[pfamA_motors[\"pfamA_acc\"] == \"PF00091\",:] \n",
    "tubulin.shape"
   ]
  },
  {
   "cell_type": "code",
   "execution_count": 12,
   "metadata": {},
   "outputs": [
    {
     "name": "stderr",
     "output_type": "stream",
     "text": [
      "<ipython-input-12-c8d412e88353>:1: SettingWithCopyWarning: \n",
      "A value is trying to be set on a copy of a slice from a DataFrame.\n",
      "Try using .loc[row_indexer,col_indexer] = value instead\n",
      "\n",
      "See the caveats in the documentation: https://pandas.pydata.org/pandas-docs/stable/user_guide/indexing.html#returning-a-view-versus-a-copy\n",
      "  kinesin[\"uniprot_acc\"] = kinesin[\"id\"].apply(lambda s: s.split(\"/\")[0])\n",
      "<ipython-input-12-c8d412e88353>:2: SettingWithCopyWarning: \n",
      "A value is trying to be set on a copy of a slice from a DataFrame.\n",
      "Try using .loc[row_indexer,col_indexer] = value instead\n",
      "\n",
      "See the caveats in the documentation: https://pandas.pydata.org/pandas-docs/stable/user_guide/indexing.html#returning-a-view-versus-a-copy\n",
      "  tubulin[\"uniprot_acc\"] = tubulin[\"id\"].apply(lambda s: s.split(\"/\")[0])\n"
     ]
    }
   ],
   "source": [
    "kinesin[\"uniprot_acc\"] = kinesin[\"id\"].apply(lambda s: s.split(\"/\")[0])\n",
    "tubulin[\"uniprot_acc\"] = tubulin[\"id\"].apply(lambda s: s.split(\"/\")[0])"
   ]
  },
  {
   "cell_type": "code",
   "execution_count": 15,
   "metadata": {},
   "outputs": [
    {
     "data": {
      "text/html": [
       "<div>\n",
       "<style scoped>\n",
       "    .dataframe tbody tr th:only-of-type {\n",
       "        vertical-align: middle;\n",
       "    }\n",
       "\n",
       "    .dataframe tbody tr th {\n",
       "        vertical-align: top;\n",
       "    }\n",
       "\n",
       "    .dataframe thead th {\n",
       "        text-align: right;\n",
       "    }\n",
       "</style>\n",
       "<table border=\"1\" class=\"dataframe\">\n",
       "  <thead>\n",
       "    <tr style=\"text-align: right;\">\n",
       "      <th></th>\n",
       "      <th>Unnamed: 0</th>\n",
       "      <th>id</th>\n",
       "      <th>description</th>\n",
       "      <th>seq</th>\n",
       "      <th>pfamA_acc</th>\n",
       "      <th>clan</th>\n",
       "      <th>uniprot_acc</th>\n",
       "    </tr>\n",
       "  </thead>\n",
       "  <tbody>\n",
       "    <tr>\n",
       "      <th>1407315</th>\n",
       "      <td>1407315</td>\n",
       "      <td>V2XA84_MONRO/12-342</td>\n",
       "      <td>V2XA84_MONRO/12-342 V2XA84.1 PF00225.24;Kinesin;</td>\n",
       "      <td>RLRPRIDGEIDDGAIQVCHASDNTAASSSSASSTTSLSYISAPNPR...</td>\n",
       "      <td>PF00225</td>\n",
       "      <td>p_loop_gtpase</td>\n",
       "      <td>V2XA84_MONRO</td>\n",
       "    </tr>\n",
       "    <tr>\n",
       "      <th>1407316</th>\n",
       "      <td>1407316</td>\n",
       "      <td>A0A0D2I9H7_9EURO/73-404</td>\n",
       "      <td>A0A0D2I9H7_9EURO/73-404 A0A0D2I9H7.1 PF00225.2...</td>\n",
       "      <td>RCRGRSAREVRENSGVVVSTSGVRGKTVELSMGPNAISNKTYYFDK...</td>\n",
       "      <td>PF00225</td>\n",
       "      <td>p_loop_gtpase</td>\n",
       "      <td>A0A0D2I9H7_9EURO</td>\n",
       "    </tr>\n",
       "    <tr>\n",
       "      <th>1407317</th>\n",
       "      <td>1407317</td>\n",
       "      <td>A0A428QG75_9HYPO/43-437</td>\n",
       "      <td>A0A428QG75_9HYPO/43-437 A0A428QG75.1 PF00225.2...</td>\n",
       "      <td>ASDEDSRTAVKVAVRVRPPLKSTDPGYDLIPQRFQRSMVQTTSDTS...</td>\n",
       "      <td>PF00225</td>\n",
       "      <td>p_loop_gtpase</td>\n",
       "      <td>A0A428QG75_9HYPO</td>\n",
       "    </tr>\n",
       "    <tr>\n",
       "      <th>1407318</th>\n",
       "      <td>1407318</td>\n",
       "      <td>A0A2R6QVF3_ACTCH/9-326</td>\n",
       "      <td>A0A2R6QVF3_ACTCH/9-326 A0A2R6QVF3.1 PF00225.24...</td>\n",
       "      <td>RARPLSPEDAKTSPWRISGNSIFIPNHSSKFEFDQIFGENCKTREV...</td>\n",
       "      <td>PF00225</td>\n",
       "      <td>p_loop_gtpase</td>\n",
       "      <td>A0A2R6QVF3_ACTCH</td>\n",
       "    </tr>\n",
       "    <tr>\n",
       "      <th>1407319</th>\n",
       "      <td>1407319</td>\n",
       "      <td>A0A287IHV8_HORVV/1-229</td>\n",
       "      <td>A0A287IHV8_HORVV/1-229 A0A287IHV8.1 PF00225.24...</td>\n",
       "      <td>MHGEQKSPGIIPLAVKDVFSIIQDTPGREFLLRVSYLEIYNEVIND...</td>\n",
       "      <td>PF00225</td>\n",
       "      <td>p_loop_gtpase</td>\n",
       "      <td>A0A287IHV8_HORVV</td>\n",
       "    </tr>\n",
       "  </tbody>\n",
       "</table>\n",
       "</div>"
      ],
      "text/plain": [
       "         Unnamed: 0                       id  \\\n",
       "1407315     1407315      V2XA84_MONRO/12-342   \n",
       "1407316     1407316  A0A0D2I9H7_9EURO/73-404   \n",
       "1407317     1407317  A0A428QG75_9HYPO/43-437   \n",
       "1407318     1407318   A0A2R6QVF3_ACTCH/9-326   \n",
       "1407319     1407319   A0A287IHV8_HORVV/1-229   \n",
       "\n",
       "                                               description  \\\n",
       "1407315   V2XA84_MONRO/12-342 V2XA84.1 PF00225.24;Kinesin;   \n",
       "1407316  A0A0D2I9H7_9EURO/73-404 A0A0D2I9H7.1 PF00225.2...   \n",
       "1407317  A0A428QG75_9HYPO/43-437 A0A428QG75.1 PF00225.2...   \n",
       "1407318  A0A2R6QVF3_ACTCH/9-326 A0A2R6QVF3.1 PF00225.24...   \n",
       "1407319  A0A287IHV8_HORVV/1-229 A0A287IHV8.1 PF00225.24...   \n",
       "\n",
       "                                                       seq pfamA_acc  \\\n",
       "1407315  RLRPRIDGEIDDGAIQVCHASDNTAASSSSASSTTSLSYISAPNPR...   PF00225   \n",
       "1407316  RCRGRSAREVRENSGVVVSTSGVRGKTVELSMGPNAISNKTYYFDK...   PF00225   \n",
       "1407317  ASDEDSRTAVKVAVRVRPPLKSTDPGYDLIPQRFQRSMVQTTSDTS...   PF00225   \n",
       "1407318  RARPLSPEDAKTSPWRISGNSIFIPNHSSKFEFDQIFGENCKTREV...   PF00225   \n",
       "1407319  MHGEQKSPGIIPLAVKDVFSIIQDTPGREFLLRVSYLEIYNEVIND...   PF00225   \n",
       "\n",
       "                  clan       uniprot_acc  \n",
       "1407315  p_loop_gtpase      V2XA84_MONRO  \n",
       "1407316  p_loop_gtpase  A0A0D2I9H7_9EURO  \n",
       "1407317  p_loop_gtpase  A0A428QG75_9HYPO  \n",
       "1407318  p_loop_gtpase  A0A2R6QVF3_ACTCH  \n",
       "1407319  p_loop_gtpase  A0A287IHV8_HORVV  "
      ]
     },
     "execution_count": 15,
     "metadata": {},
     "output_type": "execute_result"
    }
   ],
   "source": [
    "kinesin.head()"
   ]
  },
  {
   "cell_type": "code",
   "execution_count": null,
   "metadata": {},
   "outputs": [],
   "source": []
  },
  {
   "cell_type": "code",
   "execution_count": 44,
   "metadata": {},
   "outputs": [],
   "source": [
    "def get_uniprot_entry(acc):\n",
    "    url = \"https://www.uniprot.org/uniprot/?query=\"+acc+\"&sort=score&columns=id,entry name,reviewed,protein names,genes,organism,organism-id,lineage(all),sequence,length&format=tab\"\n",
    "    try:\n",
    "        urlData = requests.get(url).content\n",
    "        rawData = pd.read_csv(io.StringIO(urlData.decode('utf-8')),sep = '\\t')\n",
    "    except:\n",
    "        rawData = pd.DataFrame()\n",
    "    return rawData "
   ]
  },
  {
   "cell_type": "code",
   "execution_count": 45,
   "metadata": {},
   "outputs": [],
   "source": [
    "a = get_uniprot_entry(\"A0A428QG75_9HYPO\")\n",
    "b = get_uniprot_entry(\"A0A2R6QVF3_ACTCH\")"
   ]
  },
  {
   "cell_type": "code",
   "execution_count": 48,
   "metadata": {},
   "outputs": [
    {
     "name": "stdout",
     "output_type": "stream",
     "text": [
      "(501, 10)\n",
      "(1003, 10)\n",
      "(1504, 10)\n",
      "(2005, 10)\n",
      "(2505, 10)\n",
      "(3005, 10)\n",
      "(3509, 10)\n",
      "(4009, 10)\n",
      "(4511, 10)\n",
      "(5012, 10)\n",
      "(5513, 10)\n",
      "(6013, 10)\n",
      "(6513, 10)\n",
      "(7013, 10)\n",
      "(7513, 10)\n",
      "(8014, 10)\n",
      "(8514, 10)\n",
      "(9014, 10)\n",
      "(9517, 10)\n",
      "(10018, 10)\n",
      "(10518, 10)\n",
      "(11019, 10)\n",
      "(11519, 10)\n",
      "(12020, 10)\n",
      "(12521, 10)\n",
      "(13023, 10)\n",
      "(13523, 10)\n",
      "(14025, 10)\n",
      "(14525, 10)\n",
      "(15025, 10)\n"
     ]
    }
   ],
   "source": [
    "kinesin_uniprot = get_uniprot_entry(kinesin[\"uniprot_acc\"].iloc[0])\n",
    "for i in range(1,kinesin.shape[0]):\n",
    "    curr = get_uniprot_entry(kinesin[\"uniprot_acc\"].iloc[i])\n",
    "    if not (curr.empty):\n",
    "        kinesin_uniprot = pd.concat([kinesin_uniprot,curr], ignore_index=True)\n",
    "    if i%500 ==0:\n",
    "        print(kinesin_uniprot.shape)"
   ]
  },
  {
   "cell_type": "code",
   "execution_count": 49,
   "metadata": {},
   "outputs": [
    {
     "name": "stdout",
     "output_type": "stream",
     "text": [
      "(501, 10)\n",
      "(1003, 10)\n",
      "(2005, 10)\n",
      "(2505, 10)\n",
      "(3005, 10)\n",
      "(3509, 10)\n",
      "(4009, 10)\n",
      "(4510, 10)\n",
      "(5011, 10)\n",
      "(5512, 10)\n"
     ]
    }
   ],
   "source": [
    "tubulin_uniprot = get_uniprot_entry(tubulin[\"uniprot_acc\"].iloc[0])\n",
    "for i in range(1,tubulin.shape[0]):\n",
    "    curr = get_uniprot_entry(kinesin[\"uniprot_acc\"].iloc[i])\n",
    "    if not (curr.empty):\n",
    "        tubulin_uniprot = pd.concat([tubulin_uniprot,curr], ignore_index=True)\n",
    "    if i%500 ==0:\n",
    "        print(tubulin_uniprot.shape)"
   ]
  },
  {
   "cell_type": "code",
   "execution_count": 50,
   "metadata": {},
   "outputs": [
    {
     "name": "stdout",
     "output_type": "stream",
     "text": [
      "done\n"
     ]
    }
   ],
   "source": [
    "print('done')"
   ]
  },
  {
   "cell_type": "code",
   "execution_count": 52,
   "metadata": {},
   "outputs": [
    {
     "data": {
      "text/plain": [
       "(5962, 10)"
      ]
     },
     "execution_count": 52,
     "metadata": {},
     "output_type": "execute_result"
    }
   ],
   "source": [
    "tubulin_uniprot.shape"
   ]
  },
  {
   "cell_type": "code",
   "execution_count": 53,
   "metadata": {},
   "outputs": [
    {
     "data": {
      "text/plain": [
       "(15123, 10)"
      ]
     },
     "execution_count": 53,
     "metadata": {},
     "output_type": "execute_result"
    }
   ],
   "source": [
    "kinesin_uniprot.shape"
   ]
  },
  {
   "cell_type": "code",
   "execution_count": 54,
   "metadata": {},
   "outputs": [],
   "source": [
    "tubulin_uniprot.to_csv(\"../../data/david_data/tubulin.csv\",index = False)\n",
    "kinesin_uniprot.to_csv(\"../../data/david_data/kinesin.csv\",index = False)"
   ]
  },
  {
   "cell_type": "code",
   "execution_count": 55,
   "metadata": {},
   "outputs": [
    {
     "name": "stdout",
     "output_type": "stream",
     "text": [
      "done\n"
     ]
    }
   ],
   "source": [
    "print('done')"
   ]
  },
  {
   "cell_type": "code",
   "execution_count": null,
   "metadata": {},
   "outputs": [],
   "source": []
  },
  {
   "cell_type": "markdown",
   "metadata": {},
   "source": [
    "## Inspect whether the organisms of top interests are included in the dataset\n",
    "\n",
    "- Giardia lamblia: Giardia intestinalis\n",
    "- Paramecium: Paramecium\n",
    "- Diatom: Bacillariophyta\n",
    "- Dileptus sp.: Dileptus\n",
    "- Enchelyodon sp.: Enchelyodon\n",
    "- Opisthokonta: Opisthokonta\n",
    "- Amoebozoa: Amoebozoa\n",
    "- Hemimastigophora: Hemimastigophora \n",
    "- Euglenozoa: Euglenozoa \n",
    "- Archaeplastida: Rhodophyta,Rhodelphida,Glaucocystophyceae,Viridiplantae,Picozoa,Epimorpha\n",
    "- Carpediemonas"
   ]
  },
  {
   "cell_type": "code",
   "execution_count": 3,
   "metadata": {},
   "outputs": [
    {
     "data": {
      "text/html": [
       "<div>\n",
       "<style scoped>\n",
       "    .dataframe tbody tr th:only-of-type {\n",
       "        vertical-align: middle;\n",
       "    }\n",
       "\n",
       "    .dataframe tbody tr th {\n",
       "        vertical-align: top;\n",
       "    }\n",
       "\n",
       "    .dataframe thead th {\n",
       "        text-align: right;\n",
       "    }\n",
       "</style>\n",
       "<table border=\"1\" class=\"dataframe\">\n",
       "  <thead>\n",
       "    <tr style=\"text-align: right;\">\n",
       "      <th></th>\n",
       "      <th>Entry</th>\n",
       "      <th>Entry name</th>\n",
       "      <th>Status</th>\n",
       "      <th>Protein names</th>\n",
       "      <th>Gene names</th>\n",
       "      <th>Organism</th>\n",
       "      <th>Organism ID</th>\n",
       "      <th>Taxonomic lineage (all)</th>\n",
       "      <th>Sequence</th>\n",
       "      <th>Length</th>\n",
       "    </tr>\n",
       "  </thead>\n",
       "  <tbody>\n",
       "    <tr>\n",
       "      <th>0</th>\n",
       "      <td>V9HMW9</td>\n",
       "      <td>V9HMW9_9NEIS</td>\n",
       "      <td>unreviewed</td>\n",
       "      <td>Cell division protein FtsZ</td>\n",
       "      <td>ftsZ HMPREF9021_00284</td>\n",
       "      <td>Simonsiella muelleri ATCC 29453</td>\n",
       "      <td>641147.0</td>\n",
       "      <td>cellular organisms, Bacteria, Proteobacteria, ...</td>\n",
       "      <td>MDKPIYNFVEAPTGPAVIKVIGVGGGGCNAINNMIENPIQGVEYIS...</td>\n",
       "      <td>418.0</td>\n",
       "    </tr>\n",
       "    <tr>\n",
       "      <th>1</th>\n",
       "      <td>A0A0D2I9H7</td>\n",
       "      <td>A0A0D2I9H7_9EURO</td>\n",
       "      <td>unreviewed</td>\n",
       "      <td>Kinesin motor domain-containing protein</td>\n",
       "      <td>Z520_10451</td>\n",
       "      <td>Fonsecaea multimorphosa CBS 102226</td>\n",
       "      <td>1442371.0</td>\n",
       "      <td>cellular organisms, Eukaryota, Opisthokonta, F...</td>\n",
       "      <td>MSGSQRHANTATRTSMRPPPRPHVPQYPSITGRAPSPAESLSSSGA...</td>\n",
       "      <td>1209.0</td>\n",
       "    </tr>\n",
       "    <tr>\n",
       "      <th>2</th>\n",
       "      <td>A0A428QG75</td>\n",
       "      <td>A0A428QG75_9HYPO</td>\n",
       "      <td>unreviewed</td>\n",
       "      <td>Kinesin motor domain-containing protein</td>\n",
       "      <td>CEP54_004803</td>\n",
       "      <td>Fusarium sp. AF-8</td>\n",
       "      <td>1325734.0</td>\n",
       "      <td>cellular organisms, Eukaryota, Opisthokonta, F...</td>\n",
       "      <td>MASSPPTSPGGIQRPLSAAISRAAPRSTSRLSMTSKTGGGSRASDE...</td>\n",
       "      <td>1725.0</td>\n",
       "    </tr>\n",
       "    <tr>\n",
       "      <th>3</th>\n",
       "      <td>A0A2R6QVF3</td>\n",
       "      <td>A0A2R6QVF3_ACTCC</td>\n",
       "      <td>unreviewed</td>\n",
       "      <td>Kinesin-like protein</td>\n",
       "      <td>CEY00_Acc13213</td>\n",
       "      <td>Actinidia chinensis var. chinensis (Chinese so...</td>\n",
       "      <td>1590841.0</td>\n",
       "      <td>cellular organisms, Eukaryota, Viridiplantae, ...</td>\n",
       "      <td>MERIHVTVRARPLSPEDAKTSPWRISGNSIFIPNHSSKFEFDQIFG...</td>\n",
       "      <td>1325.0</td>\n",
       "    </tr>\n",
       "    <tr>\n",
       "      <th>4</th>\n",
       "      <td>A0A287IHV8</td>\n",
       "      <td>A0A287IHV8_HORVV</td>\n",
       "      <td>unreviewed</td>\n",
       "      <td>Kinesin motor domain-containing protein</td>\n",
       "      <td>NaN</td>\n",
       "      <td>Hordeum vulgare subsp. vulgare (Domesticated b...</td>\n",
       "      <td>112509.0</td>\n",
       "      <td>cellular organisms, Eukaryota, Viridiplantae, ...</td>\n",
       "      <td>MHGEQKSPGIIPLAVKDVFSIIQDTPGREFLLRVSYLEIYNEVIND...</td>\n",
       "      <td>690.0</td>\n",
       "    </tr>\n",
       "  </tbody>\n",
       "</table>\n",
       "</div>"
      ],
      "text/plain": [
       "        Entry        Entry name      Status  \\\n",
       "0      V9HMW9      V9HMW9_9NEIS  unreviewed   \n",
       "1  A0A0D2I9H7  A0A0D2I9H7_9EURO  unreviewed   \n",
       "2  A0A428QG75  A0A428QG75_9HYPO  unreviewed   \n",
       "3  A0A2R6QVF3  A0A2R6QVF3_ACTCC  unreviewed   \n",
       "4  A0A287IHV8  A0A287IHV8_HORVV  unreviewed   \n",
       "\n",
       "                             Protein names             Gene names  \\\n",
       "0               Cell division protein FtsZ  ftsZ HMPREF9021_00284   \n",
       "1  Kinesin motor domain-containing protein             Z520_10451   \n",
       "2  Kinesin motor domain-containing protein           CEP54_004803   \n",
       "3                     Kinesin-like protein         CEY00_Acc13213   \n",
       "4  Kinesin motor domain-containing protein                    NaN   \n",
       "\n",
       "                                            Organism  Organism ID  \\\n",
       "0                    Simonsiella muelleri ATCC 29453     641147.0   \n",
       "1                 Fonsecaea multimorphosa CBS 102226    1442371.0   \n",
       "2                                  Fusarium sp. AF-8    1325734.0   \n",
       "3  Actinidia chinensis var. chinensis (Chinese so...    1590841.0   \n",
       "4  Hordeum vulgare subsp. vulgare (Domesticated b...     112509.0   \n",
       "\n",
       "                             Taxonomic lineage (all)  \\\n",
       "0  cellular organisms, Bacteria, Proteobacteria, ...   \n",
       "1  cellular organisms, Eukaryota, Opisthokonta, F...   \n",
       "2  cellular organisms, Eukaryota, Opisthokonta, F...   \n",
       "3  cellular organisms, Eukaryota, Viridiplantae, ...   \n",
       "4  cellular organisms, Eukaryota, Viridiplantae, ...   \n",
       "\n",
       "                                            Sequence  Length  \n",
       "0  MDKPIYNFVEAPTGPAVIKVIGVGGGGCNAINNMIENPIQGVEYIS...   418.0  \n",
       "1  MSGSQRHANTATRTSMRPPPRPHVPQYPSITGRAPSPAESLSSSGA...  1209.0  \n",
       "2  MASSPPTSPGGIQRPLSAAISRAAPRSTSRLSMTSKTGGGSRASDE...  1725.0  \n",
       "3  MERIHVTVRARPLSPEDAKTSPWRISGNSIFIPNHSSKFEFDQIFG...  1325.0  \n",
       "4  MHGEQKSPGIIPLAVKDVFSIIQDTPGREFLLRVSYLEIYNEVIND...   690.0  "
      ]
     },
     "execution_count": 3,
     "metadata": {},
     "output_type": "execute_result"
    }
   ],
   "source": [
    "tubulin_uniprot = pd.read_csv(\"../../data/david_data/tubulin.csv\")"
   ]
  },
  {
   "cell_type": "code",
   "execution_count": 4,
   "metadata": {},
   "outputs": [
    {
     "data": {
      "text/plain": [
       "0    cellular organisms, Bacteria, Proteobacteria, ...\n",
       "1    cellular organisms, Eukaryota, Opisthokonta, F...\n",
       "2    cellular organisms, Eukaryota, Opisthokonta, F...\n",
       "3    cellular organisms, Eukaryota, Viridiplantae, ...\n",
       "4    cellular organisms, Eukaryota, Viridiplantae, ...\n",
       "Name: Taxonomic lineage (all), dtype: object"
      ]
     },
     "execution_count": 4,
     "metadata": {},
     "output_type": "execute_result"
    }
   ],
   "source": [
    "tubulin_uniprot[\"Taxonomic lineage (all)\"].head()"
   ]
  },
  {
   "cell_type": "code",
   "execution_count": 5,
   "metadata": {},
   "outputs": [],
   "source": [
    "organism_ls = [\"Giardia intestinalis\",\"Paramecium\",\"Bacillariophyta\",\"Dileptus\",\"Enchelyodon\",\"Opisthokonta\",\\\n",
    "               \"Amoebozoa\",\"Hemimastigophora\",\"Euglenozoa\",\"Rhodophyta\",\"Rhodelphida\",\"Glaucocystophyceae\",\"Viridiplantae\",\\\n",
    "               \"Picozoa\",\"Epimorpha\"]              \n",
    "               "
   ]
  },
  {
   "cell_type": "code",
   "execution_count": 8,
   "metadata": {},
   "outputs": [
    {
     "name": "stdout",
     "output_type": "stream",
     "text": [
      "Giardia intestinalis\n",
      "Paramecium\n",
      "Bacillariophyta\n",
      "Dileptus\n",
      "Enchelyodon\n",
      "Opisthokonta\n",
      "Amoebozoa\n",
      "Hemimastigophora\n",
      "Euglenozoa\n",
      "Rhodophyta\n",
      "Rhodelphida\n",
      "Glaucocystophyceae\n",
      "Viridiplantae\n",
      "Picozoa\n",
      "Epimorpha\n"
     ]
    }
   ],
   "source": [
    "lowered_description = tubulin_uniprot[\"Taxonomic lineage (all)\"].str.lower()\n",
    "tubulin_uniprot[\"og\"] = \"unlabeled\"\n",
    "\n",
    "for label in organism_ls:\n",
    "    print(label)\n",
    "    label = label.lower() \n",
    "    boo = lowered_description.str.contains( label,na=False)\n",
    "    tubulin_uniprot.loc[boo,\"og\"] = label"
   ]
  },
  {
   "cell_type": "code",
   "execution_count": 16,
   "metadata": {},
   "outputs": [
    {
     "data": {
      "text/html": [
       "<div>\n",
       "<style scoped>\n",
       "    .dataframe tbody tr th:only-of-type {\n",
       "        vertical-align: middle;\n",
       "    }\n",
       "\n",
       "    .dataframe tbody tr th {\n",
       "        vertical-align: top;\n",
       "    }\n",
       "\n",
       "    .dataframe thead th {\n",
       "        text-align: right;\n",
       "    }\n",
       "</style>\n",
       "<table border=\"1\" class=\"dataframe\">\n",
       "  <thead>\n",
       "    <tr style=\"text-align: right;\">\n",
       "      <th></th>\n",
       "      <th>Entry</th>\n",
       "    </tr>\n",
       "    <tr>\n",
       "      <th>og</th>\n",
       "      <th></th>\n",
       "    </tr>\n",
       "  </thead>\n",
       "  <tbody>\n",
       "    <tr>\n",
       "      <th>amoebozoa</th>\n",
       "      <td>35</td>\n",
       "    </tr>\n",
       "    <tr>\n",
       "      <th>bacillariophyta</th>\n",
       "      <td>12</td>\n",
       "    </tr>\n",
       "    <tr>\n",
       "      <th>euglenozoa</th>\n",
       "      <td>104</td>\n",
       "    </tr>\n",
       "    <tr>\n",
       "      <th>giardia intestinalis</th>\n",
       "      <td>7</td>\n",
       "    </tr>\n",
       "    <tr>\n",
       "      <th>opisthokonta</th>\n",
       "      <td>3597</td>\n",
       "    </tr>\n",
       "    <tr>\n",
       "      <th>paramecium</th>\n",
       "      <td>37</td>\n",
       "    </tr>\n",
       "    <tr>\n",
       "      <th>rhodophyta</th>\n",
       "      <td>15</td>\n",
       "    </tr>\n",
       "    <tr>\n",
       "      <th>unlabeled</th>\n",
       "      <td>568</td>\n",
       "    </tr>\n",
       "    <tr>\n",
       "      <th>viridiplantae</th>\n",
       "      <td>1587</td>\n",
       "    </tr>\n",
       "  </tbody>\n",
       "</table>\n",
       "</div>"
      ],
      "text/plain": [
       "                      Entry\n",
       "og                         \n",
       "amoebozoa                35\n",
       "bacillariophyta          12\n",
       "euglenozoa              104\n",
       "giardia intestinalis      7\n",
       "opisthokonta           3597\n",
       "paramecium               37\n",
       "rhodophyta               15\n",
       "unlabeled               568\n",
       "viridiplantae          1587"
      ]
     },
     "execution_count": 16,
     "metadata": {},
     "output_type": "execute_result"
    }
   ],
   "source": [
    "tubulin_uniprot.groupby(\"og\").count().iloc[:,0:1]"
   ]
  },
  {
   "cell_type": "code",
   "execution_count": 10,
   "metadata": {},
   "outputs": [],
   "source": [
    "kinesin_uniprot = pd.read_csv(\"../../data/david_data/kinesin.csv\")"
   ]
  },
  {
   "cell_type": "code",
   "execution_count": 11,
   "metadata": {},
   "outputs": [
    {
     "name": "stdout",
     "output_type": "stream",
     "text": [
      "Giardia intestinalis\n",
      "Paramecium\n",
      "Bacillariophyta\n",
      "Dileptus\n",
      "Enchelyodon\n",
      "Opisthokonta\n",
      "Amoebozoa\n",
      "Hemimastigophora\n",
      "Euglenozoa\n",
      "Rhodophyta\n",
      "Rhodelphida\n",
      "Glaucocystophyceae\n",
      "Viridiplantae\n",
      "Picozoa\n",
      "Epimorpha\n"
     ]
    }
   ],
   "source": [
    "lowered_description = kinesin_uniprot[\"Taxonomic lineage (all)\"].str.lower()\n",
    "kinesin_uniprot[\"og\"] = \"unlabeled\"\n",
    "\n",
    "for label in organism_ls:\n",
    "    print(label)\n",
    "    label = label.lower() \n",
    "    boo = lowered_description.str.contains( label,na=False)\n",
    "    kinesin_uniprot.loc[boo,\"og\"] = label"
   ]
  },
  {
   "cell_type": "code",
   "execution_count": 15,
   "metadata": {},
   "outputs": [
    {
     "data": {
      "text/html": [
       "<div>\n",
       "<style scoped>\n",
       "    .dataframe tbody tr th:only-of-type {\n",
       "        vertical-align: middle;\n",
       "    }\n",
       "\n",
       "    .dataframe tbody tr th {\n",
       "        vertical-align: top;\n",
       "    }\n",
       "\n",
       "    .dataframe thead th {\n",
       "        text-align: right;\n",
       "    }\n",
       "</style>\n",
       "<table border=\"1\" class=\"dataframe\">\n",
       "  <thead>\n",
       "    <tr style=\"text-align: right;\">\n",
       "      <th></th>\n",
       "      <th>Entry</th>\n",
       "    </tr>\n",
       "    <tr>\n",
       "      <th>og</th>\n",
       "      <th></th>\n",
       "    </tr>\n",
       "  </thead>\n",
       "  <tbody>\n",
       "    <tr>\n",
       "      <th>amoebozoa</th>\n",
       "      <td>121</td>\n",
       "    </tr>\n",
       "    <tr>\n",
       "      <th>bacillariophyta</th>\n",
       "      <td>42</td>\n",
       "    </tr>\n",
       "    <tr>\n",
       "      <th>euglenozoa</th>\n",
       "      <td>276</td>\n",
       "    </tr>\n",
       "    <tr>\n",
       "      <th>giardia intestinalis</th>\n",
       "      <td>30</td>\n",
       "    </tr>\n",
       "    <tr>\n",
       "      <th>opisthokonta</th>\n",
       "      <td>9198</td>\n",
       "    </tr>\n",
       "    <tr>\n",
       "      <th>paramecium</th>\n",
       "      <td>97</td>\n",
       "    </tr>\n",
       "    <tr>\n",
       "      <th>rhodophyta</th>\n",
       "      <td>34</td>\n",
       "    </tr>\n",
       "    <tr>\n",
       "      <th>unlabeled</th>\n",
       "      <td>1569</td>\n",
       "    </tr>\n",
       "    <tr>\n",
       "      <th>viridiplantae</th>\n",
       "      <td>3756</td>\n",
       "    </tr>\n",
       "  </tbody>\n",
       "</table>\n",
       "</div>"
      ],
      "text/plain": [
       "                      Entry\n",
       "og                         \n",
       "amoebozoa               121\n",
       "bacillariophyta          42\n",
       "euglenozoa              276\n",
       "giardia intestinalis     30\n",
       "opisthokonta           9198\n",
       "paramecium               97\n",
       "rhodophyta               34\n",
       "unlabeled              1569\n",
       "viridiplantae          3756"
      ]
     },
     "execution_count": 15,
     "metadata": {},
     "output_type": "execute_result"
    }
   ],
   "source": [
    "kinesin_uniprot.groupby(\"og\").count().iloc[:,0:1]"
   ]
  },
  {
   "cell_type": "code",
   "execution_count": 13,
   "metadata": {},
   "outputs": [
    {
     "data": {
      "text/html": [
       "<div>\n",
       "<style scoped>\n",
       "    .dataframe tbody tr th:only-of-type {\n",
       "        vertical-align: middle;\n",
       "    }\n",
       "\n",
       "    .dataframe tbody tr th {\n",
       "        vertical-align: top;\n",
       "    }\n",
       "\n",
       "    .dataframe thead th {\n",
       "        text-align: right;\n",
       "    }\n",
       "</style>\n",
       "<table border=\"1\" class=\"dataframe\">\n",
       "  <thead>\n",
       "    <tr style=\"text-align: right;\">\n",
       "      <th></th>\n",
       "      <th>Entry</th>\n",
       "      <th>Entry name</th>\n",
       "      <th>Status</th>\n",
       "      <th>Protein names</th>\n",
       "      <th>Gene names</th>\n",
       "      <th>Organism</th>\n",
       "      <th>Organism ID</th>\n",
       "      <th>Taxonomic lineage (all)</th>\n",
       "      <th>Sequence</th>\n",
       "      <th>Length</th>\n",
       "      <th>og</th>\n",
       "    </tr>\n",
       "  </thead>\n",
       "  <tbody>\n",
       "    <tr>\n",
       "      <th>0</th>\n",
       "      <td>V2XA84</td>\n",
       "      <td>V2XA84_MONRO</td>\n",
       "      <td>unreviewed</td>\n",
       "      <td>Kinesin-like protein</td>\n",
       "      <td>Moror_16175</td>\n",
       "      <td>Moniliophthora roreri (strain MCA 2997) (Cocoa...</td>\n",
       "      <td>1381753.0</td>\n",
       "      <td>cellular organisms, Eukaryota, Opisthokonta, F...</td>\n",
       "      <td>MASTRRIRIATRLRPRIDGEIDDGAIQVCHASDNTAASSSSASSTT...</td>\n",
       "      <td>742.0</td>\n",
       "      <td>opisthokonta</td>\n",
       "    </tr>\n",
       "    <tr>\n",
       "      <th>1</th>\n",
       "      <td>A0A0D2I9H7</td>\n",
       "      <td>A0A0D2I9H7_9EURO</td>\n",
       "      <td>unreviewed</td>\n",
       "      <td>Kinesin motor domain-containing protein</td>\n",
       "      <td>Z520_10451</td>\n",
       "      <td>Fonsecaea multimorphosa CBS 102226</td>\n",
       "      <td>1442371.0</td>\n",
       "      <td>cellular organisms, Eukaryota, Opisthokonta, F...</td>\n",
       "      <td>MSGSQRHANTATRTSMRPPPRPHVPQYPSITGRAPSPAESLSSSGA...</td>\n",
       "      <td>1209.0</td>\n",
       "      <td>opisthokonta</td>\n",
       "    </tr>\n",
       "    <tr>\n",
       "      <th>2</th>\n",
       "      <td>A0A428QG75</td>\n",
       "      <td>A0A428QG75_9HYPO</td>\n",
       "      <td>unreviewed</td>\n",
       "      <td>Kinesin motor domain-containing protein</td>\n",
       "      <td>CEP54_004803</td>\n",
       "      <td>Fusarium sp. AF-8</td>\n",
       "      <td>1325734.0</td>\n",
       "      <td>cellular organisms, Eukaryota, Opisthokonta, F...</td>\n",
       "      <td>MASSPPTSPGGIQRPLSAAISRAAPRSTSRLSMTSKTGGGSRASDE...</td>\n",
       "      <td>1725.0</td>\n",
       "      <td>opisthokonta</td>\n",
       "    </tr>\n",
       "    <tr>\n",
       "      <th>3</th>\n",
       "      <td>A0A2R6QVF3</td>\n",
       "      <td>A0A2R6QVF3_ACTCC</td>\n",
       "      <td>unreviewed</td>\n",
       "      <td>Kinesin-like protein</td>\n",
       "      <td>CEY00_Acc13213</td>\n",
       "      <td>Actinidia chinensis var. chinensis (Chinese so...</td>\n",
       "      <td>1590841.0</td>\n",
       "      <td>cellular organisms, Eukaryota, Viridiplantae, ...</td>\n",
       "      <td>MERIHVTVRARPLSPEDAKTSPWRISGNSIFIPNHSSKFEFDQIFG...</td>\n",
       "      <td>1325.0</td>\n",
       "      <td>viridiplantae</td>\n",
       "    </tr>\n",
       "    <tr>\n",
       "      <th>4</th>\n",
       "      <td>A0A287IHV8</td>\n",
       "      <td>A0A287IHV8_HORVV</td>\n",
       "      <td>unreviewed</td>\n",
       "      <td>Kinesin motor domain-containing protein</td>\n",
       "      <td>NaN</td>\n",
       "      <td>Hordeum vulgare subsp. vulgare (Domesticated b...</td>\n",
       "      <td>112509.0</td>\n",
       "      <td>cellular organisms, Eukaryota, Viridiplantae, ...</td>\n",
       "      <td>MHGEQKSPGIIPLAVKDVFSIIQDTPGREFLLRVSYLEIYNEVIND...</td>\n",
       "      <td>690.0</td>\n",
       "      <td>viridiplantae</td>\n",
       "    </tr>\n",
       "  </tbody>\n",
       "</table>\n",
       "</div>"
      ],
      "text/plain": [
       "        Entry        Entry name      Status  \\\n",
       "0      V2XA84      V2XA84_MONRO  unreviewed   \n",
       "1  A0A0D2I9H7  A0A0D2I9H7_9EURO  unreviewed   \n",
       "2  A0A428QG75  A0A428QG75_9HYPO  unreviewed   \n",
       "3  A0A2R6QVF3  A0A2R6QVF3_ACTCC  unreviewed   \n",
       "4  A0A287IHV8  A0A287IHV8_HORVV  unreviewed   \n",
       "\n",
       "                             Protein names      Gene names  \\\n",
       "0                     Kinesin-like protein     Moror_16175   \n",
       "1  Kinesin motor domain-containing protein      Z520_10451   \n",
       "2  Kinesin motor domain-containing protein    CEP54_004803   \n",
       "3                     Kinesin-like protein  CEY00_Acc13213   \n",
       "4  Kinesin motor domain-containing protein             NaN   \n",
       "\n",
       "                                            Organism  Organism ID  \\\n",
       "0  Moniliophthora roreri (strain MCA 2997) (Cocoa...    1381753.0   \n",
       "1                 Fonsecaea multimorphosa CBS 102226    1442371.0   \n",
       "2                                  Fusarium sp. AF-8    1325734.0   \n",
       "3  Actinidia chinensis var. chinensis (Chinese so...    1590841.0   \n",
       "4  Hordeum vulgare subsp. vulgare (Domesticated b...     112509.0   \n",
       "\n",
       "                             Taxonomic lineage (all)  \\\n",
       "0  cellular organisms, Eukaryota, Opisthokonta, F...   \n",
       "1  cellular organisms, Eukaryota, Opisthokonta, F...   \n",
       "2  cellular organisms, Eukaryota, Opisthokonta, F...   \n",
       "3  cellular organisms, Eukaryota, Viridiplantae, ...   \n",
       "4  cellular organisms, Eukaryota, Viridiplantae, ...   \n",
       "\n",
       "                                            Sequence  Length             og  \n",
       "0  MASTRRIRIATRLRPRIDGEIDDGAIQVCHASDNTAASSSSASSTT...   742.0   opisthokonta  \n",
       "1  MSGSQRHANTATRTSMRPPPRPHVPQYPSITGRAPSPAESLSSSGA...  1209.0   opisthokonta  \n",
       "2  MASSPPTSPGGIQRPLSAAISRAAPRSTSRLSMTSKTGGGSRASDE...  1725.0   opisthokonta  \n",
       "3  MERIHVTVRARPLSPEDAKTSPWRISGNSIFIPNHSSKFEFDQIFG...  1325.0  viridiplantae  \n",
       "4  MHGEQKSPGIIPLAVKDVFSIIQDTPGREFLLRVSYLEIYNEVIND...   690.0  viridiplantae  "
      ]
     },
     "execution_count": 13,
     "metadata": {},
     "output_type": "execute_result"
    }
   ],
   "source": [
    "kinesin_uniprot.head()"
   ]
  },
  {
   "cell_type": "code",
   "execution_count": null,
   "metadata": {},
   "outputs": [],
   "source": []
  },
  {
   "cell_type": "code",
   "execution_count": 14,
   "metadata": {},
   "outputs": [],
   "source": [
    "tubulin_uniprot.to_csv(\"../../data/david_data/tubulin.csv\",index = False)\n",
    "kinesin_uniprot.to_csv(\"../../data/david_data/kinesin.csv\",index = False)"
   ]
  },
  {
   "cell_type": "code",
   "execution_count": null,
   "metadata": {},
   "outputs": [],
   "source": []
  }
 ],
 "metadata": {
  "kernelspec": {
   "display_name": "Python (base)",
   "language": "python",
   "name": "base"
  },
  "language_info": {
   "codemirror_mode": {
    "name": "ipython",
    "version": 3
   },
   "file_extension": ".py",
   "mimetype": "text/x-python",
   "name": "python",
   "nbconvert_exporter": "python",
   "pygments_lexer": "ipython3",
   "version": "3.8.3"
  }
 },
 "nbformat": 4,
 "nbformat_minor": 2
}
