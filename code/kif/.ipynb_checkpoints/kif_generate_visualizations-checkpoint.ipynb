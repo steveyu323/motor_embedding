{
 "cells": [
  {
   "cell_type": "code",
   "execution_count": 47,
   "metadata": {},
   "outputs": [],
   "source": [
    "import numpy as np\n",
    "from sklearn.datasets import load_digits\n",
    "from sklearn.model_selection import train_test_split\n",
    "from sklearn.preprocessing import StandardScaler\n",
    "import matplotlib.pyplot as plt\n",
    "import seaborn as sns\n",
    "import pandas as pd\n",
    "from sklearn.decomposition import PCA\n",
    "import umap\n",
    "from sklearn.manifold import TSNE\n",
    "from sklearn.decomposition import PCA\n",
    "\n",
    "%matplotlib inline\n",
    "sns.set(style='white', context='notebook', rc={'figure.figsize':(14,10)})"
   ]
  },
  {
   "cell_type": "code",
   "execution_count": 48,
   "metadata": {},
   "outputs": [],
   "source": [
    "import glob\n",
    "import time "
   ]
  },
  {
   "cell_type": "code",
   "execution_count": 32,
   "metadata": {},
   "outputs": [],
   "source": [
    "hn_dir = \"../../out/201212/embedding/esm_models\"\n",
    "tuning_dir = [\"t12\",\"t34\",\"t12_normalized\",\"t34_normalized\",\"t12_normalized_reduced\",\"t34_normalized_reduced\"]\n",
    "tsne_out_dir = \"../../out/201212/tsne/\"\n",
    "pca_out_dir = \"../../out/201212/pca/\"\n",
    "umap_out_dir = \"../../out/201212/umap/\"\n",
    "data_names = [\"kif_all\"]"
   ]
  },
  {
   "cell_type": "code",
   "execution_count": 34,
   "metadata": {},
   "outputs": [
    {
     "name": "stdout",
     "output_type": "stream",
     "text": [
      "../../out/201212/pca/t12\n",
      "../../out/201212/pca/t34\n",
      "../../out/201212/pca/t12_normalized\n",
      "../../out/201212/pca/t34_normalized\n",
      "../../out/201212/pca/t12_normalized_reduced\n",
      "../../out/201212/pca/t34_normalized_reduced\n"
     ]
    }
   ],
   "source": [
    "# make one directory for each tuning method\n",
    "import os, sys\n",
    "for tuning_dir_ in tuning_dir:\n",
    "    pca_path = pca_out_dir+tuning_dir_\n",
    "    print(pca_path)\n",
    "    os.mkdir(pca_path)\n",
    "    tsne_path = tsne_out_dir+tuning_dir_\n",
    "    os.mkdir(tsne_path)\n",
    "    umap_path = umap_out_dir+tuning_dir_\n",
    "    os.mkdir(umap_path)"
   ]
  },
  {
   "cell_type": "code",
   "execution_count": 37,
   "metadata": {},
   "outputs": [
    {
     "name": "stdout",
     "output_type": "stream",
     "text": [
      "t12\n",
      "(623, 768)\n",
      "kif_all\n",
      "--- 4.01861047744751 seconds ---\n",
      "../../out/201212/pca/t12/kif_all.npy\n",
      "../../out/201212/tsne/t12/kif_all.npy\n",
      "../../out/201212/umap/t12/kif_all.npy\n",
      "t34\n",
      "(623, 1280)\n",
      "kif_all\n",
      "--- 4.065727949142456 seconds ---\n",
      "../../out/201212/pca/t34/kif_all.npy\n",
      "../../out/201212/tsne/t34/kif_all.npy\n",
      "../../out/201212/umap/t34/kif_all.npy\n",
      "t12_normalized\n",
      "(623, 768)\n",
      "kif_all\n",
      "--- 3.9619154930114746 seconds ---\n",
      "../../out/201212/pca/t12_normalized/kif_all.npy\n",
      "../../out/201212/tsne/t12_normalized/kif_all.npy\n",
      "../../out/201212/umap/t12_normalized/kif_all.npy\n",
      "t34_normalized\n",
      "(623, 1280)\n",
      "kif_all\n",
      "--- 4.127148389816284 seconds ---\n",
      "../../out/201212/pca/t34_normalized/kif_all.npy\n",
      "../../out/201212/tsne/t34_normalized/kif_all.npy\n",
      "../../out/201212/umap/t34_normalized/kif_all.npy\n",
      "t12_normalized_reduced\n",
      "(623, 75)\n",
      "kif_all\n",
      "--- 3.9038920402526855 seconds ---\n",
      "../../out/201212/pca/t12_normalized_reduced/kif_all.npy\n",
      "../../out/201212/tsne/t12_normalized_reduced/kif_all.npy\n",
      "../../out/201212/umap/t12_normalized_reduced/kif_all.npy\n",
      "t34_normalized_reduced\n",
      "(623, 80)\n",
      "kif_all\n",
      "--- 4.026313304901123 seconds ---\n",
      "../../out/201212/pca/t34_normalized_reduced/kif_all.npy\n",
      "../../out/201212/tsne/t34_normalized_reduced/kif_all.npy\n",
      "../../out/201212/umap/t34_normalized_reduced/kif_all.npy\n"
     ]
    }
   ],
   "source": [
    "for tuning_dir_ in tuning_dir:\n",
    "    print(tuning_dir_)\n",
    "    dats = []\n",
    "    for dat in data_names:\n",
    "        d_path = '../../out/201212/embedding/esm_models/'+tuning_dir_ +'/'+dat+ '.npy'\n",
    "#         print(d_path)\n",
    "        d = np.load(d_path)\n",
    "        dats.append(d)\n",
    "    print(dats[0].shape)\n",
    "\n",
    "    # first, embed each of the dataset themselves\n",
    "    pca_res = []\n",
    "    tsne_res = []\n",
    "    umap_res = []\n",
    "    for i, dat in enumerate(dats):\n",
    "        print(data_names[i])\n",
    "        start_time = time.time()\n",
    "        pca_curr = PCA(n_components=2).fit_transform(dat)\n",
    "        pca_res.append(pca_curr)\n",
    "        tsne_curr = PCA(n_components=20).fit_transform(dat)\n",
    "        tsne_curr = TSNE(n_components=2).fit_transform(tsne_curr)\n",
    "        tsne_res.append(tsne_curr)\n",
    "        reducer = umap.UMAP()\n",
    "        umap_full = reducer.fit_transform(dat)\n",
    "        umap_res.append(umap_full)\n",
    "        print(\"--- %s seconds ---\" % (time.time() - start_time))\n",
    "  \n",
    "        \n",
    "    for i,dat_name in enumerate(data_names):\n",
    "        pca_out_path = pca_out_dir + tuning_dir_+\"/\"+dat_name+\".npy\"\n",
    "        tsne_out_path = tsne_out_dir + tuning_dir_+\"/\"+dat_name+\".npy\"\n",
    "        umap_out_path = umap_out_dir + tuning_dir_+\"/\"+dat_name+\".npy\"\n",
    "        print(pca_out_path)\n",
    "        print(tsne_out_path)\n",
    "        print(umap_out_path)\n",
    "        np.save(pca_out_path, pca_res[i])\n",
    "        np.save(tsne_out_path, tsne_res[i])\n",
    "        np.save(umap_out_path, umap_res[i])\n",
    "#         break\n",
    "#     break"
   ]
  },
  {
   "cell_type": "code",
   "execution_count": 38,
   "metadata": {},
   "outputs": [
    {
     "name": "stdout",
     "output_type": "stream",
     "text": [
      "done\n"
     ]
    }
   ],
   "source": [
    "print(\"done\")"
   ]
  },
  {
   "cell_type": "markdown",
   "metadata": {},
   "source": [
    "## Generate visualization 2D embedding for evotuned t12 embeddings"
   ]
  },
  {
   "cell_type": "code",
   "execution_count": 49,
   "metadata": {},
   "outputs": [],
   "source": [
    "hn_dir = \"../../out/201212/embedding/esm_models\"\n",
    "tuning_dir = [\"t12_evo\"]\n",
    "tsne_out_dir = \"../../out/201212/tsne/\"\n",
    "pca_out_dir = \"../../out/201212/pca/\"\n",
    "umap_out_dir = \"../../out/201212/umap/\"\n",
    "data_names = [\"kif_all_t12_dyn_kin_scaled\",\\\n",
    "              \"kif_all_t12_dyn_kin_scaled_reduced\",\\\n",
    "              \"kif_all_t12_kin_both_scaled\",\\\n",
    "              \"kif_all_t12_kin_both_scaled_reduced\",\\\n",
    "              \"kif_all_t12_kin_kif_scaled\",\\\n",
    "              \"kif_all_t12_kin_kif_scaled_reduced\"]"
   ]
  },
  {
   "cell_type": "code",
   "execution_count": 50,
   "metadata": {},
   "outputs": [
    {
     "name": "stdout",
     "output_type": "stream",
     "text": [
      "../../out/201212/pca/t12_evo\n"
     ]
    }
   ],
   "source": [
    "# make one directory for each tuning method\n",
    "import os, sys\n",
    "for tuning_dir_ in tuning_dir:\n",
    "    pca_path = pca_out_dir+tuning_dir_\n",
    "    print(pca_path)\n",
    "    os.mkdir(pca_path)\n",
    "    tsne_path = tsne_out_dir+tuning_dir_\n",
    "    os.mkdir(tsne_path)\n",
    "    umap_path = umap_out_dir+tuning_dir_\n",
    "    os.mkdir(umap_path)"
   ]
  },
  {
   "cell_type": "code",
   "execution_count": 52,
   "metadata": {},
   "outputs": [
    {
     "name": "stdout",
     "output_type": "stream",
     "text": [
      "t12_evo\n",
      "(623, 768)\n",
      "kif_all_t12_dyn_kin_scaled\n",
      "--- 3.7123987674713135 seconds ---\n",
      "kif_all_t12_dyn_kin_scaled_reduced\n",
      "--- 3.8351075649261475 seconds ---\n",
      "kif_all_t12_kin_both_scaled\n",
      "--- 3.8568196296691895 seconds ---\n",
      "kif_all_t12_kin_both_scaled_reduced\n",
      "--- 4.0791497230529785 seconds ---\n",
      "kif_all_t12_kin_kif_scaled\n",
      "--- 4.209481954574585 seconds ---\n",
      "kif_all_t12_kin_kif_scaled_reduced\n",
      "--- 4.006385326385498 seconds ---\n",
      "../../out/201212/pca/t12_evo/kif_all_t12_dyn_kin_scaled.npy\n",
      "../../out/201212/tsne/t12_evo/kif_all_t12_dyn_kin_scaled.npy\n",
      "../../out/201212/umap/t12_evo/kif_all_t12_dyn_kin_scaled.npy\n",
      "../../out/201212/pca/t12_evo/kif_all_t12_dyn_kin_scaled_reduced.npy\n",
      "../../out/201212/tsne/t12_evo/kif_all_t12_dyn_kin_scaled_reduced.npy\n",
      "../../out/201212/umap/t12_evo/kif_all_t12_dyn_kin_scaled_reduced.npy\n",
      "../../out/201212/pca/t12_evo/kif_all_t12_kin_both_scaled.npy\n",
      "../../out/201212/tsne/t12_evo/kif_all_t12_kin_both_scaled.npy\n",
      "../../out/201212/umap/t12_evo/kif_all_t12_kin_both_scaled.npy\n",
      "../../out/201212/pca/t12_evo/kif_all_t12_kin_both_scaled_reduced.npy\n",
      "../../out/201212/tsne/t12_evo/kif_all_t12_kin_both_scaled_reduced.npy\n",
      "../../out/201212/umap/t12_evo/kif_all_t12_kin_both_scaled_reduced.npy\n",
      "../../out/201212/pca/t12_evo/kif_all_t12_kin_kif_scaled.npy\n",
      "../../out/201212/tsne/t12_evo/kif_all_t12_kin_kif_scaled.npy\n",
      "../../out/201212/umap/t12_evo/kif_all_t12_kin_kif_scaled.npy\n",
      "../../out/201212/pca/t12_evo/kif_all_t12_kin_kif_scaled_reduced.npy\n",
      "../../out/201212/tsne/t12_evo/kif_all_t12_kin_kif_scaled_reduced.npy\n",
      "../../out/201212/umap/t12_evo/kif_all_t12_kin_kif_scaled_reduced.npy\n"
     ]
    }
   ],
   "source": [
    "for tuning_dir_ in tuning_dir:\n",
    "    print(tuning_dir_)\n",
    "    dats = []\n",
    "    for dat in data_names:\n",
    "        d_path = '../../out/201212/embedding/esm_models/'+tuning_dir_ +'/'+dat+ '.npy'\n",
    "#         print(d_path)\n",
    "        d = np.load(d_path)\n",
    "        dats.append(d)\n",
    "    print(dats[0].shape)\n",
    "\n",
    "    # first, embed each of the dataset themselves\n",
    "    pca_res = []\n",
    "    tsne_res = []\n",
    "    umap_res = []\n",
    "    for i, dat in enumerate(dats):\n",
    "        print(data_names[i])\n",
    "        start_time = time.time()\n",
    "        pca_curr = PCA(n_components=2).fit_transform(dat)\n",
    "        pca_res.append(pca_curr)\n",
    "        tsne_curr = PCA(n_components=20).fit_transform(dat)\n",
    "        tsne_curr = TSNE(n_components=2).fit_transform(tsne_curr)\n",
    "        tsne_res.append(tsne_curr)\n",
    "        reducer = umap.UMAP()\n",
    "        umap_full = reducer.fit_transform(dat)\n",
    "        umap_res.append(umap_full)\n",
    "        print(\"--- %s seconds ---\" % (time.time() - start_time))\n",
    "  \n",
    "        \n",
    "    for i,dat_name in enumerate(data_names):\n",
    "        pca_out_path = pca_out_dir + tuning_dir_+\"/\"+dat_name+\".npy\"\n",
    "        tsne_out_path = tsne_out_dir + tuning_dir_+\"/\"+dat_name+\".npy\"\n",
    "        umap_out_path = umap_out_dir + tuning_dir_+\"/\"+dat_name+\".npy\"\n",
    "        print(pca_out_path)\n",
    "        print(tsne_out_path)\n",
    "        print(umap_out_path)\n",
    "        np.save(pca_out_path, pca_res[i])\n",
    "        np.save(tsne_out_path, tsne_res[i])\n",
    "        np.save(umap_out_path, umap_res[i])\n",
    "#         break\n",
    "#     break"
   ]
  },
  {
   "cell_type": "code",
   "execution_count": null,
   "metadata": {},
   "outputs": [],
   "source": []
  },
  {
   "cell_type": "markdown",
   "metadata": {},
   "source": [
    "## subsampling for each of the kif family to build a balanced dataset then UMAP"
   ]
  },
  {
   "cell_type": "code",
   "execution_count": 12,
   "metadata": {},
   "outputs": [],
   "source": [
    "kif_acc_all = pd.read_csv(\"../../data/kif/kif_acc_all.csv\")\n",
    "kif_uniprot_all = pd.read_csv(\"../../data/kif/kif_uniprot_all.csv\")"
   ]
  },
  {
   "cell_type": "code",
   "execution_count": 20,
   "metadata": {},
   "outputs": [],
   "source": [
    "kif_acc_all_balanced = kif_acc_all.loc[kif_acc_all[\"db_name\"]==\"kif_jp\",:].groupby([\"db_name\",\"kinesin_family\"]).head(10)"
   ]
  },
  {
   "cell_type": "code",
   "execution_count": 21,
   "metadata": {},
   "outputs": [
    {
     "data": {
      "text/html": [
       "<div>\n",
       "<style scoped>\n",
       "    .dataframe tbody tr th:only-of-type {\n",
       "        vertical-align: middle;\n",
       "    }\n",
       "\n",
       "    .dataframe tbody tr th {\n",
       "        vertical-align: top;\n",
       "    }\n",
       "\n",
       "    .dataframe thead th {\n",
       "        text-align: right;\n",
       "    }\n",
       "</style>\n",
       "<table border=\"1\" class=\"dataframe\">\n",
       "  <thead>\n",
       "    <tr style=\"text-align: right;\">\n",
       "      <th></th>\n",
       "      <th></th>\n",
       "      <th>Entry</th>\n",
       "      <th>db_acc</th>\n",
       "    </tr>\n",
       "    <tr>\n",
       "      <th>db_name</th>\n",
       "      <th>kinesin_family</th>\n",
       "      <th></th>\n",
       "      <th></th>\n",
       "    </tr>\n",
       "  </thead>\n",
       "  <tbody>\n",
       "    <tr>\n",
       "      <th rowspan=\"15\" valign=\"top\">kif_jp</th>\n",
       "      <th>1</th>\n",
       "      <td>10</td>\n",
       "      <td>10</td>\n",
       "    </tr>\n",
       "    <tr>\n",
       "      <th>2</th>\n",
       "      <td>10</td>\n",
       "      <td>10</td>\n",
       "    </tr>\n",
       "    <tr>\n",
       "      <th>3</th>\n",
       "      <td>10</td>\n",
       "      <td>10</td>\n",
       "    </tr>\n",
       "    <tr>\n",
       "      <th>4</th>\n",
       "      <td>10</td>\n",
       "      <td>10</td>\n",
       "    </tr>\n",
       "    <tr>\n",
       "      <th>5</th>\n",
       "      <td>10</td>\n",
       "      <td>10</td>\n",
       "    </tr>\n",
       "    <tr>\n",
       "      <th>6</th>\n",
       "      <td>10</td>\n",
       "      <td>10</td>\n",
       "    </tr>\n",
       "    <tr>\n",
       "      <th>7</th>\n",
       "      <td>10</td>\n",
       "      <td>10</td>\n",
       "    </tr>\n",
       "    <tr>\n",
       "      <th>8</th>\n",
       "      <td>10</td>\n",
       "      <td>10</td>\n",
       "    </tr>\n",
       "    <tr>\n",
       "      <th>9</th>\n",
       "      <td>8</td>\n",
       "      <td>8</td>\n",
       "    </tr>\n",
       "    <tr>\n",
       "      <th>10</th>\n",
       "      <td>10</td>\n",
       "      <td>10</td>\n",
       "    </tr>\n",
       "    <tr>\n",
       "      <th>11</th>\n",
       "      <td>10</td>\n",
       "      <td>10</td>\n",
       "    </tr>\n",
       "    <tr>\n",
       "      <th>12</th>\n",
       "      <td>10</td>\n",
       "      <td>10</td>\n",
       "    </tr>\n",
       "    <tr>\n",
       "      <th>13</th>\n",
       "      <td>10</td>\n",
       "      <td>10</td>\n",
       "    </tr>\n",
       "    <tr>\n",
       "      <th>14</th>\n",
       "      <td>10</td>\n",
       "      <td>10</td>\n",
       "    </tr>\n",
       "    <tr>\n",
       "      <th>15</th>\n",
       "      <td>3</td>\n",
       "      <td>3</td>\n",
       "    </tr>\n",
       "  </tbody>\n",
       "</table>\n",
       "</div>"
      ],
      "text/plain": [
       "                        Entry  db_acc\n",
       "db_name kinesin_family               \n",
       "kif_jp  1                  10      10\n",
       "        2                  10      10\n",
       "        3                  10      10\n",
       "        4                  10      10\n",
       "        5                  10      10\n",
       "        6                  10      10\n",
       "        7                  10      10\n",
       "        8                  10      10\n",
       "        9                   8       8\n",
       "        10                 10      10\n",
       "        11                 10      10\n",
       "        12                 10      10\n",
       "        13                 10      10\n",
       "        14                 10      10\n",
       "        15                  3       3"
      ]
     },
     "execution_count": 21,
     "metadata": {},
     "output_type": "execute_result"
    }
   ],
   "source": [
    "kif_acc_all_balanced.loc[kif_acc_all[\"db_name\"]==\"kif_jp\",:].groupby([\"db_name\",\"kinesin_family\"]).count()"
   ]
  },
  {
   "cell_type": "code",
   "execution_count": 23,
   "metadata": {},
   "outputs": [],
   "source": [
    "kif_acc_all_balanced.to_csv(\"../../data/kif/kif_acc_all_balanced.csv\")"
   ]
  },
  {
   "cell_type": "code",
   "execution_count": null,
   "metadata": {},
   "outputs": [],
   "source": []
  },
  {
   "cell_type": "code",
   "execution_count": 41,
   "metadata": {},
   "outputs": [],
   "source": [
    "hn_dir = \"../../out/201212/embedding/esm_balanced\"\n",
    "tuning_dir = [\"t12\",\"t34\",\"t12_normalized\",\"t34_normalized\",\"t12_normalized_reduced\",\"t34_normalized_reduced\"]\n",
    "tsne_out_dir = \"../../out/201212/balanced/tsne/\"\n",
    "pca_out_dir = \"../../out/201212/balanced/pca/\"\n",
    "umap_out_dir = \"../../out/201212/balanced/umap/\"\n",
    "data_names = [\"kif_all\"]"
   ]
  },
  {
   "cell_type": "code",
   "execution_count": 42,
   "metadata": {},
   "outputs": [
    {
     "name": "stdout",
     "output_type": "stream",
     "text": [
      "../../out/201212/balanced/pca/t12\n",
      "../../out/201212/balanced/pca/t34\n",
      "../../out/201212/balanced/pca/t12_normalized\n",
      "../../out/201212/balanced/pca/t34_normalized\n",
      "../../out/201212/balanced/pca/t12_normalized_reduced\n",
      "../../out/201212/balanced/pca/t34_normalized_reduced\n"
     ]
    }
   ],
   "source": [
    "# make one directory for each tuning method\n",
    "import os, sys\n",
    "for tuning_dir_ in tuning_dir:\n",
    "    pca_path = pca_out_dir+tuning_dir_\n",
    "    print(pca_path)\n",
    "    os.mkdir(pca_path)\n",
    "    tsne_path = tsne_out_dir+tuning_dir_\n",
    "    os.mkdir(tsne_path)\n",
    "    umap_path = umap_out_dir+tuning_dir_\n",
    "    os.mkdir(umap_path)"
   ]
  },
  {
   "cell_type": "code",
   "execution_count": 45,
   "metadata": {},
   "outputs": [
    {
     "name": "stdout",
     "output_type": "stream",
     "text": [
      "t12\n",
      "(141, 768)\n",
      "kif_all\n",
      "--- 2.2646279335021973 seconds ---\n",
      "../../out/201212/balanced/pca/t12/kif_all.npy\n",
      "../../out/201212/balanced/tsne/t12/kif_all.npy\n",
      "../../out/201212/balanced/umap/t12/kif_all.npy\n",
      "t34\n",
      "(141, 1280)\n",
      "kif_all\n",
      "--- 2.3942694664001465 seconds ---\n",
      "../../out/201212/balanced/pca/t34/kif_all.npy\n",
      "../../out/201212/balanced/tsne/t34/kif_all.npy\n",
      "../../out/201212/balanced/umap/t34/kif_all.npy\n",
      "t12_normalized\n",
      "(141, 768)\n",
      "kif_all\n",
      "--- 2.3643734455108643 seconds ---\n",
      "../../out/201212/balanced/pca/t12_normalized/kif_all.npy\n",
      "../../out/201212/balanced/tsne/t12_normalized/kif_all.npy\n",
      "../../out/201212/balanced/umap/t12_normalized/kif_all.npy\n",
      "t34_normalized\n",
      "(141, 1280)\n",
      "kif_all\n",
      "--- 2.2972822189331055 seconds ---\n",
      "../../out/201212/balanced/pca/t34_normalized/kif_all.npy\n",
      "../../out/201212/balanced/tsne/t34_normalized/kif_all.npy\n",
      "../../out/201212/balanced/umap/t34_normalized/kif_all.npy\n",
      "t12_normalized_reduced\n",
      "(141, 50)\n",
      "kif_all\n",
      "--- 2.432793378829956 seconds ---\n",
      "../../out/201212/balanced/pca/t12_normalized_reduced/kif_all.npy\n",
      "../../out/201212/balanced/tsne/t12_normalized_reduced/kif_all.npy\n",
      "../../out/201212/balanced/umap/t12_normalized_reduced/kif_all.npy\n",
      "t34_normalized_reduced\n",
      "(141, 50)\n",
      "kif_all\n",
      "--- 2.5049569606781006 seconds ---\n",
      "../../out/201212/balanced/pca/t34_normalized_reduced/kif_all.npy\n",
      "../../out/201212/balanced/tsne/t34_normalized_reduced/kif_all.npy\n",
      "../../out/201212/balanced/umap/t34_normalized_reduced/kif_all.npy\n"
     ]
    }
   ],
   "source": [
    "for tuning_dir_ in tuning_dir:\n",
    "    print(tuning_dir_)\n",
    "    dats = []\n",
    "    for dat in data_names:\n",
    "        d_path = '../../out/201212/embedding/esm_balanced/'+tuning_dir_ +'/'+dat+ '.npy'\n",
    "#         print(d_path)\n",
    "        d = np.load(d_path)\n",
    "        dats.append(d)\n",
    "    print(dats[0].shape)\n",
    "\n",
    "    # first, embed each of the dataset themselves\n",
    "    pca_res = []\n",
    "    tsne_res = []\n",
    "    umap_res = []\n",
    "    for i, dat in enumerate(dats):\n",
    "        print(data_names[i])\n",
    "        start_time = time.time()\n",
    "        pca_curr = PCA(n_components=2).fit_transform(dat)\n",
    "        pca_res.append(pca_curr)\n",
    "        tsne_curr = PCA(n_components=20).fit_transform(dat)\n",
    "        tsne_curr = TSNE(n_components=2).fit_transform(tsne_curr)\n",
    "        tsne_res.append(tsne_curr)\n",
    "        reducer = umap.UMAP()\n",
    "        umap_full = reducer.fit_transform(dat)\n",
    "        umap_res.append(umap_full)\n",
    "        print(\"--- %s seconds ---\" % (time.time() - start_time))\n",
    "  \n",
    "        \n",
    "    for i,dat_name in enumerate(data_names):\n",
    "        pca_out_path = pca_out_dir + tuning_dir_+\"/\"+dat_name+\".npy\"\n",
    "        tsne_out_path = tsne_out_dir + tuning_dir_+\"/\"+dat_name+\".npy\"\n",
    "        umap_out_path = umap_out_dir + tuning_dir_+\"/\"+dat_name+\".npy\"\n",
    "        print(pca_out_path)\n",
    "        print(tsne_out_path)\n",
    "        print(umap_out_path)\n",
    "        np.save(pca_out_path, pca_res[i])\n",
    "        np.save(tsne_out_path, tsne_res[i])\n",
    "        np.save(umap_out_path, umap_res[i])\n",
    "#         break\n",
    "#     break"
   ]
  },
  {
   "cell_type": "code",
   "execution_count": 46,
   "metadata": {},
   "outputs": [
    {
     "name": "stdout",
     "output_type": "stream",
     "text": [
      "done\n"
     ]
    }
   ],
   "source": [
    "print(\"done\")"
   ]
  },
  {
   "cell_type": "code",
   "execution_count": 54,
   "metadata": {},
   "outputs": [],
   "source": [
    "hn_dir = \"../../out/201212/embedding/esm_models\"\n",
    "tuning_dir = [\"t12_evo\"]\n",
    "tsne_out_dir = \"../../out/201212/balanced/tsne/\"\n",
    "pca_out_dir = \"../../out/201212/balanced/pca/\"\n",
    "umap_out_dir = \"../../out/201212/balanced/umap/\"\n",
    "data_names = [\"kif_all_t12_dyn_kin_scaled\",\\\n",
    "              \"kif_all_t12_dyn_kin_scaled_reduced\",\\\n",
    "              \"kif_all_t12_kin_both_scaled\",\\\n",
    "              \"kif_all_t12_kin_both_scaled_reduced\",\\\n",
    "              \"kif_all_t12_kin_kif_scaled\",\\\n",
    "              \"kif_all_t12_kin_kif_scaled_reduced\"]"
   ]
  },
  {
   "cell_type": "code",
   "execution_count": 55,
   "metadata": {},
   "outputs": [
    {
     "name": "stdout",
     "output_type": "stream",
     "text": [
      "../../out/201212/balanced/pca/t12_evo\n"
     ]
    }
   ],
   "source": [
    "for tuning_dir_ in tuning_dir:\n",
    "    pca_path = pca_out_dir+tuning_dir_\n",
    "    print(pca_path)\n",
    "    os.mkdir(pca_path)\n",
    "    tsne_path = tsne_out_dir+tuning_dir_\n",
    "    os.mkdir(tsne_path)\n",
    "    umap_path = umap_out_dir+tuning_dir_\n",
    "    os.mkdir(umap_path)"
   ]
  },
  {
   "cell_type": "code",
   "execution_count": 56,
   "metadata": {},
   "outputs": [
    {
     "name": "stdout",
     "output_type": "stream",
     "text": [
      "t12_evo\n",
      "(141, 768)\n",
      "kif_all_t12_dyn_kin_scaled\n",
      "--- 2.466611623764038 seconds ---\n",
      "kif_all_t12_dyn_kin_scaled_reduced\n",
      "--- 2.776846408843994 seconds ---\n",
      "kif_all_t12_kin_both_scaled\n",
      "--- 2.4373815059661865 seconds ---\n",
      "kif_all_t12_kin_both_scaled_reduced\n",
      "--- 2.5017733573913574 seconds ---\n",
      "kif_all_t12_kin_kif_scaled\n",
      "--- 2.773343801498413 seconds ---\n",
      "kif_all_t12_kin_kif_scaled_reduced\n",
      "--- 2.815920829772949 seconds ---\n",
      "../../out/201212/balanced/pca/t12_evo/kif_all_t12_dyn_kin_scaled.npy\n",
      "../../out/201212/balanced/tsne/t12_evo/kif_all_t12_dyn_kin_scaled.npy\n",
      "../../out/201212/balanced/umap/t12_evo/kif_all_t12_dyn_kin_scaled.npy\n",
      "../../out/201212/balanced/pca/t12_evo/kif_all_t12_dyn_kin_scaled_reduced.npy\n",
      "../../out/201212/balanced/tsne/t12_evo/kif_all_t12_dyn_kin_scaled_reduced.npy\n",
      "../../out/201212/balanced/umap/t12_evo/kif_all_t12_dyn_kin_scaled_reduced.npy\n",
      "../../out/201212/balanced/pca/t12_evo/kif_all_t12_kin_both_scaled.npy\n",
      "../../out/201212/balanced/tsne/t12_evo/kif_all_t12_kin_both_scaled.npy\n",
      "../../out/201212/balanced/umap/t12_evo/kif_all_t12_kin_both_scaled.npy\n",
      "../../out/201212/balanced/pca/t12_evo/kif_all_t12_kin_both_scaled_reduced.npy\n",
      "../../out/201212/balanced/tsne/t12_evo/kif_all_t12_kin_both_scaled_reduced.npy\n",
      "../../out/201212/balanced/umap/t12_evo/kif_all_t12_kin_both_scaled_reduced.npy\n",
      "../../out/201212/balanced/pca/t12_evo/kif_all_t12_kin_kif_scaled.npy\n",
      "../../out/201212/balanced/tsne/t12_evo/kif_all_t12_kin_kif_scaled.npy\n",
      "../../out/201212/balanced/umap/t12_evo/kif_all_t12_kin_kif_scaled.npy\n",
      "../../out/201212/balanced/pca/t12_evo/kif_all_t12_kin_kif_scaled_reduced.npy\n",
      "../../out/201212/balanced/tsne/t12_evo/kif_all_t12_kin_kif_scaled_reduced.npy\n",
      "../../out/201212/balanced/umap/t12_evo/kif_all_t12_kin_kif_scaled_reduced.npy\n"
     ]
    }
   ],
   "source": [
    "for tuning_dir_ in tuning_dir:\n",
    "    print(tuning_dir_)\n",
    "    dats = []\n",
    "    for dat in data_names:\n",
    "        d_path = '../../out/201212/embedding/esm_balanced/'+tuning_dir_ +'/'+dat+ '.npy'\n",
    "#         print(d_path)\n",
    "        d = np.load(d_path)\n",
    "        dats.append(d)\n",
    "    print(dats[0].shape)\n",
    "\n",
    "    # first, embed each of the dataset themselves\n",
    "    pca_res = []\n",
    "    tsne_res = []\n",
    "    umap_res = []\n",
    "    for i, dat in enumerate(dats):\n",
    "        print(data_names[i])\n",
    "        start_time = time.time()\n",
    "        pca_curr = PCA(n_components=2).fit_transform(dat)\n",
    "        pca_res.append(pca_curr)\n",
    "        tsne_curr = PCA(n_components=20).fit_transform(dat)\n",
    "        tsne_curr = TSNE(n_components=2).fit_transform(tsne_curr)\n",
    "        tsne_res.append(tsne_curr)\n",
    "        reducer = umap.UMAP()\n",
    "        umap_full = reducer.fit_transform(dat)\n",
    "        umap_res.append(umap_full)\n",
    "        print(\"--- %s seconds ---\" % (time.time() - start_time))\n",
    "  \n",
    "        \n",
    "    for i,dat_name in enumerate(data_names):\n",
    "        pca_out_path = pca_out_dir + tuning_dir_+\"/\"+dat_name+\".npy\"\n",
    "        tsne_out_path = tsne_out_dir + tuning_dir_+\"/\"+dat_name+\".npy\"\n",
    "        umap_out_path = umap_out_dir + tuning_dir_+\"/\"+dat_name+\".npy\"\n",
    "        print(pca_out_path)\n",
    "        print(tsne_out_path)\n",
    "        print(umap_out_path)\n",
    "        np.save(pca_out_path, pca_res[i])\n",
    "        np.save(tsne_out_path, tsne_res[i])\n",
    "        np.save(umap_out_path, umap_res[i])\n",
    "#         break\n",
    "#     break"
   ]
  },
  {
   "cell_type": "code",
   "execution_count": null,
   "metadata": {},
   "outputs": [],
   "source": []
  }
 ],
 "metadata": {
  "kernelspec": {
   "display_name": "Python (base)",
   "language": "python",
   "name": "base"
  },
  "language_info": {
   "codemirror_mode": {
    "name": "ipython",
    "version": 3
   },
   "file_extension": ".py",
   "mimetype": "text/x-python",
   "name": "python",
   "nbconvert_exporter": "python",
   "pygments_lexer": "ipython3",
   "version": "3.8.3"
  }
 },
 "nbformat": 4,
 "nbformat_minor": 2
}
