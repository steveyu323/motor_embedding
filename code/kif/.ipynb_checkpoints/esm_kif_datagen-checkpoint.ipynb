{
 "cells": [
  {
   "cell_type": "code",
   "execution_count": 27,
   "metadata": {},
   "outputs": [],
   "source": [
    "# import esm\n",
    "import torch\n",
    "from argparse import Namespace\n",
    "from esm.constants import proteinseq_toks\n",
    "import math\n",
    "import torch.nn as nn\n",
    "import torch.nn.functional as F\n",
    "from esm.modules import TransformerLayer, PositionalEmbedding  # noqa\n",
    "from esm.model import ProteinBertModel\n",
    "\n",
    "# model, alphabet = torch.hub.load(\"facebookresearch/esm\", \"esm1_t34_670M_UR50S\")\n",
    "import esm\n",
    "import io\n",
    "import pandas as pd"
   ]
  },
  {
   "cell_type": "code",
   "execution_count": 28,
   "metadata": {},
   "outputs": [
    {
     "data": {
      "text/plain": [
       "type\n",
       "dynein       665\n",
       "kinesin     1055\n",
       "myosin_v    1535\n",
       "Name: Entry name, dtype: int64"
      ]
     },
     "execution_count": 28,
     "metadata": {},
     "output_type": "execute_result"
    }
   ],
   "source": [
    "motor_toolkit = pd.read_csv(\"../../data/esm/motor_toolkit.csv\")\n",
    "# motor_toolkit = motor_toolkit.sample(frac = 1)\n",
    "motor_toolkit.groupby(\"type\").count().iloc[:,1]"
   ]
  },
  {
   "cell_type": "code",
   "execution_count": 29,
   "metadata": {},
   "outputs": [
    {
     "data": {
      "text/plain": [
       "(1055, 10)"
      ]
     },
     "execution_count": 29,
     "metadata": {},
     "output_type": "execute_result"
    }
   ],
   "source": [
    "kinesin_labelled = pd.read_csv(\"../../data/esm/kinesin_labelled.csv\")\n",
    "# kinesin_labelled = kinesin_labelled.sample(frac = 1)\n",
    "kinesin_labelled.shape"
   ]
  },
  {
   "cell_type": "code",
   "execution_count": 30,
   "metadata": {},
   "outputs": [],
   "source": [
    "kif_uniprot = pd.read_csv(\"../../data/kif/kif_uniprot.csv\")"
   ]
  },
  {
   "cell_type": "code",
   "execution_count": 31,
   "metadata": {},
   "outputs": [],
   "source": [
    "kif_uniprot.columns = ['Entry', 'Entry name', 'Status', 'Protein names', 'Gene names',\n",
    "       'Organism', 'Organism ID', 'Taxonomic lineage (all)', 'seq',\n",
    "       'Length'] "
   ]
  },
  {
   "cell_type": "code",
   "execution_count": 32,
   "metadata": {},
   "outputs": [
    {
     "data": {
      "text/html": [
       "<div>\n",
       "<style scoped>\n",
       "    .dataframe tbody tr th:only-of-type {\n",
       "        vertical-align: middle;\n",
       "    }\n",
       "\n",
       "    .dataframe tbody tr th {\n",
       "        vertical-align: top;\n",
       "    }\n",
       "\n",
       "    .dataframe thead th {\n",
       "        text-align: right;\n",
       "    }\n",
       "</style>\n",
       "<table border=\"1\" class=\"dataframe\">\n",
       "  <thead>\n",
       "    <tr style=\"text-align: right;\">\n",
       "      <th></th>\n",
       "      <th>Entry</th>\n",
       "      <th>seq</th>\n",
       "    </tr>\n",
       "  </thead>\n",
       "  <tbody>\n",
       "    <tr>\n",
       "      <th>0</th>\n",
       "      <td>P52732</td>\n",
       "      <td>MASQPNSSAKKKEEKGKNIQVVVRCRPFNLAERKASAHSIVECDPV...</td>\n",
       "    </tr>\n",
       "  </tbody>\n",
       "</table>\n",
       "</div>"
      ],
      "text/plain": [
       "    Entry                                                seq\n",
       "0  P52732  MASQPNSSAKKKEEKGKNIQVVVRCRPFNLAERKASAHSIVECDPV..."
      ]
     },
     "execution_count": 32,
     "metadata": {},
     "output_type": "execute_result"
    }
   ],
   "source": [
    "kinesin_labelled.loc[:,[\"Entry\",\"seq\"]].head(1)"
   ]
  },
  {
   "cell_type": "code",
   "execution_count": 33,
   "metadata": {},
   "outputs": [
    {
     "data": {
      "text/html": [
       "<div>\n",
       "<style scoped>\n",
       "    .dataframe tbody tr th:only-of-type {\n",
       "        vertical-align: middle;\n",
       "    }\n",
       "\n",
       "    .dataframe tbody tr th {\n",
       "        vertical-align: top;\n",
       "    }\n",
       "\n",
       "    .dataframe thead th {\n",
       "        text-align: right;\n",
       "    }\n",
       "</style>\n",
       "<table border=\"1\" class=\"dataframe\">\n",
       "  <thead>\n",
       "    <tr style=\"text-align: right;\">\n",
       "      <th></th>\n",
       "      <th>Entry</th>\n",
       "      <th>seq</th>\n",
       "    </tr>\n",
       "  </thead>\n",
       "  <tbody>\n",
       "    <tr>\n",
       "      <th>0</th>\n",
       "      <td>Q7PG43</td>\n",
       "      <td>MSGVREIPAEDSIKVVCRFRPLNDSEELAGSKFVVKFPSGPEENCL...</td>\n",
       "    </tr>\n",
       "  </tbody>\n",
       "</table>\n",
       "</div>"
      ],
      "text/plain": [
       "    Entry                                                seq\n",
       "0  Q7PG43  MSGVREIPAEDSIKVVCRFRPLNDSEELAGSKFVVKFPSGPEENCL..."
      ]
     },
     "execution_count": 33,
     "metadata": {},
     "output_type": "execute_result"
    }
   ],
   "source": [
    "kif_uniprot.loc[:,[\"Entry\",\"seq\"]].head(1)"
   ]
  },
  {
   "cell_type": "code",
   "execution_count": 34,
   "metadata": {},
   "outputs": [],
   "source": [
    "#prepare 3 set of data with dynein+kin/kin_all/kin_kif only\n",
    "kin_both = pd.concat([kinesin_labelled.loc[:,[\"Entry\",\"seq\"]],kif_uniprot.loc[:,[\"Entry\",\"seq\"]]], ignore_index=True)"
   ]
  },
  {
   "cell_type": "code",
   "execution_count": 35,
   "metadata": {},
   "outputs": [
    {
     "data": {
      "text/html": [
       "<div>\n",
       "<style scoped>\n",
       "    .dataframe tbody tr th:only-of-type {\n",
       "        vertical-align: middle;\n",
       "    }\n",
       "\n",
       "    .dataframe tbody tr th {\n",
       "        vertical-align: top;\n",
       "    }\n",
       "\n",
       "    .dataframe thead th {\n",
       "        text-align: right;\n",
       "    }\n",
       "</style>\n",
       "<table border=\"1\" class=\"dataframe\">\n",
       "  <thead>\n",
       "    <tr style=\"text-align: right;\">\n",
       "      <th></th>\n",
       "      <th>Entry</th>\n",
       "      <th>seq</th>\n",
       "    </tr>\n",
       "  </thead>\n",
       "  <tbody>\n",
       "    <tr>\n",
       "      <th>0</th>\n",
       "      <td>P52732</td>\n",
       "      <td>MASQPNSSAKKKEEKGKNIQVVVRCRPFNLAERKASAHSIVECDPV...</td>\n",
       "    </tr>\n",
       "    <tr>\n",
       "      <th>1</th>\n",
       "      <td>Q9LX99</td>\n",
       "      <td>MADQRSKTNRWNWEVSGFEPRKSSSNASFAESTGHRTTGPLLRRNS...</td>\n",
       "    </tr>\n",
       "    <tr>\n",
       "      <th>2</th>\n",
       "      <td>Q9FKP4</td>\n",
       "      <td>MAEQKSTNMWNWEVTGFESKKSPSSEEGVHRTPSSMLRRYSIPKNS...</td>\n",
       "    </tr>\n",
       "    <tr>\n",
       "      <th>3</th>\n",
       "      <td>Q9FZ06</td>\n",
       "      <td>MSTTSGTGGVSYRNGTQRSSLRTQSSASTSSGGQKASVKSKSVLRK...</td>\n",
       "    </tr>\n",
       "    <tr>\n",
       "      <th>4</th>\n",
       "      <td>P33176</td>\n",
       "      <td>MADLAECNIKVMCRFRPLNESEVNRGDKYIAKFQGEDTVVIASKPY...</td>\n",
       "    </tr>\n",
       "  </tbody>\n",
       "</table>\n",
       "</div>"
      ],
      "text/plain": [
       "    Entry                                                seq\n",
       "0  P52732  MASQPNSSAKKKEEKGKNIQVVVRCRPFNLAERKASAHSIVECDPV...\n",
       "1  Q9LX99  MADQRSKTNRWNWEVSGFEPRKSSSNASFAESTGHRTTGPLLRRNS...\n",
       "2  Q9FKP4  MAEQKSTNMWNWEVTGFESKKSPSSEEGVHRTPSSMLRRYSIPKNS...\n",
       "3  Q9FZ06  MSTTSGTGGVSYRNGTQRSSLRTQSSASTSSGGQKASVKSKSVLRK...\n",
       "4  P33176  MADLAECNIKVMCRFRPLNESEVNRGDKYIAKFQGEDTVVIASKPY..."
      ]
     },
     "execution_count": 35,
     "metadata": {},
     "output_type": "execute_result"
    }
   ],
   "source": [
    "kin_both.head()"
   ]
  },
  {
   "cell_type": "code",
   "execution_count": 36,
   "metadata": {},
   "outputs": [
    {
     "data": {
      "text/plain": [
       "(1616, 2)"
      ]
     },
     "execution_count": 36,
     "metadata": {},
     "output_type": "execute_result"
    }
   ],
   "source": [
    "kin_both.shape"
   ]
  },
  {
   "cell_type": "code",
   "execution_count": null,
   "metadata": {},
   "outputs": [],
   "source": []
  },
  {
   "cell_type": "code",
   "execution_count": 37,
   "metadata": {},
   "outputs": [],
   "source": [
    "dyn = motor_toolkit.loc[motor_toolkit[\"type\"]==\"dynein\",:]"
   ]
  },
  {
   "cell_type": "code",
   "execution_count": 38,
   "metadata": {},
   "outputs": [
    {
     "data": {
      "text/plain": [
       "(665, 9)"
      ]
     },
     "execution_count": 38,
     "metadata": {},
     "output_type": "execute_result"
    }
   ],
   "source": [
    "dyn.shape"
   ]
  },
  {
   "cell_type": "code",
   "execution_count": 39,
   "metadata": {},
   "outputs": [],
   "source": [
    "dyun_kin = pd.concat([dyn.loc[:,[\"Entry\",\"seq\"]], kin_both],ignore_index=True)\n"
   ]
  },
  {
   "cell_type": "code",
   "execution_count": 40,
   "metadata": {},
   "outputs": [
    {
     "data": {
      "text/plain": [
       "(2281, 2)"
      ]
     },
     "execution_count": 40,
     "metadata": {},
     "output_type": "execute_result"
    }
   ],
   "source": [
    "dyun_kin.shape"
   ]
  },
  {
   "cell_type": "code",
   "execution_count": 41,
   "metadata": {},
   "outputs": [
    {
     "data": {
      "text/html": [
       "<div>\n",
       "<style scoped>\n",
       "    .dataframe tbody tr th:only-of-type {\n",
       "        vertical-align: middle;\n",
       "    }\n",
       "\n",
       "    .dataframe tbody tr th {\n",
       "        vertical-align: top;\n",
       "    }\n",
       "\n",
       "    .dataframe thead th {\n",
       "        text-align: right;\n",
       "    }\n",
       "</style>\n",
       "<table border=\"1\" class=\"dataframe\">\n",
       "  <thead>\n",
       "    <tr style=\"text-align: right;\">\n",
       "      <th></th>\n",
       "      <th>Entry</th>\n",
       "      <th>seq</th>\n",
       "    </tr>\n",
       "  </thead>\n",
       "  <tbody>\n",
       "    <tr>\n",
       "      <th>0</th>\n",
       "      <td>Q45VK7</td>\n",
       "      <td>MAGSLGDVRKLFLFTTTQNYFGLRPELWDQPPLSNCPEVNNFLDDG...</td>\n",
       "    </tr>\n",
       "    <tr>\n",
       "      <th>1</th>\n",
       "      <td>Q9JJ79</td>\n",
       "      <td>MAGSLSDVRKLFLFTTTQNYFGLRPELWDQTPLSNCPEVNNFLDDG...</td>\n",
       "    </tr>\n",
       "    <tr>\n",
       "      <th>2</th>\n",
       "      <td>Q8NCM8</td>\n",
       "      <td>MANGTADVRKLFIFTTTQNYFGLMSELWDQPLLCNCLEINNFLDDG...</td>\n",
       "    </tr>\n",
       "    <tr>\n",
       "      <th>3</th>\n",
       "      <td>P38650</td>\n",
       "      <td>MSETGGGEDGSAGLEVSAVQNVADVSVLQKHLRKLVPLLLEDGGDA...</td>\n",
       "    </tr>\n",
       "    <tr>\n",
       "      <th>4</th>\n",
       "      <td>Q63100</td>\n",
       "      <td>MSDKSDLKAELERKKQRLAQIREEKKRKEEERKKKEADMQQKKEPV...</td>\n",
       "    </tr>\n",
       "  </tbody>\n",
       "</table>\n",
       "</div>"
      ],
      "text/plain": [
       "    Entry                                                seq\n",
       "0  Q45VK7  MAGSLGDVRKLFLFTTTQNYFGLRPELWDQPPLSNCPEVNNFLDDG...\n",
       "1  Q9JJ79  MAGSLSDVRKLFLFTTTQNYFGLRPELWDQTPLSNCPEVNNFLDDG...\n",
       "2  Q8NCM8  MANGTADVRKLFIFTTTQNYFGLMSELWDQPLLCNCLEINNFLDDG...\n",
       "3  P38650  MSETGGGEDGSAGLEVSAVQNVADVSVLQKHLRKLVPLLLEDGGDA...\n",
       "4  Q63100  MSDKSDLKAELERKKQRLAQIREEKKRKEEERKKKEADMQQKKEPV..."
      ]
     },
     "execution_count": 41,
     "metadata": {},
     "output_type": "execute_result"
    }
   ],
   "source": [
    "dyun_kin.head()"
   ]
  },
  {
   "cell_type": "code",
   "execution_count": 42,
   "metadata": {},
   "outputs": [
    {
     "data": {
      "text/plain": [
       "(561, 2)"
      ]
     },
     "execution_count": 42,
     "metadata": {},
     "output_type": "execute_result"
    }
   ],
   "source": [
    "kin_kif = kif_uniprot.loc[:,[\"Entry\",\"seq\"]]\n",
    "kin_kif.shape"
   ]
  },
  {
   "cell_type": "code",
   "execution_count": 43,
   "metadata": {},
   "outputs": [
    {
     "data": {
      "text/html": [
       "<div>\n",
       "<style scoped>\n",
       "    .dataframe tbody tr th:only-of-type {\n",
       "        vertical-align: middle;\n",
       "    }\n",
       "\n",
       "    .dataframe tbody tr th {\n",
       "        vertical-align: top;\n",
       "    }\n",
       "\n",
       "    .dataframe thead th {\n",
       "        text-align: right;\n",
       "    }\n",
       "</style>\n",
       "<table border=\"1\" class=\"dataframe\">\n",
       "  <thead>\n",
       "    <tr style=\"text-align: right;\">\n",
       "      <th></th>\n",
       "      <th>Entry</th>\n",
       "      <th>seq</th>\n",
       "    </tr>\n",
       "  </thead>\n",
       "  <tbody>\n",
       "    <tr>\n",
       "      <th>0</th>\n",
       "      <td>Q7PG43</td>\n",
       "      <td>MSGVREIPAEDSIKVVCRFRPLNDSEELAGSKFVVKFPSGPEENCL...</td>\n",
       "    </tr>\n",
       "    <tr>\n",
       "      <th>1</th>\n",
       "      <td>Q7PNB7</td>\n",
       "      <td>LLTNVFSLSLFLGHRFRIRPQIPRELIDMCRVCTQVTPGEPQVLLG...</td>\n",
       "    </tr>\n",
       "    <tr>\n",
       "      <th>2</th>\n",
       "      <td>Q7PTK6</td>\n",
       "      <td>MDSRIPKPSFLKKPTGPLSLPGNARLPLTRDLLNLPSANSTMFAKV...</td>\n",
       "    </tr>\n",
       "    <tr>\n",
       "      <th>3</th>\n",
       "      <td>Q7QJN4</td>\n",
       "      <td>MSDKIRVAVRVRPFNRRELELATENVIEMNGTQTILKYPASLDKME...</td>\n",
       "    </tr>\n",
       "    <tr>\n",
       "      <th>4</th>\n",
       "      <td>Q7QDS6</td>\n",
       "      <td>MDRTIKTRSNLSNTKNECVQVVVRCRPLNNKELTGNFQKVVDVFPS...</td>\n",
       "    </tr>\n",
       "  </tbody>\n",
       "</table>\n",
       "</div>"
      ],
      "text/plain": [
       "    Entry                                                seq\n",
       "0  Q7PG43  MSGVREIPAEDSIKVVCRFRPLNDSEELAGSKFVVKFPSGPEENCL...\n",
       "1  Q7PNB7  LLTNVFSLSLFLGHRFRIRPQIPRELIDMCRVCTQVTPGEPQVLLG...\n",
       "2  Q7PTK6  MDSRIPKPSFLKKPTGPLSLPGNARLPLTRDLLNLPSANSTMFAKV...\n",
       "3  Q7QJN4  MSDKIRVAVRVRPFNRRELELATENVIEMNGTQTILKYPASLDKME...\n",
       "4  Q7QDS6  MDRTIKTRSNLSNTKNECVQVVVRCRPLNNKELTGNFQKVVDVFPS..."
      ]
     },
     "execution_count": 43,
     "metadata": {},
     "output_type": "execute_result"
    }
   ],
   "source": [
    "kin_kif.head()"
   ]
  },
  {
   "cell_type": "code",
   "execution_count": null,
   "metadata": {},
   "outputs": [],
   "source": [
    "dyun_kin.to_csv(\"../../data/kif/dyn_kin.csv\",index = False)\n",
    "kin_both.to_csv(\"../../data/kif/kin_both.csv\",index = False)\n",
    "kin_kif.to_csv(\"../../data/kif/kin_kif.csv\",index = False)"
   ]
  },
  {
   "cell_type": "code",
   "execution_count": null,
   "metadata": {},
   "outputs": [],
   "source": []
  },
  {
   "cell_type": "markdown",
   "metadata": {},
   "source": [
    "## Organize documentation of kinesin proteins from different sources"
   ]
  },
  {
   "cell_type": "code",
   "execution_count": 44,
   "metadata": {},
   "outputs": [],
   "source": [
    "kif_list_jp = pd.read_csv(\"../../data/kif/KIFlist.txt\", sep = \"\\t\")\n",
    "kif_list_jp.head()\n",
    "kif_list_jp_acc = pd.read_csv(\"../../data/kif/AccNo.txt\", sep = \"\\t\",header = None)\n",
    "kif_list_jp_acc.head()\n",
    "kif_list_jp_acc.columns = [\"KIF\",\"prot_acc\",\"ensembl\"]\n",
    "# merge the accession table and the information table of japan database\n",
    "kif_jp = kif_list_jp_acc.merge(kif_list_jp,on = \"KIF\")\n",
    "\n"
   ]
  },
  {
   "cell_type": "code",
   "execution_count": 45,
   "metadata": {},
   "outputs": [
    {
     "data": {
      "text/html": [
       "<div>\n",
       "<style scoped>\n",
       "    .dataframe tbody tr th:only-of-type {\n",
       "        vertical-align: middle;\n",
       "    }\n",
       "\n",
       "    .dataframe tbody tr th {\n",
       "        vertical-align: top;\n",
       "    }\n",
       "\n",
       "    .dataframe thead th {\n",
       "        text-align: right;\n",
       "    }\n",
       "</style>\n",
       "<table border=\"1\" class=\"dataframe\">\n",
       "  <thead>\n",
       "    <tr style=\"text-align: right;\">\n",
       "      <th></th>\n",
       "      <th>KIF</th>\n",
       "      <th>prot_acc</th>\n",
       "      <th>ensembl</th>\n",
       "      <th>Family</th>\n",
       "      <th>Subfamily</th>\n",
       "      <th>Alias</th>\n",
       "    </tr>\n",
       "  </thead>\n",
       "  <tbody>\n",
       "    <tr>\n",
       "      <th>0</th>\n",
       "      <td>AgKHC</td>\n",
       "      <td>XP_310522</td>\n",
       "      <td>ENSANGG00000014820</td>\n",
       "      <td>Kinesin-1</td>\n",
       "      <td>KIF5(KHC)</td>\n",
       "      <td>NaN</td>\n",
       "    </tr>\n",
       "    <tr>\n",
       "      <th>1</th>\n",
       "      <td>AgKlp31E</td>\n",
       "      <td>XP_317685</td>\n",
       "      <td>ENSANGP00000002307</td>\n",
       "      <td>Kinesin-4</td>\n",
       "      <td>KIF21</td>\n",
       "      <td>NaN</td>\n",
       "    </tr>\n",
       "    <tr>\n",
       "      <th>2</th>\n",
       "      <td>AgNcd</td>\n",
       "      <td>XP_307936</td>\n",
       "      <td>ENSANGP00000006252</td>\n",
       "      <td>Kinesin-14A</td>\n",
       "      <td>NCD</td>\n",
       "      <td>NaN</td>\n",
       "    </tr>\n",
       "    <tr>\n",
       "      <th>3</th>\n",
       "      <td>AgKin73</td>\n",
       "      <td>XP_308280</td>\n",
       "      <td>ENSANGP00000009361</td>\n",
       "      <td>Kinesin-3</td>\n",
       "      <td>KIF13</td>\n",
       "      <td>NaN</td>\n",
       "    </tr>\n",
       "    <tr>\n",
       "      <th>4</th>\n",
       "      <td>AgKlp68D</td>\n",
       "      <td>XP_311552</td>\n",
       "      <td>ENSANGP00000010166</td>\n",
       "      <td>Kinesin-2</td>\n",
       "      <td>KIF3B/C</td>\n",
       "      <td>NaN</td>\n",
       "    </tr>\n",
       "  </tbody>\n",
       "</table>\n",
       "</div>"
      ],
      "text/plain": [
       "        KIF   prot_acc             ensembl       Family  Subfamily Alias\n",
       "0     AgKHC  XP_310522  ENSANGG00000014820    Kinesin-1  KIF5(KHC)   NaN\n",
       "1  AgKlp31E  XP_317685  ENSANGP00000002307    Kinesin-4      KIF21   NaN\n",
       "2     AgNcd  XP_307936  ENSANGP00000006252  Kinesin-14A        NCD   NaN\n",
       "3   AgKin73  XP_308280  ENSANGP00000009361    Kinesin-3      KIF13   NaN\n",
       "4  AgKlp68D  XP_311552  ENSANGP00000010166    Kinesin-2    KIF3B/C   NaN"
      ]
     },
     "execution_count": 45,
     "metadata": {},
     "output_type": "execute_result"
    }
   ],
   "source": [
    "kif_jp.head()"
   ]
  },
  {
   "cell_type": "code",
   "execution_count": 51,
   "metadata": {},
   "outputs": [],
   "source": [
    "def get_uniprot_entry(acc):\n",
    "    url = \"https://www.uniprot.org/uniprot/?query=\"+acc+\"&sort=score&columns=id,entry name,reviewed,protein names,genes,organism,organism-id,lineage(all),sequence,length&format=tab\"\n",
    "    try:\n",
    "        r = requests.get(url)\n",
    "        urlData = r.content\n",
    "#         print(urlData)\n",
    "        rawData = pd.read_csv(io.StringIO(urlData.decode('utf-8')),sep = '\\t')\n",
    "    except:\n",
    "        rawData = pd.DataFrame()\n",
    "    return rawData "
   ]
  },
  {
   "cell_type": "code",
   "execution_count": 52,
   "metadata": {},
   "outputs": [
    {
     "name": "stdout",
     "output_type": "stream",
     "text": [
      "(1, 10)\n",
      "(94, 10)\n",
      "(172, 10)\n",
      "(218, 10)\n",
      "(295, 10)\n",
      "(386, 10)\n",
      "(448, 10)\n"
     ]
    }
   ],
   "source": [
    "kif_jp_uniprot = pd.DataFrame()\n",
    "kif_jp_uniprot_acc = []\n",
    "for i in range(kif_jp.shape[0]):\n",
    "    kif_id = kif_jp[\"KIF\"].iloc[i]\n",
    "#     print(kif_jp[\"prot_acc\"].iloc[i])\n",
    "    curr = get_uniprot_entry(kif_jp[\"prot_acc\"].iloc[i])\n",
    "#     print(curr)\n",
    "    if not (curr.empty):\n",
    "        kif_jp_uniprot = pd.concat([kif_jp_uniprot,curr], ignore_index=True)\n",
    "        for j in range(curr.shape[0]):\n",
    "            kif_jp_uniprot_acc.append(kif_id)\n",
    "    if i%100 ==0:\n",
    "        print(kif_jp_uniprot.shape)\n",
    "#     break"
   ]
  },
  {
   "cell_type": "code",
   "execution_count": 53,
   "metadata": {},
   "outputs": [
    {
     "data": {
      "text/plain": [
       "626"
      ]
     },
     "execution_count": 53,
     "metadata": {},
     "output_type": "execute_result"
    }
   ],
   "source": [
    "kif_jp.shape[0]"
   ]
  },
  {
   "cell_type": "code",
   "execution_count": 90,
   "metadata": {},
   "outputs": [
    {
     "data": {
      "text/plain": [
       "481"
      ]
     },
     "execution_count": 90,
     "metadata": {},
     "output_type": "execute_result"
    }
   ],
   "source": [
    "len(kif_jp_uniprot_acc)"
   ]
  },
  {
   "cell_type": "code",
   "execution_count": 91,
   "metadata": {},
   "outputs": [
    {
     "data": {
      "text/plain": [
       "(481, 10)"
      ]
     },
     "execution_count": 91,
     "metadata": {},
     "output_type": "execute_result"
    }
   ],
   "source": [
    "kif_jp_uniprot.shape"
   ]
  },
  {
   "cell_type": "code",
   "execution_count": 92,
   "metadata": {},
   "outputs": [],
   "source": [
    "kif_jp_acc = kif_jp_uniprot.loc[:,[\"Entry\"]]"
   ]
  },
  {
   "cell_type": "code",
   "execution_count": 100,
   "metadata": {},
   "outputs": [],
   "source": [
    "kif_jp_uniprot[\"KIF\"] = kif_jp_uniprot_acc"
   ]
  },
  {
   "cell_type": "code",
   "execution_count": null,
   "metadata": {},
   "outputs": [],
   "source": []
  },
  {
   "cell_type": "code",
   "execution_count": 94,
   "metadata": {},
   "outputs": [],
   "source": [
    "kif_jp_acc[\"db_acc\"] = pd.Series(kif_jp_uniprot_acc)"
   ]
  },
  {
   "cell_type": "code",
   "execution_count": 95,
   "metadata": {},
   "outputs": [],
   "source": [
    "kif_jp_acc[\"db_name\"] = \"kif_jp\""
   ]
  },
  {
   "cell_type": "code",
   "execution_count": 104,
   "metadata": {},
   "outputs": [
    {
     "data": {
      "text/plain": [
       "(381,)"
      ]
     },
     "execution_count": 104,
     "metadata": {},
     "output_type": "execute_result"
    }
   ],
   "source": [
    "kif_jp_acc[\"db_acc\"].unique().shape"
   ]
  },
  {
   "cell_type": "code",
   "execution_count": 97,
   "metadata": {},
   "outputs": [
    {
     "data": {
      "text/plain": [
       "245"
      ]
     },
     "execution_count": 97,
     "metadata": {},
     "output_type": "execute_result"
    }
   ],
   "source": [
    "# number of kif_jp entries not mapped to uniprot\n",
    "len(set(kif_jp[\"KIF\"]) - set(kif_jp_acc[\"db_acc\"]))"
   ]
  },
  {
   "cell_type": "code",
   "execution_count": 60,
   "metadata": {},
   "outputs": [
    {
     "data": {
      "text/plain": [
       "['AgKIF3C', 'CbUnc116', 'GlP436_12181_14100', 'PfMAL1P2.36', 'DrKIF3C']"
      ]
     },
     "execution_count": 60,
     "metadata": {},
     "output_type": "execute_result"
    }
   ],
   "source": [
    "list(set(kif_jp[\"KIF\"]) - set(kif_jp_acc[\"db_acc\"]))[:5]"
   ]
  },
  {
   "cell_type": "code",
   "execution_count": 61,
   "metadata": {},
   "outputs": [
    {
     "data": {
      "text/html": [
       "<div>\n",
       "<style scoped>\n",
       "    .dataframe tbody tr th:only-of-type {\n",
       "        vertical-align: middle;\n",
       "    }\n",
       "\n",
       "    .dataframe tbody tr th {\n",
       "        vertical-align: top;\n",
       "    }\n",
       "\n",
       "    .dataframe thead th {\n",
       "        text-align: right;\n",
       "    }\n",
       "</style>\n",
       "<table border=\"1\" class=\"dataframe\">\n",
       "  <thead>\n",
       "    <tr style=\"text-align: right;\">\n",
       "      <th></th>\n",
       "      <th>KIF</th>\n",
       "      <th>prot_acc</th>\n",
       "      <th>ensembl</th>\n",
       "      <th>Family</th>\n",
       "      <th>Subfamily</th>\n",
       "      <th>Alias</th>\n",
       "    </tr>\n",
       "  </thead>\n",
       "  <tbody>\n",
       "    <tr>\n",
       "      <th>103</th>\n",
       "      <td>CbKlp15</td>\n",
       "      <td>CAE67236</td>\n",
       "      <td>CBG12675</td>\n",
       "      <td>Kinesin-14A</td>\n",
       "      <td>NCD</td>\n",
       "      <td>NaN</td>\n",
       "    </tr>\n",
       "  </tbody>\n",
       "</table>\n",
       "</div>"
      ],
      "text/plain": [
       "         KIF  prot_acc   ensembl       Family Subfamily Alias\n",
       "103  CbKlp15  CAE67236  CBG12675  Kinesin-14A       NCD   NaN"
      ]
     },
     "execution_count": 61,
     "metadata": {},
     "output_type": "execute_result"
    }
   ],
   "source": [
    "kif_jp.loc[kif_jp[\"KIF\"]==\"CbKlp15\",:]"
   ]
  },
  {
   "cell_type": "markdown",
   "metadata": {},
   "source": [
    "Manual inspection suggests that the prot_acc is still tractable in Uniparc but the accession is already obsolete in the current uniprot database, other entries of the entries not matching should be of similar reason. Coudl query through https://www.uniprot.org/uniparc/ if needed in the future. For now, leave the 160 unmapped entries "
   ]
  },
  {
   "cell_type": "code",
   "execution_count": 105,
   "metadata": {},
   "outputs": [
    {
     "data": {
      "text/html": [
       "<div>\n",
       "<style scoped>\n",
       "    .dataframe tbody tr th:only-of-type {\n",
       "        vertical-align: middle;\n",
       "    }\n",
       "\n",
       "    .dataframe tbody tr th {\n",
       "        vertical-align: top;\n",
       "    }\n",
       "\n",
       "    .dataframe thead th {\n",
       "        text-align: right;\n",
       "    }\n",
       "</style>\n",
       "<table border=\"1\" class=\"dataframe\">\n",
       "  <thead>\n",
       "    <tr style=\"text-align: right;\">\n",
       "      <th></th>\n",
       "      <th>Species/protein</th>\n",
       "      <th>Molecular mass (kDa)</th>\n",
       "      <th>Motor polarity &amp; velocity</th>\n",
       "      <th>Subcellular localization</th>\n",
       "      <th>Comments</th>\n",
       "      <th>Seq</th>\n",
       "      <th>Type</th>\n",
       "      <th>KIF</th>\n",
       "      <th>aa_seq</th>\n",
       "      <th>kif_acc</th>\n",
       "      <th>uniprot_acc</th>\n",
       "    </tr>\n",
       "  </thead>\n",
       "  <tbody>\n",
       "    <tr>\n",
       "      <th>0</th>\n",
       "      <td>D. melanogaster KHC</td>\n",
       "      <td>110</td>\n",
       "      <td>Plus, 54 µm/min</td>\n",
       "      <td>Diffuse in cytoplasm</td>\n",
       "      <td>Required for viability &amp; neuromuscular function</td>\n",
       "      <td>DmKHC     AEDSIKVVCRFRPLNDSEEKAGSKFVVKFPNNVEEN...</td>\n",
       "      <td>1</td>\n",
       "      <td>DmKHC</td>\n",
       "      <td>AEDSIKVVCRFRPLNDSEEKAGSKFVVKFPNNVEENCISIA-----...</td>\n",
       "      <td>DmKHC</td>\n",
       "      <td>P17210;P21613;P35978;P28738;O60282;Q61768;Q2PQ...</td>\n",
       "    </tr>\n",
       "    <tr>\n",
       "      <th>1</th>\n",
       "      <td>L. pealii KHC</td>\n",
       "      <td>109</td>\n",
       "      <td>Plus, 30 µm/min</td>\n",
       "      <td>Membranous vesicles</td>\n",
       "      <td>NaN</td>\n",
       "      <td>LpKHC     SECNIKVICRVRPLNEAEERAGSKFILKFP---TDD...</td>\n",
       "      <td>1</td>\n",
       "      <td>LpKHC</td>\n",
       "      <td>SECNIKVICRVRPLNEAEERAGSKFILKFP---TDDSISIA-----...</td>\n",
       "      <td>LpKHC</td>\n",
       "      <td>P21613;P17210;O60282;P28738;P33175;Q12840;P359...</td>\n",
       "    </tr>\n",
       "    <tr>\n",
       "      <th>2</th>\n",
       "      <td>N. crassa KHC (NKin)</td>\n",
       "      <td>103</td>\n",
       "      <td>Plus, 120-180 µm/min</td>\n",
       "      <td>ND</td>\n",
       "      <td>High velocity of microtubule transport; no cop...</td>\n",
       "      <td>NcKHC     SANSIKVVARFRPQNRVEIESGGQPIVTFQ---GPD...</td>\n",
       "      <td>1</td>\n",
       "      <td>NcKHC</td>\n",
       "      <td>SANSIKVVARFRPQNRVEIESGGQPIVTFQ---GPDTCTVD---SK...</td>\n",
       "      <td>NcKHC</td>\n",
       "      <td>P48467;Q86Z98;Q86ZC1;O43093;Q9US60;Q54UC9;P331...</td>\n",
       "    </tr>\n",
       "    <tr>\n",
       "      <th>3</th>\n",
       "      <td>D. melanogaster Klp68D</td>\n",
       "      <td>88</td>\n",
       "      <td>Plus, 18 µm/min</td>\n",
       "      <td>ND</td>\n",
       "      <td>NaN</td>\n",
       "      <td>Dmklp68D  PNECVQVVVRCRPMSNRERSERSPEVVNVYPNRGVV...</td>\n",
       "      <td>2</td>\n",
       "      <td>Dmklp68D</td>\n",
       "      <td>PNECVQVVVRCRPMSNRERSERSPEVVNVYPNRGVVELQNVV----...</td>\n",
       "      <td>Dmklp68D</td>\n",
       "      <td>NaN</td>\n",
       "    </tr>\n",
       "    <tr>\n",
       "      <th>4</th>\n",
       "      <td>M. musculus KIF3A</td>\n",
       "      <td>80</td>\n",
       "      <td>Plus, 36 µm/min</td>\n",
       "      <td>Microsomes/ synaptic vesicles</td>\n",
       "      <td>NaN</td>\n",
       "      <td>MmKIF3A   SCDNVKVVVRCRPLNEREKSMCYRQAVSVDEMRGTI...</td>\n",
       "      <td>2</td>\n",
       "      <td>MmKIF3A</td>\n",
       "      <td>SCDNVKVVVRCRPLNEREKSMCYRQAVSVDEMRGTITVHKTD----...</td>\n",
       "      <td>MmKIF3A</td>\n",
       "      <td>P28741;Q4R628;Q9Y496;Q5R4H3;P46872;P46871;Q617...</td>\n",
       "    </tr>\n",
       "  </tbody>\n",
       "</table>\n",
       "</div>"
      ],
      "text/plain": [
       "          Species/protein Molecular mass (kDa) Motor polarity & velocity  \\\n",
       "0     D. melanogaster KHC                  110           Plus, 54 µm/min   \n",
       "1           L. pealii KHC                  109           Plus, 30 µm/min   \n",
       "2    N. crassa KHC (NKin)                  103      Plus, 120-180 µm/min   \n",
       "3  D. melanogaster Klp68D                   88           Plus, 18 µm/min   \n",
       "4       M. musculus KIF3A                   80           Plus, 36 µm/min   \n",
       "\n",
       "        Subcellular localization  \\\n",
       "0           Diffuse in cytoplasm   \n",
       "1            Membranous vesicles   \n",
       "2                             ND   \n",
       "3                             ND   \n",
       "4  Microsomes/ synaptic vesicles   \n",
       "\n",
       "                                            Comments  \\\n",
       "0    Required for viability & neuromuscular function   \n",
       "1                                                NaN   \n",
       "2  High velocity of microtubule transport; no cop...   \n",
       "3                                                NaN   \n",
       "4                                                NaN   \n",
       "\n",
       "                                                 Seq  Type       KIF  \\\n",
       "0  DmKHC     AEDSIKVVCRFRPLNDSEEKAGSKFVVKFPNNVEEN...     1     DmKHC   \n",
       "1  LpKHC     SECNIKVICRVRPLNEAEERAGSKFILKFP---TDD...     1     LpKHC   \n",
       "2  NcKHC     SANSIKVVARFRPQNRVEIESGGQPIVTFQ---GPD...     1     NcKHC   \n",
       "3  Dmklp68D  PNECVQVVVRCRPMSNRERSERSPEVVNVYPNRGVV...     2  Dmklp68D   \n",
       "4  MmKIF3A   SCDNVKVVVRCRPLNEREKSMCYRQAVSVDEMRGTI...     2   MmKIF3A   \n",
       "\n",
       "                                              aa_seq   kif_acc  \\\n",
       "0  AEDSIKVVCRFRPLNDSEEKAGSKFVVKFPNNVEENCISIA-----...     DmKHC   \n",
       "1  SECNIKVICRVRPLNEAEERAGSKFILKFP---TDDSISIA-----...     LpKHC   \n",
       "2  SANSIKVVARFRPQNRVEIESGGQPIVTFQ---GPDTCTVD---SK...     NcKHC   \n",
       "3  PNECVQVVVRCRPMSNRERSERSPEVVNVYPNRGVVELQNVV----...  Dmklp68D   \n",
       "4  SCDNVKVVVRCRPLNEREKSMCYRQAVSVDEMRGTITVHKTD----...   MmKIF3A   \n",
       "\n",
       "                                         uniprot_acc  \n",
       "0  P17210;P21613;P35978;P28738;O60282;Q61768;Q2PQ...  \n",
       "1  P21613;P17210;O60282;P28738;P33175;Q12840;P359...  \n",
       "2  P48467;Q86Z98;Q86ZC1;O43093;Q9US60;Q54UC9;P331...  \n",
       "3                                                NaN  \n",
       "4  P28741;Q4R628;Q9Y496;Q5R4H3;P46872;P46871;Q617...  "
      ]
     },
     "execution_count": 105,
     "metadata": {},
     "output_type": "execute_result"
    }
   ],
   "source": [
    "# get the entries from kif_doc\n",
    "kif_speed = pd.read_csv(\"../../data/kif/kif_speed.csv\")\n",
    "kif_speed.head()"
   ]
  },
  {
   "cell_type": "code",
   "execution_count": 106,
   "metadata": {},
   "outputs": [],
   "source": [
    "speed_acc = []\n",
    "for i in range(kif_speed.shape[0]):\n",
    "    speed_acc.extend(str(kif_speed[\"uniprot_acc\"][i]).split(\";\")[:-1])"
   ]
  },
  {
   "cell_type": "code",
   "execution_count": 107,
   "metadata": {},
   "outputs": [
    {
     "data": {
      "text/plain": [
       "85"
      ]
     },
     "execution_count": 107,
     "metadata": {},
     "output_type": "execute_result"
    }
   ],
   "source": [
    "len(set(speed_acc) - set(kif_jp_acc[\"Entry\"]))"
   ]
  },
  {
   "cell_type": "code",
   "execution_count": 108,
   "metadata": {},
   "outputs": [],
   "source": [
    "# add the 85 more accessions not in kif_jp into the accession inventory\n",
    "speed_acc_packed = []\n",
    "for i in range(kif_speed.shape[0]):\n",
    "    speed_acc_packed.append(str(kif_speed[\"uniprot_acc\"][i]).split(\";\")[:-1])"
   ]
  },
  {
   "cell_type": "code",
   "execution_count": 109,
   "metadata": {},
   "outputs": [
    {
     "name": "stdout",
     "output_type": "stream",
     "text": [
      "HsMKLP1;Xlklp2;\n",
      "DmKHC;MmKIF3A;MmKIF3B;SpKRP85;SpKRP95;HsKSP;DmKLP61F;XlEg5;HsMKLP1;\n",
      "MmKIF4;\n",
      "HsMKLP1;\n",
      "MmKIF2;\n",
      "Xlklp2;\n",
      "MmKIF3B;SpKRP85;MmKIF1A;MmKIF1B;\n",
      "MmKIF1A;MmKIF1B;\n",
      "DmKHC;LpKHC;NcKHC;MmKIF3A;MmKIF3B;SpKRP85;SpKRP95;MmKIF1A;MmKIF1B;HsKSP;DmKLP61F;XlEg5;HsMKLP1;Xlklp2;\n",
      "HsMKLP1;MmKIF2;\n",
      "DmKHC;LpKHC;NcKHC;MmKIF3A;MmKIF3B;SpKRP85;SpKRP95;MmKIF1A;MmKIF1B;MmKIF4;HsKSP;DmKLP61F;XlEg5;ScKAR3;Xlklp2;\n",
      "DmKHC;LpKHC;NcKHC;Xlklp2;\n",
      "MmKIF2;\n",
      "HsMKLP1;Xlklp2;\n",
      "DmNcd;ScKAR3;CgCHO2;\n",
      "DmKHC;LpKHC;NcKHC;\n",
      "MmKIF1A;MmKIF1B;\n",
      "DmKHC;MmKIF3A;HsKSP;DmKLP61F;XlEg5;\n",
      "MmKIF2;\n",
      "DmKHC;LpKHC;NcKHC;\n",
      "DmNcd;ScKAR3;CgCHO2;\n",
      "ScKAR3;CgCHO2;\n",
      "MmKIF3A;MmKIF3B;SpKRP85;SpKRP95;MmKIF4;HsKSP;DmKLP61F;XlEg5;\n",
      "MmKIF2;\n",
      "MmKIF1A;MmKIF1B;\n",
      "MmKIF1A;MmKIF1B;\n",
      "MmKIF1A;HsMKLP1;Xlklp2;\n",
      "MmKIF4;\n",
      "MmKIF2;\n",
      "MmKIF4;\n",
      "MmKIF2;\n",
      "MmKIF2;\n",
      "MmKIF4;HsMKLP1;\n",
      "NcKHC;MmKIF3A;MmKIF3B;SpKRP95;HsKSP;DmKLP61F;XlEg5;HsMKLP1;\n",
      "NcKHC;MmKIF3A;MmKIF3B;SpKRP85;SpKRP95;HsKSP;DmKLP61F;XlEg5;\n",
      "HsMKLP1;\n",
      "HsMKLP1;MmKIF2;\n",
      "NcKHC;MmKIF3A;MmKIF3B;SpKRP85;SpKRP95;HsKSP;DmKLP61F;XlEg5;HsMKLP1;MmKIF2;\n",
      "MmKIF2;\n",
      "DmKHC;LpKHC;NcKHC;MmKIF3A;MmKIF3B;SpKRP85;SpKRP95;MmKIF1A;MmKIF1B;MmKIF4;HsKSP;DmKLP61F;XlEg5;Xlklp2;\n",
      "MmKIF2;\n",
      "MmKIF1A;MmKIF1B;\n",
      "HsMKLP1;\n",
      "DmNcd;ScKAR3;CgCHO2;\n",
      "DmNcd;ScKAR3;CgCHO2;\n",
      "DmKHC;LpKHC;Xlklp2;\n",
      "MmKIF2;\n",
      "DmKHC;LpKHC;NcKHC;MmKIF3A;MmKIF3B;SpKRP85;SpKRP95;MmKIF1A;MmKIF1B;MmKIF4;HsKSP;DmKLP61F;XlEg5;Xlklp2;\n",
      "NcKHC;HsMKLP1;Xlklp2;\n",
      "LpKHC;SpKRP95;MmKIF1A;MmKIF1B;MmKIF4;HsKSP;DmKLP61F;XlEg5;MmKIF2;Xlklp2;\n",
      "DmKHC;LpKHC;\n",
      "NcKHC;MmKIF3A;MmKIF3B;SpKRP85;SpKRP95;MmKIF4;HsKSP;DmKLP61F;XlEg5;Xlklp2;\n",
      "MmKIF2;\n",
      "DmNcd;ScKAR3;CgCHO2;\n",
      "DmKHC;LpKHC;NcKHC;MmKIF3A;MmKIF3B;MmKIF4;DmKLP61F;DmNcd;\n",
      "HsMKLP1;Xlklp2;\n",
      "MmKIF4;\n",
      "MmKIF2;\n",
      "SpKRP95;MmKIF4;DmKLP61F;MmKIF2;\n",
      "MmKIF4;\n",
      "DmNcd;ScKAR3;CgCHO2;\n",
      "DmNcd;ScKAR3;CgCHO2;\n",
      "HsMKLP1;MmKIF2;\n",
      "MmKIF1A;MmKIF1B;\n",
      "SpKRP85;MmKIF1A;MmKIF1B;\n",
      "MmKIF4;\n",
      "DmKHC;LpKHC;NcKHC;\n",
      "DmNcd;ScKAR3;CgCHO2;\n",
      "DmKHC;LpKHC;NcKHC;\n",
      "MmKIF3A;MmKIF1A;MmKIF1B;MmKIF4;\n",
      "DmNcd;ScKAR3;CgCHO2;\n",
      "MmKIF2;\n",
      "DmKHC;LpKHC;NcKHC;MmKIF3A;MmKIF3B;SpKRP85;SpKRP95;MmKIF1A;MmKIF1B;MmKIF4;HsKSP;DmKLP61F;XlEg5;Xlklp2;\n",
      "DmNcd;ScKAR3;CgCHO2;\n",
      "MmKIF1A;MmKIF1B;\n",
      "HsMKLP1;MmKIF2;\n",
      "LpKHC;NcKHC;MmKIF3B;MmKIF1A;Xlklp2;\n",
      "DmNcd;ScKAR3;CgCHO2;\n",
      "MmKIF2;\n",
      "DmNcd;ScKAR3;CgCHO2;\n",
      "NcKHC;MmKIF3A;MmKIF3B;SpKRP85;SpKRP95;MmKIF4;HsKSP;DmKLP61F;XlEg5;Xlklp2;\n",
      "MmKIF4;\n",
      "DmNcd;ScKAR3;CgCHO2;\n",
      "DmNcd;ScKAR3;CgCHO2;\n",
      "DmKHC;LpKHC;Xlklp2;\n"
     ]
    }
   ],
   "source": [
    "db_accs = []\n",
    "entry_accs = []\n",
    "for acc in (set(speed_acc) - set(kif_jp_acc[\"Entry\"])):\n",
    "    db_acc = ''\n",
    "    for i in range(len(speed_acc_packed)):\n",
    "        if acc in speed_acc_packed[i]:\n",
    "            db_acc = db_acc + kif_speed[\"kif_acc\"].iloc[i] + ';'\n",
    "    print(db_acc)\n",
    "    db_accs.append(db_acc)\n",
    "    entry_accs.append(acc)"
   ]
  },
  {
   "cell_type": "code",
   "execution_count": 110,
   "metadata": {},
   "outputs": [
    {
     "data": {
      "text/plain": [
       "85"
      ]
     },
     "execution_count": 110,
     "metadata": {},
     "output_type": "execute_result"
    }
   ],
   "source": [
    "len(db_accs)"
   ]
  },
  {
   "cell_type": "code",
   "execution_count": 111,
   "metadata": {},
   "outputs": [],
   "source": [
    "kif_speed_acc = pd.DataFrame()\n",
    "kif_speed_acc[\"Entry\"] = entry_accs\n",
    "kif_speed_acc[\"db_acc\"] = db_accs\n",
    "kif_speed_acc[\"db_name\"] = \"kif_duke\""
   ]
  },
  {
   "cell_type": "code",
   "execution_count": 112,
   "metadata": {},
   "outputs": [
    {
     "data": {
      "text/plain": [
       "(85, 3)"
      ]
     },
     "execution_count": 112,
     "metadata": {},
     "output_type": "execute_result"
    }
   ],
   "source": [
    "kif_speed_acc.shape"
   ]
  },
  {
   "cell_type": "code",
   "execution_count": 113,
   "metadata": {},
   "outputs": [
    {
     "name": "stdout",
     "output_type": "stream",
     "text": [
      "(566, 3)\n"
     ]
    },
    {
     "data": {
      "text/html": [
       "<div>\n",
       "<style scoped>\n",
       "    .dataframe tbody tr th:only-of-type {\n",
       "        vertical-align: middle;\n",
       "    }\n",
       "\n",
       "    .dataframe tbody tr th {\n",
       "        vertical-align: top;\n",
       "    }\n",
       "\n",
       "    .dataframe thead th {\n",
       "        text-align: right;\n",
       "    }\n",
       "</style>\n",
       "<table border=\"1\" class=\"dataframe\">\n",
       "  <thead>\n",
       "    <tr style=\"text-align: right;\">\n",
       "      <th></th>\n",
       "      <th>Entry</th>\n",
       "      <th>db_acc</th>\n",
       "      <th>db_name</th>\n",
       "    </tr>\n",
       "  </thead>\n",
       "  <tbody>\n",
       "    <tr>\n",
       "      <th>0</th>\n",
       "      <td>Q7PG43</td>\n",
       "      <td>AgKHC</td>\n",
       "      <td>kif_jp</td>\n",
       "    </tr>\n",
       "    <tr>\n",
       "      <th>1</th>\n",
       "      <td>Q7PNB7</td>\n",
       "      <td>AgKlp31E</td>\n",
       "      <td>kif_jp</td>\n",
       "    </tr>\n",
       "    <tr>\n",
       "      <th>2</th>\n",
       "      <td>Q7PTK6</td>\n",
       "      <td>AgNcd</td>\n",
       "      <td>kif_jp</td>\n",
       "    </tr>\n",
       "    <tr>\n",
       "      <th>3</th>\n",
       "      <td>Q7QJN4</td>\n",
       "      <td>AgKin73</td>\n",
       "      <td>kif_jp</td>\n",
       "    </tr>\n",
       "    <tr>\n",
       "      <th>4</th>\n",
       "      <td>Q7QDS6</td>\n",
       "      <td>AgKlp68D</td>\n",
       "      <td>kif_jp</td>\n",
       "    </tr>\n",
       "  </tbody>\n",
       "</table>\n",
       "</div>"
      ],
      "text/plain": [
       "    Entry    db_acc db_name\n",
       "0  Q7PG43     AgKHC  kif_jp\n",
       "1  Q7PNB7  AgKlp31E  kif_jp\n",
       "2  Q7PTK6     AgNcd  kif_jp\n",
       "3  Q7QJN4   AgKin73  kif_jp\n",
       "4  Q7QDS6  AgKlp68D  kif_jp"
      ]
     },
     "execution_count": 113,
     "metadata": {},
     "output_type": "execute_result"
    }
   ],
   "source": [
    "kif_acc_all = pd.concat([kif_jp_acc,kif_speed_acc], ignore_index=True)\n",
    "print(kif_acc_all.shape)\n",
    "kif_acc_all.head()"
   ]
  },
  {
   "cell_type": "code",
   "execution_count": 71,
   "metadata": {},
   "outputs": [],
   "source": [
    "# insert the 85 uniprot sequences in kif_speed that are not in kif_jp\n",
    "kif_speed_uniprot = pd.DataFrame()\n",
    "for acc in (set(speed_acc) - set(kif_jp_acc[\"Entry\"])):\n",
    "    curr = get_uniprot_entry(acc)\n",
    "    if not (curr.empty):\n",
    "        kif_speed_uniprot = pd.concat([kif_speed_uniprot,curr], ignore_index=True)"
   ]
  },
  {
   "cell_type": "code",
   "execution_count": 114,
   "metadata": {},
   "outputs": [
    {
     "data": {
      "text/plain": [
       "(85, 10)"
      ]
     },
     "execution_count": 114,
     "metadata": {},
     "output_type": "execute_result"
    }
   ],
   "source": [
    "kif_speed_uniprot = kif_speed_uniprot.loc[kif_speed_uniprot[\"Entry\"].isin(kif_speed_acc[\"Entry\"]),:]\n",
    "kif_speed_uniprot.shape"
   ]
  },
  {
   "cell_type": "code",
   "execution_count": null,
   "metadata": {},
   "outputs": [],
   "source": []
  },
  {
   "cell_type": "code",
   "execution_count": null,
   "metadata": {},
   "outputs": [],
   "source": [
    "# get the kinesin/dyeinin entry from motor_toolkit search \n",
    "boo = kinesin_labelled.loc[~kinesin_labelled[\"Entry\"].isin(kif_acc_all[\"Entry\"]),\"Protein names\"].apply(lambda s: len(re.findall(\"kinesin\",s.lower()))>0)"
   ]
  },
  {
   "cell_type": "code",
   "execution_count": null,
   "metadata": {},
   "outputs": [],
   "source": [
    "motor_uniprot = kinesin_labelled.loc[~kinesin_labelled[\"Entry\"].isin(kif_acc_all[\"Entry\"]),:].loc[boo,:]"
   ]
  },
  {
   "cell_type": "code",
   "execution_count": null,
   "metadata": {},
   "outputs": [],
   "source": [
    "motor_uniprot.to_csv(\"../../data/kif/motor_uniprot.csv\",index = False)"
   ]
  },
  {
   "cell_type": "code",
   "execution_count": null,
   "metadata": {},
   "outputs": [],
   "source": []
  },
  {
   "cell_type": "code",
   "execution_count": 115,
   "metadata": {},
   "outputs": [
    {
     "name": "stdout",
     "output_type": "stream",
     "text": [
      "(57, 10)\n"
     ]
    },
    {
     "data": {
      "text/html": [
       "<div>\n",
       "<style scoped>\n",
       "    .dataframe tbody tr th:only-of-type {\n",
       "        vertical-align: middle;\n",
       "    }\n",
       "\n",
       "    .dataframe tbody tr th {\n",
       "        vertical-align: top;\n",
       "    }\n",
       "\n",
       "    .dataframe thead th {\n",
       "        text-align: right;\n",
       "    }\n",
       "</style>\n",
       "<table border=\"1\" class=\"dataframe\">\n",
       "  <thead>\n",
       "    <tr style=\"text-align: right;\">\n",
       "      <th></th>\n",
       "      <th>Entry</th>\n",
       "      <th>Entry name</th>\n",
       "      <th>Status</th>\n",
       "      <th>Protein names</th>\n",
       "      <th>Gene names</th>\n",
       "      <th>Organism</th>\n",
       "      <th>Length</th>\n",
       "      <th>seq</th>\n",
       "      <th>type</th>\n",
       "      <th>label</th>\n",
       "    </tr>\n",
       "  </thead>\n",
       "  <tbody>\n",
       "    <tr>\n",
       "      <th>0</th>\n",
       "      <td>Q6FXI5</td>\n",
       "      <td>CIN8_CANGA</td>\n",
       "      <td>reviewed</td>\n",
       "      <td>Kinesin-like protein CIN8</td>\n",
       "      <td>CIN8 CAGL0B03641g</td>\n",
       "      <td>Candida glabrata (strain ATCC 2001 / CBS 138 /...</td>\n",
       "      <td>988</td>\n",
       "      <td>MVVTTEAVTSRSERDAEPVQEPLVEKLATEELNILVAVRCRGRNER...</td>\n",
       "      <td>kinesin</td>\n",
       "      <td>kinesin_5</td>\n",
       "    </tr>\n",
       "  </tbody>\n",
       "</table>\n",
       "</div>"
      ],
      "text/plain": [
       "    Entry  Entry name    Status              Protein names         Gene names  \\\n",
       "0  Q6FXI5  CIN8_CANGA  reviewed  Kinesin-like protein CIN8  CIN8 CAGL0B03641g   \n",
       "\n",
       "                                            Organism  Length  \\\n",
       "0  Candida glabrata (strain ATCC 2001 / CBS 138 /...     988   \n",
       "\n",
       "                                                 seq     type      label  \n",
       "0  MVVTTEAVTSRSERDAEPVQEPLVEKLATEELNILVAVRCRGRNER...  kinesin  kinesin_5  "
      ]
     },
     "execution_count": 115,
     "metadata": {},
     "output_type": "execute_result"
    }
   ],
   "source": [
    "motor_uniprot = pd.read_csv(\"../../data/kif/motor_uniprot.csv\")\n",
    "print(motor_uniprot.shape)\n",
    "motor_uniprot.head(1)"
   ]
  },
  {
   "cell_type": "code",
   "execution_count": 116,
   "metadata": {},
   "outputs": [],
   "source": [
    "motor_uniprot_acc = motor_uniprot.loc[:,[\"Entry\",\"Entry name\"]]"
   ]
  },
  {
   "cell_type": "code",
   "execution_count": 117,
   "metadata": {},
   "outputs": [],
   "source": [
    "motor_uniprot_acc[\"db_name\"] = \"motor_toolkit\""
   ]
  },
  {
   "cell_type": "code",
   "execution_count": 118,
   "metadata": {},
   "outputs": [],
   "source": [
    "motor_uniprot_acc.columns = [\"Entry\",\"db_acc\",\"db_name\"]"
   ]
  },
  {
   "cell_type": "code",
   "execution_count": 119,
   "metadata": {},
   "outputs": [],
   "source": [
    "kif_acc_all = pd.concat([kif_acc_all,motor_uniprot_acc], ignore_index=True)"
   ]
  },
  {
   "cell_type": "code",
   "execution_count": 120,
   "metadata": {},
   "outputs": [
    {
     "data": {
      "text/plain": [
       "(57, 3)"
      ]
     },
     "execution_count": 120,
     "metadata": {},
     "output_type": "execute_result"
    }
   ],
   "source": [
    "motor_uniprot_acc.shape"
   ]
  },
  {
   "cell_type": "code",
   "execution_count": 121,
   "metadata": {},
   "outputs": [
    {
     "data": {
      "text/plain": [
       "623"
      ]
     },
     "execution_count": 121,
     "metadata": {},
     "output_type": "execute_result"
    }
   ],
   "source": [
    "kif_speed_uniprot.shape[0] + kif_jp_uniprot.shape[0] + motor_uniprot.shape[0]"
   ]
  },
  {
   "cell_type": "code",
   "execution_count": 122,
   "metadata": {},
   "outputs": [
    {
     "data": {
      "text/plain": [
       "(623, 3)"
      ]
     },
     "execution_count": 122,
     "metadata": {},
     "output_type": "execute_result"
    }
   ],
   "source": [
    "kif_acc_all.shape"
   ]
  },
  {
   "cell_type": "code",
   "execution_count": 123,
   "metadata": {},
   "outputs": [],
   "source": [
    "motor_uniprot_cat = motor_uniprot.loc[:,['Entry','Entry name','Status','Protein names','Gene names','Organism','Length',\"seq\"]]\n"
   ]
  },
  {
   "cell_type": "code",
   "execution_count": 124,
   "metadata": {},
   "outputs": [],
   "source": [
    "kif_speed_uniprot_cat = kif_speed_uniprot.loc[:,['Entry','Entry name','Status','Protein names','Gene names','Organism','Length','Sequence']]"
   ]
  },
  {
   "cell_type": "code",
   "execution_count": 125,
   "metadata": {},
   "outputs": [],
   "source": [
    "kif_jp_uniprot = kif_jp_uniprot.loc[:,['Entry','Entry name','Status','Protein names','Gene names','Organism','Length','Sequence']]"
   ]
  },
  {
   "cell_type": "code",
   "execution_count": 126,
   "metadata": {},
   "outputs": [],
   "source": [
    "motor_uniprot_cat.columns = ['Entry','Entry name','Status','Protein names','Gene names','Organism','Length',\"seq\"]\n",
    "kif_speed_uniprot_cat.columns = ['Entry','Entry name','Status','Protein names','Gene names','Organism','Length',\"seq\"]\n",
    "kif_jp_uniprot.columns = ['Entry','Entry name','Status','Protein names','Gene names','Organism','Length',\"seq\"]"
   ]
  },
  {
   "cell_type": "code",
   "execution_count": 127,
   "metadata": {},
   "outputs": [
    {
     "data": {
      "text/plain": [
       "623"
      ]
     },
     "execution_count": 127,
     "metadata": {},
     "output_type": "execute_result"
    }
   ],
   "source": [
    "kif_speed_uniprot_cat.shape[0] + kif_jp_uniprot.shape[0] + motor_uniprot_cat.shape[0]"
   ]
  },
  {
   "cell_type": "code",
   "execution_count": 128,
   "metadata": {},
   "outputs": [],
   "source": [
    "kif_uniprot_all = pd.concat([kif_jp_uniprot,kif_speed_uniprot_cat,motor_uniprot_cat], ignore_index=True)"
   ]
  },
  {
   "cell_type": "code",
   "execution_count": 129,
   "metadata": {},
   "outputs": [
    {
     "data": {
      "text/plain": [
       "(623, 8)"
      ]
     },
     "execution_count": 129,
     "metadata": {},
     "output_type": "execute_result"
    }
   ],
   "source": [
    "kif_uniprot_all.shape"
   ]
  },
  {
   "cell_type": "code",
   "execution_count": 130,
   "metadata": {},
   "outputs": [
    {
     "data": {
      "text/html": [
       "<div>\n",
       "<style scoped>\n",
       "    .dataframe tbody tr th:only-of-type {\n",
       "        vertical-align: middle;\n",
       "    }\n",
       "\n",
       "    .dataframe tbody tr th {\n",
       "        vertical-align: top;\n",
       "    }\n",
       "\n",
       "    .dataframe thead th {\n",
       "        text-align: right;\n",
       "    }\n",
       "</style>\n",
       "<table border=\"1\" class=\"dataframe\">\n",
       "  <thead>\n",
       "    <tr style=\"text-align: right;\">\n",
       "      <th></th>\n",
       "      <th>Entry</th>\n",
       "      <th>Entry name</th>\n",
       "      <th>Status</th>\n",
       "      <th>Protein names</th>\n",
       "      <th>Gene names</th>\n",
       "      <th>Organism</th>\n",
       "      <th>Length</th>\n",
       "      <th>seq</th>\n",
       "    </tr>\n",
       "  </thead>\n",
       "  <tbody>\n",
       "    <tr>\n",
       "      <th>0</th>\n",
       "      <td>Q7PG43</td>\n",
       "      <td>Q7PG43_ANOGA</td>\n",
       "      <td>unreviewed</td>\n",
       "      <td>Kinesin-like protein</td>\n",
       "      <td>1271664 AgaP_AGAP000561</td>\n",
       "      <td>Anopheles gambiae (African malaria mosquito)</td>\n",
       "      <td>983</td>\n",
       "      <td>MSGVREIPAEDSIKVVCRFRPLNDSEELAGSKFVVKFPSGPEENCL...</td>\n",
       "    </tr>\n",
       "    <tr>\n",
       "      <th>1</th>\n",
       "      <td>Q7PNB7</td>\n",
       "      <td>Q7PNB7_ANOGA</td>\n",
       "      <td>unreviewed</td>\n",
       "      <td>AGAP007815-PA (Fragment)</td>\n",
       "      <td>AgaP_AGAP007815</td>\n",
       "      <td>Anopheles gambiae (African malaria mosquito)</td>\n",
       "      <td>1033</td>\n",
       "      <td>LLTNVFSLSLFLGHRFRIRPQIPRELIDMCRVCTQVTPGEPQVLLG...</td>\n",
       "    </tr>\n",
       "  </tbody>\n",
       "</table>\n",
       "</div>"
      ],
      "text/plain": [
       "    Entry    Entry name      Status             Protein names  \\\n",
       "0  Q7PG43  Q7PG43_ANOGA  unreviewed      Kinesin-like protein   \n",
       "1  Q7PNB7  Q7PNB7_ANOGA  unreviewed  AGAP007815-PA (Fragment)   \n",
       "\n",
       "                Gene names                                      Organism  \\\n",
       "0  1271664 AgaP_AGAP000561  Anopheles gambiae (African malaria mosquito)   \n",
       "1          AgaP_AGAP007815  Anopheles gambiae (African malaria mosquito)   \n",
       "\n",
       "   Length                                                seq  \n",
       "0     983  MSGVREIPAEDSIKVVCRFRPLNDSEELAGSKFVVKFPSGPEENCL...  \n",
       "1    1033  LLTNVFSLSLFLGHRFRIRPQIPRELIDMCRVCTQVTPGEPQVLLG...  "
      ]
     },
     "execution_count": 130,
     "metadata": {},
     "output_type": "execute_result"
    }
   ],
   "source": [
    "kif_uniprot_all.head(2)"
   ]
  },
  {
   "cell_type": "code",
   "execution_count": 131,
   "metadata": {},
   "outputs": [],
   "source": []
  },
  {
   "cell_type": "code",
   "execution_count": 135,
   "metadata": {},
   "outputs": [],
   "source": [
    "kif_jp.loc[kif_jp[\"Family\"] == \"Orphans\",\"Family\"] = \"Kinesin-15\"\n",
    "kif_jp.loc[kif_jp[\"Family\"] == \"Kinesin-14A\",\"Family\"] = \"Kinesin-14\"\n",
    "kif_jp.loc[kif_jp[\"Family\"] == \"Kinesin-14B\",\"Family\"] = \"Kinesin-14\"\n",
    "kif_jp.groupby(\"Family\").count()\n",
    "kif_jp_acc_with_fam = kif_jp_acc.merge(kif_jp,left_on = \"db_acc\",right_on = \"KIF\")"
   ]
  },
  {
   "cell_type": "code",
   "execution_count": 136,
   "metadata": {},
   "outputs": [],
   "source": [
    "jp_type = kif_jp_acc_with_fam[\"Family\"].apply(lambda s: int(s.split(\"Kinesin-\")[1]))"
   ]
  },
  {
   "cell_type": "code",
   "execution_count": 137,
   "metadata": {},
   "outputs": [
    {
     "data": {
      "text/html": [
       "<div>\n",
       "<style scoped>\n",
       "    .dataframe tbody tr th:only-of-type {\n",
       "        vertical-align: middle;\n",
       "    }\n",
       "\n",
       "    .dataframe tbody tr th {\n",
       "        vertical-align: top;\n",
       "    }\n",
       "\n",
       "    .dataframe thead th {\n",
       "        text-align: right;\n",
       "    }\n",
       "</style>\n",
       "<table border=\"1\" class=\"dataframe\">\n",
       "  <thead>\n",
       "    <tr style=\"text-align: right;\">\n",
       "      <th></th>\n",
       "      <th>Species/protein</th>\n",
       "      <th>Molecular mass (kDa)</th>\n",
       "      <th>Motor polarity &amp; velocity</th>\n",
       "      <th>Subcellular localization</th>\n",
       "      <th>Comments</th>\n",
       "      <th>Seq</th>\n",
       "      <th>Type</th>\n",
       "      <th>KIF</th>\n",
       "      <th>aa_seq</th>\n",
       "      <th>kif_acc</th>\n",
       "      <th>uniprot_acc</th>\n",
       "    </tr>\n",
       "  </thead>\n",
       "  <tbody>\n",
       "    <tr>\n",
       "      <th>0</th>\n",
       "      <td>D. melanogaster KHC</td>\n",
       "      <td>110</td>\n",
       "      <td>Plus, 54 µm/min</td>\n",
       "      <td>Diffuse in cytoplasm</td>\n",
       "      <td>Required for viability &amp; neuromuscular function</td>\n",
       "      <td>DmKHC     AEDSIKVVCRFRPLNDSEEKAGSKFVVKFPNNVEEN...</td>\n",
       "      <td>1</td>\n",
       "      <td>DmKHC</td>\n",
       "      <td>AEDSIKVVCRFRPLNDSEEKAGSKFVVKFPNNVEENCISIA-----...</td>\n",
       "      <td>DmKHC</td>\n",
       "      <td>P17210;P21613;P35978;P28738;O60282;Q61768;Q2PQ...</td>\n",
       "    </tr>\n",
       "    <tr>\n",
       "      <th>1</th>\n",
       "      <td>L. pealii KHC</td>\n",
       "      <td>109</td>\n",
       "      <td>Plus, 30 µm/min</td>\n",
       "      <td>Membranous vesicles</td>\n",
       "      <td>NaN</td>\n",
       "      <td>LpKHC     SECNIKVICRVRPLNEAEERAGSKFILKFP---TDD...</td>\n",
       "      <td>1</td>\n",
       "      <td>LpKHC</td>\n",
       "      <td>SECNIKVICRVRPLNEAEERAGSKFILKFP---TDDSISIA-----...</td>\n",
       "      <td>LpKHC</td>\n",
       "      <td>P21613;P17210;O60282;P28738;P33175;Q12840;P359...</td>\n",
       "    </tr>\n",
       "    <tr>\n",
       "      <th>2</th>\n",
       "      <td>N. crassa KHC (NKin)</td>\n",
       "      <td>103</td>\n",
       "      <td>Plus, 120-180 µm/min</td>\n",
       "      <td>ND</td>\n",
       "      <td>High velocity of microtubule transport; no cop...</td>\n",
       "      <td>NcKHC     SANSIKVVARFRPQNRVEIESGGQPIVTFQ---GPD...</td>\n",
       "      <td>1</td>\n",
       "      <td>NcKHC</td>\n",
       "      <td>SANSIKVVARFRPQNRVEIESGGQPIVTFQ---GPDTCTVD---SK...</td>\n",
       "      <td>NcKHC</td>\n",
       "      <td>P48467;Q86Z98;Q86ZC1;O43093;Q9US60;Q54UC9;P331...</td>\n",
       "    </tr>\n",
       "    <tr>\n",
       "      <th>3</th>\n",
       "      <td>D. melanogaster Klp68D</td>\n",
       "      <td>88</td>\n",
       "      <td>Plus, 18 µm/min</td>\n",
       "      <td>ND</td>\n",
       "      <td>NaN</td>\n",
       "      <td>Dmklp68D  PNECVQVVVRCRPMSNRERSERSPEVVNVYPNRGVV...</td>\n",
       "      <td>2</td>\n",
       "      <td>Dmklp68D</td>\n",
       "      <td>PNECVQVVVRCRPMSNRERSERSPEVVNVYPNRGVVELQNVV----...</td>\n",
       "      <td>Dmklp68D</td>\n",
       "      <td>NaN</td>\n",
       "    </tr>\n",
       "    <tr>\n",
       "      <th>4</th>\n",
       "      <td>M. musculus KIF3A</td>\n",
       "      <td>80</td>\n",
       "      <td>Plus, 36 µm/min</td>\n",
       "      <td>Microsomes/ synaptic vesicles</td>\n",
       "      <td>NaN</td>\n",
       "      <td>MmKIF3A   SCDNVKVVVRCRPLNEREKSMCYRQAVSVDEMRGTI...</td>\n",
       "      <td>2</td>\n",
       "      <td>MmKIF3A</td>\n",
       "      <td>SCDNVKVVVRCRPLNEREKSMCYRQAVSVDEMRGTITVHKTD----...</td>\n",
       "      <td>MmKIF3A</td>\n",
       "      <td>P28741;Q4R628;Q9Y496;Q5R4H3;P46872;P46871;Q617...</td>\n",
       "    </tr>\n",
       "    <tr>\n",
       "      <th>5</th>\n",
       "      <td>M. musculus KIF3B</td>\n",
       "      <td>85</td>\n",
       "      <td>Plus, 18 µm/min</td>\n",
       "      <td>Neurons, cell bodies, axons and dendrites</td>\n",
       "      <td>NaN</td>\n",
       "      <td>MmKIF3B   SSESVRVVVRCRPMNGKEKAASYDKVVDVDVKLGQV...</td>\n",
       "      <td>2</td>\n",
       "      <td>MmKIF3B</td>\n",
       "      <td>SSESVRVVVRCRPMNGKEKAASYDKVVDVDVKLGQVSVKNPK----...</td>\n",
       "      <td>MmKIF3B</td>\n",
       "      <td>Q61771;O15066;P46871;Q5R706;O35066;O55165;O147...</td>\n",
       "    </tr>\n",
       "    <tr>\n",
       "      <th>6</th>\n",
       "      <td>S. purpuratus KRP85</td>\n",
       "      <td>79</td>\n",
       "      <td>Plus, 24 µm/min</td>\n",
       "      <td>ND</td>\n",
       "      <td>NaN</td>\n",
       "      <td>SpKRP85   GNDNVRVVVRCRPLNSKETGQGFKSVVKMDEMRGTV...</td>\n",
       "      <td>2</td>\n",
       "      <td>SpKRP85</td>\n",
       "      <td>GNDNVRVVVRCRPLNSKETGQGFKSVVKMDEMRGTVQVTNPN----...</td>\n",
       "      <td>SpKRP85</td>\n",
       "      <td>P46872;Q4R628;Q9Y496;Q5R4H3;P28741;P46871;Q617...</td>\n",
       "    </tr>\n",
       "    <tr>\n",
       "      <th>7</th>\n",
       "      <td>S. purpuratus KRP95</td>\n",
       "      <td>84</td>\n",
       "      <td>Plus, 24 µm/min</td>\n",
       "      <td>ND</td>\n",
       "      <td>NaN</td>\n",
       "      <td>SpKRP95   SAETVKVVVRCRPMNSKEISQGHKRIVEMDNKRGLV...</td>\n",
       "      <td>2</td>\n",
       "      <td>SpKRP95</td>\n",
       "      <td>SAETVKVVVRCRPMNSKEISQGHKRIVEMDNKRGLVEVTNPK----...</td>\n",
       "      <td>SpKRP95</td>\n",
       "      <td>P46871;O15066;Q61771;P46872;Q5R706;O14782;O350...</td>\n",
       "    </tr>\n",
       "    <tr>\n",
       "      <th>8</th>\n",
       "      <td>M. musculus KIF1A</td>\n",
       "      <td>192</td>\n",
       "      <td>Plus, 72 µm/min</td>\n",
       "      <td>Enriched in axons</td>\n",
       "      <td>Associated with synaptic vesicles, monomeric?</td>\n",
       "      <td>MmKIF1A   AGASVKVAVRVRPFNSREMSRDSKCIIQMSGSTTTI...</td>\n",
       "      <td>3</td>\n",
       "      <td>MmKIF1A</td>\n",
       "      <td>AGASVKVAVRVRPFNSREMSRDSKCIIQMSGSTTTIVNPK-----Q...</td>\n",
       "      <td>MmKIF1A</td>\n",
       "      <td>P33173;F1M4A4;Q12756;O60333;Q60575;O88658;O438...</td>\n",
       "    </tr>\n",
       "    <tr>\n",
       "      <th>9</th>\n",
       "      <td>M. musculus KIF1B</td>\n",
       "      <td>130</td>\n",
       "      <td>Plus, 40 µm/min</td>\n",
       "      <td>Co-localizes with mitochondria</td>\n",
       "      <td>Transports mitochondria, monomeric?</td>\n",
       "      <td>MmKIF1B   SGASVKVAVRVRPFNSRETSKESKCIIQMQGNSTSI...</td>\n",
       "      <td>3</td>\n",
       "      <td>MmKIF1B</td>\n",
       "      <td>SGASVKVAVRVRPFNSRETSKESKCIIQMQGNSTSIINPK-----N...</td>\n",
       "      <td>MmKIF1B</td>\n",
       "      <td>Q60575;O88658;O60333;Q12756;F1M4A4;P33173;O350...</td>\n",
       "    </tr>\n",
       "    <tr>\n",
       "      <th>10</th>\n",
       "      <td>M. musculus KIF4</td>\n",
       "      <td>140</td>\n",
       "      <td>Plus, 2-12 µm/min</td>\n",
       "      <td>Membranous vesicles, mitotic spindle</td>\n",
       "      <td>Motor for vesicle transport?</td>\n",
       "      <td>MmKIF4    KGIPVRVALRCRPLVSKEIKEGCQTCLSFVPGEPQV...</td>\n",
       "      <td>4</td>\n",
       "      <td>MmKIF4</td>\n",
       "      <td>KGIPVRVALRCRPLVSKEIKEGCQTCLSFVPGEPQVVVGN-DKSFT...</td>\n",
       "      <td>MmKIF4</td>\n",
       "      <td>P33174;O95239;Q2VIQ3;Q90640;Q91784;F1M5N7;Q9QX...</td>\n",
       "    </tr>\n",
       "    <tr>\n",
       "      <th>11</th>\n",
       "      <td>H. sapiens KSP (HsEg5)</td>\n",
       "      <td>121</td>\n",
       "      <td>Plus, 2 µm/min</td>\n",
       "      <td>ND</td>\n",
       "      <td>Essential for centrosome separation in mitosis...</td>\n",
       "      <td>HsKSP     KGKNIQVVVRCRPFNLAERKASAHSIVECDPVRKEV...</td>\n",
       "      <td>5</td>\n",
       "      <td>HsKSP</td>\n",
       "      <td>KGKNIQVVVRCRPFNLAERKASAHSIVECDPVRKEVSVRTG-----...</td>\n",
       "      <td>HsKSP</td>\n",
       "      <td>P52732;Q6P9P6;B2GU58;P28025;Q91783;P46874;F4II...</td>\n",
       "    </tr>\n",
       "    <tr>\n",
       "      <th>12</th>\n",
       "      <td>D. melanogaster Klp61F (KRP130)</td>\n",
       "      <td>121 (130)</td>\n",
       "      <td>Plus, 2 µm/min</td>\n",
       "      <td>ND</td>\n",
       "      <td>Essential for centrosome separation in mitosis...</td>\n",
       "      <td>DmKLP61F  SNQNIQVYVRVRPLNSRERCIRSAEVVDVVGPREVV...</td>\n",
       "      <td>5</td>\n",
       "      <td>DmKLP61F</td>\n",
       "      <td>SNQNIQVYVRVRPLNSRERCIRSAEVVDVVGPREVVTRHTL-----...</td>\n",
       "      <td>DmKLP61F</td>\n",
       "      <td>P46863;P46874;B2GU58;Q91783;Q6P9P6;P52732;P280...</td>\n",
       "    </tr>\n",
       "    <tr>\n",
       "      <th>13</th>\n",
       "      <td>X. laevis Eg5</td>\n",
       "      <td>119</td>\n",
       "      <td>Plus, 2 µm/min</td>\n",
       "      <td>Spindle MTs</td>\n",
       "      <td>Required for spindle formation in vitro at mit...</td>\n",
       "      <td>XlEg5     KGKNIQVVVRCRPFNQLERKASSHSVLECDSQRKEV...</td>\n",
       "      <td>5</td>\n",
       "      <td>XlEg5</td>\n",
       "      <td>KGKNIQVVVRCRPFNQLERKASSHSVLECDSQRKEVYVRTG-----...</td>\n",
       "      <td>XlEg5</td>\n",
       "      <td>P28025;Q91783;B2GU58;Q6P9P6;P52732;P46874;F4II...</td>\n",
       "    </tr>\n",
       "    <tr>\n",
       "      <th>14</th>\n",
       "      <td>H.sapiens MKLP1</td>\n",
       "      <td>110</td>\n",
       "      <td>Plus, 4 µm/min</td>\n",
       "      <td>Spindle, poles and midbody</td>\n",
       "      <td>Separates poles at anaphase B?</td>\n",
       "      <td>HsMKLP1   LKTQLG-YCRVR-LGFPDQECCIEVINNTTVQLHTP...</td>\n",
       "      <td>6</td>\n",
       "      <td>HsMKLP1</td>\n",
       "      <td>LKTQLG-YCRVR-LGFPDQECCIEVINNTTVQLHTPEGYRL---NR...</td>\n",
       "      <td>HsMKLP1</td>\n",
       "      <td>Q02241;E9Q5G3;O95235;Q96Q89;Q80WE4;Q7TSP2;Q9V8...</td>\n",
       "    </tr>\n",
       "    <tr>\n",
       "      <th>15</th>\n",
       "      <td>M. musculus KIF2</td>\n",
       "      <td>81</td>\n",
       "      <td>Plus, 28 µm/min</td>\n",
       "      <td>Membranous vesicles</td>\n",
       "      <td>Abundant in developing axons, transport of spe...</td>\n",
       "      <td>MmKIF2    DEHRICVCVRKRPLNKKETQMKDLDVITIPSKDVVM...</td>\n",
       "      <td>13</td>\n",
       "      <td>MmKIF2</td>\n",
       "      <td>DEHRICVCVRKRPLNKKETQMKDLDVITIPSKDVVMVHEPKQKVD-...</td>\n",
       "      <td>MmKIF2</td>\n",
       "      <td>Q5R9Y9;P28740;O00139;Q9WV63;Q2NL05;Q5ZKV8;Q916...</td>\n",
       "    </tr>\n",
       "    <tr>\n",
       "      <th>16</th>\n",
       "      <td>D. melanogaster Ncd</td>\n",
       "      <td>78</td>\n",
       "      <td>Minus, 8-15 µm/min</td>\n",
       "      <td>Spindle/centrosomes</td>\n",
       "      <td>Required for formation of meiotic spindle, mit...</td>\n",
       "      <td>DmNcd     LRGNIRVFCRIRPPLESEENRMCCTWTYHDESTVEL...</td>\n",
       "      <td>14</td>\n",
       "      <td>DmNcd</td>\n",
       "      <td>LRGNIRVFCRIRPPLESEENRMCCTWTYHDESTVELQSIDA-----...</td>\n",
       "      <td>DmNcd</td>\n",
       "      <td>P20480;P28739;Q5XI63;P79955;Q60443;P46875;Q9BP...</td>\n",
       "    </tr>\n",
       "    <tr>\n",
       "      <th>17</th>\n",
       "      <td>S. cerevisiae Kar3</td>\n",
       "      <td>84</td>\n",
       "      <td>Minus, 1-2 µm/min</td>\n",
       "      <td>Spindle/poles</td>\n",
       "      <td>Required for karyogamy, mutants have mitotic d...</td>\n",
       "      <td>ScKAR3    LRGNIRVYCRIRPALKNLENSDTSLINVNEFDDNSG...</td>\n",
       "      <td>14</td>\n",
       "      <td>ScKAR3</td>\n",
       "      <td>LRGNIRVYCRIRPALKNLENSDTSLINVNEFDDNSGVQSME-----...</td>\n",
       "      <td>ScKAR3</td>\n",
       "      <td>P17119;Q9US03;P28739;Q92376;Q0J9V3;A3BFT0;P468...</td>\n",
       "    </tr>\n",
       "    <tr>\n",
       "      <th>18</th>\n",
       "      <td>C. griseus CHO2</td>\n",
       "      <td>69</td>\n",
       "      <td>Minus, 1-8 µm/min</td>\n",
       "      <td>Spindle/centrosomes</td>\n",
       "      <td>Spindle at mitosis, centrosome in interphase</td>\n",
       "      <td>CgCHO2    LKGNIRVFCRVRPVLAGEPTPSPGFLLFPHGPAGPS...</td>\n",
       "      <td>14</td>\n",
       "      <td>CgCHO2</td>\n",
       "      <td>LKGNIRVFCRVRPVLAGEPTPSPGFLLFPHGPAGPSDPPTRLSLSR...</td>\n",
       "      <td>CgCHO2</td>\n",
       "      <td>Q60443;Q5XI63;Q9QWT9;Q9BW19;P79955;P46875;P468...</td>\n",
       "    </tr>\n",
       "    <tr>\n",
       "      <th>19</th>\n",
       "      <td>X. laevis Klp2</td>\n",
       "      <td>159</td>\n",
       "      <td>Plus, 2-4 µm/min</td>\n",
       "      <td>Centrosomes, spindle poles</td>\n",
       "      <td>Required for centrosome separation and spindle...</td>\n",
       "      <td>Xlklp2    EEDAIKVFVRIRPPVEGTLTGVDGEQGLCLTALSST...</td>\n",
       "      <td>15</td>\n",
       "      <td>Xlklp2</td>\n",
       "      <td>EEDAIKVFVRIRPPVEGTLTGVDGEQGLCLTALSSTTIRL------...</td>\n",
       "      <td>Xlklp2</td>\n",
       "      <td>Q91785;Q498L9;Q9NS87;Q7TSP2;Q6P9L6;Q9GYZ0;B9FU...</td>\n",
       "    </tr>\n",
       "  </tbody>\n",
       "</table>\n",
       "</div>"
      ],
      "text/plain": [
       "                    Species/protein Molecular mass (kDa)  \\\n",
       "0               D. melanogaster KHC                  110   \n",
       "1                     L. pealii KHC                  109   \n",
       "2              N. crassa KHC (NKin)                  103   \n",
       "3            D. melanogaster Klp68D                   88   \n",
       "4                 M. musculus KIF3A                   80   \n",
       "5                 M. musculus KIF3B                   85   \n",
       "6               S. purpuratus KRP85                   79   \n",
       "7               S. purpuratus KRP95                   84   \n",
       "8                 M. musculus KIF1A                  192   \n",
       "9                 M. musculus KIF1B                  130   \n",
       "10                 M. musculus KIF4                  140   \n",
       "11           H. sapiens KSP (HsEg5)                  121   \n",
       "12  D. melanogaster Klp61F (KRP130)            121 (130)   \n",
       "13                    X. laevis Eg5                  119   \n",
       "14                  H.sapiens MKLP1                  110   \n",
       "15                 M. musculus KIF2                   81   \n",
       "16              D. melanogaster Ncd                   78   \n",
       "17               S. cerevisiae Kar3                   84   \n",
       "18                  C. griseus CHO2                   69   \n",
       "19                   X. laevis Klp2                  159   \n",
       "\n",
       "   Motor polarity & velocity                   Subcellular localization  \\\n",
       "0            Plus, 54 µm/min                       Diffuse in cytoplasm   \n",
       "1            Plus, 30 µm/min                        Membranous vesicles   \n",
       "2       Plus, 120-180 µm/min                                         ND   \n",
       "3            Plus, 18 µm/min                                         ND   \n",
       "4            Plus, 36 µm/min              Microsomes/ synaptic vesicles   \n",
       "5            Plus, 18 µm/min  Neurons, cell bodies, axons and dendrites   \n",
       "6            Plus, 24 µm/min                                         ND   \n",
       "7            Plus, 24 µm/min                                         ND   \n",
       "8            Plus, 72 µm/min                          Enriched in axons   \n",
       "9            Plus, 40 µm/min             Co-localizes with mitochondria   \n",
       "10         Plus, 2-12 µm/min       Membranous vesicles, mitotic spindle   \n",
       "11            Plus, 2 µm/min                                         ND   \n",
       "12            Plus, 2 µm/min                                         ND   \n",
       "13            Plus, 2 µm/min                                Spindle MTs   \n",
       "14            Plus, 4 µm/min                 Spindle, poles and midbody   \n",
       "15           Plus, 28 µm/min                        Membranous vesicles   \n",
       "16        Minus, 8-15 µm/min                        Spindle/centrosomes   \n",
       "17         Minus, 1-2 µm/min                              Spindle/poles   \n",
       "18         Minus, 1-8 µm/min                        Spindle/centrosomes   \n",
       "19          Plus, 2-4 µm/min                 Centrosomes, spindle poles   \n",
       "\n",
       "                                             Comments  \\\n",
       "0     Required for viability & neuromuscular function   \n",
       "1                                                 NaN   \n",
       "2   High velocity of microtubule transport; no cop...   \n",
       "3                                                 NaN   \n",
       "4                                                 NaN   \n",
       "5                                                 NaN   \n",
       "6                                                 NaN   \n",
       "7                                                 NaN   \n",
       "8       Associated with synaptic vesicles, monomeric?   \n",
       "9                 Transports mitochondria, monomeric?   \n",
       "10                       Motor for vesicle transport?   \n",
       "11  Essential for centrosome separation in mitosis...   \n",
       "12  Essential for centrosome separation in mitosis...   \n",
       "13  Required for spindle formation in vitro at mit...   \n",
       "14                     Separates poles at anaphase B?   \n",
       "15  Abundant in developing axons, transport of spe...   \n",
       "16  Required for formation of meiotic spindle, mit...   \n",
       "17  Required for karyogamy, mutants have mitotic d...   \n",
       "18       Spindle at mitosis, centrosome in interphase   \n",
       "19  Required for centrosome separation and spindle...   \n",
       "\n",
       "                                                  Seq  Type       KIF  \\\n",
       "0   DmKHC     AEDSIKVVCRFRPLNDSEEKAGSKFVVKFPNNVEEN...     1     DmKHC   \n",
       "1   LpKHC     SECNIKVICRVRPLNEAEERAGSKFILKFP---TDD...     1     LpKHC   \n",
       "2   NcKHC     SANSIKVVARFRPQNRVEIESGGQPIVTFQ---GPD...     1     NcKHC   \n",
       "3   Dmklp68D  PNECVQVVVRCRPMSNRERSERSPEVVNVYPNRGVV...     2  Dmklp68D   \n",
       "4   MmKIF3A   SCDNVKVVVRCRPLNEREKSMCYRQAVSVDEMRGTI...     2   MmKIF3A   \n",
       "5   MmKIF3B   SSESVRVVVRCRPMNGKEKAASYDKVVDVDVKLGQV...     2   MmKIF3B   \n",
       "6   SpKRP85   GNDNVRVVVRCRPLNSKETGQGFKSVVKMDEMRGTV...     2   SpKRP85   \n",
       "7   SpKRP95   SAETVKVVVRCRPMNSKEISQGHKRIVEMDNKRGLV...     2   SpKRP95   \n",
       "8   MmKIF1A   AGASVKVAVRVRPFNSREMSRDSKCIIQMSGSTTTI...     3   MmKIF1A   \n",
       "9   MmKIF1B   SGASVKVAVRVRPFNSRETSKESKCIIQMQGNSTSI...     3   MmKIF1B   \n",
       "10  MmKIF4    KGIPVRVALRCRPLVSKEIKEGCQTCLSFVPGEPQV...     4    MmKIF4   \n",
       "11  HsKSP     KGKNIQVVVRCRPFNLAERKASAHSIVECDPVRKEV...     5     HsKSP   \n",
       "12  DmKLP61F  SNQNIQVYVRVRPLNSRERCIRSAEVVDVVGPREVV...     5  DmKLP61F   \n",
       "13  XlEg5     KGKNIQVVVRCRPFNQLERKASSHSVLECDSQRKEV...     5     XlEg5   \n",
       "14  HsMKLP1   LKTQLG-YCRVR-LGFPDQECCIEVINNTTVQLHTP...     6   HsMKLP1   \n",
       "15  MmKIF2    DEHRICVCVRKRPLNKKETQMKDLDVITIPSKDVVM...    13    MmKIF2   \n",
       "16  DmNcd     LRGNIRVFCRIRPPLESEENRMCCTWTYHDESTVEL...    14     DmNcd   \n",
       "17  ScKAR3    LRGNIRVYCRIRPALKNLENSDTSLINVNEFDDNSG...    14    ScKAR3   \n",
       "18  CgCHO2    LKGNIRVFCRVRPVLAGEPTPSPGFLLFPHGPAGPS...    14    CgCHO2   \n",
       "19  Xlklp2    EEDAIKVFVRIRPPVEGTLTGVDGEQGLCLTALSST...    15    Xlklp2   \n",
       "\n",
       "                                               aa_seq   kif_acc  \\\n",
       "0   AEDSIKVVCRFRPLNDSEEKAGSKFVVKFPNNVEENCISIA-----...     DmKHC   \n",
       "1   SECNIKVICRVRPLNEAEERAGSKFILKFP---TDDSISIA-----...     LpKHC   \n",
       "2   SANSIKVVARFRPQNRVEIESGGQPIVTFQ---GPDTCTVD---SK...     NcKHC   \n",
       "3   PNECVQVVVRCRPMSNRERSERSPEVVNVYPNRGVVELQNVV----...  Dmklp68D   \n",
       "4   SCDNVKVVVRCRPLNEREKSMCYRQAVSVDEMRGTITVHKTD----...   MmKIF3A   \n",
       "5   SSESVRVVVRCRPMNGKEKAASYDKVVDVDVKLGQVSVKNPK----...   MmKIF3B   \n",
       "6   GNDNVRVVVRCRPLNSKETGQGFKSVVKMDEMRGTVQVTNPN----...   SpKRP85   \n",
       "7   SAETVKVVVRCRPMNSKEISQGHKRIVEMDNKRGLVEVTNPK----...   SpKRP95   \n",
       "8   AGASVKVAVRVRPFNSREMSRDSKCIIQMSGSTTTIVNPK-----Q...   MmKIF1A   \n",
       "9   SGASVKVAVRVRPFNSRETSKESKCIIQMQGNSTSIINPK-----N...   MmKIF1B   \n",
       "10  KGIPVRVALRCRPLVSKEIKEGCQTCLSFVPGEPQVVVGN-DKSFT...    MmKIF4   \n",
       "11  KGKNIQVVVRCRPFNLAERKASAHSIVECDPVRKEVSVRTG-----...     HsKSP   \n",
       "12  SNQNIQVYVRVRPLNSRERCIRSAEVVDVVGPREVVTRHTL-----...  DmKLP61F   \n",
       "13  KGKNIQVVVRCRPFNQLERKASSHSVLECDSQRKEVYVRTG-----...     XlEg5   \n",
       "14  LKTQLG-YCRVR-LGFPDQECCIEVINNTTVQLHTPEGYRL---NR...   HsMKLP1   \n",
       "15  DEHRICVCVRKRPLNKKETQMKDLDVITIPSKDVVMVHEPKQKVD-...    MmKIF2   \n",
       "16  LRGNIRVFCRIRPPLESEENRMCCTWTYHDESTVELQSIDA-----...     DmNcd   \n",
       "17  LRGNIRVYCRIRPALKNLENSDTSLINVNEFDDNSGVQSME-----...    ScKAR3   \n",
       "18  LKGNIRVFCRVRPVLAGEPTPSPGFLLFPHGPAGPSDPPTRLSLSR...    CgCHO2   \n",
       "19  EEDAIKVFVRIRPPVEGTLTGVDGEQGLCLTALSSTTIRL------...    Xlklp2   \n",
       "\n",
       "                                          uniprot_acc  \n",
       "0   P17210;P21613;P35978;P28738;O60282;Q61768;Q2PQ...  \n",
       "1   P21613;P17210;O60282;P28738;P33175;Q12840;P359...  \n",
       "2   P48467;Q86Z98;Q86ZC1;O43093;Q9US60;Q54UC9;P331...  \n",
       "3                                                 NaN  \n",
       "4   P28741;Q4R628;Q9Y496;Q5R4H3;P46872;P46871;Q617...  \n",
       "5   Q61771;O15066;P46871;Q5R706;O35066;O55165;O147...  \n",
       "6   P46872;Q4R628;Q9Y496;Q5R4H3;P28741;P46871;Q617...  \n",
       "7   P46871;O15066;Q61771;P46872;Q5R706;O14782;O350...  \n",
       "8   P33173;F1M4A4;Q12756;O60333;Q60575;O88658;O438...  \n",
       "9   Q60575;O88658;O60333;Q12756;F1M4A4;P33173;O350...  \n",
       "10  P33174;O95239;Q2VIQ3;Q90640;Q91784;F1M5N7;Q9QX...  \n",
       "11  P52732;Q6P9P6;B2GU58;P28025;Q91783;P46874;F4II...  \n",
       "12  P46863;P46874;B2GU58;Q91783;Q6P9P6;P52732;P280...  \n",
       "13  P28025;Q91783;B2GU58;Q6P9P6;P52732;P46874;F4II...  \n",
       "14  Q02241;E9Q5G3;O95235;Q96Q89;Q80WE4;Q7TSP2;Q9V8...  \n",
       "15  Q5R9Y9;P28740;O00139;Q9WV63;Q2NL05;Q5ZKV8;Q916...  \n",
       "16  P20480;P28739;Q5XI63;P79955;Q60443;P46875;Q9BP...  \n",
       "17  P17119;Q9US03;P28739;Q92376;Q0J9V3;A3BFT0;P468...  \n",
       "18  Q60443;Q5XI63;Q9QWT9;Q9BW19;P79955;P46875;P468...  \n",
       "19  Q91785;Q498L9;Q9NS87;Q7TSP2;Q6P9L6;Q9GYZ0;B9FU...  "
      ]
     },
     "execution_count": 137,
     "metadata": {},
     "output_type": "execute_result"
    }
   ],
   "source": [
    "kif_speed"
   ]
  },
  {
   "cell_type": "code",
   "execution_count": 141,
   "metadata": {},
   "outputs": [
    {
     "name": "stdout",
     "output_type": "stream",
     "text": [
      "[6, 15]\n",
      "[1, 2, 2, 2, 2, 5, 5, 5, 6]\n",
      "[4]\n",
      "[6]\n",
      "[13]\n",
      "[15]\n",
      "[2, 2, 3, 3]\n",
      "[3, 3]\n",
      "[1, 1, 1, 2, 2, 2, 2, 3, 3, 5, 5, 5, 6, 15]\n",
      "[6, 13]\n",
      "[1, 1, 1, 2, 2, 2, 2, 3, 3, 4, 5, 5, 5, 14, 15]\n",
      "[1, 1, 1, 15]\n",
      "[13]\n",
      "[6, 15]\n",
      "[14, 14, 14]\n",
      "[1, 1, 1]\n",
      "[3, 3]\n",
      "[1, 2, 5, 5, 5]\n",
      "[13]\n",
      "[1, 1, 1]\n",
      "[14, 14, 14]\n",
      "[14, 14]\n",
      "[2, 2, 2, 2, 4, 5, 5, 5]\n",
      "[13]\n",
      "[3, 3]\n",
      "[3, 3]\n",
      "[3, 6, 15]\n",
      "[4]\n",
      "[13]\n",
      "[4]\n",
      "[13]\n",
      "[13]\n",
      "[4, 6]\n",
      "[1, 2, 2, 2, 5, 5, 5, 6]\n",
      "[1, 2, 2, 2, 2, 5, 5, 5]\n",
      "[6]\n",
      "[6, 13]\n",
      "[1, 2, 2, 2, 2, 5, 5, 5, 6, 13]\n",
      "[13]\n",
      "[1, 1, 1, 2, 2, 2, 2, 3, 3, 4, 5, 5, 5, 15]\n",
      "[13]\n",
      "[3, 3]\n",
      "[6]\n",
      "[14, 14, 14]\n",
      "[14, 14, 14]\n",
      "[1, 1, 15]\n",
      "[13]\n",
      "[1, 1, 1, 2, 2, 2, 2, 3, 3, 4, 5, 5, 5, 15]\n",
      "[1, 6, 15]\n",
      "[1, 2, 3, 3, 4, 5, 5, 5, 13, 15]\n",
      "[1, 1]\n",
      "[1, 2, 2, 2, 2, 4, 5, 5, 5, 15]\n",
      "[13]\n",
      "[14, 14, 14]\n",
      "[1, 1, 1, 2, 2, 4, 5, 14]\n",
      "[6, 15]\n",
      "[4]\n",
      "[13]\n",
      "[2, 4, 5, 13]\n",
      "[4]\n",
      "[14, 14, 14]\n",
      "[14, 14, 14]\n",
      "[6, 13]\n",
      "[3, 3]\n",
      "[2, 3, 3]\n",
      "[4]\n",
      "[1, 1, 1]\n",
      "[14, 14, 14]\n",
      "[1, 1, 1]\n",
      "[2, 3, 3, 4]\n",
      "[14, 14, 14]\n",
      "[13]\n",
      "[1, 1, 1, 2, 2, 2, 2, 3, 3, 4, 5, 5, 5, 15]\n",
      "[14, 14, 14]\n",
      "[3, 3]\n",
      "[6, 13]\n",
      "[1, 1, 2, 3, 15]\n",
      "[14, 14, 14]\n",
      "[13]\n",
      "[14, 14, 14]\n",
      "[1, 2, 2, 2, 2, 4, 5, 5, 5, 15]\n",
      "[4]\n",
      "[14, 14, 14]\n",
      "[14, 14, 14]\n",
      "[1, 1, 15]\n"
     ]
    }
   ],
   "source": [
    "import scipy\n",
    "import scipy.stats\n",
    "speed_types = []\n",
    "for kif_id in kif_acc_all.loc[kif_acc_all[\"db_name\"] == \"kif_duke\",\"db_acc\"]:\n",
    "    ids = kif_id.split(\";\")[:-1]\n",
    "    types = list(kif_speed.loc[kif_speed[\"KIF\"].isin(ids),\"Type\"])\n",
    "    print(types)\n",
    "    speed_types.append(scipy.stats.mode(types)[0][0])"
   ]
  },
  {
   "cell_type": "code",
   "execution_count": 142,
   "metadata": {},
   "outputs": [
    {
     "data": {
      "text/plain": [
       "[2, 4, 6, 13]"
      ]
     },
     "execution_count": 142,
     "metadata": {},
     "output_type": "execute_result"
    }
   ],
   "source": [
    "speed_types[1:5]"
   ]
  },
  {
   "cell_type": "code",
   "execution_count": 143,
   "metadata": {},
   "outputs": [],
   "source": [
    "motor_uniprot.loc[motor_uniprot[\"label\"] == \"unlabeled\",\"label\"] = \"kinesin_0\"\n",
    "motor_uniprot.loc[motor_uniprot[\"label\"] == \"KLC\",\"label\"] = \"kinesin_16\"\n",
    "motor_uniprot.loc[motor_uniprot[\"label\"] == \"kinesin_14b\",\"label\"] = \"kinesin_14\""
   ]
  },
  {
   "cell_type": "code",
   "execution_count": 144,
   "metadata": {},
   "outputs": [],
   "source": [
    "motor_toolkit_type = motor_uniprot[\"label\"].apply(lambda s: int(s.split(\"kinesin_\")[1]))"
   ]
  },
  {
   "cell_type": "code",
   "execution_count": 145,
   "metadata": {},
   "outputs": [],
   "source": [
    "type_all = list(jp_type) + list(speed_types) + list(motor_toolkit_type)"
   ]
  },
  {
   "cell_type": "code",
   "execution_count": 146,
   "metadata": {},
   "outputs": [
    {
     "data": {
      "text/plain": [
       "623"
      ]
     },
     "execution_count": 146,
     "metadata": {},
     "output_type": "execute_result"
    }
   ],
   "source": [
    "len(type_all)"
   ]
  },
  {
   "cell_type": "code",
   "execution_count": 147,
   "metadata": {},
   "outputs": [
    {
     "data": {
      "text/html": [
       "<div>\n",
       "<style scoped>\n",
       "    .dataframe tbody tr th:only-of-type {\n",
       "        vertical-align: middle;\n",
       "    }\n",
       "\n",
       "    .dataframe tbody tr th {\n",
       "        vertical-align: top;\n",
       "    }\n",
       "\n",
       "    .dataframe thead th {\n",
       "        text-align: right;\n",
       "    }\n",
       "</style>\n",
       "<table border=\"1\" class=\"dataframe\">\n",
       "  <thead>\n",
       "    <tr style=\"text-align: right;\">\n",
       "      <th></th>\n",
       "      <th>Entry</th>\n",
       "      <th>db_acc</th>\n",
       "    </tr>\n",
       "    <tr>\n",
       "      <th>db_name</th>\n",
       "      <th></th>\n",
       "      <th></th>\n",
       "    </tr>\n",
       "  </thead>\n",
       "  <tbody>\n",
       "    <tr>\n",
       "      <th>kif_duke</th>\n",
       "      <td>85</td>\n",
       "      <td>85</td>\n",
       "    </tr>\n",
       "    <tr>\n",
       "      <th>kif_jp</th>\n",
       "      <td>481</td>\n",
       "      <td>481</td>\n",
       "    </tr>\n",
       "    <tr>\n",
       "      <th>motor_toolkit</th>\n",
       "      <td>57</td>\n",
       "      <td>57</td>\n",
       "    </tr>\n",
       "  </tbody>\n",
       "</table>\n",
       "</div>"
      ],
      "text/plain": [
       "               Entry  db_acc\n",
       "db_name                     \n",
       "kif_duke          85      85\n",
       "kif_jp           481     481\n",
       "motor_toolkit     57      57"
      ]
     },
     "execution_count": 147,
     "metadata": {},
     "output_type": "execute_result"
    }
   ],
   "source": [
    "kif_acc_all.groupby(\"db_name\").count()"
   ]
  },
  {
   "cell_type": "code",
   "execution_count": 148,
   "metadata": {},
   "outputs": [],
   "source": [
    "kif_acc_all[\"kinesin_family\"] = type_all"
   ]
  },
  {
   "cell_type": "code",
   "execution_count": 161,
   "metadata": {},
   "outputs": [
    {
     "data": {
      "text/html": [
       "<div>\n",
       "<style scoped>\n",
       "    .dataframe tbody tr th:only-of-type {\n",
       "        vertical-align: middle;\n",
       "    }\n",
       "\n",
       "    .dataframe tbody tr th {\n",
       "        vertical-align: top;\n",
       "    }\n",
       "\n",
       "    .dataframe thead th {\n",
       "        text-align: right;\n",
       "    }\n",
       "</style>\n",
       "<table border=\"1\" class=\"dataframe\">\n",
       "  <thead>\n",
       "    <tr style=\"text-align: right;\">\n",
       "      <th></th>\n",
       "      <th></th>\n",
       "      <th>Entry</th>\n",
       "      <th>db_acc</th>\n",
       "    </tr>\n",
       "    <tr>\n",
       "      <th>db_name</th>\n",
       "      <th>kinesin_family</th>\n",
       "      <th></th>\n",
       "      <th></th>\n",
       "    </tr>\n",
       "  </thead>\n",
       "  <tbody>\n",
       "    <tr>\n",
       "      <th rowspan=\"9\" valign=\"top\">kif_duke</th>\n",
       "      <th>1</th>\n",
       "      <td>11</td>\n",
       "      <td>11</td>\n",
       "    </tr>\n",
       "    <tr>\n",
       "      <th>2</th>\n",
       "      <td>14</td>\n",
       "      <td>14</td>\n",
       "    </tr>\n",
       "    <tr>\n",
       "      <th>3</th>\n",
       "      <td>10</td>\n",
       "      <td>10</td>\n",
       "    </tr>\n",
       "    <tr>\n",
       "      <th>4</th>\n",
       "      <td>8</td>\n",
       "      <td>8</td>\n",
       "    </tr>\n",
       "    <tr>\n",
       "      <th>5</th>\n",
       "      <td>2</td>\n",
       "      <td>2</td>\n",
       "    </tr>\n",
       "    <tr>\n",
       "      <th>6</th>\n",
       "      <td>10</td>\n",
       "      <td>10</td>\n",
       "    </tr>\n",
       "    <tr>\n",
       "      <th>13</th>\n",
       "      <td>14</td>\n",
       "      <td>14</td>\n",
       "    </tr>\n",
       "    <tr>\n",
       "      <th>14</th>\n",
       "      <td>15</td>\n",
       "      <td>15</td>\n",
       "    </tr>\n",
       "    <tr>\n",
       "      <th>15</th>\n",
       "      <td>1</td>\n",
       "      <td>1</td>\n",
       "    </tr>\n",
       "    <tr>\n",
       "      <th rowspan=\"15\" valign=\"top\">kif_jp</th>\n",
       "      <th>1</th>\n",
       "      <td>33</td>\n",
       "      <td>33</td>\n",
       "    </tr>\n",
       "    <tr>\n",
       "      <th>2</th>\n",
       "      <td>31</td>\n",
       "      <td>31</td>\n",
       "    </tr>\n",
       "    <tr>\n",
       "      <th>3</th>\n",
       "      <td>51</td>\n",
       "      <td>51</td>\n",
       "    </tr>\n",
       "    <tr>\n",
       "      <th>4</th>\n",
       "      <td>31</td>\n",
       "      <td>31</td>\n",
       "    </tr>\n",
       "    <tr>\n",
       "      <th>5</th>\n",
       "      <td>52</td>\n",
       "      <td>52</td>\n",
       "    </tr>\n",
       "    <tr>\n",
       "      <th>6</th>\n",
       "      <td>22</td>\n",
       "      <td>22</td>\n",
       "    </tr>\n",
       "    <tr>\n",
       "      <th>7</th>\n",
       "      <td>50</td>\n",
       "      <td>50</td>\n",
       "    </tr>\n",
       "    <tr>\n",
       "      <th>8</th>\n",
       "      <td>23</td>\n",
       "      <td>23</td>\n",
       "    </tr>\n",
       "    <tr>\n",
       "      <th>9</th>\n",
       "      <td>8</td>\n",
       "      <td>8</td>\n",
       "    </tr>\n",
       "    <tr>\n",
       "      <th>10</th>\n",
       "      <td>11</td>\n",
       "      <td>11</td>\n",
       "    </tr>\n",
       "    <tr>\n",
       "      <th>11</th>\n",
       "      <td>15</td>\n",
       "      <td>15</td>\n",
       "    </tr>\n",
       "    <tr>\n",
       "      <th>12</th>\n",
       "      <td>22</td>\n",
       "      <td>22</td>\n",
       "    </tr>\n",
       "    <tr>\n",
       "      <th>13</th>\n",
       "      <td>39</td>\n",
       "      <td>39</td>\n",
       "    </tr>\n",
       "    <tr>\n",
       "      <th>14</th>\n",
       "      <td>90</td>\n",
       "      <td>90</td>\n",
       "    </tr>\n",
       "    <tr>\n",
       "      <th>15</th>\n",
       "      <td>3</td>\n",
       "      <td>3</td>\n",
       "    </tr>\n",
       "    <tr>\n",
       "      <th rowspan=\"11\" valign=\"top\">motor_toolkit</th>\n",
       "      <th>0</th>\n",
       "      <td>15</td>\n",
       "      <td>15</td>\n",
       "    </tr>\n",
       "    <tr>\n",
       "      <th>3</th>\n",
       "      <td>1</td>\n",
       "      <td>1</td>\n",
       "    </tr>\n",
       "    <tr>\n",
       "      <th>4</th>\n",
       "      <td>2</td>\n",
       "      <td>2</td>\n",
       "    </tr>\n",
       "    <tr>\n",
       "      <th>5</th>\n",
       "      <td>2</td>\n",
       "      <td>2</td>\n",
       "    </tr>\n",
       "    <tr>\n",
       "      <th>7</th>\n",
       "      <td>1</td>\n",
       "      <td>1</td>\n",
       "    </tr>\n",
       "    <tr>\n",
       "      <th>8</th>\n",
       "      <td>1</td>\n",
       "      <td>1</td>\n",
       "    </tr>\n",
       "    <tr>\n",
       "      <th>9</th>\n",
       "      <td>3</td>\n",
       "      <td>3</td>\n",
       "    </tr>\n",
       "    <tr>\n",
       "      <th>10</th>\n",
       "      <td>7</td>\n",
       "      <td>7</td>\n",
       "    </tr>\n",
       "    <tr>\n",
       "      <th>11</th>\n",
       "      <td>2</td>\n",
       "      <td>2</td>\n",
       "    </tr>\n",
       "    <tr>\n",
       "      <th>14</th>\n",
       "      <td>1</td>\n",
       "      <td>1</td>\n",
       "    </tr>\n",
       "    <tr>\n",
       "      <th>16</th>\n",
       "      <td>22</td>\n",
       "      <td>22</td>\n",
       "    </tr>\n",
       "  </tbody>\n",
       "</table>\n",
       "</div>"
      ],
      "text/plain": [
       "                              Entry  db_acc\n",
       "db_name       kinesin_family               \n",
       "kif_duke      1                  11      11\n",
       "              2                  14      14\n",
       "              3                  10      10\n",
       "              4                   8       8\n",
       "              5                   2       2\n",
       "              6                  10      10\n",
       "              13                 14      14\n",
       "              14                 15      15\n",
       "              15                  1       1\n",
       "kif_jp        1                  33      33\n",
       "              2                  31      31\n",
       "              3                  51      51\n",
       "              4                  31      31\n",
       "              5                  52      52\n",
       "              6                  22      22\n",
       "              7                  50      50\n",
       "              8                  23      23\n",
       "              9                   8       8\n",
       "              10                 11      11\n",
       "              11                 15      15\n",
       "              12                 22      22\n",
       "              13                 39      39\n",
       "              14                 90      90\n",
       "              15                  3       3\n",
       "motor_toolkit 0                  15      15\n",
       "              3                   1       1\n",
       "              4                   2       2\n",
       "              5                   2       2\n",
       "              7                   1       1\n",
       "              8                   1       1\n",
       "              9                   3       3\n",
       "              10                  7       7\n",
       "              11                  2       2\n",
       "              14                  1       1\n",
       "              16                 22      22"
      ]
     },
     "execution_count": 161,
     "metadata": {},
     "output_type": "execute_result"
    }
   ],
   "source": [
    "kif_acc_all.groupby([\"db_name\",\"kinesin_family\"]).count()"
   ]
  },
  {
   "cell_type": "code",
   "execution_count": 156,
   "metadata": {},
   "outputs": [],
   "source": [
    "kif_acc_all.groupby([\"db_name\",\"kinesin_family\"])"
   ]
  },
  {
   "cell_type": "code",
   "execution_count": 150,
   "metadata": {},
   "outputs": [
    {
     "data": {
      "text/html": [
       "<div>\n",
       "<style scoped>\n",
       "    .dataframe tbody tr th:only-of-type {\n",
       "        vertical-align: middle;\n",
       "    }\n",
       "\n",
       "    .dataframe tbody tr th {\n",
       "        vertical-align: top;\n",
       "    }\n",
       "\n",
       "    .dataframe thead th {\n",
       "        text-align: right;\n",
       "    }\n",
       "</style>\n",
       "<table border=\"1\" class=\"dataframe\">\n",
       "  <thead>\n",
       "    <tr style=\"text-align: right;\">\n",
       "      <th></th>\n",
       "      <th>Entry</th>\n",
       "      <th>db_acc</th>\n",
       "      <th>db_name</th>\n",
       "    </tr>\n",
       "    <tr>\n",
       "      <th>kinesin_family</th>\n",
       "      <th></th>\n",
       "      <th></th>\n",
       "      <th></th>\n",
       "    </tr>\n",
       "  </thead>\n",
       "  <tbody>\n",
       "    <tr>\n",
       "      <th>0</th>\n",
       "      <td>15</td>\n",
       "      <td>15</td>\n",
       "      <td>15</td>\n",
       "    </tr>\n",
       "    <tr>\n",
       "      <th>1</th>\n",
       "      <td>44</td>\n",
       "      <td>44</td>\n",
       "      <td>44</td>\n",
       "    </tr>\n",
       "    <tr>\n",
       "      <th>2</th>\n",
       "      <td>45</td>\n",
       "      <td>45</td>\n",
       "      <td>45</td>\n",
       "    </tr>\n",
       "    <tr>\n",
       "      <th>3</th>\n",
       "      <td>62</td>\n",
       "      <td>62</td>\n",
       "      <td>62</td>\n",
       "    </tr>\n",
       "    <tr>\n",
       "      <th>4</th>\n",
       "      <td>41</td>\n",
       "      <td>41</td>\n",
       "      <td>41</td>\n",
       "    </tr>\n",
       "    <tr>\n",
       "      <th>5</th>\n",
       "      <td>56</td>\n",
       "      <td>56</td>\n",
       "      <td>56</td>\n",
       "    </tr>\n",
       "    <tr>\n",
       "      <th>6</th>\n",
       "      <td>32</td>\n",
       "      <td>32</td>\n",
       "      <td>32</td>\n",
       "    </tr>\n",
       "    <tr>\n",
       "      <th>7</th>\n",
       "      <td>51</td>\n",
       "      <td>51</td>\n",
       "      <td>51</td>\n",
       "    </tr>\n",
       "    <tr>\n",
       "      <th>8</th>\n",
       "      <td>24</td>\n",
       "      <td>24</td>\n",
       "      <td>24</td>\n",
       "    </tr>\n",
       "    <tr>\n",
       "      <th>9</th>\n",
       "      <td>11</td>\n",
       "      <td>11</td>\n",
       "      <td>11</td>\n",
       "    </tr>\n",
       "    <tr>\n",
       "      <th>10</th>\n",
       "      <td>18</td>\n",
       "      <td>18</td>\n",
       "      <td>18</td>\n",
       "    </tr>\n",
       "    <tr>\n",
       "      <th>11</th>\n",
       "      <td>17</td>\n",
       "      <td>17</td>\n",
       "      <td>17</td>\n",
       "    </tr>\n",
       "    <tr>\n",
       "      <th>12</th>\n",
       "      <td>22</td>\n",
       "      <td>22</td>\n",
       "      <td>22</td>\n",
       "    </tr>\n",
       "    <tr>\n",
       "      <th>13</th>\n",
       "      <td>53</td>\n",
       "      <td>53</td>\n",
       "      <td>53</td>\n",
       "    </tr>\n",
       "    <tr>\n",
       "      <th>14</th>\n",
       "      <td>106</td>\n",
       "      <td>106</td>\n",
       "      <td>106</td>\n",
       "    </tr>\n",
       "    <tr>\n",
       "      <th>15</th>\n",
       "      <td>4</td>\n",
       "      <td>4</td>\n",
       "      <td>4</td>\n",
       "    </tr>\n",
       "    <tr>\n",
       "      <th>16</th>\n",
       "      <td>22</td>\n",
       "      <td>22</td>\n",
       "      <td>22</td>\n",
       "    </tr>\n",
       "  </tbody>\n",
       "</table>\n",
       "</div>"
      ],
      "text/plain": [
       "                Entry  db_acc  db_name\n",
       "kinesin_family                        \n",
       "0                  15      15       15\n",
       "1                  44      44       44\n",
       "2                  45      45       45\n",
       "3                  62      62       62\n",
       "4                  41      41       41\n",
       "5                  56      56       56\n",
       "6                  32      32       32\n",
       "7                  51      51       51\n",
       "8                  24      24       24\n",
       "9                  11      11       11\n",
       "10                 18      18       18\n",
       "11                 17      17       17\n",
       "12                 22      22       22\n",
       "13                 53      53       53\n",
       "14                106     106      106\n",
       "15                  4       4        4\n",
       "16                 22      22       22"
      ]
     },
     "execution_count": 150,
     "metadata": {},
     "output_type": "execute_result"
    }
   ],
   "source": [
    "kif_acc_all.groupby(\"kinesin_family\").count()"
   ]
  },
  {
   "cell_type": "code",
   "execution_count": 151,
   "metadata": {},
   "outputs": [
    {
     "data": {
      "text/html": [
       "<div>\n",
       "<style scoped>\n",
       "    .dataframe tbody tr th:only-of-type {\n",
       "        vertical-align: middle;\n",
       "    }\n",
       "\n",
       "    .dataframe tbody tr th {\n",
       "        vertical-align: top;\n",
       "    }\n",
       "\n",
       "    .dataframe thead th {\n",
       "        text-align: right;\n",
       "    }\n",
       "</style>\n",
       "<table border=\"1\" class=\"dataframe\">\n",
       "  <thead>\n",
       "    <tr style=\"text-align: right;\">\n",
       "      <th></th>\n",
       "      <th>Entry</th>\n",
       "      <th>db_acc</th>\n",
       "      <th>db_name</th>\n",
       "      <th>kinesin_family</th>\n",
       "    </tr>\n",
       "  </thead>\n",
       "  <tbody>\n",
       "    <tr>\n",
       "      <th>0</th>\n",
       "      <td>Q7PG43</td>\n",
       "      <td>AgKHC</td>\n",
       "      <td>kif_jp</td>\n",
       "      <td>1</td>\n",
       "    </tr>\n",
       "    <tr>\n",
       "      <th>1</th>\n",
       "      <td>Q7PNB7</td>\n",
       "      <td>AgKlp31E</td>\n",
       "      <td>kif_jp</td>\n",
       "      <td>4</td>\n",
       "    </tr>\n",
       "    <tr>\n",
       "      <th>2</th>\n",
       "      <td>Q7PTK6</td>\n",
       "      <td>AgNcd</td>\n",
       "      <td>kif_jp</td>\n",
       "      <td>14</td>\n",
       "    </tr>\n",
       "    <tr>\n",
       "      <th>3</th>\n",
       "      <td>Q7QJN4</td>\n",
       "      <td>AgKin73</td>\n",
       "      <td>kif_jp</td>\n",
       "      <td>3</td>\n",
       "    </tr>\n",
       "    <tr>\n",
       "      <th>4</th>\n",
       "      <td>Q7QDS6</td>\n",
       "      <td>AgKlp68D</td>\n",
       "      <td>kif_jp</td>\n",
       "      <td>2</td>\n",
       "    </tr>\n",
       "    <tr>\n",
       "      <th>...</th>\n",
       "      <td>...</td>\n",
       "      <td>...</td>\n",
       "      <td>...</td>\n",
       "      <td>...</td>\n",
       "    </tr>\n",
       "    <tr>\n",
       "      <th>618</th>\n",
       "      <td>Q6Z9D2</td>\n",
       "      <td>KN7H_ORYSJ</td>\n",
       "      <td>motor_toolkit</td>\n",
       "      <td>0</td>\n",
       "    </tr>\n",
       "    <tr>\n",
       "      <th>619</th>\n",
       "      <td>Q6H638</td>\n",
       "      <td>KN7C_ORYSJ</td>\n",
       "      <td>motor_toolkit</td>\n",
       "      <td>0</td>\n",
       "    </tr>\n",
       "    <tr>\n",
       "      <th>620</th>\n",
       "      <td>Q292S8</td>\n",
       "      <td>COS_DROPS</td>\n",
       "      <td>motor_toolkit</td>\n",
       "      <td>4</td>\n",
       "    </tr>\n",
       "    <tr>\n",
       "      <th>621</th>\n",
       "      <td>Q6RT24</td>\n",
       "      <td>CENPE_MOUSE</td>\n",
       "      <td>motor_toolkit</td>\n",
       "      <td>8</td>\n",
       "    </tr>\n",
       "    <tr>\n",
       "      <th>622</th>\n",
       "      <td>O16844</td>\n",
       "      <td>COS_DROME</td>\n",
       "      <td>motor_toolkit</td>\n",
       "      <td>4</td>\n",
       "    </tr>\n",
       "  </tbody>\n",
       "</table>\n",
       "<p>623 rows × 4 columns</p>\n",
       "</div>"
      ],
      "text/plain": [
       "      Entry       db_acc        db_name  kinesin_family\n",
       "0    Q7PG43        AgKHC         kif_jp               1\n",
       "1    Q7PNB7     AgKlp31E         kif_jp               4\n",
       "2    Q7PTK6        AgNcd         kif_jp              14\n",
       "3    Q7QJN4      AgKin73         kif_jp               3\n",
       "4    Q7QDS6     AgKlp68D         kif_jp               2\n",
       "..      ...          ...            ...             ...\n",
       "618  Q6Z9D2   KN7H_ORYSJ  motor_toolkit               0\n",
       "619  Q6H638   KN7C_ORYSJ  motor_toolkit               0\n",
       "620  Q292S8    COS_DROPS  motor_toolkit               4\n",
       "621  Q6RT24  CENPE_MOUSE  motor_toolkit               8\n",
       "622  O16844    COS_DROME  motor_toolkit               4\n",
       "\n",
       "[623 rows x 4 columns]"
      ]
     },
     "execution_count": 151,
     "metadata": {},
     "output_type": "execute_result"
    }
   ],
   "source": [
    "kif_acc_all"
   ]
  },
  {
   "cell_type": "code",
   "execution_count": 153,
   "metadata": {},
   "outputs": [],
   "source": [
    "kif_acc_all.to_csv(\"../../data/kif/kif_acc_all.csv\",index = False)\n",
    "kif_uniprot_all.to_csv(\"../../data/kif/kif_uniprot_all.csv\", index = False)\n"
   ]
  },
  {
   "cell_type": "code",
   "execution_count": null,
   "metadata": {},
   "outputs": [],
   "source": []
  }
 ],
 "metadata": {
  "kernelspec": {
   "display_name": "Python (base)",
   "language": "python",
   "name": "base"
  },
  "language_info": {
   "codemirror_mode": {
    "name": "ipython",
    "version": 3
   },
   "file_extension": ".py",
   "mimetype": "text/x-python",
   "name": "python",
   "nbconvert_exporter": "python",
   "pygments_lexer": "ipython3",
   "version": "3.8.3"
  }
 },
 "nbformat": 4,
 "nbformat_minor": 2
}
