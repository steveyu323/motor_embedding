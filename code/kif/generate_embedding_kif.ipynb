{
 "cells": [
  {
   "cell_type": "code",
   "execution_count": 89,
   "metadata": {},
   "outputs": [],
   "source": [
    "from Bio import SeqIO\n",
    "import pandas as pd\n",
    "import numpy as np\n",
    "import matplotlib.pyplot as plt\n",
    "import seaborn as sns\n",
    "import tqdm \n",
    "import glob\n",
    "import re\n",
    "import requests\n",
    "import io\n",
    "\n",
    "import torch\n",
    "from argparse import Namespace\n",
    "from esm.constants import proteinseq_toks\n",
    "import math\n",
    "import torch.nn as nn\n",
    "import torch.nn.functional as F\n",
    "from esm.modules import TransformerLayer, PositionalEmbedding  # noqa\n",
    "from esm.model import ProteinBertModel\n",
    "import esm\n",
    "import time"
   ]
  },
  {
   "cell_type": "code",
   "execution_count": 2,
   "metadata": {},
   "outputs": [
    {
     "name": "stdout",
     "output_type": "stream",
     "text": [
      "cuda\n"
     ]
    },
    {
     "data": {
      "text/plain": [
       "<All keys matched successfully>"
      ]
     },
     "execution_count": 2,
     "metadata": {},
     "output_type": "execute_result"
    }
   ],
   "source": [
    "alphabet = esm.Alphabet.from_dict(proteinseq_toks)\n",
    "model_name = \"esm1_t34_670M_UR50S\"\n",
    "url = f\"https://dl.fbaipublicfiles.com/fair-esm/models/{model_name}.pt\"\n",
    "if torch.cuda.is_available():\n",
    "    print(\"cuda\")\n",
    "    model_data = torch.hub.load_state_dict_from_url(url, progress=False)\n",
    "else:\n",
    "    model_data = torch.hub.load_state_dict_from_url(url, progress=False, map_location=torch.device('cpu'))\n",
    "\n",
    "pra = lambda s: ''.join(s.split('decoder_')[1:] if 'decoder' in s else s)\n",
    "prs = lambda s: ''.join(s.split('decoder.')[1:] if 'decoder' in s else s)\n",
    "model_args = {pra(arg[0]): arg[1] for arg in vars(model_data[\"args\"]).items()}\n",
    "model_state_34 = {prs(arg[0]): arg[1] for arg in model_data[\"model\"].items()}\n",
    "model_t34 = esm.ProteinBertModel(Namespace(**model_args), len(alphabet), padding_idx=alphabet.padding_idx)\n",
    "model_t34.load_state_dict(model_state_34)"
   ]
  },
  {
   "cell_type": "code",
   "execution_count": 90,
   "metadata": {},
   "outputs": [],
   "source": [
    "kif_acc_all = pd.read_csv(\"../../data/kif/kif_acc_all.csv\")\n",
    "kif_uniprot_all = pd.read_csv(\"../../data/kif/kif_uniprot_all.csv\")"
   ]
  },
  {
   "cell_type": "code",
   "execution_count": 91,
   "metadata": {},
   "outputs": [
    {
     "data": {
      "text/html": [
       "<div>\n",
       "<style scoped>\n",
       "    .dataframe tbody tr th:only-of-type {\n",
       "        vertical-align: middle;\n",
       "    }\n",
       "\n",
       "    .dataframe tbody tr th {\n",
       "        vertical-align: top;\n",
       "    }\n",
       "\n",
       "    .dataframe thead th {\n",
       "        text-align: right;\n",
       "    }\n",
       "</style>\n",
       "<table border=\"1\" class=\"dataframe\">\n",
       "  <thead>\n",
       "    <tr style=\"text-align: right;\">\n",
       "      <th></th>\n",
       "      <th>Entry</th>\n",
       "      <th>db_acc</th>\n",
       "      <th>db_name</th>\n",
       "      <th>kinesin_family</th>\n",
       "    </tr>\n",
       "  </thead>\n",
       "  <tbody>\n",
       "    <tr>\n",
       "      <th>0</th>\n",
       "      <td>Q7PG43</td>\n",
       "      <td>AgKHC</td>\n",
       "      <td>kif_jp</td>\n",
       "      <td>1</td>\n",
       "    </tr>\n",
       "    <tr>\n",
       "      <th>1</th>\n",
       "      <td>Q7PNB7</td>\n",
       "      <td>AgKlp31E</td>\n",
       "      <td>kif_jp</td>\n",
       "      <td>4</td>\n",
       "    </tr>\n",
       "    <tr>\n",
       "      <th>2</th>\n",
       "      <td>Q7PTK6</td>\n",
       "      <td>AgNcd</td>\n",
       "      <td>kif_jp</td>\n",
       "      <td>14</td>\n",
       "    </tr>\n",
       "    <tr>\n",
       "      <th>3</th>\n",
       "      <td>Q7QJN4</td>\n",
       "      <td>AgKin73</td>\n",
       "      <td>kif_jp</td>\n",
       "      <td>3</td>\n",
       "    </tr>\n",
       "    <tr>\n",
       "      <th>4</th>\n",
       "      <td>Q7QDS6</td>\n",
       "      <td>AgKlp68D</td>\n",
       "      <td>kif_jp</td>\n",
       "      <td>2</td>\n",
       "    </tr>\n",
       "  </tbody>\n",
       "</table>\n",
       "</div>"
      ],
      "text/plain": [
       "    Entry    db_acc db_name  kinesin_family\n",
       "0  Q7PG43     AgKHC  kif_jp               1\n",
       "1  Q7PNB7  AgKlp31E  kif_jp               4\n",
       "2  Q7PTK6     AgNcd  kif_jp              14\n",
       "3  Q7QJN4   AgKin73  kif_jp               3\n",
       "4  Q7QDS6  AgKlp68D  kif_jp               2"
      ]
     },
     "execution_count": 91,
     "metadata": {},
     "output_type": "execute_result"
    }
   ],
   "source": [
    "kif_acc_all.head()"
   ]
  },
  {
   "cell_type": "code",
   "execution_count": 92,
   "metadata": {
    "scrolled": true
   },
   "outputs": [
    {
     "data": {
      "text/html": [
       "<div>\n",
       "<style scoped>\n",
       "    .dataframe tbody tr th:only-of-type {\n",
       "        vertical-align: middle;\n",
       "    }\n",
       "\n",
       "    .dataframe tbody tr th {\n",
       "        vertical-align: top;\n",
       "    }\n",
       "\n",
       "    .dataframe thead th {\n",
       "        text-align: right;\n",
       "    }\n",
       "</style>\n",
       "<table border=\"1\" class=\"dataframe\">\n",
       "  <thead>\n",
       "    <tr style=\"text-align: right;\">\n",
       "      <th></th>\n",
       "      <th>Entry</th>\n",
       "      <th>Entry name</th>\n",
       "      <th>Status</th>\n",
       "      <th>Protein names</th>\n",
       "      <th>Gene names</th>\n",
       "      <th>Organism</th>\n",
       "      <th>Length</th>\n",
       "      <th>seq</th>\n",
       "    </tr>\n",
       "  </thead>\n",
       "  <tbody>\n",
       "    <tr>\n",
       "      <th>0</th>\n",
       "      <td>Q7PG43</td>\n",
       "      <td>Q7PG43_ANOGA</td>\n",
       "      <td>unreviewed</td>\n",
       "      <td>Kinesin-like protein</td>\n",
       "      <td>1271664 AgaP_AGAP000561</td>\n",
       "      <td>Anopheles gambiae (African malaria mosquito)</td>\n",
       "      <td>983</td>\n",
       "      <td>MSGVREIPAEDSIKVVCRFRPLNDSEELAGSKFVVKFPSGPEENCL...</td>\n",
       "    </tr>\n",
       "    <tr>\n",
       "      <th>1</th>\n",
       "      <td>Q7PNB7</td>\n",
       "      <td>Q7PNB7_ANOGA</td>\n",
       "      <td>unreviewed</td>\n",
       "      <td>AGAP007815-PA (Fragment)</td>\n",
       "      <td>AgaP_AGAP007815</td>\n",
       "      <td>Anopheles gambiae (African malaria mosquito)</td>\n",
       "      <td>1033</td>\n",
       "      <td>LLTNVFSLSLFLGHRFRIRPQIPRELIDMCRVCTQVTPGEPQVLLG...</td>\n",
       "    </tr>\n",
       "    <tr>\n",
       "      <th>2</th>\n",
       "      <td>Q7PTK6</td>\n",
       "      <td>Q7PTK6_ANOGA</td>\n",
       "      <td>unreviewed</td>\n",
       "      <td>Kinesin-like protein</td>\n",
       "      <td>1269313 AgaP_AGAP002248</td>\n",
       "      <td>Anopheles gambiae (African malaria mosquito)</td>\n",
       "      <td>762</td>\n",
       "      <td>MDSRIPKPSFLKKPTGPLSLPGNARLPLTRDLLNLPSANSTMFAKV...</td>\n",
       "    </tr>\n",
       "    <tr>\n",
       "      <th>3</th>\n",
       "      <td>Q7QJN4</td>\n",
       "      <td>Q7QJN4_ANOGA</td>\n",
       "      <td>unreviewed</td>\n",
       "      <td>AGAP007592-PA</td>\n",
       "      <td>AgaP_AGAP007592</td>\n",
       "      <td>Anopheles gambiae (African malaria mosquito)</td>\n",
       "      <td>1944</td>\n",
       "      <td>MSDKIRVAVRVRPFNRRELELATENVIEMNGTQTILKYPASLDKME...</td>\n",
       "    </tr>\n",
       "    <tr>\n",
       "      <th>4</th>\n",
       "      <td>Q7QDS6</td>\n",
       "      <td>Q7QDS6_ANOGA</td>\n",
       "      <td>unreviewed</td>\n",
       "      <td>Kinesin-like protein (Fragment)</td>\n",
       "      <td>AgaP_AGAP010396</td>\n",
       "      <td>Anopheles gambiae (African malaria mosquito)</td>\n",
       "      <td>781</td>\n",
       "      <td>MDRTIKTRSNLSNTKNECVQVVVRCRPLNNKELTGNFQKVVDVFPS...</td>\n",
       "    </tr>\n",
       "  </tbody>\n",
       "</table>\n",
       "</div>"
      ],
      "text/plain": [
       "    Entry    Entry name      Status                    Protein names  \\\n",
       "0  Q7PG43  Q7PG43_ANOGA  unreviewed             Kinesin-like protein   \n",
       "1  Q7PNB7  Q7PNB7_ANOGA  unreviewed         AGAP007815-PA (Fragment)   \n",
       "2  Q7PTK6  Q7PTK6_ANOGA  unreviewed             Kinesin-like protein   \n",
       "3  Q7QJN4  Q7QJN4_ANOGA  unreviewed                    AGAP007592-PA   \n",
       "4  Q7QDS6  Q7QDS6_ANOGA  unreviewed  Kinesin-like protein (Fragment)   \n",
       "\n",
       "                Gene names                                      Organism  \\\n",
       "0  1271664 AgaP_AGAP000561  Anopheles gambiae (African malaria mosquito)   \n",
       "1          AgaP_AGAP007815  Anopheles gambiae (African malaria mosquito)   \n",
       "2  1269313 AgaP_AGAP002248  Anopheles gambiae (African malaria mosquito)   \n",
       "3          AgaP_AGAP007592  Anopheles gambiae (African malaria mosquito)   \n",
       "4          AgaP_AGAP010396  Anopheles gambiae (African malaria mosquito)   \n",
       "\n",
       "   Length                                                seq  \n",
       "0     983  MSGVREIPAEDSIKVVCRFRPLNDSEELAGSKFVVKFPSGPEENCL...  \n",
       "1    1033  LLTNVFSLSLFLGHRFRIRPQIPRELIDMCRVCTQVTPGEPQVLLG...  \n",
       "2     762  MDSRIPKPSFLKKPTGPLSLPGNARLPLTRDLLNLPSANSTMFAKV...  \n",
       "3    1944  MSDKIRVAVRVRPFNRRELELATENVIEMNGTQTILKYPASLDKME...  \n",
       "4     781  MDRTIKTRSNLSNTKNECVQVVVRCRPLNNKELTGNFQKVVDVFPS...  "
      ]
     },
     "execution_count": 92,
     "metadata": {},
     "output_type": "execute_result"
    }
   ],
   "source": [
    "kif_uniprot_all.head()"
   ]
  },
  {
   "cell_type": "code",
   "execution_count": 93,
   "metadata": {},
   "outputs": [],
   "source": [
    "kif_all = pd.concat([kif_acc_all,kif_uniprot_all],axis = 1)"
   ]
  },
  {
   "cell_type": "code",
   "execution_count": 94,
   "metadata": {},
   "outputs": [
    {
     "data": {
      "text/plain": [
       "(623, 12)"
      ]
     },
     "execution_count": 94,
     "metadata": {},
     "output_type": "execute_result"
    }
   ],
   "source": [
    "kif_all.shape"
   ]
  },
  {
   "cell_type": "code",
   "execution_count": 95,
   "metadata": {},
   "outputs": [
    {
     "data": {
      "text/plain": [
       "1    LLTNVFSLSLFLGHRFRIRPQIPRELIDMCRVCTQVTPGEPQVLLG...\n",
       "2    MDSRIPKPSFLKKPTGPLSLPGNARLPLTRDLLNLPSANSTMFAKV...\n",
       "3    MSDKIRVAVRVRPFNRRELELATENVIEMNGTQTILKYPASLDKME...\n",
       "4    MDRTIKTRSNLSNTKNECVQVVVRCRPLNNKELTGNFQKVVDVFPS...\n",
       "Name: seq, dtype: object"
      ]
     },
     "execution_count": 95,
     "metadata": {},
     "output_type": "execute_result"
    }
   ],
   "source": [
    "kif_all.iloc[1:5,11]"
   ]
  },
  {
   "cell_type": "code",
   "execution_count": 96,
   "metadata": {},
   "outputs": [
    {
     "data": {
      "text/plain": [
       "(623, 4)"
      ]
     },
     "execution_count": 96,
     "metadata": {},
     "output_type": "execute_result"
    }
   ],
   "source": [
    "kif_acc_all.shape"
   ]
  },
  {
   "cell_type": "code",
   "execution_count": 97,
   "metadata": {},
   "outputs": [
    {
     "data": {
      "text/plain": [
       "(623, 8)"
      ]
     },
     "execution_count": 97,
     "metadata": {},
     "output_type": "execute_result"
    }
   ],
   "source": [
    "kif_uniprot_all.shape"
   ]
  },
  {
   "cell_type": "code",
   "execution_count": 21,
   "metadata": {},
   "outputs": [],
   "source": [
    "print_every = 100\n",
    "def generate_embedding_transformer_t34(model,batch_converter,dat,dat_name,out_dir,seq_col):\n",
    "    # initialize network \n",
    "    model.cuda()\n",
    "    sequence_embeddings = []\n",
    "    for epoch in range(dat.shape[0]):\n",
    "        data = [(dat.iloc[epoch, 1], dat.iloc[epoch, seq_col])]\n",
    "        _, _, batch_tokens = batch_converter(data)\n",
    "        with torch.no_grad():\n",
    "            results = model(batch_tokens.to('cuda'), repr_layers=[34])\n",
    "            # last layer\n",
    "            token_embeddings = results[\"representations\"][34]\n",
    "            seq = dat.iloc[epoch,seq_col]\n",
    "            sequence_embeddings.append(token_embeddings[0, 1:len(seq) + 1].mean(0).cpu().detach().numpy())\n",
    "        if epoch % print_every == 0:\n",
    "            print(f\"At Epoch: %.2f\"% epoch)\n",
    "            print(seq)\n",
    "    sequence_embeddings = np.array(sequence_embeddings)\n",
    "    print(sequence_embeddings.shape)\n",
    "    print(out_dir + '/' + dat_name + \".npy\")\n",
    "    np.save(out_dir + '/' + dat_name + \".npy\", sequence_embeddings)\n",
    "    return "
   ]
  },
  {
   "cell_type": "code",
   "execution_count": 23,
   "metadata": {},
   "outputs": [
    {
     "name": "stdout",
     "output_type": "stream",
     "text": [
      "At Epoch: 0.00\n",
      "MSGVREIPAEDSIKVVCRFRPLNDSEELAGSKFVVKFPSGPEENCLSIGGKVYLFDKVFKPNATQEKVYNEAAKSIVSDVLAGYNGTIFAYGQTSSGKTHTMEGVIGDPAKQGIIPRIVNDIFNHIYTMEMNIEFHIKVSYYEIYMDKIRDLLDVSKVNLSVHEDKNRVPYVKGASERFVSSPEEVFEVIEEGKSNRHIAVTNMNEHSSRSHSVFLINVKQENMENEKKLSGKLYLVDLAGSEKVSKTGAEGTVLDEAKNINKSLSALGNVISALADGNKTHIPYRDSKLTRILQESLGGNARTTIVICCSPASFNESETKSTLDFGRRAKTVKNVVCVNEELTAEEWKRRYEREKEKNTKLKGKIEKLEAELARWRAGETVNVEEQLDLQQDAMEASTPNVEVLLAQPADLPVPATPGGGGLPLSAERDTLEVERERLYQQLDEKDEEINQQSQYVEKLKEQIIDQEELIANTRRDYENLQSEMTRIQQENENAKEEVKEVLQALEELAVNYDQKSQEIELKNKEIDMVNDELLQKQTTLNSVQSELQQLKDMSSHQKKRINEMLTNLLRDLSEVGQALAADQNEMKMNVEASAGKVEEEFTVARLYISKMKSEAKNLSARCANLETLQQDTCRKVGDYEKDLSECRLLISQHEARMKSLQESMREAENKKRTLEENIDALREECAKLKAAEQVSAVNAEEKQRADQLKVAFESQMDQLRDVHTKQVSALRDEISEKQELINELKDTNQKLTLAHQQMTADYEKLKQEEQEKSAKLQTLMLTDERREQARKDLKGLEDTVAKELQSLHALRKLFVLDLQARIKKSLNSEDTEDDGGSLAQKQKISFLENNLEQLTKVHKQLVRDNADLRCELPKLEKRLRTTVERVKALETALKEAKEGAMRDRKRYQYEVDRIKEAVRQKNLARRGPQAQIAKPIRAGQGQYLFKSGGTGAATTAPGGGTAITPKAMADEKRKSQIKDMDS\n",
      "At Epoch: 100.00\n",
      "MGKGDSIIVAVRVRPFNDREKTRNCKLVIEMPDEETTVIRDPKTNDEKRFTYDHSYWSHDGFSEKKNGYLEPTDPHYADQRRVFEDLGRGVLANAWAGYNCSLFAYGQTGSGKSYSIVGFKNNKGIVPIVCEELFKQIADNKKKNMQFEVFVSMMEIYCEKVRDLLSSTPPPKGGLKVREHPKNGFYVENLTTVPVNSFKEIEAKIEEGTKSRTIAATQMNATSSRAHTIVKITFNQKSSKQAGGTSMKKSEINLVDLAGSERQSAAGTEGDRLKEGIVINQSLTTLGRVIKALHDSQKAKSGKKTQIPYRDSVLTCLLKNALGGNSKTIMIAAISPADINFEETLSTLRFADRAKSIKTNAVVNENQTERALRELREENLRLQSQIQGGTAGDASNEEIEKLRRQLAENQKEMEEMEKSWQQKIAEEAAKHASGASEKVEMEAKKKKMCHLWNLNEDPALTNVIVHFIPVGESVVGNKPTSSGNFIQMSGLSILPQHVTLKNDGNNQIHLSPCSEDLDIFINGKPVHGETQLQQNDRVFFGGNHLYVFNNPTKKGIRTDITYENAQAEIAQNHAAALGNRGLGGGSKRDLILEEELMSTLPLVQRANAMATELGRNVKFEIVLVSPEMRGLTSGLTEIWVKVHNISEDTYFLWEKSRFMNRYYGMQEMYEAKQDGSEDWNMPKERDPFYEPPDSPVFIASSVVFLQSLAYLIDVEEQFPIVDLSGQEIGLLTVGLSPCSTTGKELRGEYVEDPDQLIGKNIAFKVKVISAVGLPRRILKSNCKYRFFGSKKMTTTATVSGNTPAYGHEETFQFKPVTKEVADYLANSNLYITFWGTQRPRGASSRKNSISTIGSNEAREGPNKAKRVERLVHQAKTSENRNISVKALETVLKGVDDNENRKTRKQSMKKAGSTTIKSRSGSKKPKAK\n",
      "At Epoch: 200.00\n",
      "MKDPVVLASGQTYDRPFIQEWLNSGNRTCPQSHQILPNTILTPNHLVHRMISQWCIEHDVSLPPLDNEQDEDKGLITVTEKNVLDGLLQKICSPSSVMEQKRALSELRLLTKCKRSFRALIGENDDAISQLLAVPSIPELSADPKVQEDAVTTILNISINETNKKIVGDNPQAIPFLIDALKAGRIETCSNSAAALFSLSALDSNKLKIGELGAMKPLIELLEQGSSSARKDAGSAVFSLCLAHENRARAVSGGVLGVVLKAITDRSLVNESLAILALLSSNQEAIEEIAETGGVPCLLSIIRESSCARNKENAVAVLYSICMYDRKRLREVGEEEDSNGIISQLVQNGTSRARRKAAGILDKWKRTLRLHYSC\n",
      "At Epoch: 300.00\n",
      "MLGAADESSVRVAVRIRPQLAKEKIEGCHICTSVTPGEPQVFLGKDKAFTFDYVFDIDSQQEQIYTQCIEKLIEGCFEGYNATVFAYGQTGAGKTYTMGTGFDVNIMEEEQGIISRAVRHLFKSIDEKKTSAIKNGLPPPEFKVNAQFLELYNEEVLDLFDTTRDIDAKNKKSNIRIHEDSTGGIYTVGVTTRTVNTEPEMMQCLKLGALSRTTASTQMNVQSSRSHAIFTIHVCQTRVCPQTDAENATDNKLISESSPMNEFETLTAKFHFVDLAGSERLKRTGATGERAKEGISINCGLLALGNVISALGDKSKRATHVPYRDSKLTRLLQDSLGGNSQTIMIACVSPSDRDFMETLNTLKYANRARNIKNKVMVNQDRASQQINALRSEITRLQMELMEYKTGKRIIDEEGVESINDMFHENAMLQTENNNLRVRIKAMQETVDALRARITQLVSEQANQVLARAGEGNEEISNMIHSYIKEIEDLRAKLLESEAVNENLRKNLTRATARSPYFSASSAFSPTILSSDKETIEIIDLAKKDLEKLKRKEKKKKKRLQKLEESGREERSVAGKDDNADTDQEKKEEKGVSEKENNELDVEENQEVSDHEDEEEEEEDEEEEDDIEGEESSDESDSESDEKANYQADLANITCEIAIKQKLIDELENSQKRLQTLKKQYEEKLMMLQHKIRDTQLERDQVLQNLGSVESYSEEKAKKVKCEYEKKLHAMNKELQRLQTAQKEHARLLKNQSQYEKQLKKLQQDVMEMKKTKVRLMKQMKEEQEKARLTESRRNREIAQLKKDQRKRDHQLRLLEAQKRNQEVVLRRKTEEVTALRRQVRPMSDKVAGKVTRKLSSSESPAPDTGSSAASGEADTSRPGTQQKMRIPVARVQALPTPTTNGTRKKYQRKGFTGRVFTSKTARMKWQLLERRVTDIIMQKMTISNMEADMNRLLRQREELTKRREKLSKRREKIVKESGEGDKSVANIIEEMESLTANIDYINDSIADCQANIMQMEEAKEEGETLDVTAVINACTLTEARYLLDHFLSMGINKGLQAAQKEAQIKVLEGRLKQTEITSATQNQLLFHMLKEKAELNPELDALLGHALQDLDGAPPENEEDSSEEDGPLHSPGSEGSTLSSDLMKLCGEVKPKNKARRRTTTQMELLYADSSEVASDTSAGDASLSGPLAPVAEGQEIGMNTETSGTSARDKELLAPSGLPSKIGSISRQSSLSEKKVPEPSPVTRRKAYEKADKPKAKEHKHSDSGASETSLSPPSSPPSRPRNELNVFNRLTVPQGTPSVQQDKSDESDSSLSEVHRGIINPFPACKGVRASPLQCVHIAEGHTKAVLCVDSTDDLLFTGSKDRTCKVWNLVTGQEIMSLGVHPNNVVSVKYCNYTSLVFTVSTSYIKVWDIRESAKCIRTLTSSGQVTLGEACSASTSRTVAIPSGESQINQIALNPTGTFLYAASGNAVRMWDLKRFQSTGKLTGHLGPVMCLTVDQISNGQDLIITGSKDHYIKMFDVTEGALGTVSPTHNFEPPHYDGIEALAIQGDNLFSGSRDNGIKKWDLAQKGLLQQVPNAHKDWVCALGLVPGHPVLLSGCRGGILKLWNVDTFVPVGEMRGHDSPINAICVNSTHVFTAADDRTVRIWKAHNLQDGQLSDTGDLGEDIASN\n",
      "At Epoch: 400.00\n",
      "MPAENQNTGQDRSSNSISKNGNSQVGCHTVPNEELNITVAVRCRGRNEREISMKSSVVVNVPDITGSKEISINTTGDTGITAQMNAKRYTVDKVFGPGASQDLIFDEVAGPLFQDFIKGYNCTVLVYGMTSTGKTYTMTGDEKLYNGELSDAAGIIPRVLLKLFDTLELQQNDYVVKCSFIELYNEELKDLLDSNSNGSSNTGFDGQFMKKLRIFDSSTANNTTSNSASSSRSNSRNSSPRSLNDLTPKAALLRKRLRTKSLPNTIKQQYQQQQAVNSRNNSSSNSGSTTNNASSNTNTNNGQRSSMAPNDQTNGIYIQNLQEFHITNAMEGLNLLQKGLKHRQVASTKMNDFSSRSHTIFTITLYKKHQDELFRISKMNLVDLAGSENINRSGALNQRAKEAGSINQSLLTLGRVINALVDKSGHIPFRESKLTRLLQDSLGGNTKTALIATISPAKVTSEETCSTLEYASKAKNIKNKPQLGSFIMKDILVKNITMELAKIKSDLLSTKSKEGIYMSQDHYKNLNSDLESYKNEVQECKREIESLTSKNALLVKDKLKSKETIQSQNCQIESLKTTIDHLRAQLDKQHKTEIEISDFNNKLQKLTEVMQMALHDYKKRELDLNQKFEMHITKEIKKLKSTLFLQLNTMQQESILQETNIQPNLDMIKNEVLTLMRTMQEKAELMYKDCVKKILNESPKFFNVVIEKIDIIRVDFQKFYKNIAENLSDISEENNNMKQYLKNHFFKNNHQELLNRHVDSTYENIEKRTNEFVENFKKVLNDHLDENKKLIMQNLTTATSAVIDQEMDLFEPKRVKWENSFDLINDCDSMNNEFYNSMAATLSQIKSTVDTSSNSMNESISVMKGQVEESENAISLLKNNTKFNDQFEQLINKHNMLKDNIKNSITSTHSHITNVDDIYNTIENIMKNYGNKENATKDEMIENILKEIPNLSKKMPLRLSNINSNSVQSVISPKKHAIEDENKSSENVDNEGSRKMLKIE\n",
      "At Epoch: 500.00\n",
      "MADPAECNIKVMCRFRPLNESEVNRGDKYVAKFQGEDTVMIASKPYAFDRVFQSSTSQEQVYNDCAKKIVKDVLEGYNGTIFAYGQTSSGKTHTMEGKLHDPEGMGIIPRIVQDIFNYIYSMDENLEFHIKVSYFEIYLDKIRDLLDVSKTNLSVHEDKNRVPYVKGCTERFVCSPDEVMDTIDEGKSNRHVAVTNMNEHSSRSHSIFLINVKQENTQTEQKLSGKLYLVDLAGSEKVSKTGAEGAVLDEAKNINKSLSALGNVISALAEGSTYVPYRDSKMTRILQDSLGGNCRTTIVICCSPSSYNESETKSTLLFGQRAKTIKNTVCVNVELTAEQWKKKYEKEKEKNKTLRNTIQWLENELNRWRNGETVPIDEQFDKEKANLEAFTADKDVAITNDKPAAAIGMAGSFTDAERRKCEEEIAKLYKQLDDKDEEINQQSQLVEKLKTQMLDQEELLASTRRDQDNMQAELNRLQAENDASKEEVKEVLQALEELAVNYDQKSQEVEDKTKEYELLSDELNQKSATLASIDAELQKLKEMTNHQKKRAAEMMASLLKDLAEIGIAVGNNDVKQPEGTGMIDEEFTVARLYISKMKSEVKTMVKRCKQLESTQTESNKKMEENEKELAACQLRISQHEAKIKSLTEYLQNVEQKKRQLEESVDSLGEELVQLRAQEKVHEMEKEHLNKVQTANEVKQAVEQQIQSHRETHQKQISSLRDEVEAKEKLITDLQDQNQKMVLEQERLRVEHERLKAVDQEKSRKLHELTVMQDRREQARQDLKGLEETVAKELQTLHNLRKLFVQDLATRVKKSAEVDSDDTGGSAAQKQKISFLENNLEQLTKVHKQLVRDNADLRCELPKLEKRLRATAERVKALESALKEAKENASRDRKRYQQEVDRIKEAVRSKNMARRGHSAQIAKPIRPGQHPAASPTHPGAVRGGGSFVQNNQPVGLRGGGGKQA\n",
      "At Epoch: 600.00\n",
      "MSGLVLGQRDEPAGHRLSQEEILGSTRLVSQGLESLHSEHQAVLQSLSHTIECLQQGGHEEGLVHEKARQLRRSMENIELGLSEAQVMLALASHLSTVESEKQKLRAQVRRLCQENQWLRDELAGTQQRLQRSEQAVAQLEEEKKHLEFLRQLRQYDEDGHSMEEKEGDASKDSLDDLFPNEEEEDSSNDLSRGQGAAAAQQGGYEIPARLRTLHNLVIQYAAQGRYEVAVPLCKQALEDLERTSGRGHPDVATMLNILALVYRDQNKYKEAAHLLNDALSIRESTLGRDHPAVAATLNNLAVLYGKRGKYKEAEPLCQRALEIREKVLGTDHPDVAKQLNNLALLCQNQGKYEAVERYYQRALAIYERQLGPDNPNVARTKNNLASCYLKQGKYSEAETLYKEILTRAHVQEFGSVDDDHKPIWMHAEEREEMSRSRSRESGTPYAEYGGWYKACRVSSPTVNTTLRNLGALYRRQGKLEAAETLEECALRSRKQGTDPISQTKVAELLGEGDGRKTMQEGPGDSVKFEGGEDASVAVEWSGDGSGTLQRSGSLGKIRDVLRRSSELLVRKLQGTEPRPSSSNMKRAASLNYLNQPNAAPLQTSRGLSASTVDLSSSS\n",
      "(623, 1280)\n",
      "../../data/kif//kif_all_t34.npy\n"
     ]
    }
   ],
   "source": [
    "batch_converter = alphabet.get_batch_converter()\n",
    "out_dir = \"../../data/kif/\"\n",
    "generate_embedding_transformer_t34(model_t34,batch_converter,kif_all,\"kif_all_t34\",out_dir,seq_col = 11)"
   ]
  },
  {
   "cell_type": "code",
   "execution_count": null,
   "metadata": {},
   "outputs": [],
   "source": []
  },
  {
   "cell_type": "markdown",
   "metadata": {},
   "source": [
    "## Generate embedding for t12 esm model without evotune"
   ]
  },
  {
   "cell_type": "code",
   "execution_count": 25,
   "metadata": {},
   "outputs": [
    {
     "name": "stdout",
     "output_type": "stream",
     "text": [
      "cuda\n"
     ]
    },
    {
     "data": {
      "text/plain": [
       "<All keys matched successfully>"
      ]
     },
     "execution_count": 25,
     "metadata": {},
     "output_type": "execute_result"
    }
   ],
   "source": [
    "alphabet = esm.Alphabet.from_dict(proteinseq_toks)\n",
    "model_name = \"esm1_t12_85M_UR50S\"\n",
    "url = f\"https://dl.fbaipublicfiles.com/fair-esm/models/{model_name}.pt\"\n",
    "if torch.cuda.is_available():\n",
    "    print(\"cuda\")\n",
    "    model_data = torch.hub.load_state_dict_from_url(url, progress=False)\n",
    "else:\n",
    "    model_data = torch.hub.load_state_dict_from_url(url, progress=False, map_location=torch.device('cpu'))\n",
    "\n",
    "pra = lambda s: ''.join(s.split('decoder_')[1:] if 'decoder' in s else s)\n",
    "prs = lambda s: ''.join(s.split('decoder.')[1:] if 'decoder' in s else s)\n",
    "model_args = {pra(arg[0]): arg[1] for arg in vars(model_data[\"args\"]).items()}\n",
    "model_state_12 = {prs(arg[0]): arg[1] for arg in model_data[\"model\"].items()}\n",
    "model_t12 = esm.ProteinBertModel(Namespace(**model_args), len(alphabet), padding_idx=alphabet.padding_idx)\n",
    "model_t12.load_state_dict(model_state_12)"
   ]
  },
  {
   "cell_type": "code",
   "execution_count": 26,
   "metadata": {},
   "outputs": [],
   "source": [
    "kif_acc_all = pd.read_csv(\"../../data/kif/kif_acc_all.csv\")\n",
    "kif_uniprot_all = pd.read_csv(\"../../data/kif/kif_uniprot_all.csv\")"
   ]
  },
  {
   "cell_type": "code",
   "execution_count": 27,
   "metadata": {},
   "outputs": [
    {
     "data": {
      "text/html": [
       "<div>\n",
       "<style scoped>\n",
       "    .dataframe tbody tr th:only-of-type {\n",
       "        vertical-align: middle;\n",
       "    }\n",
       "\n",
       "    .dataframe tbody tr th {\n",
       "        vertical-align: top;\n",
       "    }\n",
       "\n",
       "    .dataframe thead th {\n",
       "        text-align: right;\n",
       "    }\n",
       "</style>\n",
       "<table border=\"1\" class=\"dataframe\">\n",
       "  <thead>\n",
       "    <tr style=\"text-align: right;\">\n",
       "      <th></th>\n",
       "      <th>Entry</th>\n",
       "      <th>db_acc</th>\n",
       "      <th>db_name</th>\n",
       "      <th>kinesin_family</th>\n",
       "    </tr>\n",
       "  </thead>\n",
       "  <tbody>\n",
       "    <tr>\n",
       "      <th>0</th>\n",
       "      <td>Q7PG43</td>\n",
       "      <td>AgKHC</td>\n",
       "      <td>kif_jp</td>\n",
       "      <td>1</td>\n",
       "    </tr>\n",
       "    <tr>\n",
       "      <th>1</th>\n",
       "      <td>Q7PNB7</td>\n",
       "      <td>AgKlp31E</td>\n",
       "      <td>kif_jp</td>\n",
       "      <td>4</td>\n",
       "    </tr>\n",
       "    <tr>\n",
       "      <th>2</th>\n",
       "      <td>Q7PTK6</td>\n",
       "      <td>AgNcd</td>\n",
       "      <td>kif_jp</td>\n",
       "      <td>14</td>\n",
       "    </tr>\n",
       "    <tr>\n",
       "      <th>3</th>\n",
       "      <td>Q7QJN4</td>\n",
       "      <td>AgKin73</td>\n",
       "      <td>kif_jp</td>\n",
       "      <td>3</td>\n",
       "    </tr>\n",
       "    <tr>\n",
       "      <th>4</th>\n",
       "      <td>Q7QDS6</td>\n",
       "      <td>AgKlp68D</td>\n",
       "      <td>kif_jp</td>\n",
       "      <td>2</td>\n",
       "    </tr>\n",
       "  </tbody>\n",
       "</table>\n",
       "</div>"
      ],
      "text/plain": [
       "    Entry    db_acc db_name  kinesin_family\n",
       "0  Q7PG43     AgKHC  kif_jp               1\n",
       "1  Q7PNB7  AgKlp31E  kif_jp               4\n",
       "2  Q7PTK6     AgNcd  kif_jp              14\n",
       "3  Q7QJN4   AgKin73  kif_jp               3\n",
       "4  Q7QDS6  AgKlp68D  kif_jp               2"
      ]
     },
     "execution_count": 27,
     "metadata": {},
     "output_type": "execute_result"
    }
   ],
   "source": [
    "kif_acc_all.head()"
   ]
  },
  {
   "cell_type": "code",
   "execution_count": 28,
   "metadata": {
    "scrolled": true
   },
   "outputs": [
    {
     "data": {
      "text/html": [
       "<div>\n",
       "<style scoped>\n",
       "    .dataframe tbody tr th:only-of-type {\n",
       "        vertical-align: middle;\n",
       "    }\n",
       "\n",
       "    .dataframe tbody tr th {\n",
       "        vertical-align: top;\n",
       "    }\n",
       "\n",
       "    .dataframe thead th {\n",
       "        text-align: right;\n",
       "    }\n",
       "</style>\n",
       "<table border=\"1\" class=\"dataframe\">\n",
       "  <thead>\n",
       "    <tr style=\"text-align: right;\">\n",
       "      <th></th>\n",
       "      <th>Entry</th>\n",
       "      <th>Entry name</th>\n",
       "      <th>Status</th>\n",
       "      <th>Protein names</th>\n",
       "      <th>Gene names</th>\n",
       "      <th>Organism</th>\n",
       "      <th>Length</th>\n",
       "      <th>seq</th>\n",
       "    </tr>\n",
       "  </thead>\n",
       "  <tbody>\n",
       "    <tr>\n",
       "      <th>0</th>\n",
       "      <td>Q7PG43</td>\n",
       "      <td>Q7PG43_ANOGA</td>\n",
       "      <td>unreviewed</td>\n",
       "      <td>Kinesin-like protein</td>\n",
       "      <td>1271664 AgaP_AGAP000561</td>\n",
       "      <td>Anopheles gambiae (African malaria mosquito)</td>\n",
       "      <td>983</td>\n",
       "      <td>MSGVREIPAEDSIKVVCRFRPLNDSEELAGSKFVVKFPSGPEENCL...</td>\n",
       "    </tr>\n",
       "    <tr>\n",
       "      <th>1</th>\n",
       "      <td>Q7PNB7</td>\n",
       "      <td>Q7PNB7_ANOGA</td>\n",
       "      <td>unreviewed</td>\n",
       "      <td>AGAP007815-PA (Fragment)</td>\n",
       "      <td>AgaP_AGAP007815</td>\n",
       "      <td>Anopheles gambiae (African malaria mosquito)</td>\n",
       "      <td>1033</td>\n",
       "      <td>LLTNVFSLSLFLGHRFRIRPQIPRELIDMCRVCTQVTPGEPQVLLG...</td>\n",
       "    </tr>\n",
       "    <tr>\n",
       "      <th>2</th>\n",
       "      <td>Q7PTK6</td>\n",
       "      <td>Q7PTK6_ANOGA</td>\n",
       "      <td>unreviewed</td>\n",
       "      <td>Kinesin-like protein</td>\n",
       "      <td>1269313 AgaP_AGAP002248</td>\n",
       "      <td>Anopheles gambiae (African malaria mosquito)</td>\n",
       "      <td>762</td>\n",
       "      <td>MDSRIPKPSFLKKPTGPLSLPGNARLPLTRDLLNLPSANSTMFAKV...</td>\n",
       "    </tr>\n",
       "    <tr>\n",
       "      <th>3</th>\n",
       "      <td>Q7QJN4</td>\n",
       "      <td>Q7QJN4_ANOGA</td>\n",
       "      <td>unreviewed</td>\n",
       "      <td>AGAP007592-PA</td>\n",
       "      <td>AgaP_AGAP007592</td>\n",
       "      <td>Anopheles gambiae (African malaria mosquito)</td>\n",
       "      <td>1944</td>\n",
       "      <td>MSDKIRVAVRVRPFNRRELELATENVIEMNGTQTILKYPASLDKME...</td>\n",
       "    </tr>\n",
       "    <tr>\n",
       "      <th>4</th>\n",
       "      <td>Q7QDS6</td>\n",
       "      <td>Q7QDS6_ANOGA</td>\n",
       "      <td>unreviewed</td>\n",
       "      <td>Kinesin-like protein (Fragment)</td>\n",
       "      <td>AgaP_AGAP010396</td>\n",
       "      <td>Anopheles gambiae (African malaria mosquito)</td>\n",
       "      <td>781</td>\n",
       "      <td>MDRTIKTRSNLSNTKNECVQVVVRCRPLNNKELTGNFQKVVDVFPS...</td>\n",
       "    </tr>\n",
       "  </tbody>\n",
       "</table>\n",
       "</div>"
      ],
      "text/plain": [
       "    Entry    Entry name      Status                    Protein names  \\\n",
       "0  Q7PG43  Q7PG43_ANOGA  unreviewed             Kinesin-like protein   \n",
       "1  Q7PNB7  Q7PNB7_ANOGA  unreviewed         AGAP007815-PA (Fragment)   \n",
       "2  Q7PTK6  Q7PTK6_ANOGA  unreviewed             Kinesin-like protein   \n",
       "3  Q7QJN4  Q7QJN4_ANOGA  unreviewed                    AGAP007592-PA   \n",
       "4  Q7QDS6  Q7QDS6_ANOGA  unreviewed  Kinesin-like protein (Fragment)   \n",
       "\n",
       "                Gene names                                      Organism  \\\n",
       "0  1271664 AgaP_AGAP000561  Anopheles gambiae (African malaria mosquito)   \n",
       "1          AgaP_AGAP007815  Anopheles gambiae (African malaria mosquito)   \n",
       "2  1269313 AgaP_AGAP002248  Anopheles gambiae (African malaria mosquito)   \n",
       "3          AgaP_AGAP007592  Anopheles gambiae (African malaria mosquito)   \n",
       "4          AgaP_AGAP010396  Anopheles gambiae (African malaria mosquito)   \n",
       "\n",
       "   Length                                                seq  \n",
       "0     983  MSGVREIPAEDSIKVVCRFRPLNDSEELAGSKFVVKFPSGPEENCL...  \n",
       "1    1033  LLTNVFSLSLFLGHRFRIRPQIPRELIDMCRVCTQVTPGEPQVLLG...  \n",
       "2     762  MDSRIPKPSFLKKPTGPLSLPGNARLPLTRDLLNLPSANSTMFAKV...  \n",
       "3    1944  MSDKIRVAVRVRPFNRRELELATENVIEMNGTQTILKYPASLDKME...  \n",
       "4     781  MDRTIKTRSNLSNTKNECVQVVVRCRPLNNKELTGNFQKVVDVFPS...  "
      ]
     },
     "execution_count": 28,
     "metadata": {},
     "output_type": "execute_result"
    }
   ],
   "source": [
    "kif_uniprot_all.head()"
   ]
  },
  {
   "cell_type": "code",
   "execution_count": 29,
   "metadata": {},
   "outputs": [],
   "source": [
    "kif_all = pd.concat([kif_acc_all,kif_uniprot_all],axis = 1)"
   ]
  },
  {
   "cell_type": "code",
   "execution_count": 30,
   "metadata": {},
   "outputs": [
    {
     "data": {
      "text/plain": [
       "(623, 12)"
      ]
     },
     "execution_count": 30,
     "metadata": {},
     "output_type": "execute_result"
    }
   ],
   "source": [
    "kif_all.shape"
   ]
  },
  {
   "cell_type": "code",
   "execution_count": 31,
   "metadata": {},
   "outputs": [
    {
     "data": {
      "text/plain": [
       "1    LLTNVFSLSLFLGHRFRIRPQIPRELIDMCRVCTQVTPGEPQVLLG...\n",
       "2    MDSRIPKPSFLKKPTGPLSLPGNARLPLTRDLLNLPSANSTMFAKV...\n",
       "3    MSDKIRVAVRVRPFNRRELELATENVIEMNGTQTILKYPASLDKME...\n",
       "4    MDRTIKTRSNLSNTKNECVQVVVRCRPLNNKELTGNFQKVVDVFPS...\n",
       "Name: seq, dtype: object"
      ]
     },
     "execution_count": 31,
     "metadata": {},
     "output_type": "execute_result"
    }
   ],
   "source": [
    "kif_all.iloc[1:5,11]"
   ]
  },
  {
   "cell_type": "code",
   "execution_count": 32,
   "metadata": {},
   "outputs": [
    {
     "data": {
      "text/plain": [
       "(623, 4)"
      ]
     },
     "execution_count": 32,
     "metadata": {},
     "output_type": "execute_result"
    }
   ],
   "source": [
    "kif_acc_all.shape"
   ]
  },
  {
   "cell_type": "code",
   "execution_count": 33,
   "metadata": {},
   "outputs": [
    {
     "data": {
      "text/plain": [
       "(623, 8)"
      ]
     },
     "execution_count": 33,
     "metadata": {},
     "output_type": "execute_result"
    }
   ],
   "source": [
    "kif_uniprot_all.shape"
   ]
  },
  {
   "cell_type": "code",
   "execution_count": 98,
   "metadata": {},
   "outputs": [],
   "source": [
    "print_every = 100\n",
    "def generate_embedding_transformer_t12(model,batch_converter,dat,dat_name,out_dir,seq_col):\n",
    "    # initialize network \n",
    "    model.cuda()\n",
    "    sequence_embeddings = []\n",
    "    for epoch in range(dat.shape[0]):\n",
    "        data = [(dat.iloc[epoch, 1], dat.iloc[epoch, seq_col])]\n",
    "        _, _, batch_tokens = batch_converter(data)\n",
    "        with torch.no_grad():\n",
    "            results = model(batch_tokens.to('cuda'), repr_layers=[12])\n",
    "            # last layer\n",
    "            token_embeddings = results[\"representations\"][12]\n",
    "            seq = dat.iloc[epoch,seq_col]\n",
    "            sequence_embeddings.append(token_embeddings[0, 1:len(seq) + 1].mean(0).cpu().detach().numpy())\n",
    "        if epoch % print_every == 0:\n",
    "            print(f\"At Epoch: %.2f\"% epoch)\n",
    "            print(seq)\n",
    "    sequence_embeddings = np.array(sequence_embeddings)\n",
    "    print(sequence_embeddings.shape)\n",
    "    print(out_dir + '/' + dat_name + \".npy\")\n",
    "    np.save(out_dir + '/' + dat_name + \".npy\", sequence_embeddings)\n",
    "    return "
   ]
  },
  {
   "cell_type": "code",
   "execution_count": 38,
   "metadata": {},
   "outputs": [
    {
     "name": "stdout",
     "output_type": "stream",
     "text": [
      "At Epoch: 0.00\n",
      "MSGVREIPAEDSIKVVCRFRPLNDSEELAGSKFVVKFPSGPEENCLSIGGKVYLFDKVFKPNATQEKVYNEAAKSIVSDVLAGYNGTIFAYGQTSSGKTHTMEGVIGDPAKQGIIPRIVNDIFNHIYTMEMNIEFHIKVSYYEIYMDKIRDLLDVSKVNLSVHEDKNRVPYVKGASERFVSSPEEVFEVIEEGKSNRHIAVTNMNEHSSRSHSVFLINVKQENMENEKKLSGKLYLVDLAGSEKVSKTGAEGTVLDEAKNINKSLSALGNVISALADGNKTHIPYRDSKLTRILQESLGGNARTTIVICCSPASFNESETKSTLDFGRRAKTVKNVVCVNEELTAEEWKRRYEREKEKNTKLKGKIEKLEAELARWRAGETVNVEEQLDLQQDAMEASTPNVEVLLAQPADLPVPATPGGGGLPLSAERDTLEVERERLYQQLDEKDEEINQQSQYVEKLKEQIIDQEELIANTRRDYENLQSEMTRIQQENENAKEEVKEVLQALEELAVNYDQKSQEIELKNKEIDMVNDELLQKQTTLNSVQSELQQLKDMSSHQKKRINEMLTNLLRDLSEVGQALAADQNEMKMNVEASAGKVEEEFTVARLYISKMKSEAKNLSARCANLETLQQDTCRKVGDYEKDLSECRLLISQHEARMKSLQESMREAENKKRTLEENIDALREECAKLKAAEQVSAVNAEEKQRADQLKVAFESQMDQLRDVHTKQVSALRDEISEKQELINELKDTNQKLTLAHQQMTADYEKLKQEEQEKSAKLQTLMLTDERREQARKDLKGLEDTVAKELQSLHALRKLFVLDLQARIKKSLNSEDTEDDGGSLAQKQKISFLENNLEQLTKVHKQLVRDNADLRCELPKLEKRLRTTVERVKALETALKEAKEGAMRDRKRYQYEVDRIKEAVRQKNLARRGPQAQIAKPIRAGQGQYLFKSGGTGAATTAPGGGTAITPKAMADEKRKSQIKDMDS\n",
      "At Epoch: 100.00\n",
      "MGKGDSIIVAVRVRPFNDREKTRNCKLVIEMPDEETTVIRDPKTNDEKRFTYDHSYWSHDGFSEKKNGYLEPTDPHYADQRRVFEDLGRGVLANAWAGYNCSLFAYGQTGSGKSYSIVGFKNNKGIVPIVCEELFKQIADNKKKNMQFEVFVSMMEIYCEKVRDLLSSTPPPKGGLKVREHPKNGFYVENLTTVPVNSFKEIEAKIEEGTKSRTIAATQMNATSSRAHTIVKITFNQKSSKQAGGTSMKKSEINLVDLAGSERQSAAGTEGDRLKEGIVINQSLTTLGRVIKALHDSQKAKSGKKTQIPYRDSVLTCLLKNALGGNSKTIMIAAISPADINFEETLSTLRFADRAKSIKTNAVVNENQTERALRELREENLRLQSQIQGGTAGDASNEEIEKLRRQLAENQKEMEEMEKSWQQKIAEEAAKHASGASEKVEMEAKKKKMCHLWNLNEDPALTNVIVHFIPVGESVVGNKPTSSGNFIQMSGLSILPQHVTLKNDGNNQIHLSPCSEDLDIFINGKPVHGETQLQQNDRVFFGGNHLYVFNNPTKKGIRTDITYENAQAEIAQNHAAALGNRGLGGGSKRDLILEEELMSTLPLVQRANAMATELGRNVKFEIVLVSPEMRGLTSGLTEIWVKVHNISEDTYFLWEKSRFMNRYYGMQEMYEAKQDGSEDWNMPKERDPFYEPPDSPVFIASSVVFLQSLAYLIDVEEQFPIVDLSGQEIGLLTVGLSPCSTTGKELRGEYVEDPDQLIGKNIAFKVKVISAVGLPRRILKSNCKYRFFGSKKMTTTATVSGNTPAYGHEETFQFKPVTKEVADYLANSNLYITFWGTQRPRGASSRKNSISTIGSNEAREGPNKAKRVERLVHQAKTSENRNISVKALETVLKGVDDNENRKTRKQSMKKAGSTTIKSRSGSKKPKAK\n",
      "At Epoch: 200.00\n",
      "MKDPVVLASGQTYDRPFIQEWLNSGNRTCPQSHQILPNTILTPNHLVHRMISQWCIEHDVSLPPLDNEQDEDKGLITVTEKNVLDGLLQKICSPSSVMEQKRALSELRLLTKCKRSFRALIGENDDAISQLLAVPSIPELSADPKVQEDAVTTILNISINETNKKIVGDNPQAIPFLIDALKAGRIETCSNSAAALFSLSALDSNKLKIGELGAMKPLIELLEQGSSSARKDAGSAVFSLCLAHENRARAVSGGVLGVVLKAITDRSLVNESLAILALLSSNQEAIEEIAETGGVPCLLSIIRESSCARNKENAVAVLYSICMYDRKRLREVGEEEDSNGIISQLVQNGTSRARRKAAGILDKWKRTLRLHYSC\n",
      "At Epoch: 300.00\n",
      "MLGAADESSVRVAVRIRPQLAKEKIEGCHICTSVTPGEPQVFLGKDKAFTFDYVFDIDSQQEQIYTQCIEKLIEGCFEGYNATVFAYGQTGAGKTYTMGTGFDVNIMEEEQGIISRAVRHLFKSIDEKKTSAIKNGLPPPEFKVNAQFLELYNEEVLDLFDTTRDIDAKNKKSNIRIHEDSTGGIYTVGVTTRTVNTEPEMMQCLKLGALSRTTASTQMNVQSSRSHAIFTIHVCQTRVCPQTDAENATDNKLISESSPMNEFETLTAKFHFVDLAGSERLKRTGATGERAKEGISINCGLLALGNVISALGDKSKRATHVPYRDSKLTRLLQDSLGGNSQTIMIACVSPSDRDFMETLNTLKYANRARNIKNKVMVNQDRASQQINALRSEITRLQMELMEYKTGKRIIDEEGVESINDMFHENAMLQTENNNLRVRIKAMQETVDALRARITQLVSEQANQVLARAGEGNEEISNMIHSYIKEIEDLRAKLLESEAVNENLRKNLTRATARSPYFSASSAFSPTILSSDKETIEIIDLAKKDLEKLKRKEKKKKKRLQKLEESGREERSVAGKDDNADTDQEKKEEKGVSEKENNELDVEENQEVSDHEDEEEEEEDEEEEDDIEGEESSDESDSESDEKANYQADLANITCEIAIKQKLIDELENSQKRLQTLKKQYEEKLMMLQHKIRDTQLERDQVLQNLGSVESYSEEKAKKVKCEYEKKLHAMNKELQRLQTAQKEHARLLKNQSQYEKQLKKLQQDVMEMKKTKVRLMKQMKEEQEKARLTESRRNREIAQLKKDQRKRDHQLRLLEAQKRNQEVVLRRKTEEVTALRRQVRPMSDKVAGKVTRKLSSSESPAPDTGSSAASGEADTSRPGTQQKMRIPVARVQALPTPTTNGTRKKYQRKGFTGRVFTSKTARMKWQLLERRVTDIIMQKMTISNMEADMNRLLRQREELTKRREKLSKRREKIVKESGEGDKSVANIIEEMESLTANIDYINDSIADCQANIMQMEEAKEEGETLDVTAVINACTLTEARYLLDHFLSMGINKGLQAAQKEAQIKVLEGRLKQTEITSATQNQLLFHMLKEKAELNPELDALLGHALQDLDGAPPENEEDSSEEDGPLHSPGSEGSTLSSDLMKLCGEVKPKNKARRRTTTQMELLYADSSEVASDTSAGDASLSGPLAPVAEGQEIGMNTETSGTSARDKELLAPSGLPSKIGSISRQSSLSEKKVPEPSPVTRRKAYEKADKPKAKEHKHSDSGASETSLSPPSSPPSRPRNELNVFNRLTVPQGTPSVQQDKSDESDSSLSEVHRGIINPFPACKGVRASPLQCVHIAEGHTKAVLCVDSTDDLLFTGSKDRTCKVWNLVTGQEIMSLGVHPNNVVSVKYCNYTSLVFTVSTSYIKVWDIRESAKCIRTLTSSGQVTLGEACSASTSRTVAIPSGESQINQIALNPTGTFLYAASGNAVRMWDLKRFQSTGKLTGHLGPVMCLTVDQISNGQDLIITGSKDHYIKMFDVTEGALGTVSPTHNFEPPHYDGIEALAIQGDNLFSGSRDNGIKKWDLAQKGLLQQVPNAHKDWVCALGLVPGHPVLLSGCRGGILKLWNVDTFVPVGEMRGHDSPINAICVNSTHVFTAADDRTVRIWKAHNLQDGQLSDTGDLGEDIASN\n",
      "At Epoch: 400.00\n",
      "MPAENQNTGQDRSSNSISKNGNSQVGCHTVPNEELNITVAVRCRGRNEREISMKSSVVVNVPDITGSKEISINTTGDTGITAQMNAKRYTVDKVFGPGASQDLIFDEVAGPLFQDFIKGYNCTVLVYGMTSTGKTYTMTGDEKLYNGELSDAAGIIPRVLLKLFDTLELQQNDYVVKCSFIELYNEELKDLLDSNSNGSSNTGFDGQFMKKLRIFDSSTANNTTSNSASSSRSNSRNSSPRSLNDLTPKAALLRKRLRTKSLPNTIKQQYQQQQAVNSRNNSSSNSGSTTNNASSNTNTNNGQRSSMAPNDQTNGIYIQNLQEFHITNAMEGLNLLQKGLKHRQVASTKMNDFSSRSHTIFTITLYKKHQDELFRISKMNLVDLAGSENINRSGALNQRAKEAGSINQSLLTLGRVINALVDKSGHIPFRESKLTRLLQDSLGGNTKTALIATISPAKVTSEETCSTLEYASKAKNIKNKPQLGSFIMKDILVKNITMELAKIKSDLLSTKSKEGIYMSQDHYKNLNSDLESYKNEVQECKREIESLTSKNALLVKDKLKSKETIQSQNCQIESLKTTIDHLRAQLDKQHKTEIEISDFNNKLQKLTEVMQMALHDYKKRELDLNQKFEMHITKEIKKLKSTLFLQLNTMQQESILQETNIQPNLDMIKNEVLTLMRTMQEKAELMYKDCVKKILNESPKFFNVVIEKIDIIRVDFQKFYKNIAENLSDISEENNNMKQYLKNHFFKNNHQELLNRHVDSTYENIEKRTNEFVENFKKVLNDHLDENKKLIMQNLTTATSAVIDQEMDLFEPKRVKWENSFDLINDCDSMNNEFYNSMAATLSQIKSTVDTSSNSMNESISVMKGQVEESENAISLLKNNTKFNDQFEQLINKHNMLKDNIKNSITSTHSHITNVDDIYNTIENIMKNYGNKENATKDEMIENILKEIPNLSKKMPLRLSNINSNSVQSVISPKKHAIEDENKSSENVDNEGSRKMLKIE\n",
      "At Epoch: 500.00\n",
      "MADPAECNIKVMCRFRPLNESEVNRGDKYVAKFQGEDTVMIASKPYAFDRVFQSSTSQEQVYNDCAKKIVKDVLEGYNGTIFAYGQTSSGKTHTMEGKLHDPEGMGIIPRIVQDIFNYIYSMDENLEFHIKVSYFEIYLDKIRDLLDVSKTNLSVHEDKNRVPYVKGCTERFVCSPDEVMDTIDEGKSNRHVAVTNMNEHSSRSHSIFLINVKQENTQTEQKLSGKLYLVDLAGSEKVSKTGAEGAVLDEAKNINKSLSALGNVISALAEGSTYVPYRDSKMTRILQDSLGGNCRTTIVICCSPSSYNESETKSTLLFGQRAKTIKNTVCVNVELTAEQWKKKYEKEKEKNKTLRNTIQWLENELNRWRNGETVPIDEQFDKEKANLEAFTADKDVAITNDKPAAAIGMAGSFTDAERRKCEEEIAKLYKQLDDKDEEINQQSQLVEKLKTQMLDQEELLASTRRDQDNMQAELNRLQAENDASKEEVKEVLQALEELAVNYDQKSQEVEDKTKEYELLSDELNQKSATLASIDAELQKLKEMTNHQKKRAAEMMASLLKDLAEIGIAVGNNDVKQPEGTGMIDEEFTVARLYISKMKSEVKTMVKRCKQLESTQTESNKKMEENEKELAACQLRISQHEAKIKSLTEYLQNVEQKKRQLEESVDSLGEELVQLRAQEKVHEMEKEHLNKVQTANEVKQAVEQQIQSHRETHQKQISSLRDEVEAKEKLITDLQDQNQKMVLEQERLRVEHERLKAVDQEKSRKLHELTVMQDRREQARQDLKGLEETVAKELQTLHNLRKLFVQDLATRVKKSAEVDSDDTGGSAAQKQKISFLENNLEQLTKVHKQLVRDNADLRCELPKLEKRLRATAERVKALESALKEAKENASRDRKRYQQEVDRIKEAVRSKNMARRGHSAQIAKPIRPGQHPAASPTHPGAVRGGGSFVQNNQPVGLRGGGGKQA\n",
      "At Epoch: 600.00\n",
      "MSGLVLGQRDEPAGHRLSQEEILGSTRLVSQGLESLHSEHQAVLQSLSHTIECLQQGGHEEGLVHEKARQLRRSMENIELGLSEAQVMLALASHLSTVESEKQKLRAQVRRLCQENQWLRDELAGTQQRLQRSEQAVAQLEEEKKHLEFLRQLRQYDEDGHSMEEKEGDASKDSLDDLFPNEEEEDSSNDLSRGQGAAAAQQGGYEIPARLRTLHNLVIQYAAQGRYEVAVPLCKQALEDLERTSGRGHPDVATMLNILALVYRDQNKYKEAAHLLNDALSIRESTLGRDHPAVAATLNNLAVLYGKRGKYKEAEPLCQRALEIREKVLGTDHPDVAKQLNNLALLCQNQGKYEAVERYYQRALAIYERQLGPDNPNVARTKNNLASCYLKQGKYSEAETLYKEILTRAHVQEFGSVDDDHKPIWMHAEEREEMSRSRSRESGTPYAEYGGWYKACRVSSPTVNTTLRNLGALYRRQGKLEAAETLEECALRSRKQGTDPISQTKVAELLGEGDGRKTMQEGPGDSVKFEGGEDASVAVEWSGDGSGTLQRSGSLGKIRDVLRRSSELLVRKLQGTEPRPSSSNMKRAASLNYLNQPNAAPLQTSRGLSASTVDLSSSS\n",
      "(623, 768)\n",
      "../../data/kif//kif_all_t12.npy\n"
     ]
    }
   ],
   "source": [
    "batch_converter = alphabet.get_batch_converter()\n",
    "out_dir = \"../../data/kif/\"\n",
    "generate_embedding_transformer_t12(model_t12,batch_converter,kif_all,\"kif_all_t12\",out_dir,seq_col = 11)"
   ]
  },
  {
   "cell_type": "markdown",
   "metadata": {},
   "source": [
    "## Generate embedding for t12 esm model with dynein and kinesin evotune"
   ]
  },
  {
   "cell_type": "code",
   "execution_count": 99,
   "metadata": {},
   "outputs": [
    {
     "name": "stdout",
     "output_type": "stream",
     "text": [
      "cuda\n"
     ]
    },
    {
     "data": {
      "text/plain": [
       "<All keys matched successfully>"
      ]
     },
     "execution_count": 99,
     "metadata": {},
     "output_type": "execute_result"
    }
   ],
   "source": [
    "alphabet = esm.Alphabet.from_dict(proteinseq_toks)\n",
    "model_name = \"esm1_t12_85M_UR50S\"\n",
    "url = f\"https://dl.fbaipublicfiles.com/fair-esm/models/{model_name}.pt\"\n",
    "if torch.cuda.is_available():\n",
    "    print(\"cuda\")\n",
    "    model_data = torch.hub.load_state_dict_from_url(url, progress=False)\n",
    "else:\n",
    "    model_data = torch.hub.load_state_dict_from_url(url, progress=False, map_location=torch.device('cpu'))\n",
    "\n",
    "pra = lambda s: ''.join(s.split('decoder_')[1:] if 'decoder' in s else s)\n",
    "prs = lambda s: ''.join(s.split('decoder.')[1:] if 'decoder' in s else s)\n",
    "model_args = {pra(arg[0]): arg[1] for arg in vars(model_data[\"args\"]).items()}\n",
    "model_state_12 = torch.load(\"../../data/esm_t12_85M_UR50S_dyn_kin_201204.pt\")\n",
    "model_t12 = esm.ProteinBertModel(Namespace(**model_args), len(alphabet), padding_idx=alphabet.padding_idx)\n",
    "model_t12.load_state_dict(model_state_12)"
   ]
  },
  {
   "cell_type": "code",
   "execution_count": 100,
   "metadata": {},
   "outputs": [
    {
     "name": "stdout",
     "output_type": "stream",
     "text": [
      "At Epoch: 0.00\n",
      "MSGVREIPAEDSIKVVCRFRPLNDSEELAGSKFVVKFPSGPEENCLSIGGKVYLFDKVFKPNATQEKVYNEAAKSIVSDVLAGYNGTIFAYGQTSSGKTHTMEGVIGDPAKQGIIPRIVNDIFNHIYTMEMNIEFHIKVSYYEIYMDKIRDLLDVSKVNLSVHEDKNRVPYVKGASERFVSSPEEVFEVIEEGKSNRHIAVTNMNEHSSRSHSVFLINVKQENMENEKKLSGKLYLVDLAGSEKVSKTGAEGTVLDEAKNINKSLSALGNVISALADGNKTHIPYRDSKLTRILQESLGGNARTTIVICCSPASFNESETKSTLDFGRRAKTVKNVVCVNEELTAEEWKRRYEREKEKNTKLKGKIEKLEAELARWRAGETVNVEEQLDLQQDAMEASTPNVEVLLAQPADLPVPATPGGGGLPLSAERDTLEVERERLYQQLDEKDEEINQQSQYVEKLKEQIIDQEELIANTRRDYENLQSEMTRIQQENENAKEEVKEVLQALEELAVNYDQKSQEIELKNKEIDMVNDELLQKQTTLNSVQSELQQLKDMSSHQKKRINEMLTNLLRDLSEVGQALAADQNEMKMNVEASAGKVEEEFTVARLYISKMKSEAKNLSARCANLETLQQDTCRKVGDYEKDLSECRLLISQHEARMKSLQESMREAENKKRTLEENIDALREECAKLKAAEQVSAVNAEEKQRADQLKVAFESQMDQLRDVHTKQVSALRDEISEKQELINELKDTNQKLTLAHQQMTADYEKLKQEEQEKSAKLQTLMLTDERREQARKDLKGLEDTVAKELQSLHALRKLFVLDLQARIKKSLNSEDTEDDGGSLAQKQKISFLENNLEQLTKVHKQLVRDNADLRCELPKLEKRLRTTVERVKALETALKEAKEGAMRDRKRYQYEVDRIKEAVRQKNLARRGPQAQIAKPIRAGQGQYLFKSGGTGAATTAPGGGTAITPKAMADEKRKSQIKDMDS\n",
      "At Epoch: 100.00\n",
      "MGKGDSIIVAVRVRPFNDREKTRNCKLVIEMPDEETTVIRDPKTNDEKRFTYDHSYWSHDGFSEKKNGYLEPTDPHYADQRRVFEDLGRGVLANAWAGYNCSLFAYGQTGSGKSYSIVGFKNNKGIVPIVCEELFKQIADNKKKNMQFEVFVSMMEIYCEKVRDLLSSTPPPKGGLKVREHPKNGFYVENLTTVPVNSFKEIEAKIEEGTKSRTIAATQMNATSSRAHTIVKITFNQKSSKQAGGTSMKKSEINLVDLAGSERQSAAGTEGDRLKEGIVINQSLTTLGRVIKALHDSQKAKSGKKTQIPYRDSVLTCLLKNALGGNSKTIMIAAISPADINFEETLSTLRFADRAKSIKTNAVVNENQTERALRELREENLRLQSQIQGGTAGDASNEEIEKLRRQLAENQKEMEEMEKSWQQKIAEEAAKHASGASEKVEMEAKKKKMCHLWNLNEDPALTNVIVHFIPVGESVVGNKPTSSGNFIQMSGLSILPQHVTLKNDGNNQIHLSPCSEDLDIFINGKPVHGETQLQQNDRVFFGGNHLYVFNNPTKKGIRTDITYENAQAEIAQNHAAALGNRGLGGGSKRDLILEEELMSTLPLVQRANAMATELGRNVKFEIVLVSPEMRGLTSGLTEIWVKVHNISEDTYFLWEKSRFMNRYYGMQEMYEAKQDGSEDWNMPKERDPFYEPPDSPVFIASSVVFLQSLAYLIDVEEQFPIVDLSGQEIGLLTVGLSPCSTTGKELRGEYVEDPDQLIGKNIAFKVKVISAVGLPRRILKSNCKYRFFGSKKMTTTATVSGNTPAYGHEETFQFKPVTKEVADYLANSNLYITFWGTQRPRGASSRKNSISTIGSNEAREGPNKAKRVERLVHQAKTSENRNISVKALETVLKGVDDNENRKTRKQSMKKAGSTTIKSRSGSKKPKAK\n",
      "At Epoch: 200.00\n",
      "MKDPVVLASGQTYDRPFIQEWLNSGNRTCPQSHQILPNTILTPNHLVHRMISQWCIEHDVSLPPLDNEQDEDKGLITVTEKNVLDGLLQKICSPSSVMEQKRALSELRLLTKCKRSFRALIGENDDAISQLLAVPSIPELSADPKVQEDAVTTILNISINETNKKIVGDNPQAIPFLIDALKAGRIETCSNSAAALFSLSALDSNKLKIGELGAMKPLIELLEQGSSSARKDAGSAVFSLCLAHENRARAVSGGVLGVVLKAITDRSLVNESLAILALLSSNQEAIEEIAETGGVPCLLSIIRESSCARNKENAVAVLYSICMYDRKRLREVGEEEDSNGIISQLVQNGTSRARRKAAGILDKWKRTLRLHYSC\n",
      "At Epoch: 300.00\n",
      "MLGAADESSVRVAVRIRPQLAKEKIEGCHICTSVTPGEPQVFLGKDKAFTFDYVFDIDSQQEQIYTQCIEKLIEGCFEGYNATVFAYGQTGAGKTYTMGTGFDVNIMEEEQGIISRAVRHLFKSIDEKKTSAIKNGLPPPEFKVNAQFLELYNEEVLDLFDTTRDIDAKNKKSNIRIHEDSTGGIYTVGVTTRTVNTEPEMMQCLKLGALSRTTASTQMNVQSSRSHAIFTIHVCQTRVCPQTDAENATDNKLISESSPMNEFETLTAKFHFVDLAGSERLKRTGATGERAKEGISINCGLLALGNVISALGDKSKRATHVPYRDSKLTRLLQDSLGGNSQTIMIACVSPSDRDFMETLNTLKYANRARNIKNKVMVNQDRASQQINALRSEITRLQMELMEYKTGKRIIDEEGVESINDMFHENAMLQTENNNLRVRIKAMQETVDALRARITQLVSEQANQVLARAGEGNEEISNMIHSYIKEIEDLRAKLLESEAVNENLRKNLTRATARSPYFSASSAFSPTILSSDKETIEIIDLAKKDLEKLKRKEKKKKKRLQKLEESGREERSVAGKDDNADTDQEKKEEKGVSEKENNELDVEENQEVSDHEDEEEEEEDEEEEDDIEGEESSDESDSESDEKANYQADLANITCEIAIKQKLIDELENSQKRLQTLKKQYEEKLMMLQHKIRDTQLERDQVLQNLGSVESYSEEKAKKVKCEYEKKLHAMNKELQRLQTAQKEHARLLKNQSQYEKQLKKLQQDVMEMKKTKVRLMKQMKEEQEKARLTESRRNREIAQLKKDQRKRDHQLRLLEAQKRNQEVVLRRKTEEVTALRRQVRPMSDKVAGKVTRKLSSSESPAPDTGSSAASGEADTSRPGTQQKMRIPVARVQALPTPTTNGTRKKYQRKGFTGRVFTSKTARMKWQLLERRVTDIIMQKMTISNMEADMNRLLRQREELTKRREKLSKRREKIVKESGEGDKSVANIIEEMESLTANIDYINDSIADCQANIMQMEEAKEEGETLDVTAVINACTLTEARYLLDHFLSMGINKGLQAAQKEAQIKVLEGRLKQTEITSATQNQLLFHMLKEKAELNPELDALLGHALQDLDGAPPENEEDSSEEDGPLHSPGSEGSTLSSDLMKLCGEVKPKNKARRRTTTQMELLYADSSEVASDTSAGDASLSGPLAPVAEGQEIGMNTETSGTSARDKELLAPSGLPSKIGSISRQSSLSEKKVPEPSPVTRRKAYEKADKPKAKEHKHSDSGASETSLSPPSSPPSRPRNELNVFNRLTVPQGTPSVQQDKSDESDSSLSEVHRGIINPFPACKGVRASPLQCVHIAEGHTKAVLCVDSTDDLLFTGSKDRTCKVWNLVTGQEIMSLGVHPNNVVSVKYCNYTSLVFTVSTSYIKVWDIRESAKCIRTLTSSGQVTLGEACSASTSRTVAIPSGESQINQIALNPTGTFLYAASGNAVRMWDLKRFQSTGKLTGHLGPVMCLTVDQISNGQDLIITGSKDHYIKMFDVTEGALGTVSPTHNFEPPHYDGIEALAIQGDNLFSGSRDNGIKKWDLAQKGLLQQVPNAHKDWVCALGLVPGHPVLLSGCRGGILKLWNVDTFVPVGEMRGHDSPINAICVNSTHVFTAADDRTVRIWKAHNLQDGQLSDTGDLGEDIASN\n",
      "At Epoch: 400.00\n",
      "MPAENQNTGQDRSSNSISKNGNSQVGCHTVPNEELNITVAVRCRGRNEREISMKSSVVVNVPDITGSKEISINTTGDTGITAQMNAKRYTVDKVFGPGASQDLIFDEVAGPLFQDFIKGYNCTVLVYGMTSTGKTYTMTGDEKLYNGELSDAAGIIPRVLLKLFDTLELQQNDYVVKCSFIELYNEELKDLLDSNSNGSSNTGFDGQFMKKLRIFDSSTANNTTSNSASSSRSNSRNSSPRSLNDLTPKAALLRKRLRTKSLPNTIKQQYQQQQAVNSRNNSSSNSGSTTNNASSNTNTNNGQRSSMAPNDQTNGIYIQNLQEFHITNAMEGLNLLQKGLKHRQVASTKMNDFSSRSHTIFTITLYKKHQDELFRISKMNLVDLAGSENINRSGALNQRAKEAGSINQSLLTLGRVINALVDKSGHIPFRESKLTRLLQDSLGGNTKTALIATISPAKVTSEETCSTLEYASKAKNIKNKPQLGSFIMKDILVKNITMELAKIKSDLLSTKSKEGIYMSQDHYKNLNSDLESYKNEVQECKREIESLTSKNALLVKDKLKSKETIQSQNCQIESLKTTIDHLRAQLDKQHKTEIEISDFNNKLQKLTEVMQMALHDYKKRELDLNQKFEMHITKEIKKLKSTLFLQLNTMQQESILQETNIQPNLDMIKNEVLTLMRTMQEKAELMYKDCVKKILNESPKFFNVVIEKIDIIRVDFQKFYKNIAENLSDISEENNNMKQYLKNHFFKNNHQELLNRHVDSTYENIEKRTNEFVENFKKVLNDHLDENKKLIMQNLTTATSAVIDQEMDLFEPKRVKWENSFDLINDCDSMNNEFYNSMAATLSQIKSTVDTSSNSMNESISVMKGQVEESENAISLLKNNTKFNDQFEQLINKHNMLKDNIKNSITSTHSHITNVDDIYNTIENIMKNYGNKENATKDEMIENILKEIPNLSKKMPLRLSNINSNSVQSVISPKKHAIEDENKSSENVDNEGSRKMLKIE\n",
      "At Epoch: 500.00\n",
      "MADPAECNIKVMCRFRPLNESEVNRGDKYVAKFQGEDTVMIASKPYAFDRVFQSSTSQEQVYNDCAKKIVKDVLEGYNGTIFAYGQTSSGKTHTMEGKLHDPEGMGIIPRIVQDIFNYIYSMDENLEFHIKVSYFEIYLDKIRDLLDVSKTNLSVHEDKNRVPYVKGCTERFVCSPDEVMDTIDEGKSNRHVAVTNMNEHSSRSHSIFLINVKQENTQTEQKLSGKLYLVDLAGSEKVSKTGAEGAVLDEAKNINKSLSALGNVISALAEGSTYVPYRDSKMTRILQDSLGGNCRTTIVICCSPSSYNESETKSTLLFGQRAKTIKNTVCVNVELTAEQWKKKYEKEKEKNKTLRNTIQWLENELNRWRNGETVPIDEQFDKEKANLEAFTADKDVAITNDKPAAAIGMAGSFTDAERRKCEEEIAKLYKQLDDKDEEINQQSQLVEKLKTQMLDQEELLASTRRDQDNMQAELNRLQAENDASKEEVKEVLQALEELAVNYDQKSQEVEDKTKEYELLSDELNQKSATLASIDAELQKLKEMTNHQKKRAAEMMASLLKDLAEIGIAVGNNDVKQPEGTGMIDEEFTVARLYISKMKSEVKTMVKRCKQLESTQTESNKKMEENEKELAACQLRISQHEAKIKSLTEYLQNVEQKKRQLEESVDSLGEELVQLRAQEKVHEMEKEHLNKVQTANEVKQAVEQQIQSHRETHQKQISSLRDEVEAKEKLITDLQDQNQKMVLEQERLRVEHERLKAVDQEKSRKLHELTVMQDRREQARQDLKGLEETVAKELQTLHNLRKLFVQDLATRVKKSAEVDSDDTGGSAAQKQKISFLENNLEQLTKVHKQLVRDNADLRCELPKLEKRLRATAERVKALESALKEAKENASRDRKRYQQEVDRIKEAVRSKNMARRGHSAQIAKPIRPGQHPAASPTHPGAVRGGGSFVQNNQPVGLRGGGGKQA\n",
      "At Epoch: 600.00\n",
      "MSGLVLGQRDEPAGHRLSQEEILGSTRLVSQGLESLHSEHQAVLQSLSHTIECLQQGGHEEGLVHEKARQLRRSMENIELGLSEAQVMLALASHLSTVESEKQKLRAQVRRLCQENQWLRDELAGTQQRLQRSEQAVAQLEEEKKHLEFLRQLRQYDEDGHSMEEKEGDASKDSLDDLFPNEEEEDSSNDLSRGQGAAAAQQGGYEIPARLRTLHNLVIQYAAQGRYEVAVPLCKQALEDLERTSGRGHPDVATMLNILALVYRDQNKYKEAAHLLNDALSIRESTLGRDHPAVAATLNNLAVLYGKRGKYKEAEPLCQRALEIREKVLGTDHPDVAKQLNNLALLCQNQGKYEAVERYYQRALAIYERQLGPDNPNVARTKNNLASCYLKQGKYSEAETLYKEILTRAHVQEFGSVDDDHKPIWMHAEEREEMSRSRSRESGTPYAEYGGWYKACRVSSPTVNTTLRNLGALYRRQGKLEAAETLEECALRSRKQGTDPISQTKVAELLGEGDGRKTMQEGPGDSVKFEGGEDASVAVEWSGDGSGTLQRSGSLGKIRDVLRRSSELLVRKLQGTEPRPSSSNMKRAASLNYLNQPNAAPLQTSRGLSASTVDLSSSS\n",
      "(623, 768)\n",
      "../../data/kif//kif_all_t12_dyn_kin.npy\n"
     ]
    }
   ],
   "source": [
    "batch_converter = alphabet.get_batch_converter()\n",
    "out_dir = \"../../data/kif/\"\n",
    "generate_embedding_transformer_t12(model_t12,batch_converter,kif_all,\"kif_all_t12_dyn_kin\",out_dir,seq_col = 11)"
   ]
  },
  {
   "cell_type": "markdown",
   "metadata": {},
   "source": [
    "## Generate embedding for t12 esm model with kinesin both"
   ]
  },
  {
   "cell_type": "code",
   "execution_count": 101,
   "metadata": {},
   "outputs": [
    {
     "name": "stdout",
     "output_type": "stream",
     "text": [
      "cuda\n"
     ]
    },
    {
     "data": {
      "text/plain": [
       "<All keys matched successfully>"
      ]
     },
     "execution_count": 101,
     "metadata": {},
     "output_type": "execute_result"
    }
   ],
   "source": [
    "alphabet = esm.Alphabet.from_dict(proteinseq_toks)\n",
    "model_name = \"esm1_t12_85M_UR50S\"\n",
    "url = f\"https://dl.fbaipublicfiles.com/fair-esm/models/{model_name}.pt\"\n",
    "if torch.cuda.is_available():\n",
    "    print(\"cuda\")\n",
    "    model_data = torch.hub.load_state_dict_from_url(url, progress=False)\n",
    "else:\n",
    "    model_data = torch.hub.load_state_dict_from_url(url, progress=False, map_location=torch.device('cpu'))\n",
    "\n",
    "pra = lambda s: ''.join(s.split('decoder_')[1:] if 'decoder' in s else s)\n",
    "prs = lambda s: ''.join(s.split('decoder.')[1:] if 'decoder' in s else s)\n",
    "model_args = {pra(arg[0]): arg[1] for arg in vars(model_data[\"args\"]).items()}\n",
    "model_state_12 = torch.load(\"../../data/esm_t12_85M_UR50S_kin_both_201204.pt\")\n",
    "model_t12 = esm.ProteinBertModel(Namespace(**model_args), len(alphabet), padding_idx=alphabet.padding_idx)\n",
    "model_t12.load_state_dict(model_state_12)"
   ]
  },
  {
   "cell_type": "code",
   "execution_count": 102,
   "metadata": {},
   "outputs": [
    {
     "name": "stdout",
     "output_type": "stream",
     "text": [
      "At Epoch: 0.00\n",
      "MSGVREIPAEDSIKVVCRFRPLNDSEELAGSKFVVKFPSGPEENCLSIGGKVYLFDKVFKPNATQEKVYNEAAKSIVSDVLAGYNGTIFAYGQTSSGKTHTMEGVIGDPAKQGIIPRIVNDIFNHIYTMEMNIEFHIKVSYYEIYMDKIRDLLDVSKVNLSVHEDKNRVPYVKGASERFVSSPEEVFEVIEEGKSNRHIAVTNMNEHSSRSHSVFLINVKQENMENEKKLSGKLYLVDLAGSEKVSKTGAEGTVLDEAKNINKSLSALGNVISALADGNKTHIPYRDSKLTRILQESLGGNARTTIVICCSPASFNESETKSTLDFGRRAKTVKNVVCVNEELTAEEWKRRYEREKEKNTKLKGKIEKLEAELARWRAGETVNVEEQLDLQQDAMEASTPNVEVLLAQPADLPVPATPGGGGLPLSAERDTLEVERERLYQQLDEKDEEINQQSQYVEKLKEQIIDQEELIANTRRDYENLQSEMTRIQQENENAKEEVKEVLQALEELAVNYDQKSQEIELKNKEIDMVNDELLQKQTTLNSVQSELQQLKDMSSHQKKRINEMLTNLLRDLSEVGQALAADQNEMKMNVEASAGKVEEEFTVARLYISKMKSEAKNLSARCANLETLQQDTCRKVGDYEKDLSECRLLISQHEARMKSLQESMREAENKKRTLEENIDALREECAKLKAAEQVSAVNAEEKQRADQLKVAFESQMDQLRDVHTKQVSALRDEISEKQELINELKDTNQKLTLAHQQMTADYEKLKQEEQEKSAKLQTLMLTDERREQARKDLKGLEDTVAKELQSLHALRKLFVLDLQARIKKSLNSEDTEDDGGSLAQKQKISFLENNLEQLTKVHKQLVRDNADLRCELPKLEKRLRTTVERVKALETALKEAKEGAMRDRKRYQYEVDRIKEAVRQKNLARRGPQAQIAKPIRAGQGQYLFKSGGTGAATTAPGGGTAITPKAMADEKRKSQIKDMDS\n",
      "At Epoch: 100.00\n",
      "MGKGDSIIVAVRVRPFNDREKTRNCKLVIEMPDEETTVIRDPKTNDEKRFTYDHSYWSHDGFSEKKNGYLEPTDPHYADQRRVFEDLGRGVLANAWAGYNCSLFAYGQTGSGKSYSIVGFKNNKGIVPIVCEELFKQIADNKKKNMQFEVFVSMMEIYCEKVRDLLSSTPPPKGGLKVREHPKNGFYVENLTTVPVNSFKEIEAKIEEGTKSRTIAATQMNATSSRAHTIVKITFNQKSSKQAGGTSMKKSEINLVDLAGSERQSAAGTEGDRLKEGIVINQSLTTLGRVIKALHDSQKAKSGKKTQIPYRDSVLTCLLKNALGGNSKTIMIAAISPADINFEETLSTLRFADRAKSIKTNAVVNENQTERALRELREENLRLQSQIQGGTAGDASNEEIEKLRRQLAENQKEMEEMEKSWQQKIAEEAAKHASGASEKVEMEAKKKKMCHLWNLNEDPALTNVIVHFIPVGESVVGNKPTSSGNFIQMSGLSILPQHVTLKNDGNNQIHLSPCSEDLDIFINGKPVHGETQLQQNDRVFFGGNHLYVFNNPTKKGIRTDITYENAQAEIAQNHAAALGNRGLGGGSKRDLILEEELMSTLPLVQRANAMATELGRNVKFEIVLVSPEMRGLTSGLTEIWVKVHNISEDTYFLWEKSRFMNRYYGMQEMYEAKQDGSEDWNMPKERDPFYEPPDSPVFIASSVVFLQSLAYLIDVEEQFPIVDLSGQEIGLLTVGLSPCSTTGKELRGEYVEDPDQLIGKNIAFKVKVISAVGLPRRILKSNCKYRFFGSKKMTTTATVSGNTPAYGHEETFQFKPVTKEVADYLANSNLYITFWGTQRPRGASSRKNSISTIGSNEAREGPNKAKRVERLVHQAKTSENRNISVKALETVLKGVDDNENRKTRKQSMKKAGSTTIKSRSGSKKPKAK\n",
      "At Epoch: 200.00\n",
      "MKDPVVLASGQTYDRPFIQEWLNSGNRTCPQSHQILPNTILTPNHLVHRMISQWCIEHDVSLPPLDNEQDEDKGLITVTEKNVLDGLLQKICSPSSVMEQKRALSELRLLTKCKRSFRALIGENDDAISQLLAVPSIPELSADPKVQEDAVTTILNISINETNKKIVGDNPQAIPFLIDALKAGRIETCSNSAAALFSLSALDSNKLKIGELGAMKPLIELLEQGSSSARKDAGSAVFSLCLAHENRARAVSGGVLGVVLKAITDRSLVNESLAILALLSSNQEAIEEIAETGGVPCLLSIIRESSCARNKENAVAVLYSICMYDRKRLREVGEEEDSNGIISQLVQNGTSRARRKAAGILDKWKRTLRLHYSC\n",
      "At Epoch: 300.00\n",
      "MLGAADESSVRVAVRIRPQLAKEKIEGCHICTSVTPGEPQVFLGKDKAFTFDYVFDIDSQQEQIYTQCIEKLIEGCFEGYNATVFAYGQTGAGKTYTMGTGFDVNIMEEEQGIISRAVRHLFKSIDEKKTSAIKNGLPPPEFKVNAQFLELYNEEVLDLFDTTRDIDAKNKKSNIRIHEDSTGGIYTVGVTTRTVNTEPEMMQCLKLGALSRTTASTQMNVQSSRSHAIFTIHVCQTRVCPQTDAENATDNKLISESSPMNEFETLTAKFHFVDLAGSERLKRTGATGERAKEGISINCGLLALGNVISALGDKSKRATHVPYRDSKLTRLLQDSLGGNSQTIMIACVSPSDRDFMETLNTLKYANRARNIKNKVMVNQDRASQQINALRSEITRLQMELMEYKTGKRIIDEEGVESINDMFHENAMLQTENNNLRVRIKAMQETVDALRARITQLVSEQANQVLARAGEGNEEISNMIHSYIKEIEDLRAKLLESEAVNENLRKNLTRATARSPYFSASSAFSPTILSSDKETIEIIDLAKKDLEKLKRKEKKKKKRLQKLEESGREERSVAGKDDNADTDQEKKEEKGVSEKENNELDVEENQEVSDHEDEEEEEEDEEEEDDIEGEESSDESDSESDEKANYQADLANITCEIAIKQKLIDELENSQKRLQTLKKQYEEKLMMLQHKIRDTQLERDQVLQNLGSVESYSEEKAKKVKCEYEKKLHAMNKELQRLQTAQKEHARLLKNQSQYEKQLKKLQQDVMEMKKTKVRLMKQMKEEQEKARLTESRRNREIAQLKKDQRKRDHQLRLLEAQKRNQEVVLRRKTEEVTALRRQVRPMSDKVAGKVTRKLSSSESPAPDTGSSAASGEADTSRPGTQQKMRIPVARVQALPTPTTNGTRKKYQRKGFTGRVFTSKTARMKWQLLERRVTDIIMQKMTISNMEADMNRLLRQREELTKRREKLSKRREKIVKESGEGDKSVANIIEEMESLTANIDYINDSIADCQANIMQMEEAKEEGETLDVTAVINACTLTEARYLLDHFLSMGINKGLQAAQKEAQIKVLEGRLKQTEITSATQNQLLFHMLKEKAELNPELDALLGHALQDLDGAPPENEEDSSEEDGPLHSPGSEGSTLSSDLMKLCGEVKPKNKARRRTTTQMELLYADSSEVASDTSAGDASLSGPLAPVAEGQEIGMNTETSGTSARDKELLAPSGLPSKIGSISRQSSLSEKKVPEPSPVTRRKAYEKADKPKAKEHKHSDSGASETSLSPPSSPPSRPRNELNVFNRLTVPQGTPSVQQDKSDESDSSLSEVHRGIINPFPACKGVRASPLQCVHIAEGHTKAVLCVDSTDDLLFTGSKDRTCKVWNLVTGQEIMSLGVHPNNVVSVKYCNYTSLVFTVSTSYIKVWDIRESAKCIRTLTSSGQVTLGEACSASTSRTVAIPSGESQINQIALNPTGTFLYAASGNAVRMWDLKRFQSTGKLTGHLGPVMCLTVDQISNGQDLIITGSKDHYIKMFDVTEGALGTVSPTHNFEPPHYDGIEALAIQGDNLFSGSRDNGIKKWDLAQKGLLQQVPNAHKDWVCALGLVPGHPVLLSGCRGGILKLWNVDTFVPVGEMRGHDSPINAICVNSTHVFTAADDRTVRIWKAHNLQDGQLSDTGDLGEDIASN\n",
      "At Epoch: 400.00\n",
      "MPAENQNTGQDRSSNSISKNGNSQVGCHTVPNEELNITVAVRCRGRNEREISMKSSVVVNVPDITGSKEISINTTGDTGITAQMNAKRYTVDKVFGPGASQDLIFDEVAGPLFQDFIKGYNCTVLVYGMTSTGKTYTMTGDEKLYNGELSDAAGIIPRVLLKLFDTLELQQNDYVVKCSFIELYNEELKDLLDSNSNGSSNTGFDGQFMKKLRIFDSSTANNTTSNSASSSRSNSRNSSPRSLNDLTPKAALLRKRLRTKSLPNTIKQQYQQQQAVNSRNNSSSNSGSTTNNASSNTNTNNGQRSSMAPNDQTNGIYIQNLQEFHITNAMEGLNLLQKGLKHRQVASTKMNDFSSRSHTIFTITLYKKHQDELFRISKMNLVDLAGSENINRSGALNQRAKEAGSINQSLLTLGRVINALVDKSGHIPFRESKLTRLLQDSLGGNTKTALIATISPAKVTSEETCSTLEYASKAKNIKNKPQLGSFIMKDILVKNITMELAKIKSDLLSTKSKEGIYMSQDHYKNLNSDLESYKNEVQECKREIESLTSKNALLVKDKLKSKETIQSQNCQIESLKTTIDHLRAQLDKQHKTEIEISDFNNKLQKLTEVMQMALHDYKKRELDLNQKFEMHITKEIKKLKSTLFLQLNTMQQESILQETNIQPNLDMIKNEVLTLMRTMQEKAELMYKDCVKKILNESPKFFNVVIEKIDIIRVDFQKFYKNIAENLSDISEENNNMKQYLKNHFFKNNHQELLNRHVDSTYENIEKRTNEFVENFKKVLNDHLDENKKLIMQNLTTATSAVIDQEMDLFEPKRVKWENSFDLINDCDSMNNEFYNSMAATLSQIKSTVDTSSNSMNESISVMKGQVEESENAISLLKNNTKFNDQFEQLINKHNMLKDNIKNSITSTHSHITNVDDIYNTIENIMKNYGNKENATKDEMIENILKEIPNLSKKMPLRLSNINSNSVQSVISPKKHAIEDENKSSENVDNEGSRKMLKIE\n",
      "At Epoch: 500.00\n",
      "MADPAECNIKVMCRFRPLNESEVNRGDKYVAKFQGEDTVMIASKPYAFDRVFQSSTSQEQVYNDCAKKIVKDVLEGYNGTIFAYGQTSSGKTHTMEGKLHDPEGMGIIPRIVQDIFNYIYSMDENLEFHIKVSYFEIYLDKIRDLLDVSKTNLSVHEDKNRVPYVKGCTERFVCSPDEVMDTIDEGKSNRHVAVTNMNEHSSRSHSIFLINVKQENTQTEQKLSGKLYLVDLAGSEKVSKTGAEGAVLDEAKNINKSLSALGNVISALAEGSTYVPYRDSKMTRILQDSLGGNCRTTIVICCSPSSYNESETKSTLLFGQRAKTIKNTVCVNVELTAEQWKKKYEKEKEKNKTLRNTIQWLENELNRWRNGETVPIDEQFDKEKANLEAFTADKDVAITNDKPAAAIGMAGSFTDAERRKCEEEIAKLYKQLDDKDEEINQQSQLVEKLKTQMLDQEELLASTRRDQDNMQAELNRLQAENDASKEEVKEVLQALEELAVNYDQKSQEVEDKTKEYELLSDELNQKSATLASIDAELQKLKEMTNHQKKRAAEMMASLLKDLAEIGIAVGNNDVKQPEGTGMIDEEFTVARLYISKMKSEVKTMVKRCKQLESTQTESNKKMEENEKELAACQLRISQHEAKIKSLTEYLQNVEQKKRQLEESVDSLGEELVQLRAQEKVHEMEKEHLNKVQTANEVKQAVEQQIQSHRETHQKQISSLRDEVEAKEKLITDLQDQNQKMVLEQERLRVEHERLKAVDQEKSRKLHELTVMQDRREQARQDLKGLEETVAKELQTLHNLRKLFVQDLATRVKKSAEVDSDDTGGSAAQKQKISFLENNLEQLTKVHKQLVRDNADLRCELPKLEKRLRATAERVKALESALKEAKENASRDRKRYQQEVDRIKEAVRSKNMARRGHSAQIAKPIRPGQHPAASPTHPGAVRGGGSFVQNNQPVGLRGGGGKQA\n",
      "At Epoch: 600.00\n",
      "MSGLVLGQRDEPAGHRLSQEEILGSTRLVSQGLESLHSEHQAVLQSLSHTIECLQQGGHEEGLVHEKARQLRRSMENIELGLSEAQVMLALASHLSTVESEKQKLRAQVRRLCQENQWLRDELAGTQQRLQRSEQAVAQLEEEKKHLEFLRQLRQYDEDGHSMEEKEGDASKDSLDDLFPNEEEEDSSNDLSRGQGAAAAQQGGYEIPARLRTLHNLVIQYAAQGRYEVAVPLCKQALEDLERTSGRGHPDVATMLNILALVYRDQNKYKEAAHLLNDALSIRESTLGRDHPAVAATLNNLAVLYGKRGKYKEAEPLCQRALEIREKVLGTDHPDVAKQLNNLALLCQNQGKYEAVERYYQRALAIYERQLGPDNPNVARTKNNLASCYLKQGKYSEAETLYKEILTRAHVQEFGSVDDDHKPIWMHAEEREEMSRSRSRESGTPYAEYGGWYKACRVSSPTVNTTLRNLGALYRRQGKLEAAETLEECALRSRKQGTDPISQTKVAELLGEGDGRKTMQEGPGDSVKFEGGEDASVAVEWSGDGSGTLQRSGSLGKIRDVLRRSSELLVRKLQGTEPRPSSSNMKRAASLNYLNQPNAAPLQTSRGLSASTVDLSSSS\n",
      "(623, 768)\n",
      "../../data/kif//kif_all_t12_kin_both.npy\n"
     ]
    }
   ],
   "source": [
    "batch_converter = alphabet.get_batch_converter()\n",
    "out_dir = \"../../data/kif/\"\n",
    "generate_embedding_transformer_t12(model_t12,batch_converter,kif_all,\"kif_all_t12_kin_both\",out_dir,seq_col = 11)"
   ]
  },
  {
   "cell_type": "markdown",
   "metadata": {},
   "source": [
    "## Generate embedding for t12 esm model with kinesin kif"
   ]
  },
  {
   "cell_type": "code",
   "execution_count": 103,
   "metadata": {},
   "outputs": [
    {
     "name": "stdout",
     "output_type": "stream",
     "text": [
      "cuda\n"
     ]
    },
    {
     "data": {
      "text/plain": [
       "<All keys matched successfully>"
      ]
     },
     "execution_count": 103,
     "metadata": {},
     "output_type": "execute_result"
    }
   ],
   "source": [
    "alphabet = esm.Alphabet.from_dict(proteinseq_toks)\n",
    "model_name = \"esm1_t12_85M_UR50S\"\n",
    "url = f\"https://dl.fbaipublicfiles.com/fair-esm/models/{model_name}.pt\"\n",
    "if torch.cuda.is_available():\n",
    "    print(\"cuda\")\n",
    "    model_data = torch.hub.load_state_dict_from_url(url, progress=False)\n",
    "else:\n",
    "    model_data = torch.hub.load_state_dict_from_url(url, progress=False, map_location=torch.device('cpu'))\n",
    "\n",
    "pra = lambda s: ''.join(s.split('decoder_')[1:] if 'decoder' in s else s)\n",
    "prs = lambda s: ''.join(s.split('decoder.')[1:] if 'decoder' in s else s)\n",
    "model_args = {pra(arg[0]): arg[1] for arg in vars(model_data[\"args\"]).items()}\n",
    "model_state_12 = torch.load(\"../../data/esm_t12_85M_UR50S_kin_kif_201204.pt\")\n",
    "model_t12 = esm.ProteinBertModel(Namespace(**model_args), len(alphabet), padding_idx=alphabet.padding_idx)\n",
    "model_t12.load_state_dict(model_state_12)"
   ]
  },
  {
   "cell_type": "code",
   "execution_count": 104,
   "metadata": {},
   "outputs": [
    {
     "name": "stdout",
     "output_type": "stream",
     "text": [
      "At Epoch: 0.00\n",
      "MSGVREIPAEDSIKVVCRFRPLNDSEELAGSKFVVKFPSGPEENCLSIGGKVYLFDKVFKPNATQEKVYNEAAKSIVSDVLAGYNGTIFAYGQTSSGKTHTMEGVIGDPAKQGIIPRIVNDIFNHIYTMEMNIEFHIKVSYYEIYMDKIRDLLDVSKVNLSVHEDKNRVPYVKGASERFVSSPEEVFEVIEEGKSNRHIAVTNMNEHSSRSHSVFLINVKQENMENEKKLSGKLYLVDLAGSEKVSKTGAEGTVLDEAKNINKSLSALGNVISALADGNKTHIPYRDSKLTRILQESLGGNARTTIVICCSPASFNESETKSTLDFGRRAKTVKNVVCVNEELTAEEWKRRYEREKEKNTKLKGKIEKLEAELARWRAGETVNVEEQLDLQQDAMEASTPNVEVLLAQPADLPVPATPGGGGLPLSAERDTLEVERERLYQQLDEKDEEINQQSQYVEKLKEQIIDQEELIANTRRDYENLQSEMTRIQQENENAKEEVKEVLQALEELAVNYDQKSQEIELKNKEIDMVNDELLQKQTTLNSVQSELQQLKDMSSHQKKRINEMLTNLLRDLSEVGQALAADQNEMKMNVEASAGKVEEEFTVARLYISKMKSEAKNLSARCANLETLQQDTCRKVGDYEKDLSECRLLISQHEARMKSLQESMREAENKKRTLEENIDALREECAKLKAAEQVSAVNAEEKQRADQLKVAFESQMDQLRDVHTKQVSALRDEISEKQELINELKDTNQKLTLAHQQMTADYEKLKQEEQEKSAKLQTLMLTDERREQARKDLKGLEDTVAKELQSLHALRKLFVLDLQARIKKSLNSEDTEDDGGSLAQKQKISFLENNLEQLTKVHKQLVRDNADLRCELPKLEKRLRTTVERVKALETALKEAKEGAMRDRKRYQYEVDRIKEAVRQKNLARRGPQAQIAKPIRAGQGQYLFKSGGTGAATTAPGGGTAITPKAMADEKRKSQIKDMDS\n",
      "At Epoch: 100.00\n",
      "MGKGDSIIVAVRVRPFNDREKTRNCKLVIEMPDEETTVIRDPKTNDEKRFTYDHSYWSHDGFSEKKNGYLEPTDPHYADQRRVFEDLGRGVLANAWAGYNCSLFAYGQTGSGKSYSIVGFKNNKGIVPIVCEELFKQIADNKKKNMQFEVFVSMMEIYCEKVRDLLSSTPPPKGGLKVREHPKNGFYVENLTTVPVNSFKEIEAKIEEGTKSRTIAATQMNATSSRAHTIVKITFNQKSSKQAGGTSMKKSEINLVDLAGSERQSAAGTEGDRLKEGIVINQSLTTLGRVIKALHDSQKAKSGKKTQIPYRDSVLTCLLKNALGGNSKTIMIAAISPADINFEETLSTLRFADRAKSIKTNAVVNENQTERALRELREENLRLQSQIQGGTAGDASNEEIEKLRRQLAENQKEMEEMEKSWQQKIAEEAAKHASGASEKVEMEAKKKKMCHLWNLNEDPALTNVIVHFIPVGESVVGNKPTSSGNFIQMSGLSILPQHVTLKNDGNNQIHLSPCSEDLDIFINGKPVHGETQLQQNDRVFFGGNHLYVFNNPTKKGIRTDITYENAQAEIAQNHAAALGNRGLGGGSKRDLILEEELMSTLPLVQRANAMATELGRNVKFEIVLVSPEMRGLTSGLTEIWVKVHNISEDTYFLWEKSRFMNRYYGMQEMYEAKQDGSEDWNMPKERDPFYEPPDSPVFIASSVVFLQSLAYLIDVEEQFPIVDLSGQEIGLLTVGLSPCSTTGKELRGEYVEDPDQLIGKNIAFKVKVISAVGLPRRILKSNCKYRFFGSKKMTTTATVSGNTPAYGHEETFQFKPVTKEVADYLANSNLYITFWGTQRPRGASSRKNSISTIGSNEAREGPNKAKRVERLVHQAKTSENRNISVKALETVLKGVDDNENRKTRKQSMKKAGSTTIKSRSGSKKPKAK\n",
      "At Epoch: 200.00\n",
      "MKDPVVLASGQTYDRPFIQEWLNSGNRTCPQSHQILPNTILTPNHLVHRMISQWCIEHDVSLPPLDNEQDEDKGLITVTEKNVLDGLLQKICSPSSVMEQKRALSELRLLTKCKRSFRALIGENDDAISQLLAVPSIPELSADPKVQEDAVTTILNISINETNKKIVGDNPQAIPFLIDALKAGRIETCSNSAAALFSLSALDSNKLKIGELGAMKPLIELLEQGSSSARKDAGSAVFSLCLAHENRARAVSGGVLGVVLKAITDRSLVNESLAILALLSSNQEAIEEIAETGGVPCLLSIIRESSCARNKENAVAVLYSICMYDRKRLREVGEEEDSNGIISQLVQNGTSRARRKAAGILDKWKRTLRLHYSC\n",
      "At Epoch: 300.00\n",
      "MLGAADESSVRVAVRIRPQLAKEKIEGCHICTSVTPGEPQVFLGKDKAFTFDYVFDIDSQQEQIYTQCIEKLIEGCFEGYNATVFAYGQTGAGKTYTMGTGFDVNIMEEEQGIISRAVRHLFKSIDEKKTSAIKNGLPPPEFKVNAQFLELYNEEVLDLFDTTRDIDAKNKKSNIRIHEDSTGGIYTVGVTTRTVNTEPEMMQCLKLGALSRTTASTQMNVQSSRSHAIFTIHVCQTRVCPQTDAENATDNKLISESSPMNEFETLTAKFHFVDLAGSERLKRTGATGERAKEGISINCGLLALGNVISALGDKSKRATHVPYRDSKLTRLLQDSLGGNSQTIMIACVSPSDRDFMETLNTLKYANRARNIKNKVMVNQDRASQQINALRSEITRLQMELMEYKTGKRIIDEEGVESINDMFHENAMLQTENNNLRVRIKAMQETVDALRARITQLVSEQANQVLARAGEGNEEISNMIHSYIKEIEDLRAKLLESEAVNENLRKNLTRATARSPYFSASSAFSPTILSSDKETIEIIDLAKKDLEKLKRKEKKKKKRLQKLEESGREERSVAGKDDNADTDQEKKEEKGVSEKENNELDVEENQEVSDHEDEEEEEEDEEEEDDIEGEESSDESDSESDEKANYQADLANITCEIAIKQKLIDELENSQKRLQTLKKQYEEKLMMLQHKIRDTQLERDQVLQNLGSVESYSEEKAKKVKCEYEKKLHAMNKELQRLQTAQKEHARLLKNQSQYEKQLKKLQQDVMEMKKTKVRLMKQMKEEQEKARLTESRRNREIAQLKKDQRKRDHQLRLLEAQKRNQEVVLRRKTEEVTALRRQVRPMSDKVAGKVTRKLSSSESPAPDTGSSAASGEADTSRPGTQQKMRIPVARVQALPTPTTNGTRKKYQRKGFTGRVFTSKTARMKWQLLERRVTDIIMQKMTISNMEADMNRLLRQREELTKRREKLSKRREKIVKESGEGDKSVANIIEEMESLTANIDYINDSIADCQANIMQMEEAKEEGETLDVTAVINACTLTEARYLLDHFLSMGINKGLQAAQKEAQIKVLEGRLKQTEITSATQNQLLFHMLKEKAELNPELDALLGHALQDLDGAPPENEEDSSEEDGPLHSPGSEGSTLSSDLMKLCGEVKPKNKARRRTTTQMELLYADSSEVASDTSAGDASLSGPLAPVAEGQEIGMNTETSGTSARDKELLAPSGLPSKIGSISRQSSLSEKKVPEPSPVTRRKAYEKADKPKAKEHKHSDSGASETSLSPPSSPPSRPRNELNVFNRLTVPQGTPSVQQDKSDESDSSLSEVHRGIINPFPACKGVRASPLQCVHIAEGHTKAVLCVDSTDDLLFTGSKDRTCKVWNLVTGQEIMSLGVHPNNVVSVKYCNYTSLVFTVSTSYIKVWDIRESAKCIRTLTSSGQVTLGEACSASTSRTVAIPSGESQINQIALNPTGTFLYAASGNAVRMWDLKRFQSTGKLTGHLGPVMCLTVDQISNGQDLIITGSKDHYIKMFDVTEGALGTVSPTHNFEPPHYDGIEALAIQGDNLFSGSRDNGIKKWDLAQKGLLQQVPNAHKDWVCALGLVPGHPVLLSGCRGGILKLWNVDTFVPVGEMRGHDSPINAICVNSTHVFTAADDRTVRIWKAHNLQDGQLSDTGDLGEDIASN\n",
      "At Epoch: 400.00\n",
      "MPAENQNTGQDRSSNSISKNGNSQVGCHTVPNEELNITVAVRCRGRNEREISMKSSVVVNVPDITGSKEISINTTGDTGITAQMNAKRYTVDKVFGPGASQDLIFDEVAGPLFQDFIKGYNCTVLVYGMTSTGKTYTMTGDEKLYNGELSDAAGIIPRVLLKLFDTLELQQNDYVVKCSFIELYNEELKDLLDSNSNGSSNTGFDGQFMKKLRIFDSSTANNTTSNSASSSRSNSRNSSPRSLNDLTPKAALLRKRLRTKSLPNTIKQQYQQQQAVNSRNNSSSNSGSTTNNASSNTNTNNGQRSSMAPNDQTNGIYIQNLQEFHITNAMEGLNLLQKGLKHRQVASTKMNDFSSRSHTIFTITLYKKHQDELFRISKMNLVDLAGSENINRSGALNQRAKEAGSINQSLLTLGRVINALVDKSGHIPFRESKLTRLLQDSLGGNTKTALIATISPAKVTSEETCSTLEYASKAKNIKNKPQLGSFIMKDILVKNITMELAKIKSDLLSTKSKEGIYMSQDHYKNLNSDLESYKNEVQECKREIESLTSKNALLVKDKLKSKETIQSQNCQIESLKTTIDHLRAQLDKQHKTEIEISDFNNKLQKLTEVMQMALHDYKKRELDLNQKFEMHITKEIKKLKSTLFLQLNTMQQESILQETNIQPNLDMIKNEVLTLMRTMQEKAELMYKDCVKKILNESPKFFNVVIEKIDIIRVDFQKFYKNIAENLSDISEENNNMKQYLKNHFFKNNHQELLNRHVDSTYENIEKRTNEFVENFKKVLNDHLDENKKLIMQNLTTATSAVIDQEMDLFEPKRVKWENSFDLINDCDSMNNEFYNSMAATLSQIKSTVDTSSNSMNESISVMKGQVEESENAISLLKNNTKFNDQFEQLINKHNMLKDNIKNSITSTHSHITNVDDIYNTIENIMKNYGNKENATKDEMIENILKEIPNLSKKMPLRLSNINSNSVQSVISPKKHAIEDENKSSENVDNEGSRKMLKIE\n",
      "At Epoch: 500.00\n",
      "MADPAECNIKVMCRFRPLNESEVNRGDKYVAKFQGEDTVMIASKPYAFDRVFQSSTSQEQVYNDCAKKIVKDVLEGYNGTIFAYGQTSSGKTHTMEGKLHDPEGMGIIPRIVQDIFNYIYSMDENLEFHIKVSYFEIYLDKIRDLLDVSKTNLSVHEDKNRVPYVKGCTERFVCSPDEVMDTIDEGKSNRHVAVTNMNEHSSRSHSIFLINVKQENTQTEQKLSGKLYLVDLAGSEKVSKTGAEGAVLDEAKNINKSLSALGNVISALAEGSTYVPYRDSKMTRILQDSLGGNCRTTIVICCSPSSYNESETKSTLLFGQRAKTIKNTVCVNVELTAEQWKKKYEKEKEKNKTLRNTIQWLENELNRWRNGETVPIDEQFDKEKANLEAFTADKDVAITNDKPAAAIGMAGSFTDAERRKCEEEIAKLYKQLDDKDEEINQQSQLVEKLKTQMLDQEELLASTRRDQDNMQAELNRLQAENDASKEEVKEVLQALEELAVNYDQKSQEVEDKTKEYELLSDELNQKSATLASIDAELQKLKEMTNHQKKRAAEMMASLLKDLAEIGIAVGNNDVKQPEGTGMIDEEFTVARLYISKMKSEVKTMVKRCKQLESTQTESNKKMEENEKELAACQLRISQHEAKIKSLTEYLQNVEQKKRQLEESVDSLGEELVQLRAQEKVHEMEKEHLNKVQTANEVKQAVEQQIQSHRETHQKQISSLRDEVEAKEKLITDLQDQNQKMVLEQERLRVEHERLKAVDQEKSRKLHELTVMQDRREQARQDLKGLEETVAKELQTLHNLRKLFVQDLATRVKKSAEVDSDDTGGSAAQKQKISFLENNLEQLTKVHKQLVRDNADLRCELPKLEKRLRATAERVKALESALKEAKENASRDRKRYQQEVDRIKEAVRSKNMARRGHSAQIAKPIRPGQHPAASPTHPGAVRGGGSFVQNNQPVGLRGGGGKQA\n",
      "At Epoch: 600.00\n",
      "MSGLVLGQRDEPAGHRLSQEEILGSTRLVSQGLESLHSEHQAVLQSLSHTIECLQQGGHEEGLVHEKARQLRRSMENIELGLSEAQVMLALASHLSTVESEKQKLRAQVRRLCQENQWLRDELAGTQQRLQRSEQAVAQLEEEKKHLEFLRQLRQYDEDGHSMEEKEGDASKDSLDDLFPNEEEEDSSNDLSRGQGAAAAQQGGYEIPARLRTLHNLVIQYAAQGRYEVAVPLCKQALEDLERTSGRGHPDVATMLNILALVYRDQNKYKEAAHLLNDALSIRESTLGRDHPAVAATLNNLAVLYGKRGKYKEAEPLCQRALEIREKVLGTDHPDVAKQLNNLALLCQNQGKYEAVERYYQRALAIYERQLGPDNPNVARTKNNLASCYLKQGKYSEAETLYKEILTRAHVQEFGSVDDDHKPIWMHAEEREEMSRSRSRESGTPYAEYGGWYKACRVSSPTVNTTLRNLGALYRRQGKLEAAETLEECALRSRKQGTDPISQTKVAELLGEGDGRKTMQEGPGDSVKFEGGEDASVAVEWSGDGSGTLQRSGSLGKIRDVLRRSSELLVRKLQGTEPRPSSSNMKRAASLNYLNQPNAAPLQTSRGLSASTVDLSSSS\n",
      "(623, 768)\n",
      "../../data/kif//kif_all_t12_kin_kif.npy\n"
     ]
    }
   ],
   "source": [
    "batch_converter = alphabet.get_batch_converter()\n",
    "out_dir = \"../../data/kif/\"\n",
    "generate_embedding_transformer_t12(model_t12,batch_converter,kif_all,\"kif_all_t12_kin_kif\",out_dir,seq_col = 11)"
   ]
  },
  {
   "cell_type": "markdown",
   "metadata": {},
   "source": [
    "## Generate normalized embeddings for both t12 and t34 embeddings"
   ]
  },
  {
   "cell_type": "code",
   "execution_count": 105,
   "metadata": {},
   "outputs": [],
   "source": [
    "dat_t12_dyn_kin = np.load(\"../../data/kif//kif_all_t12_dyn_kin.npy\")\n",
    "dat_t12_kin_both = np.load(\"../../data/kif//kif_all_t12_kin_both.npy\")\n",
    "dat_t12_kin_kif = np.load(\"../../data/kif//kif_all_t12_kin_kif.npy\")"
   ]
  },
  {
   "cell_type": "code",
   "execution_count": 106,
   "metadata": {},
   "outputs": [],
   "source": [
    "from sklearn.preprocessing import StandardScaler"
   ]
  },
  {
   "cell_type": "code",
   "execution_count": 107,
   "metadata": {},
   "outputs": [],
   "source": [
    "scaler = StandardScaler()\n",
    "scaler.fit(dat_t12_dyn_kin)\n",
    "dat_t12_dyn_kin_scaled = scaler.transform(dat_t12_dyn_kin)\n",
    "\n",
    "scaler = StandardScaler()\n",
    "scaler.fit(dat_t12_kin_both)\n",
    "dat_t12_kin_both_scaled = scaler.transform(dat_t12_kin_both)\n",
    "\n",
    "scaler = StandardScaler()\n",
    "scaler.fit(dat_t12_kin_kif)\n",
    "dat_t12_kin_kif_scaled = scaler.transform(dat_t12_kin_kif)\n"
   ]
  },
  {
   "cell_type": "code",
   "execution_count": 135,
   "metadata": {},
   "outputs": [
    {
     "name": "stdout",
     "output_type": "stream",
     "text": [
      "0.9143122243393961\n"
     ]
    },
    {
     "data": {
      "text/plain": [
       "array([0.1037386 , 0.17346857, 0.22312034, 0.2711978 , 0.31501837,\n",
       "       0.34959135, 0.3810746 , 0.41127113, 0.44036258, 0.46841588])"
      ]
     },
     "execution_count": 135,
     "metadata": {},
     "output_type": "execute_result"
    }
   ],
   "source": [
    "sigma = np.cov(dat_t12_dyn_kin_scaled.T)\n",
    "u, s, v = np.linalg.svd(sigma)\n",
    "s_ratio = np.cumsum(s)/sum(s)\n",
    "print(s_ratio[90])\n",
    "s_ratio[0:10]"
   ]
  },
  {
   "cell_type": "code",
   "execution_count": 136,
   "metadata": {},
   "outputs": [
    {
     "name": "stdout",
     "output_type": "stream",
     "text": [
      "0.9231702483504243\n"
     ]
    },
    {
     "data": {
      "text/plain": [
       "array([0.14355875, 0.21469045, 0.26714097, 0.31047324, 0.3457676 ,\n",
       "       0.3784513 , 0.40961244, 0.43754314, 0.46433769, 0.4892312 ])"
      ]
     },
     "execution_count": 136,
     "metadata": {},
     "output_type": "execute_result"
    }
   ],
   "source": [
    "sigma = np.cov(dat_t12_kin_both_scaled.T)\n",
    "u, s, v = np.linalg.svd(sigma)\n",
    "s_ratio = np.cumsum(s)/sum(s)\n",
    "print(s_ratio[90])\n",
    "s_ratio[0:10]"
   ]
  },
  {
   "cell_type": "code",
   "execution_count": 137,
   "metadata": {},
   "outputs": [
    {
     "name": "stdout",
     "output_type": "stream",
     "text": [
      "0.938463124525364\n"
     ]
    },
    {
     "data": {
      "text/plain": [
       "array([0.11628238, 0.21911502, 0.27074055, 0.3180739 , 0.35890227,\n",
       "       0.39807475, 0.43098283, 0.46215509, 0.49194599, 0.5192833 ])"
      ]
     },
     "execution_count": 137,
     "metadata": {},
     "output_type": "execute_result"
    }
   ],
   "source": [
    "sigma = np.cov(dat_t12_kin_kif_scaled.T)\n",
    "u, s, v = np.linalg.svd(sigma)\n",
    "s_ratio = np.cumsum(s)/sum(s)\n",
    "print(s_ratio[90])\n",
    "s_ratio[0:10]"
   ]
  },
  {
   "cell_type": "markdown",
   "metadata": {},
   "source": [
    "## Observation: Slight increase in the variance accounted for the specific kinesin dataset with the weight-updated models than the raw esm t12 model"
   ]
  },
  {
   "cell_type": "code",
   "execution_count": 138,
   "metadata": {},
   "outputs": [],
   "source": [
    "from sklearn.decomposition import PCA"
   ]
  },
  {
   "cell_type": "code",
   "execution_count": 139,
   "metadata": {},
   "outputs": [],
   "source": [
    "pca = PCA(n_components=90)\n",
    "dat_t12_kin_kif_scaled_reduced = pca.fit_transform(dat_t12_kin_kif_scaled)"
   ]
  },
  {
   "cell_type": "code",
   "execution_count": 140,
   "metadata": {
    "scrolled": true
   },
   "outputs": [],
   "source": [
    "pca = PCA(n_components=90)\n",
    "dat_t12_dyn_kin_scaled_reduced = pca.fit_transform(dat_t12_dyn_kin_scaled)"
   ]
  },
  {
   "cell_type": "code",
   "execution_count": 141,
   "metadata": {},
   "outputs": [],
   "source": [
    "pca = PCA(n_components=90)\n",
    "dat_t12_kin_both_scaled_reduced = pca.fit_transform(dat_t12_kin_both_scaled)"
   ]
  },
  {
   "cell_type": "code",
   "execution_count": 142,
   "metadata": {},
   "outputs": [],
   "source": [
    "np.save(\"../../out/201212/embedding/esm_models/t12_evo/kif_all_t12_kin_kif_scaled_reduced.npy\", dat_t12_kin_kif_scaled_reduced)\n",
    "np.save(\"../../out/201212/embedding/esm_models/t12_evo/kif_all_t12_dyn_kin_scaled_reduced.npy\", dat_t12_dyn_kin_scaled_reduced)\n",
    "np.save(\"../../out/201212/embedding/esm_models/t12_evo/kif_all_t12_kin_both_scaled_reduced.npy\", dat_t12_kin_both_scaled_reduced)\n",
    "\n",
    "np.save(\"../../out/201212/embedding/esm_models/t12_evo/kif_all_t12_kin_kif_scaled.npy\", dat_t12_kin_kif_scaled)\n",
    "np.save(\"../../out/201212/embedding/esm_models/t12_evo/kif_all_t12_dyn_kin_scaled.npy\", dat_t12_dyn_kin_scaled)\n",
    "np.save(\"../../out/201212/embedding/esm_models/t12_evo/kif_all_t12_kin_both_scaled.npy\", dat_t12_kin_both_scaled)\n"
   ]
  },
  {
   "cell_type": "code",
   "execution_count": 51,
   "metadata": {},
   "outputs": [],
   "source": [
    "scaler = StandardScaler()\n",
    "scaler.fit(dat_t34)\n",
    "dat_t34_scaled = scaler.transform(dat_t34)"
   ]
  },
  {
   "cell_type": "code",
   "execution_count": 52,
   "metadata": {},
   "outputs": [
    {
     "data": {
      "text/plain": [
       "(1280, 1280)"
      ]
     },
     "execution_count": 52,
     "metadata": {},
     "output_type": "execute_result"
    }
   ],
   "source": [
    "sigma = np.cov(dat_t34_scaled.T)\n",
    "sigma.shape"
   ]
  },
  {
   "cell_type": "code",
   "execution_count": 53,
   "metadata": {},
   "outputs": [
    {
     "data": {
      "text/plain": [
       "array([307.53562147, 107.41777344,  91.98352673,  69.9235464 ,\n",
       "        63.3094603 ,  50.19162478,  35.88060167,  30.76523453,\n",
       "        30.52840563,  27.52509972])"
      ]
     },
     "execution_count": 53,
     "metadata": {},
     "output_type": "execute_result"
    }
   ],
   "source": [
    "u, s, v = np.linalg.svd(sigma)\n",
    "s[0:10]"
   ]
  },
  {
   "cell_type": "code",
   "execution_count": 54,
   "metadata": {},
   "outputs": [],
   "source": [
    "s_ratio = np.cumsum(s)/sum(s)"
   ]
  },
  {
   "cell_type": "code",
   "execution_count": 59,
   "metadata": {},
   "outputs": [
    {
     "data": {
      "text/plain": [
       "0.933411760121551"
      ]
     },
     "execution_count": 59,
     "metadata": {},
     "output_type": "execute_result"
    }
   ],
   "source": [
    "s_ratio[80]"
   ]
  },
  {
   "cell_type": "code",
   "execution_count": 60,
   "metadata": {},
   "outputs": [],
   "source": [
    "from sklearn.decomposition import PCA\n",
    "pca = PCA(n_components=80)\n",
    "dat_t34_scaled_reduced = pca.fit_transform(dat_t34_scaled)"
   ]
  },
  {
   "cell_type": "code",
   "execution_count": 61,
   "metadata": {},
   "outputs": [
    {
     "data": {
      "text/plain": [
       "array([0.23987648, 0.32366195, 0.3954088 , 0.44994885, 0.49932992,\n",
       "       0.5384792 , 0.5664659 , 0.5904627 , 0.6142747 , 0.63574415,\n",
       "       0.65285987, 0.6685754 , 0.68184376, 0.69354457, 0.7049386 ,\n",
       "       0.7149493 , 0.7243274 , 0.7330448 , 0.741408  , 0.74944043,\n",
       "       0.7566267 , 0.7629791 , 0.76920086, 0.7750953 , 0.78077245,\n",
       "       0.7863416 , 0.7916782 , 0.79678273, 0.80164117, 0.8063084 ,\n",
       "       0.81074506, 0.81485856, 0.8188833 , 0.8228533 , 0.8266949 ,\n",
       "       0.83033806, 0.8338366 , 0.837285  , 0.8406885 , 0.8440735 ,\n",
       "       0.8473215 , 0.8505465 , 0.85370916, 0.8567171 , 0.85969514,\n",
       "       0.8625895 , 0.8654622 , 0.86830443, 0.8710722 , 0.8738029 ,\n",
       "       0.8763979 , 0.87896395, 0.8814524 , 0.8838775 , 0.88626313,\n",
       "       0.8885633 , 0.89083505, 0.89304537, 0.89524364, 0.8973704 ,\n",
       "       0.8994721 , 0.90152854, 0.9035551 , 0.905528  , 0.9074723 ,\n",
       "       0.9093682 , 0.9112302 , 0.91301566, 0.91478926, 0.9165155 ,\n",
       "       0.91820586, 0.9198587 , 0.92146903, 0.92303   , 0.924554  ,\n",
       "       0.92603683, 0.9274846 , 0.92892075, 0.93029535, 0.9316549 ],\n",
       "      dtype=float32)"
      ]
     },
     "execution_count": 61,
     "metadata": {},
     "output_type": "execute_result"
    }
   ],
   "source": [
    "np.cumsum(pca.explained_variance_ratio_)"
   ]
  },
  {
   "cell_type": "code",
   "execution_count": 62,
   "metadata": {},
   "outputs": [],
   "source": [
    "np.save(\"../../out/201212/embedding/esm_models/t12_normalized/kif_all.npy\", dat_t12_scaled)\n",
    "np.save(\"../../out/201212/embedding/esm_models/t12_normalized_reduced/kif_all.npy\", dat_t12_scaled_reduced)\n",
    "np.save(\"../../out/201212/embedding/esm_models/t34_normalized/kif_all.npy\", dat_t34_scaled)\n",
    "np.save(\"../../out/201212/embedding/esm_models/t34_normalized_reduced/kif_all.npy\", dat_t34_scaled_reduced)"
   ]
  },
  {
   "cell_type": "code",
   "execution_count": 63,
   "metadata": {
    "scrolled": true
   },
   "outputs": [
    {
     "name": "stdout",
     "output_type": "stream",
     "text": [
      "(623, 768)\n",
      "(623, 1280)\n"
     ]
    }
   ],
   "source": [
    "print(dat_t12_scaled.shape)\n",
    "print(dat_t34_scaled.shape)"
   ]
  },
  {
   "cell_type": "code",
   "execution_count": null,
   "metadata": {},
   "outputs": [],
   "source": []
  },
  {
   "cell_type": "code",
   "execution_count": null,
   "metadata": {},
   "outputs": [],
   "source": []
  },
  {
   "cell_type": "code",
   "execution_count": null,
   "metadata": {},
   "outputs": [],
   "source": []
  },
  {
   "cell_type": "markdown",
   "metadata": {},
   "source": [
    "# normalize within the subset to reduce affect of family 14 very large amount "
   ]
  },
  {
   "cell_type": "code",
   "execution_count": 143,
   "metadata": {},
   "outputs": [
    {
     "data": {
      "text/html": [
       "<div>\n",
       "<style scoped>\n",
       "    .dataframe tbody tr th:only-of-type {\n",
       "        vertical-align: middle;\n",
       "    }\n",
       "\n",
       "    .dataframe tbody tr th {\n",
       "        vertical-align: top;\n",
       "    }\n",
       "\n",
       "    .dataframe thead th {\n",
       "        text-align: right;\n",
       "    }\n",
       "</style>\n",
       "<table border=\"1\" class=\"dataframe\">\n",
       "  <thead>\n",
       "    <tr style=\"text-align: right;\">\n",
       "      <th></th>\n",
       "      <th>Unnamed: 0</th>\n",
       "      <th>Entry</th>\n",
       "      <th>db_acc</th>\n",
       "      <th>db_name</th>\n",
       "      <th>kinesin_family</th>\n",
       "    </tr>\n",
       "  </thead>\n",
       "  <tbody>\n",
       "    <tr>\n",
       "      <th>0</th>\n",
       "      <td>0</td>\n",
       "      <td>Q7PG43</td>\n",
       "      <td>AgKHC</td>\n",
       "      <td>kif_jp</td>\n",
       "      <td>1</td>\n",
       "    </tr>\n",
       "  </tbody>\n",
       "</table>\n",
       "</div>"
      ],
      "text/plain": [
       "   Unnamed: 0   Entry db_acc db_name  kinesin_family\n",
       "0           0  Q7PG43  AgKHC  kif_jp               1"
      ]
     },
     "execution_count": 143,
     "metadata": {},
     "output_type": "execute_result"
    }
   ],
   "source": [
    "kif_acc_all_balanced = pd.read_csv(\"../../data/kif/kif_acc_all_balanced.csv\")\n",
    "kif_acc_all_balanced.head(1)"
   ]
  },
  {
   "cell_type": "code",
   "execution_count": 68,
   "metadata": {},
   "outputs": [],
   "source": [
    "dat_t12 = np.load(\"../../data/kif//kif_all_t12.npy\")\n",
    "dat_t34 = np.load(\"../../data/kif//kif_all_t34.npy\")\n",
    "\n",
    "dat_t12 = dat_t12[kif_acc_all_balanced[\"Unnamed: 0\"],:]\n",
    "dat_t34 = dat_t34[kif_acc_all_balanced[\"Unnamed: 0\"],:]"
   ]
  },
  {
   "cell_type": "code",
   "execution_count": 69,
   "metadata": {},
   "outputs": [],
   "source": [
    "scaler = StandardScaler()\n",
    "scaler.fit(dat_t12)\n",
    "dat_t12_scaled = scaler.transform(dat_t12)"
   ]
  },
  {
   "cell_type": "code",
   "execution_count": 70,
   "metadata": {},
   "outputs": [
    {
     "data": {
      "text/plain": [
       "(768, 768)"
      ]
     },
     "execution_count": 70,
     "metadata": {},
     "output_type": "execute_result"
    }
   ],
   "source": [
    "sigma = np.cov(dat_t12_scaled.T)\n",
    "sigma.shape"
   ]
  },
  {
   "cell_type": "code",
   "execution_count": 71,
   "metadata": {},
   "outputs": [
    {
     "data": {
      "text/plain": [
       "array([168.72236191,  68.65800771,  66.29760791,  53.1949032 ,\n",
       "        44.148112  ,  36.24220486,  30.36354889,  28.9050794 ,\n",
       "        23.92338204,  20.00333523])"
      ]
     },
     "execution_count": 71,
     "metadata": {},
     "output_type": "execute_result"
    }
   ],
   "source": [
    "u, s, v = np.linalg.svd(sigma)\n",
    "s[0:10]"
   ]
  },
  {
   "cell_type": "code",
   "execution_count": 72,
   "metadata": {},
   "outputs": [],
   "source": [
    "s_ratio = np.cumsum(s)/sum(s)"
   ]
  },
  {
   "cell_type": "code",
   "execution_count": 74,
   "metadata": {},
   "outputs": [
    {
     "data": {
      "text/plain": [
       "0.9721366424150297"
      ]
     },
     "execution_count": 74,
     "metadata": {},
     "output_type": "execute_result"
    }
   ],
   "source": [
    "s_ratio[50]"
   ]
  },
  {
   "cell_type": "code",
   "execution_count": 75,
   "metadata": {},
   "outputs": [],
   "source": [
    "from sklearn.decomposition import PCA\n",
    "pca = PCA(n_components=50)\n",
    "dat_t12_scaled_reduced = pca.fit_transform(dat_t12_scaled)"
   ]
  },
  {
   "cell_type": "code",
   "execution_count": 76,
   "metadata": {
    "scrolled": true
   },
   "outputs": [
    {
     "data": {
      "text/plain": [
       "array([0.21813229, 0.30689678, 0.39260942, 0.46138236, 0.51845914,\n",
       "       0.5653148 , 0.60457027, 0.6419402 , 0.67286944, 0.69873077,\n",
       "       0.72214085, 0.7439846 , 0.76469606, 0.7832524 , 0.798235  ,\n",
       "       0.812644  , 0.8254138 , 0.8365268 , 0.84737563, 0.8573931 ,\n",
       "       0.86653525, 0.8751833 , 0.88303316, 0.8901916 , 0.89684796,\n",
       "       0.9027524 , 0.9082548 , 0.9131301 , 0.9178595 , 0.9222001 ,\n",
       "       0.92650133, 0.9302965 , 0.9340038 , 0.93757296, 0.94067657,\n",
       "       0.9437247 , 0.94669384, 0.9493839 , 0.95199037, 0.95437396,\n",
       "       0.95660555, 0.9586458 , 0.9605108 , 0.9623289 , 0.96399635,\n",
       "       0.96563214, 0.96707344, 0.9684071 , 0.96967125, 0.97089565],\n",
       "      dtype=float32)"
      ]
     },
     "execution_count": 76,
     "metadata": {},
     "output_type": "execute_result"
    }
   ],
   "source": [
    "np.cumsum(pca.explained_variance_ratio_)"
   ]
  },
  {
   "cell_type": "code",
   "execution_count": 77,
   "metadata": {},
   "outputs": [],
   "source": [
    "scaler = StandardScaler()\n",
    "scaler.fit(dat_t34)\n",
    "dat_t34_scaled = scaler.transform(dat_t34)"
   ]
  },
  {
   "cell_type": "code",
   "execution_count": 78,
   "metadata": {},
   "outputs": [
    {
     "data": {
      "text/plain": [
       "(1280, 1280)"
      ]
     },
     "execution_count": 78,
     "metadata": {},
     "output_type": "execute_result"
    }
   ],
   "source": [
    "sigma = np.cov(dat_t34_scaled.T)\n",
    "sigma.shape"
   ]
  },
  {
   "cell_type": "code",
   "execution_count": 79,
   "metadata": {},
   "outputs": [
    {
     "data": {
      "text/plain": [
       "array([290.26010168, 124.8123434 ,  82.56208729,  80.27729774,\n",
       "        73.88226833,  66.29377796,  54.51859608,  46.55778631,\n",
       "        34.96512113,  34.39871901])"
      ]
     },
     "execution_count": 79,
     "metadata": {},
     "output_type": "execute_result"
    }
   ],
   "source": [
    "u, s, v = np.linalg.svd(sigma)\n",
    "s[0:10]"
   ]
  },
  {
   "cell_type": "code",
   "execution_count": 80,
   "metadata": {},
   "outputs": [],
   "source": [
    "s_ratio = np.cumsum(s)/sum(s)"
   ]
  },
  {
   "cell_type": "code",
   "execution_count": 82,
   "metadata": {},
   "outputs": [
    {
     "data": {
      "text/plain": [
       "0.9669857937816018"
      ]
     },
     "execution_count": 82,
     "metadata": {},
     "output_type": "execute_result"
    }
   ],
   "source": [
    "s_ratio[50]"
   ]
  },
  {
   "cell_type": "code",
   "execution_count": 83,
   "metadata": {},
   "outputs": [],
   "source": [
    "from sklearn.decomposition import PCA\n",
    "pca = PCA(n_components=50)\n",
    "dat_t34_scaled_reduced = pca.fit_transform(dat_t34_scaled)"
   ]
  },
  {
   "cell_type": "code",
   "execution_count": 84,
   "metadata": {},
   "outputs": [
    {
     "data": {
      "text/plain": [
       "array([0.22515742, 0.3219754 , 0.38601947, 0.44829124, 0.50560236,\n",
       "       0.5570271 , 0.59931767, 0.63543296, 0.6625557 , 0.68923914,\n",
       "       0.71403056, 0.736706  , 0.75732225, 0.77528924, 0.7912302 ,\n",
       "       0.8059437 , 0.819023  , 0.83142656, 0.8420159 , 0.85180455,\n",
       "       0.8610204 , 0.86941177, 0.8773987 , 0.884699  , 0.8911087 ,\n",
       "       0.89700216, 0.90252906, 0.90767896, 0.9122206 , 0.9165678 ,\n",
       "       0.9207648 , 0.9247405 , 0.92830014, 0.9315554 , 0.93467546,\n",
       "       0.93752736, 0.9402053 , 0.9427276 , 0.9452007 , 0.9475157 ,\n",
       "       0.9497772 , 0.9518697 , 0.95392406, 0.9558173 , 0.9576544 ,\n",
       "       0.9593626 , 0.9610177 , 0.9625949 , 0.96407866, 0.96551305],\n",
       "      dtype=float32)"
      ]
     },
     "execution_count": 84,
     "metadata": {},
     "output_type": "execute_result"
    }
   ],
   "source": [
    "np.cumsum(pca.explained_variance_ratio_)"
   ]
  },
  {
   "cell_type": "code",
   "execution_count": 85,
   "metadata": {},
   "outputs": [],
   "source": [
    "np.save(\"../../out/201212/embedding/esm_balanced/t12_normalized/kif_all.npy\", dat_t12_scaled)\n",
    "np.save(\"../../out/201212/embedding/esm_balanced/t12_normalized_reduced/kif_all.npy\", dat_t12_scaled_reduced)\n",
    "np.save(\"../../out/201212/embedding/esm_balanced/t34_normalized/kif_all.npy\", dat_t34_scaled)\n",
    "np.save(\"../../out/201212/embedding/esm_balanced/t34_normalized_reduced/kif_all.npy\", dat_t34_scaled_reduced)"
   ]
  },
  {
   "cell_type": "code",
   "execution_count": 86,
   "metadata": {
    "scrolled": true
   },
   "outputs": [
    {
     "name": "stdout",
     "output_type": "stream",
     "text": [
      "(141, 768)\n",
      "(141, 1280)\n"
     ]
    }
   ],
   "source": [
    "print(dat_t12_scaled.shape)\n",
    "print(dat_t34_scaled.shape)"
   ]
  },
  {
   "cell_type": "code",
   "execution_count": 88,
   "metadata": {},
   "outputs": [],
   "source": [
    "np.save(\"../../out/201212/embedding/esm_balanced/t12/kif_all.npy\", dat_t12)\n",
    "np.save(\"../../out/201212/embedding/esm_balanced/t34/kif_all.npy\", dat_t34)\n"
   ]
  },
  {
   "cell_type": "code",
   "execution_count": null,
   "metadata": {},
   "outputs": [],
   "source": []
  },
  {
   "cell_type": "code",
   "execution_count": 145,
   "metadata": {},
   "outputs": [],
   "source": [
    "dat_t12_dyn_kin = np.load(\"../../data/kif//kif_all_t12_dyn_kin.npy\")\n",
    "dat_t12_kin_both = np.load(\"../../data/kif//kif_all_t12_kin_both.npy\")\n",
    "dat_t12_kin_kif = np.load(\"../../data/kif//kif_all_t12_kin_kif.npy\")\n",
    "\n",
    "dat_t12_dyn_kin = dat_t12_dyn_kin[kif_acc_all_balanced[\"Unnamed: 0\"],:]\n",
    "dat_t12_kin_both = dat_t12_kin_both[kif_acc_all_balanced[\"Unnamed: 0\"],:]\n",
    "dat_t12_kin_kif = dat_t12_kin_kif[kif_acc_all_balanced[\"Unnamed: 0\"],:]"
   ]
  },
  {
   "cell_type": "code",
   "execution_count": 146,
   "metadata": {},
   "outputs": [],
   "source": [
    "scaler = StandardScaler()\n",
    "scaler.fit(dat_t12_dyn_kin)\n",
    "dat_t12_dyn_kin_scaled = scaler.transform(dat_t12_dyn_kin)\n",
    "\n",
    "scaler = StandardScaler()\n",
    "scaler.fit(dat_t12_kin_both)\n",
    "dat_t12_kin_both_scaled = scaler.transform(dat_t12_kin_both)\n",
    "\n",
    "scaler = StandardScaler()\n",
    "scaler.fit(dat_t12_kin_kif)\n",
    "dat_t12_kin_kif_scaled = scaler.transform(dat_t12_kin_kif)\n"
   ]
  },
  {
   "cell_type": "code",
   "execution_count": 147,
   "metadata": {},
   "outputs": [
    {
     "name": "stdout",
     "output_type": "stream",
     "text": [
      "0.983067490613334\n"
     ]
    },
    {
     "data": {
      "text/plain": [
       "array([0.09112677, 0.17288392, 0.23263112, 0.28678037, 0.33424339,\n",
       "       0.37714119, 0.41491219, 0.45247715, 0.4862294 , 0.51632342])"
      ]
     },
     "execution_count": 147,
     "metadata": {},
     "output_type": "execute_result"
    }
   ],
   "source": [
    "sigma = np.cov(dat_t12_dyn_kin_scaled.T)\n",
    "u, s, v = np.linalg.svd(sigma)\n",
    "s_ratio = np.cumsum(s)/sum(s)\n",
    "print(s_ratio[90])\n",
    "s_ratio[0:10]"
   ]
  },
  {
   "cell_type": "code",
   "execution_count": 148,
   "metadata": {},
   "outputs": [
    {
     "name": "stdout",
     "output_type": "stream",
     "text": [
      "0.9851216024923916\n"
     ]
    },
    {
     "data": {
      "text/plain": [
       "array([0.13792925, 0.21290178, 0.27475619, 0.32502268, 0.37151055,\n",
       "       0.41484069, 0.45324263, 0.48678509, 0.51799493, 0.54648689])"
      ]
     },
     "execution_count": 148,
     "metadata": {},
     "output_type": "execute_result"
    }
   ],
   "source": [
    "sigma = np.cov(dat_t12_kin_both_scaled.T)\n",
    "u, s, v = np.linalg.svd(sigma)\n",
    "s_ratio = np.cumsum(s)/sum(s)\n",
    "print(s_ratio[90])\n",
    "s_ratio[0:10]"
   ]
  },
  {
   "cell_type": "code",
   "execution_count": 149,
   "metadata": {},
   "outputs": [
    {
     "name": "stdout",
     "output_type": "stream",
     "text": [
      "0.986893532956967\n"
     ]
    },
    {
     "data": {
      "text/plain": [
       "array([0.10400307, 0.18398372, 0.24928287, 0.3067526 , 0.35622227,\n",
       "       0.39941743, 0.43967839, 0.47852036, 0.51382815, 0.54353139])"
      ]
     },
     "execution_count": 149,
     "metadata": {},
     "output_type": "execute_result"
    }
   ],
   "source": [
    "sigma = np.cov(dat_t12_kin_kif_scaled.T)\n",
    "u, s, v = np.linalg.svd(sigma)\n",
    "s_ratio = np.cumsum(s)/sum(s)\n",
    "print(s_ratio[90])\n",
    "s_ratio[0:10]"
   ]
  },
  {
   "cell_type": "code",
   "execution_count": 150,
   "metadata": {},
   "outputs": [],
   "source": [
    "pca = PCA(n_components=90)\n",
    "dat_t12_kin_kif_scaled_reduced = pca.fit_transform(dat_t12_kin_kif_scaled)"
   ]
  },
  {
   "cell_type": "code",
   "execution_count": 151,
   "metadata": {
    "scrolled": true
   },
   "outputs": [],
   "source": [
    "pca = PCA(n_components=90)\n",
    "dat_t12_dyn_kin_scaled_reduced = pca.fit_transform(dat_t12_dyn_kin_scaled)"
   ]
  },
  {
   "cell_type": "code",
   "execution_count": 152,
   "metadata": {},
   "outputs": [],
   "source": [
    "pca = PCA(n_components=90)\n",
    "dat_t12_kin_both_scaled_reduced = pca.fit_transform(dat_t12_kin_both_scaled)"
   ]
  },
  {
   "cell_type": "code",
   "execution_count": 154,
   "metadata": {},
   "outputs": [
    {
     "data": {
      "text/plain": [
       "(141, 90)"
      ]
     },
     "execution_count": 154,
     "metadata": {},
     "output_type": "execute_result"
    }
   ],
   "source": [
    "dat_t12_kin_both_scaled_reduced.shape"
   ]
  },
  {
   "cell_type": "code",
   "execution_count": 153,
   "metadata": {},
   "outputs": [],
   "source": [
    "np.save(\"../../out/201212/embedding/esm_balanced/t12_evo/kif_all_t12_kin_kif_scaled_reduced.npy\", dat_t12_kin_kif_scaled_reduced)\n",
    "np.save(\"../../out/201212/embedding/esm_balanced/t12_evo/kif_all_t12_dyn_kin_scaled_reduced.npy\", dat_t12_dyn_kin_scaled_reduced)\n",
    "np.save(\"../../out/201212/embedding/esm_balanced/t12_evo/kif_all_t12_kin_both_scaled_reduced.npy\", dat_t12_kin_both_scaled_reduced)\n",
    "\n",
    "np.save(\"../../out/201212/embedding/esm_balanced/t12_evo/kif_all_t12_kin_kif_scaled.npy\", dat_t12_kin_kif_scaled)\n",
    "np.save(\"../../out/201212/embedding/esm_balanced/t12_evo/kif_all_t12_dyn_kin_scaled.npy\", dat_t12_dyn_kin_scaled)\n",
    "np.save(\"../../out/201212/embedding/esm_balanced/t12_evo/kif_all_t12_kin_both_scaled.npy\", dat_t12_kin_both_scaled)\n"
   ]
  },
  {
   "cell_type": "code",
   "execution_count": null,
   "metadata": {},
   "outputs": [],
   "source": []
  }
 ],
 "metadata": {
  "kernelspec": {
   "display_name": "Python (base)",
   "language": "python",
   "name": "base"
  },
  "language_info": {
   "codemirror_mode": {
    "name": "ipython",
    "version": 3
   },
   "file_extension": ".py",
   "mimetype": "text/x-python",
   "name": "python",
   "nbconvert_exporter": "python",
   "pygments_lexer": "ipython3",
   "version": "3.8.3"
  }
 },
 "nbformat": 4,
 "nbformat_minor": 2
}
