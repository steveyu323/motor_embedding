{
 "cells": [
  {
   "cell_type": "code",
   "execution_count": 3,
   "metadata": {},
   "outputs": [],
   "source": [
    "from sklearn.manifold import TSNE\n",
    "from sklearn.decomposition import PCA\n",
    "import numpy as np\n",
    "import pandas as pd"
   ]
  },
  {
   "cell_type": "code",
   "execution_count": 4,
   "metadata": {},
   "outputs": [],
   "source": [
    "pfamA_motors = pd.read_csv(\"../data/pfamA_motors.csv\")\n",
    "df_dev = pd.read_csv(\"../data/df_dev.csv\")\n",
    "motor_toolkit = pd.read_csv(\"../data/motor_tookits.csv\")\n",
    "kinesin_labelled = pd.read_csv(\"../data/kinesin_labelled.csv\")"
   ]
  },
  {
   "cell_type": "code",
   "execution_count": 89,
   "metadata": {},
   "outputs": [],
   "source": [
    "def joint_embed(target,background):\n",
    "    jointed = np.concatenate((target, background), axis=0)\n",
    "    pca_jointed = PCA(n_components=10).fit_transform(jointed)\n",
    "    jointed_em_2 = TSNE(n_components=2).fit_transform(pca_jointed)\n",
    "    target_em = jointed_em_2[0:target.shape[0],:]\n",
    "    background_em = jointed_em_2[target.shape[0]:,:]\n",
    "    return target_em,background_em"
   ]
  },
  {
   "cell_type": "code",
   "execution_count": 5,
   "metadata": {},
   "outputs": [
    {
     "data": {
      "text/html": [
       "<div>\n",
       "<style scoped>\n",
       "    .dataframe tbody tr th:only-of-type {\n",
       "        vertical-align: middle;\n",
       "    }\n",
       "\n",
       "    .dataframe tbody tr th {\n",
       "        vertical-align: top;\n",
       "    }\n",
       "\n",
       "    .dataframe thead th {\n",
       "        text-align: right;\n",
       "    }\n",
       "</style>\n",
       "<table border=\"1\" class=\"dataframe\">\n",
       "  <thead>\n",
       "    <tr style=\"text-align: right;\">\n",
       "      <th></th>\n",
       "      <th>Entry</th>\n",
       "      <th>Entry name</th>\n",
       "      <th>Status</th>\n",
       "      <th>Protein names</th>\n",
       "      <th>Gene names</th>\n",
       "      <th>Organism</th>\n",
       "      <th>Length</th>\n",
       "      <th>seq</th>\n",
       "      <th>type</th>\n",
       "      <th>label</th>\n",
       "    </tr>\n",
       "  </thead>\n",
       "  <tbody>\n",
       "    <tr>\n",
       "      <th>0</th>\n",
       "      <td>P52732</td>\n",
       "      <td>KIF11_HUMAN</td>\n",
       "      <td>reviewed</td>\n",
       "      <td>Kinesin-like protein KIF11 (Kinesin-like prote...</td>\n",
       "      <td>KIF11 EG5 KNSL1 TRIP5</td>\n",
       "      <td>Homo sapiens (Human)</td>\n",
       "      <td>1056</td>\n",
       "      <td>MASQPNSSAKKKEEKGKNIQVVVRCRPFNLAERKASAHSIVECDPV...</td>\n",
       "      <td>kinesin</td>\n",
       "      <td>kinesin_5</td>\n",
       "    </tr>\n",
       "    <tr>\n",
       "      <th>1</th>\n",
       "      <td>Q9LX99</td>\n",
       "      <td>KN14A_ARATH</td>\n",
       "      <td>reviewed</td>\n",
       "      <td>Kinesin-like protein KIN-14A (Geminivirus Rep-...</td>\n",
       "      <td>KIN14A GRIMP KAC1 KCA1 KSN1 TH65 At5g10470 F12...</td>\n",
       "      <td>Arabidopsis thaliana (Mouse-ear cress)</td>\n",
       "      <td>1273</td>\n",
       "      <td>MADQRSKTNRWNWEVSGFEPRKSSSNASFAESTGHRTTGPLLRRNS...</td>\n",
       "      <td>kinesin</td>\n",
       "      <td>unlabeled</td>\n",
       "    </tr>\n",
       "    <tr>\n",
       "      <th>4</th>\n",
       "      <td>P33176</td>\n",
       "      <td>KINH_HUMAN</td>\n",
       "      <td>reviewed</td>\n",
       "      <td>Kinesin-1 heavy chain (Conventional kinesin he...</td>\n",
       "      <td>KIF5B KNS KNS1</td>\n",
       "      <td>Homo sapiens (Human)</td>\n",
       "      <td>963</td>\n",
       "      <td>MADLAECNIKVMCRFRPLNESEVNRGDKYIAKFQGEDTVVIASKPY...</td>\n",
       "      <td>kinesin</td>\n",
       "      <td>kinesin_1</td>\n",
       "    </tr>\n",
       "    <tr>\n",
       "      <th>8</th>\n",
       "      <td>Q61771</td>\n",
       "      <td>KIF3B_MOUSE</td>\n",
       "      <td>reviewed</td>\n",
       "      <td>Kinesin-like protein KIF3B (Microtubule plus e...</td>\n",
       "      <td>Kif3b</td>\n",
       "      <td>Mus musculus (Mouse)</td>\n",
       "      <td>747</td>\n",
       "      <td>MSKLKSSESVRVVVRCRPMNGKEKAASYDKVVDVDVKLGQVSVKNP...</td>\n",
       "      <td>kinesin</td>\n",
       "      <td>kinesin_2</td>\n",
       "    </tr>\n",
       "    <tr>\n",
       "      <th>10</th>\n",
       "      <td>Q14807</td>\n",
       "      <td>KIF22_HUMAN</td>\n",
       "      <td>reviewed</td>\n",
       "      <td>Kinesin-like protein KIF22 (Kinesin-like DNA-b...</td>\n",
       "      <td>KIF22 KID KNSL4</td>\n",
       "      <td>Homo sapiens (Human)</td>\n",
       "      <td>665</td>\n",
       "      <td>MAAGGSTQQRRREMAAASAAAISGAGRCRLSKIGATRRPPPARVRV...</td>\n",
       "      <td>kinesin</td>\n",
       "      <td>kinesin_10</td>\n",
       "    </tr>\n",
       "    <tr>\n",
       "      <th>13</th>\n",
       "      <td>Q9NGQ2</td>\n",
       "      <td>KIF1_DICDI</td>\n",
       "      <td>reviewed</td>\n",
       "      <td>Kinesin-related protein 1 (Kinesin family memb...</td>\n",
       "      <td>kif1 kif1A unc104 DDB_G0290963</td>\n",
       "      <td>Dictyostelium discoideum (Slime mold)</td>\n",
       "      <td>2205</td>\n",
       "      <td>MNVQVAVRVRPFNSREKERNAELIVQMNNKSTILTRPSALRANPLA...</td>\n",
       "      <td>kinesin</td>\n",
       "      <td>kinesin_3</td>\n",
       "    </tr>\n",
       "    <tr>\n",
       "      <th>17</th>\n",
       "      <td>Q96Q89</td>\n",
       "      <td>KI20B_HUMAN</td>\n",
       "      <td>reviewed</td>\n",
       "      <td>Kinesin-like protein KIF20B (Cancer/testis ant...</td>\n",
       "      <td>KIF20B KRMP1 MPHOSPH1</td>\n",
       "      <td>Homo sapiens (Human)</td>\n",
       "      <td>1820</td>\n",
       "      <td>MESNFNQEGVPRPSYVFSADPIARPSEINFDGIKLDLSHEFSLVAP...</td>\n",
       "      <td>kinesin</td>\n",
       "      <td>kinesin_6</td>\n",
       "    </tr>\n",
       "    <tr>\n",
       "      <th>24</th>\n",
       "      <td>Q9BW19</td>\n",
       "      <td>KIFC1_HUMAN</td>\n",
       "      <td>reviewed</td>\n",
       "      <td>Kinesin-like protein KIFC1 (Kinesin-like prote...</td>\n",
       "      <td>KIFC1 HSET KNSL2</td>\n",
       "      <td>Homo sapiens (Human)</td>\n",
       "      <td>673</td>\n",
       "      <td>MDPQRSPLLEVKGNIELKRPLIKAPSQLPLSGSRLKRRPDQMEDGL...</td>\n",
       "      <td>kinesin</td>\n",
       "      <td>kinesin_14a</td>\n",
       "    </tr>\n",
       "    <tr>\n",
       "      <th>25</th>\n",
       "      <td>Q9NS87</td>\n",
       "      <td>KIF15_HUMAN</td>\n",
       "      <td>reviewed</td>\n",
       "      <td>Kinesin-like protein KIF15 (Kinesin-like prote...</td>\n",
       "      <td>KIF15 KLP2 KNSL7</td>\n",
       "      <td>Homo sapiens (Human)</td>\n",
       "      <td>1388</td>\n",
       "      <td>MAPGCKTELRSVTNGQSNQPSNEGDAIKVFVRIRPPAERSGSADGE...</td>\n",
       "      <td>kinesin</td>\n",
       "      <td>kinesin_12</td>\n",
       "    </tr>\n",
       "    <tr>\n",
       "      <th>64</th>\n",
       "      <td>P32364</td>\n",
       "      <td>SMY1_YEAST</td>\n",
       "      <td>reviewed</td>\n",
       "      <td>Kinesin-related protein SMY1 (Suppressor prote...</td>\n",
       "      <td>SMY1 YKL079W YKL409</td>\n",
       "      <td>Saccharomyces cerevisiae (strain ATCC 204508 /...</td>\n",
       "      <td>656</td>\n",
       "      <td>MHWNIISKEQSSSSVSLPTLDSSEPCHIEVILRAIPEKGLQNNEST...</td>\n",
       "      <td>kinesin</td>\n",
       "      <td>kinesin_11</td>\n",
       "    </tr>\n",
       "    <tr>\n",
       "      <th>124</th>\n",
       "      <td>Q7Z4S6</td>\n",
       "      <td>KI21A_HUMAN</td>\n",
       "      <td>reviewed</td>\n",
       "      <td>Kinesin-like protein KIF21A (Kinesin-like prot...</td>\n",
       "      <td>KIF21A KIAA1708 KIF2</td>\n",
       "      <td>Homo sapiens (Human)</td>\n",
       "      <td>1674</td>\n",
       "      <td>MLGAPDESSVRVAVRIRPQLAKEKIEGCHICTSVTPGEPQVFLGKD...</td>\n",
       "      <td>kinesin</td>\n",
       "      <td>kinesin_4</td>\n",
       "    </tr>\n",
       "    <tr>\n",
       "      <th>162</th>\n",
       "      <td>Q6S004</td>\n",
       "      <td>KIF6_DICDI</td>\n",
       "      <td>reviewed</td>\n",
       "      <td>Kinesin-related protein 6 (Kinesin family memb...</td>\n",
       "      <td>kif6 K6 ksnF DDB_G0267404</td>\n",
       "      <td>Dictyostelium discoideum (Slime mold)</td>\n",
       "      <td>1030</td>\n",
       "      <td>MDFENDQLYNWLQLANLESFYPNFIKKNVSCDSFLSFTMQDYGNVG...</td>\n",
       "      <td>kinesin</td>\n",
       "      <td>kinesin_9</td>\n",
       "    </tr>\n",
       "    <tr>\n",
       "      <th>186</th>\n",
       "      <td>O35231</td>\n",
       "      <td>KIFC3_MOUSE</td>\n",
       "      <td>reviewed</td>\n",
       "      <td>Kinesin-like protein KIFC3</td>\n",
       "      <td>Kifc3</td>\n",
       "      <td>Mus musculus (Mouse)</td>\n",
       "      <td>824</td>\n",
       "      <td>MVPSRRTWNLGATPSLRGLWRVGRVQEPKPGMARPAPASPAARPFP...</td>\n",
       "      <td>kinesin</td>\n",
       "      <td>kinesin_14b</td>\n",
       "    </tr>\n",
       "    <tr>\n",
       "      <th>223</th>\n",
       "      <td>Q99PT9</td>\n",
       "      <td>KIF19_MOUSE</td>\n",
       "      <td>reviewed</td>\n",
       "      <td>Kinesin-like protein KIF19</td>\n",
       "      <td>Kif19 Kif19a</td>\n",
       "      <td>Mus musculus (Mouse)</td>\n",
       "      <td>997</td>\n",
       "      <td>MKDSGDSKDQQLMVALRVRPISVAELEEGATLIAHKMDEQMVVLMD...</td>\n",
       "      <td>kinesin</td>\n",
       "      <td>kinesin_8</td>\n",
       "    </tr>\n",
       "    <tr>\n",
       "      <th>467</th>\n",
       "      <td>Q9WV63</td>\n",
       "      <td>KIF2A_RAT</td>\n",
       "      <td>reviewed</td>\n",
       "      <td>Kinesin-like protein KIF2A (Kinesin-2)</td>\n",
       "      <td>Kif2a Kif2</td>\n",
       "      <td>Rattus norvegicus (Rat)</td>\n",
       "      <td>705</td>\n",
       "      <td>MATANFGKIQIGIYVEIKRSDGRIHQAMVTSLNEDNESVTVEWIEN...</td>\n",
       "      <td>kinesin</td>\n",
       "      <td>kinesin_13</td>\n",
       "    </tr>\n",
       "    <tr>\n",
       "      <th>519</th>\n",
       "      <td>Q6S002</td>\n",
       "      <td>KIF10_DICDI</td>\n",
       "      <td>reviewed</td>\n",
       "      <td>Kinesin-related protein 10 (Kinesin family mem...</td>\n",
       "      <td>kif10 DDB_G0293198</td>\n",
       "      <td>Dictyostelium discoideum (Slime mold)</td>\n",
       "      <td>1238</td>\n",
       "      <td>MNNNNNNNNNKTTMNSMIVTVRIRPESQSEILNKNCKTIVRVIDDN...</td>\n",
       "      <td>kinesin</td>\n",
       "      <td>kinesin_7</td>\n",
       "    </tr>\n",
       "  </tbody>\n",
       "</table>\n",
       "</div>"
      ],
      "text/plain": [
       "      Entry   Entry name    Status  \\\n",
       "0    P52732  KIF11_HUMAN  reviewed   \n",
       "1    Q9LX99  KN14A_ARATH  reviewed   \n",
       "4    P33176   KINH_HUMAN  reviewed   \n",
       "8    Q61771  KIF3B_MOUSE  reviewed   \n",
       "10   Q14807  KIF22_HUMAN  reviewed   \n",
       "13   Q9NGQ2   KIF1_DICDI  reviewed   \n",
       "17   Q96Q89  KI20B_HUMAN  reviewed   \n",
       "24   Q9BW19  KIFC1_HUMAN  reviewed   \n",
       "25   Q9NS87  KIF15_HUMAN  reviewed   \n",
       "64   P32364   SMY1_YEAST  reviewed   \n",
       "124  Q7Z4S6  KI21A_HUMAN  reviewed   \n",
       "162  Q6S004   KIF6_DICDI  reviewed   \n",
       "186  O35231  KIFC3_MOUSE  reviewed   \n",
       "223  Q99PT9  KIF19_MOUSE  reviewed   \n",
       "467  Q9WV63    KIF2A_RAT  reviewed   \n",
       "519  Q6S002  KIF10_DICDI  reviewed   \n",
       "\n",
       "                                         Protein names  \\\n",
       "0    Kinesin-like protein KIF11 (Kinesin-like prote...   \n",
       "1    Kinesin-like protein KIN-14A (Geminivirus Rep-...   \n",
       "4    Kinesin-1 heavy chain (Conventional kinesin he...   \n",
       "8    Kinesin-like protein KIF3B (Microtubule plus e...   \n",
       "10   Kinesin-like protein KIF22 (Kinesin-like DNA-b...   \n",
       "13   Kinesin-related protein 1 (Kinesin family memb...   \n",
       "17   Kinesin-like protein KIF20B (Cancer/testis ant...   \n",
       "24   Kinesin-like protein KIFC1 (Kinesin-like prote...   \n",
       "25   Kinesin-like protein KIF15 (Kinesin-like prote...   \n",
       "64   Kinesin-related protein SMY1 (Suppressor prote...   \n",
       "124  Kinesin-like protein KIF21A (Kinesin-like prot...   \n",
       "162  Kinesin-related protein 6 (Kinesin family memb...   \n",
       "186                         Kinesin-like protein KIFC3   \n",
       "223                         Kinesin-like protein KIF19   \n",
       "467             Kinesin-like protein KIF2A (Kinesin-2)   \n",
       "519  Kinesin-related protein 10 (Kinesin family mem...   \n",
       "\n",
       "                                            Gene names  \\\n",
       "0                                KIF11 EG5 KNSL1 TRIP5   \n",
       "1    KIN14A GRIMP KAC1 KCA1 KSN1 TH65 At5g10470 F12...   \n",
       "4                                       KIF5B KNS KNS1   \n",
       "8                                                Kif3b   \n",
       "10                                     KIF22 KID KNSL4   \n",
       "13                      kif1 kif1A unc104 DDB_G0290963   \n",
       "17                               KIF20B KRMP1 MPHOSPH1   \n",
       "24                                    KIFC1 HSET KNSL2   \n",
       "25                                    KIF15 KLP2 KNSL7   \n",
       "64                                 SMY1 YKL079W YKL409   \n",
       "124                               KIF21A KIAA1708 KIF2   \n",
       "162                          kif6 K6 ksnF DDB_G0267404   \n",
       "186                                              Kifc3   \n",
       "223                                       Kif19 Kif19a   \n",
       "467                                         Kif2a Kif2   \n",
       "519                                 kif10 DDB_G0293198   \n",
       "\n",
       "                                              Organism  Length  \\\n",
       "0                                 Homo sapiens (Human)    1056   \n",
       "1               Arabidopsis thaliana (Mouse-ear cress)    1273   \n",
       "4                                 Homo sapiens (Human)     963   \n",
       "8                                 Mus musculus (Mouse)     747   \n",
       "10                                Homo sapiens (Human)     665   \n",
       "13               Dictyostelium discoideum (Slime mold)    2205   \n",
       "17                                Homo sapiens (Human)    1820   \n",
       "24                                Homo sapiens (Human)     673   \n",
       "25                                Homo sapiens (Human)    1388   \n",
       "64   Saccharomyces cerevisiae (strain ATCC 204508 /...     656   \n",
       "124                               Homo sapiens (Human)    1674   \n",
       "162              Dictyostelium discoideum (Slime mold)    1030   \n",
       "186                               Mus musculus (Mouse)     824   \n",
       "223                               Mus musculus (Mouse)     997   \n",
       "467                            Rattus norvegicus (Rat)     705   \n",
       "519              Dictyostelium discoideum (Slime mold)    1238   \n",
       "\n",
       "                                                   seq     type        label  \n",
       "0    MASQPNSSAKKKEEKGKNIQVVVRCRPFNLAERKASAHSIVECDPV...  kinesin    kinesin_5  \n",
       "1    MADQRSKTNRWNWEVSGFEPRKSSSNASFAESTGHRTTGPLLRRNS...  kinesin    unlabeled  \n",
       "4    MADLAECNIKVMCRFRPLNESEVNRGDKYIAKFQGEDTVVIASKPY...  kinesin    kinesin_1  \n",
       "8    MSKLKSSESVRVVVRCRPMNGKEKAASYDKVVDVDVKLGQVSVKNP...  kinesin    kinesin_2  \n",
       "10   MAAGGSTQQRRREMAAASAAAISGAGRCRLSKIGATRRPPPARVRV...  kinesin   kinesin_10  \n",
       "13   MNVQVAVRVRPFNSREKERNAELIVQMNNKSTILTRPSALRANPLA...  kinesin    kinesin_3  \n",
       "17   MESNFNQEGVPRPSYVFSADPIARPSEINFDGIKLDLSHEFSLVAP...  kinesin    kinesin_6  \n",
       "24   MDPQRSPLLEVKGNIELKRPLIKAPSQLPLSGSRLKRRPDQMEDGL...  kinesin  kinesin_14a  \n",
       "25   MAPGCKTELRSVTNGQSNQPSNEGDAIKVFVRIRPPAERSGSADGE...  kinesin   kinesin_12  \n",
       "64   MHWNIISKEQSSSSVSLPTLDSSEPCHIEVILRAIPEKGLQNNEST...  kinesin   kinesin_11  \n",
       "124  MLGAPDESSVRVAVRIRPQLAKEKIEGCHICTSVTPGEPQVFLGKD...  kinesin    kinesin_4  \n",
       "162  MDFENDQLYNWLQLANLESFYPNFIKKNVSCDSFLSFTMQDYGNVG...  kinesin    kinesin_9  \n",
       "186  MVPSRRTWNLGATPSLRGLWRVGRVQEPKPGMARPAPASPAARPFP...  kinesin  kinesin_14b  \n",
       "223  MKDSGDSKDQQLMVALRVRPISVAELEEGATLIAHKMDEQMVVLMD...  kinesin    kinesin_8  \n",
       "467  MATANFGKIQIGIYVEIKRSDGRIHQAMVTSLNEDNESVTVEWIEN...  kinesin   kinesin_13  \n",
       "519  MNNNNNNNNNKTTMNSMIVTVRIRPESQSEILNKNCKTIVRVIDDN...  kinesin    kinesin_7  "
      ]
     },
     "execution_count": 5,
     "metadata": {},
     "output_type": "execute_result"
    }
   ],
   "source": [
    "kinesin_labelled.groupby('label').head(1)"
   ]
  },
  {
   "cell_type": "code",
   "execution_count": 46,
   "metadata": {},
   "outputs": [
    {
     "name": "stdout",
     "output_type": "stream",
     "text": [
      "(18000, 6)\n",
      "0    167044\n",
      "1    125588\n",
      "2    161982\n",
      "3     22085\n",
      "4     10493\n",
      "Name: Unnamed: 0, dtype: int64\n"
     ]
    }
   ],
   "source": [
    "pfamA_motors_balanced = pfamA_motors.groupby('clan').apply(lambda _df: _df.sample(4500,random_state=1))\n",
    "pfamA_motors_balanced = pfamA_motors_balanced.apply(lambda x: x.reset_index(drop = True))\n",
    "pfamA_motors_balanced_ind = pfamA_motors_balanced.iloc[:,0]\n",
    "print(pfamA_motors_balanced.shape)\n",
    "print(pfamA_motors_balanced_ind[0:5])"
   ]
  },
  {
   "cell_type": "code",
   "execution_count": 48,
   "metadata": {},
   "outputs": [
    {
     "name": "stdout",
     "output_type": "stream",
     "text": [
      "(59149, 6)\n",
      "6434    6434\n",
      "6435    6435\n",
      "6436    6436\n",
      "6437    6437\n",
      "6438    6438\n",
      "Name: Unnamed: 0, dtype: int64\n"
     ]
    }
   ],
   "source": [
    "pfamA_target_name = [\"PF00349\",\"PF00022\",\"PF03727\",\"PF06723\",\\\n",
    "                       \"PF14450\",\"PF03953\",\"PF12327\",\"PF00091\",\"PF10644\",\\\n",
    "                      \"PF13809\",\"PF14881\",\"PF00063\",\"PF00225\",\"PF03028\"]\n",
    "\n",
    "pfamA_target = pfamA_motors.loc[pfamA_motors[\"pfamA_acc\"].isin(pfamA_target_name),:]\n",
    "pfamA_target_ind = pfamA_target.iloc[:,0]\n",
    "print(pfamA_target.shape)\n",
    "print(pfamA_target_ind[0:5])"
   ]
  },
  {
   "cell_type": "code",
   "execution_count": 49,
   "metadata": {},
   "outputs": [
    {
     "data": {
      "text/html": [
       "<div>\n",
       "<style scoped>\n",
       "    .dataframe tbody tr th:only-of-type {\n",
       "        vertical-align: middle;\n",
       "    }\n",
       "\n",
       "    .dataframe tbody tr th {\n",
       "        vertical-align: top;\n",
       "    }\n",
       "\n",
       "    .dataframe thead th {\n",
       "        text-align: right;\n",
       "    }\n",
       "</style>\n",
       "<table border=\"1\" class=\"dataframe\">\n",
       "  <thead>\n",
       "    <tr style=\"text-align: right;\">\n",
       "      <th></th>\n",
       "      <th>Unnamed: 0</th>\n",
       "      <th>id</th>\n",
       "      <th>description</th>\n",
       "      <th>seq</th>\n",
       "      <th>clan</th>\n",
       "    </tr>\n",
       "    <tr>\n",
       "      <th>pfamA_acc</th>\n",
       "      <th></th>\n",
       "      <th></th>\n",
       "      <th></th>\n",
       "      <th></th>\n",
       "      <th></th>\n",
       "    </tr>\n",
       "  </thead>\n",
       "  <tbody>\n",
       "    <tr>\n",
       "      <th>PF00022</th>\n",
       "      <td>7689</td>\n",
       "      <td>7689</td>\n",
       "      <td>7689</td>\n",
       "      <td>7689</td>\n",
       "      <td>7689</td>\n",
       "    </tr>\n",
       "    <tr>\n",
       "      <th>PF00063</th>\n",
       "      <td>8304</td>\n",
       "      <td>8304</td>\n",
       "      <td>8304</td>\n",
       "      <td>8304</td>\n",
       "      <td>8304</td>\n",
       "    </tr>\n",
       "    <tr>\n",
       "      <th>PF00091</th>\n",
       "      <td>5951</td>\n",
       "      <td>5951</td>\n",
       "      <td>5951</td>\n",
       "      <td>5951</td>\n",
       "      <td>5951</td>\n",
       "    </tr>\n",
       "    <tr>\n",
       "      <th>PF00225</th>\n",
       "      <td>15099</td>\n",
       "      <td>15099</td>\n",
       "      <td>15099</td>\n",
       "      <td>15099</td>\n",
       "      <td>15099</td>\n",
       "    </tr>\n",
       "    <tr>\n",
       "      <th>PF00349</th>\n",
       "      <td>2704</td>\n",
       "      <td>2704</td>\n",
       "      <td>2704</td>\n",
       "      <td>2704</td>\n",
       "      <td>2704</td>\n",
       "    </tr>\n",
       "    <tr>\n",
       "      <th>PF03028</th>\n",
       "      <td>2322</td>\n",
       "      <td>2322</td>\n",
       "      <td>2322</td>\n",
       "      <td>2322</td>\n",
       "      <td>2322</td>\n",
       "    </tr>\n",
       "    <tr>\n",
       "      <th>PF03727</th>\n",
       "      <td>2859</td>\n",
       "      <td>2859</td>\n",
       "      <td>2859</td>\n",
       "      <td>2859</td>\n",
       "      <td>2859</td>\n",
       "    </tr>\n",
       "    <tr>\n",
       "      <th>PF03953</th>\n",
       "      <td>1999</td>\n",
       "      <td>1999</td>\n",
       "      <td>1999</td>\n",
       "      <td>1999</td>\n",
       "      <td>1999</td>\n",
       "    </tr>\n",
       "    <tr>\n",
       "      <th>PF06723</th>\n",
       "      <td>3621</td>\n",
       "      <td>3621</td>\n",
       "      <td>3621</td>\n",
       "      <td>3621</td>\n",
       "      <td>3621</td>\n",
       "    </tr>\n",
       "    <tr>\n",
       "      <th>PF10644</th>\n",
       "      <td>628</td>\n",
       "      <td>628</td>\n",
       "      <td>628</td>\n",
       "      <td>628</td>\n",
       "      <td>628</td>\n",
       "    </tr>\n",
       "    <tr>\n",
       "      <th>PF12327</th>\n",
       "      <td>2756</td>\n",
       "      <td>2756</td>\n",
       "      <td>2756</td>\n",
       "      <td>2756</td>\n",
       "      <td>2756</td>\n",
       "    </tr>\n",
       "    <tr>\n",
       "      <th>PF13809</th>\n",
       "      <td>396</td>\n",
       "      <td>396</td>\n",
       "      <td>396</td>\n",
       "      <td>396</td>\n",
       "      <td>396</td>\n",
       "    </tr>\n",
       "    <tr>\n",
       "      <th>PF14450</th>\n",
       "      <td>4161</td>\n",
       "      <td>4161</td>\n",
       "      <td>4161</td>\n",
       "      <td>4161</td>\n",
       "      <td>4161</td>\n",
       "    </tr>\n",
       "    <tr>\n",
       "      <th>PF14881</th>\n",
       "      <td>660</td>\n",
       "      <td>660</td>\n",
       "      <td>660</td>\n",
       "      <td>660</td>\n",
       "      <td>660</td>\n",
       "    </tr>\n",
       "  </tbody>\n",
       "</table>\n",
       "</div>"
      ],
      "text/plain": [
       "           Unnamed: 0     id  description    seq   clan\n",
       "pfamA_acc                                              \n",
       "PF00022          7689   7689         7689   7689   7689\n",
       "PF00063          8304   8304         8304   8304   8304\n",
       "PF00091          5951   5951         5951   5951   5951\n",
       "PF00225         15099  15099        15099  15099  15099\n",
       "PF00349          2704   2704         2704   2704   2704\n",
       "PF03028          2322   2322         2322   2322   2322\n",
       "PF03727          2859   2859         2859   2859   2859\n",
       "PF03953          1999   1999         1999   1999   1999\n",
       "PF06723          3621   3621         3621   3621   3621\n",
       "PF10644           628    628          628    628    628\n",
       "PF12327          2756   2756         2756   2756   2756\n",
       "PF13809           396    396          396    396    396\n",
       "PF14450          4161   4161         4161   4161   4161\n",
       "PF14881           660    660          660    660    660"
      ]
     },
     "execution_count": 49,
     "metadata": {},
     "output_type": "execute_result"
    }
   ],
   "source": [
    "pfamA_target.groupby(\"pfamA_acc\").count()"
   ]
  },
  {
   "cell_type": "code",
   "execution_count": 50,
   "metadata": {},
   "outputs": [
    {
     "name": "stdout",
     "output_type": "stream",
     "text": [
      "(15099, 6)\n",
      "1407315    1407315\n",
      "1407316    1407316\n",
      "1407317    1407317\n",
      "1407318    1407318\n",
      "1407319    1407319\n",
      "Name: Unnamed: 0, dtype: int64\n"
     ]
    }
   ],
   "source": [
    "pfamA_kinesin = pfamA_motors.loc[pfamA_motors[\"pfamA_acc\"]==\"PF00225\",:]\n",
    "pfamA_kinesin_ind = pfamA_kinesin.iloc[:,0]\n",
    "print(pfamA_kinesin.shape)\n",
    "print(pfamA_kinesin_ind[0:5])"
   ]
  },
  {
   "cell_type": "code",
   "execution_count": 7,
   "metadata": {},
   "outputs": [
    {
     "data": {
      "text/html": [
       "<div>\n",
       "<style scoped>\n",
       "    .dataframe tbody tr th:only-of-type {\n",
       "        vertical-align: middle;\n",
       "    }\n",
       "\n",
       "    .dataframe tbody tr th {\n",
       "        vertical-align: top;\n",
       "    }\n",
       "\n",
       "    .dataframe thead th {\n",
       "        text-align: right;\n",
       "    }\n",
       "</style>\n",
       "<table border=\"1\" class=\"dataframe\">\n",
       "  <thead>\n",
       "    <tr style=\"text-align: right;\">\n",
       "      <th></th>\n",
       "      <th>Unnamed: 0</th>\n",
       "      <th>index</th>\n",
       "      <th>family_id</th>\n",
       "      <th>sequence_name</th>\n",
       "      <th>family_accession</th>\n",
       "      <th>aligned_sequence</th>\n",
       "      <th>sequence</th>\n",
       "      <th>length</th>\n",
       "    </tr>\n",
       "  </thead>\n",
       "  <tbody>\n",
       "    <tr>\n",
       "      <th>0</th>\n",
       "      <td>0</td>\n",
       "      <td>0</td>\n",
       "      <td>Penicillinase_R</td>\n",
       "      <td>Q81U16_BACAN/8-123</td>\n",
       "      <td>PF03965.16</td>\n",
       "      <td>ISEAELEIMKVLWLKSP.QTANEIIEE.LEDP.MDW..KPKTIRTL...</td>\n",
       "      <td>ISEAELEIMKVLWLKSPQTANEIIEELEDPMDWKPKTIRTLINRLV...</td>\n",
       "      <td>116</td>\n",
       "    </tr>\n",
       "    <tr>\n",
       "      <th>1</th>\n",
       "      <td>1</td>\n",
       "      <td>1</td>\n",
       "      <td>Rtt106</td>\n",
       "      <td>POB3_CANAL/362-454</td>\n",
       "      <td>PF08512.12</td>\n",
       "      <td>AGVPCSVKA...SEGYLFPL......DRCFLF.VTKPTLYIPYSE....</td>\n",
       "      <td>AGVPCSVKASEGYLFPLDRCFLFVTKPTLYIPYSEISSVVMSRTGG...</td>\n",
       "      <td>93</td>\n",
       "    </tr>\n",
       "    <tr>\n",
       "      <th>2</th>\n",
       "      <td>2</td>\n",
       "      <td>2</td>\n",
       "      <td>F-actin_cap_A</td>\n",
       "      <td>Q8I3I2_PLAF7/12-301</td>\n",
       "      <td>PF01267.17</td>\n",
       "      <td>IRHVLMNSPPGKLYDLVK..DINILL.G.........SSVSIQ.KI...</td>\n",
       "      <td>IRHVLMNSPPGKLYDLVKDINILLGSSVSIQKILEEVLKDYNEKNY...</td>\n",
       "      <td>290</td>\n",
       "    </tr>\n",
       "    <tr>\n",
       "      <th>3</th>\n",
       "      <td>3</td>\n",
       "      <td>3</td>\n",
       "      <td>HupF_HypC</td>\n",
       "      <td>O28902_ARCFU/1-65</td>\n",
       "      <td>PF01455.18</td>\n",
       "      <td>MCIAIPGR...I.ER..IDY...............P....IAIVDF...</td>\n",
       "      <td>MCIAIPGRIERIDYPIAIVDFKGLKKEVRIDLLENPQIGDYVLVHV...</td>\n",
       "      <td>65</td>\n",
       "    </tr>\n",
       "    <tr>\n",
       "      <th>4</th>\n",
       "      <td>4</td>\n",
       "      <td>4</td>\n",
       "      <td>DUF3794</td>\n",
       "      <td>R6BY75_9CLOT/189-271</td>\n",
       "      <td>PF12673.7</td>\n",
       "      <td>NIFHI..LWEDVDL..E.GVTFKPMG...E...........S.......</td>\n",
       "      <td>NIFHILWEDVDLEGVTFKPMGESISVQGDIHIFVLYEGEGENTPIR...</td>\n",
       "      <td>83</td>\n",
       "    </tr>\n",
       "  </tbody>\n",
       "</table>\n",
       "</div>"
      ],
      "text/plain": [
       "   Unnamed: 0  index        family_id         sequence_name family_accession  \\\n",
       "0           0      0  Penicillinase_R    Q81U16_BACAN/8-123       PF03965.16   \n",
       "1           1      1           Rtt106    POB3_CANAL/362-454       PF08512.12   \n",
       "2           2      2    F-actin_cap_A   Q8I3I2_PLAF7/12-301       PF01267.17   \n",
       "3           3      3        HupF_HypC     O28902_ARCFU/1-65       PF01455.18   \n",
       "4           4      4          DUF3794  R6BY75_9CLOT/189-271        PF12673.7   \n",
       "\n",
       "                                    aligned_sequence  \\\n",
       "0  ISEAELEIMKVLWLKSP.QTANEIIEE.LEDP.MDW..KPKTIRTL...   \n",
       "1  AGVPCSVKA...SEGYLFPL......DRCFLF.VTKPTLYIPYSE....   \n",
       "2  IRHVLMNSPPGKLYDLVK..DINILL.G.........SSVSIQ.KI...   \n",
       "3  MCIAIPGR...I.ER..IDY...............P....IAIVDF...   \n",
       "4  NIFHI..LWEDVDL..E.GVTFKPMG...E...........S.......   \n",
       "\n",
       "                                            sequence  length  \n",
       "0  ISEAELEIMKVLWLKSPQTANEIIEELEDPMDWKPKTIRTLINRLV...     116  \n",
       "1  AGVPCSVKASEGYLFPLDRCFLFVTKPTLYIPYSEISSVVMSRTGG...      93  \n",
       "2  IRHVLMNSPPGKLYDLVKDINILLGSSVSIQKILEEVLKDYNEKNY...     290  \n",
       "3  MCIAIPGRIERIDYPIAIVDFKGLKKEVRIDLLENPQIGDYVLVHV...      65  \n",
       "4  NIFHILWEDVDLEGVTFKPMGESISVQGDIHIFVLYEGEGENTPIR...      83  "
      ]
     },
     "execution_count": 7,
     "metadata": {},
     "output_type": "execute_result"
    }
   ],
   "source": [
    "df_dev.head()"
   ]
  },
  {
   "cell_type": "code",
   "execution_count": 8,
   "metadata": {},
   "outputs": [
    {
     "data": {
      "text/html": [
       "<div>\n",
       "<style scoped>\n",
       "    .dataframe tbody tr th:only-of-type {\n",
       "        vertical-align: middle;\n",
       "    }\n",
       "\n",
       "    .dataframe tbody tr th {\n",
       "        vertical-align: top;\n",
       "    }\n",
       "\n",
       "    .dataframe thead th {\n",
       "        text-align: right;\n",
       "    }\n",
       "</style>\n",
       "<table border=\"1\" class=\"dataframe\">\n",
       "  <thead>\n",
       "    <tr style=\"text-align: right;\">\n",
       "      <th></th>\n",
       "      <th>Entry</th>\n",
       "      <th>Entry name</th>\n",
       "      <th>Status</th>\n",
       "      <th>Protein names</th>\n",
       "      <th>Gene names</th>\n",
       "      <th>Organism</th>\n",
       "      <th>Length</th>\n",
       "      <th>seq</th>\n",
       "      <th>type</th>\n",
       "    </tr>\n",
       "  </thead>\n",
       "  <tbody>\n",
       "    <tr>\n",
       "      <th>0</th>\n",
       "      <td>P52732</td>\n",
       "      <td>KIF11_HUMAN</td>\n",
       "      <td>reviewed</td>\n",
       "      <td>Kinesin-like protein KIF11 (Kinesin-like prote...</td>\n",
       "      <td>KIF11 EG5 KNSL1 TRIP5</td>\n",
       "      <td>Homo sapiens (Human)</td>\n",
       "      <td>1056</td>\n",
       "      <td>MASQPNSSAKKKEEKGKNIQVVVRCRPFNLAERKASAHSIVECDPV...</td>\n",
       "      <td>kinesin</td>\n",
       "    </tr>\n",
       "    <tr>\n",
       "      <th>1055</th>\n",
       "      <td>Q45VK7</td>\n",
       "      <td>DYHC2_MOUSE</td>\n",
       "      <td>reviewed</td>\n",
       "      <td>Cytoplasmic dynein 2 heavy chain 1 (Cytoplasmi...</td>\n",
       "      <td>Dync2h1 Dhc1b Dnchc2 Kiaa1997</td>\n",
       "      <td>Mus musculus (Mouse)</td>\n",
       "      <td>4306</td>\n",
       "      <td>MAGSLGDVRKLFLFTTTQNYFGLRPELWDQPPLSNCPEVNNFLDDG...</td>\n",
       "      <td>dynein</td>\n",
       "    </tr>\n",
       "    <tr>\n",
       "      <th>1720</th>\n",
       "      <td>Q04439</td>\n",
       "      <td>MYO5_YEAST</td>\n",
       "      <td>reviewed</td>\n",
       "      <td>Myosin-5 (Actin-dependent myosin-I MYO5) (Clas...</td>\n",
       "      <td>MYO5 YMR109W YM9718.08</td>\n",
       "      <td>Saccharomyces cerevisiae (strain ATCC 204508 /...</td>\n",
       "      <td>1219</td>\n",
       "      <td>MAILKRGARKKVHQEPAKRSANIKKATFDSSKKKEVGVSDLTLLSK...</td>\n",
       "      <td>myosin_v</td>\n",
       "    </tr>\n",
       "  </tbody>\n",
       "</table>\n",
       "</div>"
      ],
      "text/plain": [
       "       Entry   Entry name    Status  \\\n",
       "0     P52732  KIF11_HUMAN  reviewed   \n",
       "1055  Q45VK7  DYHC2_MOUSE  reviewed   \n",
       "1720  Q04439   MYO5_YEAST  reviewed   \n",
       "\n",
       "                                          Protein names  \\\n",
       "0     Kinesin-like protein KIF11 (Kinesin-like prote...   \n",
       "1055  Cytoplasmic dynein 2 heavy chain 1 (Cytoplasmi...   \n",
       "1720  Myosin-5 (Actin-dependent myosin-I MYO5) (Clas...   \n",
       "\n",
       "                         Gene names  \\\n",
       "0             KIF11 EG5 KNSL1 TRIP5   \n",
       "1055  Dync2h1 Dhc1b Dnchc2 Kiaa1997   \n",
       "1720         MYO5 YMR109W YM9718.08   \n",
       "\n",
       "                                               Organism  Length  \\\n",
       "0                                  Homo sapiens (Human)    1056   \n",
       "1055                               Mus musculus (Mouse)    4306   \n",
       "1720  Saccharomyces cerevisiae (strain ATCC 204508 /...    1219   \n",
       "\n",
       "                                                    seq      type  \n",
       "0     MASQPNSSAKKKEEKGKNIQVVVRCRPFNLAERKASAHSIVECDPV...   kinesin  \n",
       "1055  MAGSLGDVRKLFLFTTTQNYFGLRPELWDQPPLSNCPEVNNFLDDG...    dynein  \n",
       "1720  MAILKRGARKKVHQEPAKRSANIKKATFDSSKKKEVGVSDLTLLSK...  myosin_v  "
      ]
     },
     "execution_count": 8,
     "metadata": {},
     "output_type": "execute_result"
    }
   ],
   "source": [
    "motor_toolkit.groupby(\"type\").head(1)"
   ]
  },
  {
   "cell_type": "code",
   "execution_count": 53,
   "metadata": {},
   "outputs": [
    {
     "name": "stdout",
     "output_type": "stream",
     "text": [
      "Int64Index([0, 1, 2, 3, 4], dtype='int64')\n"
     ]
    }
   ],
   "source": [
    "kinesin_labelled_ind = motor_toolkit.loc[motor_toolkit[\"type\"] == \"kinesin\",:].index\n",
    "print(kinesin_labelled_ind[0:5])"
   ]
  },
  {
   "cell_type": "markdown",
   "metadata": {},
   "source": [
    "### Target1: Inspect the embedding on 5 types in motor toolkits []\n",
    "- [https://link.springer.com/referenceworkentry/10.1007%2F978-3-642-16712-6_762]\n",
    "- [https://www.sciencedirect.com/science/article/pii/S0092867403001119]\n",
    "    1. Conventional Kinesin: KIF5B, KHC, NKin, KLP1, KinA, DdK5\n",
    "    2. Kinesin II: 1) heterodimer 2) homodimer: Osm3/KIF17 three Kinesin-2 subfamilies exist: the KIF3A, KIF3B/C, and KIF17 subfamilies\n",
    "    3. Kinesin III: KIF1A, KIF1B, KIF13A, UNC104, DdUnc104\n",
    "    4. Cytoplasmic dynein\n",
    "    5. myosin V\n",
    "\n",
    "### Target II: Inspect the embedding on pfam family of molecular motors of interests\n",
    "    1. actin-like: \n",
    "        - PF00349\tHexokinase_1\t2704\tactin_like\n",
    "        - PF00022\tActin\t7689\tactin_like\n",
    "        - PF03727\tHexokinase_2\t2859\tactin_like\n",
    "        - PF06723\tMreB_Mbl\t3621\tactin_like\n",
    "        - PF14450\tFtsA\t4161\tactin_like\n",
    "    2. tubulin_c\n",
    "        - PF03953\tTubulin_C\t1999\ttubulin_c\n",
    "        - PF12327\tFtsZ_C\t2756\ttubulin_c\n",
    "    3. tubulin_binding \n",
    "        - PF00091\tTubulin\t5951\ttubulin_binding\n",
    "        - PF10644\tMisat_Tub_SegII\t628\ttubulin_binding\n",
    "        - PF13809\tTubulin_2\t396\ttubulin_binding\n",
    "        - PF14881\tTubulin_3\t660\ttubulin_binding\n",
    "    4. p_loop_gtpase\n",
    "        - PF00063\tMyosin_head\t8304\tp_loop_gtpase\n",
    "        - PF00225\tKinesin\t15099\tp_loop_gtpase\n",
    "        - PF03028\tDynein_heavy\t2322\tp_loop_gtpase\n",
    "\n",
    "###  Produce the background embedding space \n",
    "    - background 1: target VS all pfam motors (from superfamily)\n",
    "    - background 2: target VS the pfam superfamily they belongs to\n",
    "    - background 3: target VS randomly selected pfam sequences across all families\n",
    "    - background 4: different types of target 1 in their respective pfam family/superfamily background"
   ]
  },
  {
   "cell_type": "markdown",
   "metadata": {},
   "source": [
    "# for LSTM 5"
   ]
  },
  {
   "cell_type": "code",
   "execution_count": 9,
   "metadata": {},
   "outputs": [
    {
     "name": "stdout",
     "output_type": "stream",
     "text": [
      "(3255, 256)\n",
      "(1914831, 256)\n",
      "(1212912, 256)\n"
     ]
    }
   ],
   "source": [
    "\n",
    "hn_motortoolkit = np.load(\"../data/hn_lstm5_motortoolkit.npy\")\n",
    "hn_pfammotors= np.load(\"../data/hn_lstm5_pfammotors.npy\")\n",
    "hn_dfdev = np.load(\"../data/hn_lstm5_dfdev.npy\")\n",
    "print(hn_motortoolkit.shape)\n",
    "print(hn_pfammotors.shape)\n",
    "print(hn_dfdev.shape)\n"
   ]
  },
  {
   "cell_type": "code",
   "execution_count": 10,
   "metadata": {},
   "outputs": [],
   "source": [
    "import time"
   ]
  },
  {
   "cell_type": "code",
   "execution_count": 11,
   "metadata": {},
   "outputs": [],
   "source": [
    "# start_time = time.time()\n",
    "# pfammotors_em_3 = TSNE(n_components=3).fit_transform(hn_pfammotors)\n",
    "# dfdev_em_3 = TSNE(n_components=3).fit_transform(hn_dfdev)\n",
    "# print(\"--- %s seconds ---\" % (time.time() - start_time))"
   ]
  },
  {
   "cell_type": "code",
   "execution_count": 12,
   "metadata": {},
   "outputs": [
    {
     "name": "stdout",
     "output_type": "stream",
     "text": [
      "--- 70.7943856716156 seconds ---\n"
     ]
    }
   ],
   "source": [
    "start_time = time.time()\n",
    "pca_motortoolkit = PCA(n_components=50).fit_transform(hn_motortoolkit)\n",
    "motortoolkit_em_2 = TSNE(n_components=2).fit_transform(pca_motortoolkit)\n",
    "print(\"--- %s seconds ---\" % (time.time() - start_time))"
   ]
  },
  {
   "cell_type": "code",
   "execution_count": 14,
   "metadata": {},
   "outputs": [
    {
     "name": "stdout",
     "output_type": "stream",
     "text": [
      "--- 141.00350546836853 seconds ---\n"
     ]
    }
   ],
   "source": [
    "start_time = time.time()\n",
    "motortoolkit_em_3 = TSNE(n_components=3).fit_transform(pca_motortoolkit)\n",
    "print(\"--- %s seconds ---\" % (time.time() - start_time))\n",
    "\n",
    "\n",
    "\n"
   ]
  },
  {
   "cell_type": "code",
   "execution_count": 79,
   "metadata": {},
   "outputs": [
    {
     "data": {
      "text/plain": [
       "(12129,)"
      ]
     },
     "execution_count": 79,
     "metadata": {},
     "output_type": "execute_result"
    }
   ],
   "source": [
    "dfdev_001_ind.shape"
   ]
  },
  {
   "cell_type": "code",
   "execution_count": 20,
   "metadata": {},
   "outputs": [
    {
     "name": "stdout",
     "output_type": "stream",
     "text": [
      "--- 275.5578382015228 seconds ---\n"
     ]
    }
   ],
   "source": [
    "dfdev_001_ind = np.random.choice(a = (hn_dfdev.shape[0]-1) ,size = 12129, replace=False)\n",
    "hn_dfdev_001 = hn_dfdev[dfdev_001_ind,:]\n",
    "\n",
    "start_time = time.time()\n",
    "pca_dfdev_001 = PCA(n_components=20).fit_transform(hn_dfdev_001)\n",
    "dfdev_001_em_2 = TSNE(n_components=2).fit_transform(pca_dfdev_001)\n",
    "print(\"--- %s seconds ---\" % (time.time() - start_time))\n",
    "\n",
    "\n",
    "\n",
    "\n"
   ]
  },
  {
   "cell_type": "code",
   "execution_count": 22,
   "metadata": {},
   "outputs": [
    {
     "name": "stdout",
     "output_type": "stream",
     "text": [
      "--- 353.3608708381653 seconds ---\n"
     ]
    }
   ],
   "source": [
    "start_time = time.time()\n",
    "# target then background\n",
    "motortoolkit_dfdev_001_em_2_t, motortoolkit_dfdev_001_em_2_b = joint_embed(hn_motortoolkit,hn_dfdev_001)\n",
    "print(\"--- %s seconds ---\" % (time.time() - start_time))\n",
    "\n",
    "\n",
    "\n",
    "\n"
   ]
  },
  {
   "cell_type": "code",
   "execution_count": 51,
   "metadata": {},
   "outputs": [
    {
     "data": {
      "text/plain": [
       "(12129, 2)"
      ]
     },
     "execution_count": 51,
     "metadata": {},
     "output_type": "execute_result"
    }
   ],
   "source": [
    "motortoolkit_dfdev_001_em_2_b.shape"
   ]
  },
  {
   "cell_type": "code",
   "execution_count": 54,
   "metadata": {},
   "outputs": [
    {
     "name": "stdout",
     "output_type": "stream",
     "text": [
      "--- 392.80173444747925 seconds ---\n"
     ]
    }
   ],
   "source": [
    "# kinesin_labelled VS pfam kinesin\n",
    "start_time = time.time()\n",
    "# target then background\n",
    "kinesinlabelled_pfamkinesin_em_2_t, kinesinlabelled_pfamkinesin_em_2_b = joint_embed(hn_motortoolkit[kinesin_labelled_ind,:]\\\n",
    "                                                                                     ,hn_pfammotors[pfamA_kinesin_ind,:])\n",
    "print(\"--- %s seconds ---\" % (time.time() - start_time))\n",
    "\n",
    "\n"
   ]
  },
  {
   "cell_type": "code",
   "execution_count": 55,
   "metadata": {},
   "outputs": [
    {
     "name": "stdout",
     "output_type": "stream",
     "text": [
      "--- 513.9830415248871 seconds ---\n"
     ]
    }
   ],
   "source": [
    "# motor toolkit VS pfam balanced\n",
    "start_time = time.time()\n",
    "# target then background\n",
    "motortoolkit_pfambalanced_em_2_t, motortoolkit_pfambalanced_em_2_b = joint_embed(hn_motortoolkit\\\n",
    "                                                                                 ,hn_pfammotors[pfamA_motors_balanced_ind,:])\n",
    "print(\"--- %s seconds ---\" % (time.time() - start_time))\n",
    "\n",
    "\n",
    "\n"
   ]
  },
  {
   "cell_type": "code",
   "execution_count": 56,
   "metadata": {},
   "outputs": [
    {
     "name": "stdout",
     "output_type": "stream",
     "text": [
      "--- 1702.170381307602 seconds ---\n"
     ]
    }
   ],
   "source": [
    "# motor toolkit VS pfam target\n",
    "start_time = time.time()\n",
    "# target then background\n",
    "motortoolkit_pfamtarget_em_2_t, motortoolkit_pfamtarget_em_2_b = joint_embed(hn_motortoolkit\\\n",
    "                                                                             ,hn_pfammotors[pfamA_target_ind,:])\n",
    "print(\"--- %s seconds ---\" % (time.time() - start_time))\n",
    "\n"
   ]
  },
  {
   "cell_type": "code",
   "execution_count": 57,
   "metadata": {},
   "outputs": [
    {
     "name": "stdout",
     "output_type": "stream",
     "text": [
      "--- 757.9065361022949 seconds ---\n"
     ]
    }
   ],
   "source": [
    "# pfam balanced VS df_dev_001\n",
    "start_time = time.time()\n",
    "# target then background\n",
    "pfambalanced_dfdev_001_em_2_t, pfambalanced_dfdev_001_em_2_b = joint_embed(hn_pfammotors[pfamA_motors_balanced_ind,:],\\\n",
    "                                                                           hn_dfdev_001)\n",
    "print(\"--- %s seconds ---\" % (time.time() - start_time))\n"
   ]
  },
  {
   "cell_type": "code",
   "execution_count": 59,
   "metadata": {},
   "outputs": [
    {
     "name": "stdout",
     "output_type": "stream",
     "text": [
      "--- 1961.6925818920135 seconds ---\n"
     ]
    }
   ],
   "source": [
    "# pfam target VS df_dev_001\n",
    "start_time = time.time()\n",
    "# target then background\n",
    "pfamtarget_dfdev_001_em_2_t, pfamtarget_dfdev_001_em_2_b = joint_embed(hn_pfammotors[pfamA_target_ind,:],\\\n",
    "                                                                           hn_dfdev_001)\n",
    "print(\"--- %s seconds ---\" % (time.time() - start_time))\n",
    "\n",
    "\n",
    "\n"
   ]
  },
  {
   "cell_type": "code",
   "execution_count": 60,
   "metadata": {},
   "outputs": [
    {
     "name": "stdout",
     "output_type": "stream",
     "text": [
      "--- 1588.4166781902313 seconds ---\n"
     ]
    }
   ],
   "source": [
    "start_time = time.time()\n",
    "pca_pfamtarget = PCA(n_components=20).fit_transform(hn_pfammotors[pfamA_target_ind,:])\n",
    "pfamtarget_em_2 = TSNE(n_components=2).fit_transform(pca_pfamtarget)\n",
    "print(\"--- %s seconds ---\" % (time.time() - start_time))\n"
   ]
  },
  {
   "cell_type": "code",
   "execution_count": 61,
   "metadata": {},
   "outputs": [
    {
     "name": "stdout",
     "output_type": "stream",
     "text": [
      "--- 429.3152554035187 seconds ---\n"
     ]
    }
   ],
   "source": [
    "start_time = time.time()\n",
    "pca_pfambalanced = PCA(n_components=20).fit_transform(hn_pfammotors[pfamA_motors_balanced_ind,:])\n",
    "pfambalanced_em_2 = TSNE(n_components=2).fit_transform(pca_pfambalanced)\n",
    "print(\"--- %s seconds ---\" % (time.time() - start_time))\n"
   ]
  },
  {
   "cell_type": "code",
   "execution_count": 63,
   "metadata": {},
   "outputs": [
    {
     "data": {
      "text/plain": [
       "(18000, 20)"
      ]
     },
     "execution_count": 63,
     "metadata": {},
     "output_type": "execute_result"
    }
   ],
   "source": [
    "pca_pfambalanced.shape"
   ]
  },
  {
   "cell_type": "markdown",
   "metadata": {},
   "source": [
    "### save all the LSTM5 TSNE embedding"
   ]
  },
  {
   "cell_type": "code",
   "execution_count": 64,
   "metadata": {},
   "outputs": [],
   "source": [
    "dat = [motortoolkit_em_2,dfdev_001_em_2,pfamtarget_em_2,pfambalanced_em_2,motortoolkit_dfdev_001_em_2_t,\\\n",
    "       motortoolkit_dfdev_001_em_2_b,kinesinlabelled_pfamkinesin_em_2_t,kinesinlabelled_pfamkinesin_em_2_b,\\\n",
    "       motortoolkit_pfambalanced_em_2_t,motortoolkit_pfambalanced_em_2_b,motortoolkit_pfamtarget_em_2_t,\\\n",
    "       motortoolkit_pfamtarget_em_2_b,pfambalanced_dfdev_001_em_2_t,pfambalanced_dfdev_001_em_2_b,\\\n",
    "       pfamtarget_dfdev_001_em_2_t,pfamtarget_dfdev_001_em_2_b]"
   ]
  },
  {
   "cell_type": "code",
   "execution_count": 65,
   "metadata": {},
   "outputs": [
    {
     "data": {
      "text/plain": [
       "16"
      ]
     },
     "execution_count": 65,
     "metadata": {},
     "output_type": "execute_result"
    }
   ],
   "source": [
    "len(dat)"
   ]
  },
  {
   "cell_type": "code",
   "execution_count": 74,
   "metadata": {},
   "outputs": [
    {
     "data": {
      "text/plain": [
       "['motortoolkit_em_2',\n",
       " 'dfdev_001_em_2',\n",
       " 'pfamtarget_em_2',\n",
       " 'pfambalanced_em_2',\n",
       " 'motortoolkit_dfdev_001_em_2_t',\n",
       " 'motortoolkit_dfdev_001_em_2_b',\n",
       " 'kinesinlabelled_pfamkinesin_em_2_t',\n",
       " 'kinesinlabelled_pfamkinesin_em_2_b',\n",
       " 'motortoolkit_pfambalanced_em_2_t',\n",
       " 'motortoolkit_pfambalanced_em_2_b',\n",
       " 'motortoolkit_pfamtarget_em_2_t',\n",
       " 'motortoolkit_pfamtarget_em_2_b',\n",
       " 'pfambalanced_dfdev_001_em_2_t',\n",
       " 'pfambalanced_dfdev_001_em_2_b',\n",
       " 'pfamtarget_dfdev_001_em_2_t',\n",
       " 'pfamtarget_dfdev_001_em_2_b']"
      ]
     },
     "execution_count": 74,
     "metadata": {},
     "output_type": "execute_result"
    }
   ],
   "source": [
    "dat_names = \"motortoolkit_em_2,dfdev_001_em_2,pfamtarget_em_2,pfambalanced_em_2,motortoolkit_dfdev_001_em_2_t,\\\n",
    "       motortoolkit_dfdev_001_em_2_b,kinesinlabelled_pfamkinesin_em_2_t,kinesinlabelled_pfamkinesin_em_2_b,\\\n",
    "       motortoolkit_pfambalanced_em_2_t,motortoolkit_pfambalanced_em_2_b,motortoolkit_pfamtarget_em_2_t,\\\n",
    "       motortoolkit_pfamtarget_em_2_b,pfambalanced_dfdev_001_em_2_t,pfambalanced_dfdev_001_em_2_b,\\\n",
    "       pfamtarget_dfdev_001_em_2_t,pfamtarget_dfdev_001_em_2_b\"\n",
    "dat_names = str.split(dat_names,\",\")\n",
    "dat_names = [str.replace(elem,\"       \", \"\") for elem in dat_names]\n",
    "dat_names"
   ]
  },
  {
   "cell_type": "code",
   "execution_count": 75,
   "metadata": {},
   "outputs": [
    {
     "name": "stdout",
     "output_type": "stream",
     "text": [
      "../data/tsne/lstm5/motortoolkit_em_2.npy\n",
      "../data/tsne/lstm5/dfdev_001_em_2.npy\n",
      "../data/tsne/lstm5/pfamtarget_em_2.npy\n",
      "../data/tsne/lstm5/pfambalanced_em_2.npy\n",
      "../data/tsne/lstm5/motortoolkit_dfdev_001_em_2_t.npy\n",
      "../data/tsne/lstm5/motortoolkit_dfdev_001_em_2_b.npy\n",
      "../data/tsne/lstm5/kinesinlabelled_pfamkinesin_em_2_t.npy\n",
      "../data/tsne/lstm5/kinesinlabelled_pfamkinesin_em_2_b.npy\n",
      "../data/tsne/lstm5/motortoolkit_pfambalanced_em_2_t.npy\n",
      "../data/tsne/lstm5/motortoolkit_pfambalanced_em_2_b.npy\n",
      "../data/tsne/lstm5/motortoolkit_pfamtarget_em_2_t.npy\n",
      "../data/tsne/lstm5/motortoolkit_pfamtarget_em_2_b.npy\n",
      "../data/tsne/lstm5/pfambalanced_dfdev_001_em_2_t.npy\n",
      "../data/tsne/lstm5/pfambalanced_dfdev_001_em_2_b.npy\n",
      "../data/tsne/lstm5/pfamtarget_dfdev_001_em_2_t.npy\n",
      "../data/tsne/lstm5/pfamtarget_dfdev_001_em_2_b.npy\n"
     ]
    }
   ],
   "source": [
    "for i in range(len(dat)):\n",
    "    file_name = \"../data/tsne/lstm5/\" + dat_names[i] + \".npy\"\n",
    "    print(file_name)\n",
    "    tsne_out = dat[i]\n",
    "    np.save(file_name, tsne_out)"
   ]
  },
  {
   "cell_type": "markdown",
   "metadata": {},
   "source": [
    "# For Seq2Seq_230k"
   ]
  },
  {
   "cell_type": "code",
   "execution_count": 87,
   "metadata": {},
   "outputs": [
    {
     "name": "stdout",
     "output_type": "stream",
     "text": [
      "(3255, 128)\n",
      "(1914831, 128)\n",
      "(1212912, 128)\n"
     ]
    }
   ],
   "source": [
    "hn_motortoolkit = np.load(\"../data/hn_s2sencoder_motortoolkit.npy\")\n",
    "hn_pfammotors= np.load(\"../data/hn_s2sencoder_pfammotors.npy\")\n",
    "hn_dfdev = np.load(\"../data/hn_s2sencoder_dfdev.npy\")\n",
    "print(hn_motortoolkit.shape)\n",
    "print(hn_pfammotors.shape)\n",
    "print(hn_dfdev.shape)"
   ]
  },
  {
   "cell_type": "code",
   "execution_count": 90,
   "metadata": {},
   "outputs": [
    {
     "name": "stdout",
     "output_type": "stream",
     "text": [
      "--- 71.74141764640808 seconds ---\n",
      "--- 310.6444296836853 seconds ---\n"
     ]
    }
   ],
   "source": [
    "start_time = time.time()\n",
    "pca_motortoolkit = PCA(n_components=10).fit_transform(hn_motortoolkit)\n",
    "motortoolkit_em_2 = TSNE(n_components=2).fit_transform(pca_motortoolkit)\n",
    "print(\"--- %s seconds ---\" % (time.time() - start_time))\n",
    "# start_time = time.time()\n",
    "# motortoolkit_em_3 = TSNE(n_components=3).fit_transform(pca_motortoolkit)\n",
    "# print(\"--- %s seconds ---\" % (time.time() - start_time))\n",
    "# start_time = time.time()\n",
    "pca_dfdev_001 = PCA(n_components=10).fit_transform(hn_dfdev_001)\n",
    "dfdev_001_em_2 = TSNE(n_components=2).fit_transform(pca_dfdev_001)\n",
    "print(\"--- %s seconds ---\" % (time.time() - start_time))"
   ]
  },
  {
   "cell_type": "code",
   "execution_count": 91,
   "metadata": {},
   "outputs": [
    {
     "name": "stdout",
     "output_type": "stream",
     "text": [
      "--- 374.2049169540405 seconds ---\n",
      "--- 397.7958629131317 seconds ---\n",
      "--- 531.9089515209198 seconds ---\n",
      "--- 1796.2882137298584 seconds ---\n",
      "--- 795.9559721946716 seconds ---\n",
      "--- 1810.6985597610474 seconds ---\n",
      "--- 1546.9576041698456 seconds ---\n",
      "--- 427.0204496383667 seconds ---\n"
     ]
    }
   ],
   "source": [
    "hn_dfdev_001 = hn_dfdev[dfdev_001_ind,:]\n",
    "start_time = time.time()\n",
    "# target then background\n",
    "motortoolkit_dfdev_001_em_2_t, motortoolkit_dfdev_001_em_2_b = joint_embed(hn_motortoolkit,hn_dfdev_001)\n",
    "print(\"--- %s seconds ---\" % (time.time() - start_time))\n",
    "start_time = time.time()\n",
    "# target then background\n",
    "kinesinlabelled_pfamkinesin_em_2_t, kinesinlabelled_pfamkinesin_em_2_b = joint_embed(hn_motortoolkit[kinesin_labelled_ind,:]\\\n",
    "                                                                                     ,hn_pfammotors[pfamA_kinesin_ind,:])\n",
    "print(\"--- %s seconds ---\" % (time.time() - start_time))\n",
    "start_time = time.time()\n",
    "# target then background\n",
    "motortoolkit_pfambalanced_em_2_t, motortoolkit_pfambalanced_em_2_b = joint_embed(hn_motortoolkit\\\n",
    "                                                                                 ,hn_pfammotors[pfamA_motors_balanced_ind,:])\n",
    "print(\"--- %s seconds ---\" % (time.time() - start_time))\n",
    "start_time = time.time()\n",
    "# target then background\n",
    "motortoolkit_pfamtarget_em_2_t, motortoolkit_pfamtarget_em_2_b = joint_embed(hn_motortoolkit\\\n",
    "                                                                             ,hn_pfammotors[pfamA_target_ind,:])\n",
    "print(\"--- %s seconds ---\" % (time.time() - start_time))\n",
    "start_time = time.time()\n",
    "# target then background\n",
    "pfambalanced_dfdev_001_em_2_t, pfambalanced_dfdev_001_em_2_b = joint_embed(hn_pfammotors[pfamA_motors_balanced_ind,:],\\\n",
    "                                                                           hn_dfdev_001)\n",
    "print(\"--- %s seconds ---\" % (time.time() - start_time))\n",
    "start_time = time.time()\n",
    "# target then background\n",
    "pfamtarget_dfdev_001_em_2_t, pfamtarget_dfdev_001_em_2_b = joint_embed(hn_pfammotors[pfamA_target_ind,:],\\\n",
    "                                                                           hn_dfdev_001)\n",
    "print(\"--- %s seconds ---\" % (time.time() - start_time))\n",
    "start_time = time.time()\n",
    "pca_pfamtarget = PCA(n_components=20).fit_transform(hn_pfammotors[pfamA_target_ind,:])\n",
    "pfamtarget_em_2 = TSNE(n_components=2).fit_transform(pca_pfamtarget)\n",
    "print(\"--- %s seconds ---\" % (time.time() - start_time))\n",
    "start_time = time.time()\n",
    "pca_pfambalanced = PCA(n_components=20).fit_transform(hn_pfammotors[pfamA_motors_balanced_ind,:])\n",
    "pfambalanced_em_2 = TSNE(n_components=2).fit_transform(pca_pfambalanced)\n",
    "print(\"--- %s seconds ---\" % (time.time() - start_time))"
   ]
  },
  {
   "cell_type": "code",
   "execution_count": 92,
   "metadata": {},
   "outputs": [
    {
     "data": {
      "text/plain": [
       "['motortoolkit_em_2',\n",
       " 'dfdev_001_em_2',\n",
       " 'pfamtarget_em_2',\n",
       " 'pfambalanced_em_2',\n",
       " 'motortoolkit_dfdev_001_em_2_t',\n",
       " 'motortoolkit_dfdev_001_em_2_b',\n",
       " 'kinesinlabelled_pfamkinesin_em_2_t',\n",
       " 'kinesinlabelled_pfamkinesin_em_2_b',\n",
       " 'motortoolkit_pfambalanced_em_2_t',\n",
       " 'motortoolkit_pfambalanced_em_2_b',\n",
       " 'motortoolkit_pfamtarget_em_2_t',\n",
       " 'motortoolkit_pfamtarget_em_2_b',\n",
       " 'pfambalanced_dfdev_001_em_2_t',\n",
       " 'pfambalanced_dfdev_001_em_2_b',\n",
       " 'pfamtarget_dfdev_001_em_2_t',\n",
       " 'pfamtarget_dfdev_001_em_2_b']"
      ]
     },
     "execution_count": 92,
     "metadata": {},
     "output_type": "execute_result"
    }
   ],
   "source": [
    "dat = [motortoolkit_em_2,dfdev_001_em_2,pfamtarget_em_2,pfambalanced_em_2,motortoolkit_dfdev_001_em_2_t,\\\n",
    "       motortoolkit_dfdev_001_em_2_b,kinesinlabelled_pfamkinesin_em_2_t,kinesinlabelled_pfamkinesin_em_2_b,\\\n",
    "       motortoolkit_pfambalanced_em_2_t,motortoolkit_pfambalanced_em_2_b,motortoolkit_pfamtarget_em_2_t,\\\n",
    "       motortoolkit_pfamtarget_em_2_b,pfambalanced_dfdev_001_em_2_t,pfambalanced_dfdev_001_em_2_b,\\\n",
    "       pfamtarget_dfdev_001_em_2_t,pfamtarget_dfdev_001_em_2_b]\n",
    "\n",
    "dat_names = \"motortoolkit_em_2,dfdev_001_em_2,pfamtarget_em_2,pfambalanced_em_2,motortoolkit_dfdev_001_em_2_t,\\\n",
    "       motortoolkit_dfdev_001_em_2_b,kinesinlabelled_pfamkinesin_em_2_t,kinesinlabelled_pfamkinesin_em_2_b,\\\n",
    "       motortoolkit_pfambalanced_em_2_t,motortoolkit_pfambalanced_em_2_b,motortoolkit_pfamtarget_em_2_t,\\\n",
    "       motortoolkit_pfamtarget_em_2_b,pfambalanced_dfdev_001_em_2_t,pfambalanced_dfdev_001_em_2_b,\\\n",
    "       pfamtarget_dfdev_001_em_2_t,pfamtarget_dfdev_001_em_2_b\"\n",
    "dat_names = str.split(dat_names,\",\")\n",
    "dat_names = [str.replace(elem,\"       \", \"\") for elem in dat_names]\n",
    "dat_names"
   ]
  },
  {
   "cell_type": "code",
   "execution_count": 93,
   "metadata": {},
   "outputs": [
    {
     "name": "stdout",
     "output_type": "stream",
     "text": [
      "../data/tsne/seq2seq_230k/motortoolkit_em_2.npy\n",
      "../data/tsne/seq2seq_230k/dfdev_001_em_2.npy\n",
      "../data/tsne/seq2seq_230k/pfamtarget_em_2.npy\n",
      "../data/tsne/seq2seq_230k/pfambalanced_em_2.npy\n",
      "../data/tsne/seq2seq_230k/motortoolkit_dfdev_001_em_2_t.npy\n",
      "../data/tsne/seq2seq_230k/motortoolkit_dfdev_001_em_2_b.npy\n",
      "../data/tsne/seq2seq_230k/kinesinlabelled_pfamkinesin_em_2_t.npy\n",
      "../data/tsne/seq2seq_230k/kinesinlabelled_pfamkinesin_em_2_b.npy\n",
      "../data/tsne/seq2seq_230k/motortoolkit_pfambalanced_em_2_t.npy\n",
      "../data/tsne/seq2seq_230k/motortoolkit_pfambalanced_em_2_b.npy\n",
      "../data/tsne/seq2seq_230k/motortoolkit_pfamtarget_em_2_t.npy\n",
      "../data/tsne/seq2seq_230k/motortoolkit_pfamtarget_em_2_b.npy\n",
      "../data/tsne/seq2seq_230k/pfambalanced_dfdev_001_em_2_t.npy\n",
      "../data/tsne/seq2seq_230k/pfambalanced_dfdev_001_em_2_b.npy\n",
      "../data/tsne/seq2seq_230k/pfamtarget_dfdev_001_em_2_t.npy\n",
      "../data/tsne/seq2seq_230k/pfamtarget_dfdev_001_em_2_b.npy\n"
     ]
    }
   ],
   "source": [
    "for i in range(len(dat)):\n",
    "    file_name = \"../data/tsne/seq2seq_230k/\" + dat_names[i] + \".npy\"\n",
    "    print(file_name)\n",
    "    tsne_out = dat[i]\n",
    "    np.save(file_name, tsne_out)"
   ]
  },
  {
   "cell_type": "markdown",
   "metadata": {},
   "source": [
    "## For transformer encoder"
   ]
  },
  {
   "cell_type": "code",
   "execution_count": 81,
   "metadata": {},
   "outputs": [
    {
     "name": "stdout",
     "output_type": "stream",
     "text": [
      "(3235, 768)\n",
      "(1914831, 768)\n",
      "(1212912, 768)\n"
     ]
    }
   ],
   "source": [
    "hn_motortoolkit = np.load(\"../data/hn_transformerencoder_motortoolkit.npy\")\n",
    "hn_pfammotors= np.load(\"../data/hn_transformerencoder_pfammotors.npy\")\n",
    "hn_dfdev = np.load(\"../data/hn_transformerencoder_dfdev.npy\")\n",
    "print(hn_motortoolkit.shape)\n",
    "print(hn_pfammotors.shape)\n",
    "print(hn_dfdev.shape)"
   ]
  },
  {
   "cell_type": "code",
   "execution_count": 82,
   "metadata": {},
   "outputs": [
    {
     "name": "stdout",
     "output_type": "stream",
     "text": [
      "--- 65.35481786727905 seconds ---\n",
      "--- 115.08075022697449 seconds ---\n",
      "--- 302.92254543304443 seconds ---\n",
      "--- 313.84023571014404 seconds ---\n",
      "--- 354.0204532146454 seconds ---\n",
      "--- 474.4466803073883 seconds ---\n",
      "--- 1562.4861793518066 seconds ---\n",
      "--- 704.4332535266876 seconds ---\n",
      "--- 1845.7174191474915 seconds ---\n",
      "--- 1463.4091789722443 seconds ---\n",
      "--- 395.70895767211914 seconds ---\n"
     ]
    }
   ],
   "source": [
    "start_time = time.time()\n",
    "pca_motortoolkit = PCA(n_components=50).fit_transform(hn_motortoolkit)\n",
    "motortoolkit_em_2 = TSNE(n_components=2).fit_transform(pca_motortoolkit)\n",
    "print(\"--- %s seconds ---\" % (time.time() - start_time))\n",
    "start_time = time.time()\n",
    "motortoolkit_em_3 = TSNE(n_components=3).fit_transform(pca_motortoolkit)\n",
    "print(\"--- %s seconds ---\" % (time.time() - start_time))\n",
    "start_time = time.time()\n",
    "pca_dfdev_001 = PCA(n_components=20).fit_transform(hn_dfdev_001)\n",
    "dfdev_001_em_2 = TSNE(n_components=2).fit_transform(pca_dfdev_001)\n",
    "print(\"--- %s seconds ---\" % (time.time() - start_time))\n",
    "\n",
    "\n",
    "\n",
    "hn_dfdev_001 = hn_dfdev[dfdev_001_ind,:]\n",
    "start_time = time.time()\n",
    "# target then background\n",
    "motortoolkit_dfdev_001_em_2_t, motortoolkit_dfdev_001_em_2_b = joint_embed(hn_motortoolkit,hn_dfdev_001)\n",
    "print(\"--- %s seconds ---\" % (time.time() - start_time))\n",
    "start_time = time.time()\n",
    "# target then background\n",
    "# Note: I forgot that 20 sequences from motor_toolkit are too long and that change the index system for sure, regenerate this column in the last cell\n",
    "kinesinlabelled_pfamkinesin_em_2_t, kinesinlabelled_pfamkinesin_em_2_b = joint_embed(hn_motortoolkit[kinesin_labelled_ind,:]\\\n",
    "                                                                                     ,hn_pfammotors[pfamA_kinesin_ind,:])\n",
    "print(\"--- %s seconds ---\" % (time.time() - start_time))\n",
    "start_time = time.time()\n",
    "# target then background\n",
    "motortoolkit_pfambalanced_em_2_t, motortoolkit_pfambalanced_em_2_b = joint_embed(hn_motortoolkit\\\n",
    "                                                                                 ,hn_pfammotors[pfamA_motors_balanced_ind,:])\n",
    "print(\"--- %s seconds ---\" % (time.time() - start_time))\n",
    "start_time = time.time()\n",
    "# target then background\n",
    "motortoolkit_pfamtarget_em_2_t, motortoolkit_pfamtarget_em_2_b = joint_embed(hn_motortoolkit\\\n",
    "                                                                             ,hn_pfammotors[pfamA_target_ind,:])\n",
    "print(\"--- %s seconds ---\" % (time.time() - start_time))\n",
    "start_time = time.time()\n",
    "# target then background\n",
    "pfambalanced_dfdev_001_em_2_t, pfambalanced_dfdev_001_em_2_b = joint_embed(hn_pfammotors[pfamA_motors_balanced_ind,:],\\\n",
    "                                                                           hn_dfdev_001)\n",
    "print(\"--- %s seconds ---\" % (time.time() - start_time))\n",
    "start_time = time.time()\n",
    "# target then background\n",
    "pfamtarget_dfdev_001_em_2_t, pfamtarget_dfdev_001_em_2_b = joint_embed(hn_pfammotors[pfamA_target_ind,:],\\\n",
    "                                                                           hn_dfdev_001)\n",
    "print(\"--- %s seconds ---\" % (time.time() - start_time))\n",
    "start_time = time.time()\n",
    "pca_pfamtarget = PCA(n_components=20).fit_transform(hn_pfammotors[pfamA_target_ind,:])\n",
    "pfamtarget_em_2 = TSNE(n_components=2).fit_transform(pca_pfamtarget)\n",
    "print(\"--- %s seconds ---\" % (time.time() - start_time))\n",
    "start_time = time.time()\n",
    "pca_pfambalanced = PCA(n_components=20).fit_transform(hn_pfammotors[pfamA_motors_balanced_ind,:])\n",
    "pfambalanced_em_2 = TSNE(n_components=2).fit_transform(pca_pfambalanced)\n",
    "print(\"--- %s seconds ---\" % (time.time() - start_time))"
   ]
  },
  {
   "cell_type": "code",
   "execution_count": 83,
   "metadata": {},
   "outputs": [
    {
     "data": {
      "text/plain": [
       "['motortoolkit_em_2',\n",
       " 'dfdev_001_em_2',\n",
       " 'pfamtarget_em_2',\n",
       " 'pfambalanced_em_2',\n",
       " 'motortoolkit_dfdev_001_em_2_t',\n",
       " 'motortoolkit_dfdev_001_em_2_b',\n",
       " 'kinesinlabelled_pfamkinesin_em_2_t',\n",
       " 'kinesinlabelled_pfamkinesin_em_2_b',\n",
       " 'motortoolkit_pfambalanced_em_2_t',\n",
       " 'motortoolkit_pfambalanced_em_2_b',\n",
       " 'motortoolkit_pfamtarget_em_2_t',\n",
       " 'motortoolkit_pfamtarget_em_2_b',\n",
       " 'pfambalanced_dfdev_001_em_2_t',\n",
       " 'pfambalanced_dfdev_001_em_2_b',\n",
       " 'pfamtarget_dfdev_001_em_2_t',\n",
       " 'pfamtarget_dfdev_001_em_2_b']"
      ]
     },
     "execution_count": 83,
     "metadata": {},
     "output_type": "execute_result"
    }
   ],
   "source": [
    "dat = [motortoolkit_em_2,dfdev_001_em_2,pfamtarget_em_2,pfambalanced_em_2,motortoolkit_dfdev_001_em_2_t,\\\n",
    "       motortoolkit_dfdev_001_em_2_b,kinesinlabelled_pfamkinesin_em_2_t,kinesinlabelled_pfamkinesin_em_2_b,\\\n",
    "       motortoolkit_pfambalanced_em_2_t,motortoolkit_pfambalanced_em_2_b,motortoolkit_pfamtarget_em_2_t,\\\n",
    "       motortoolkit_pfamtarget_em_2_b,pfambalanced_dfdev_001_em_2_t,pfambalanced_dfdev_001_em_2_b,\\\n",
    "       pfamtarget_dfdev_001_em_2_t,pfamtarget_dfdev_001_em_2_b]\n",
    "\n",
    "dat_names = \"motortoolkit_em_2,d··fdev_001_em_2,pfamtarget_em_2,pfambalanced_em_2,motortoolkit_dfdev_001_em_2_t,\\\n",
    "       motortoolkit_dfdev_001_em_2_b,kinesinlabelled_pfamkinesin_em_2_t,kinesinlabelled_pfamkinesin_em_2_b,\\\n",
    "       motortoolkit_pfambalanced_em_2_t,motortoolkit_pfambalanced_em_2_b,motortoolkit_pfamtarget_em_2_t,\\\n",
    "       motortoolkit_pfamtarget_em_2_b,pfambalanced_dfdev_001_em_2_t,pfambalanced_dfdev_001_em_2_b,\\\n",
    "       pfamtarget_dfdev_001_em_2_t,pfamtarget_dfdev_001_em_2_b\"\n",
    "dat_names = str.split(dat_names,\",\")\n",
    "dat_names = [str.replace(elem,\"       \", \"\") for elem in dat_names]\n",
    "dat_names"
   ]
  },
  {
   "cell_type": "code",
   "execution_count": 84,
   "metadata": {},
   "outputs": [
    {
     "name": "stdout",
     "output_type": "stream",
     "text": [
      "../data/tsne/transformer_encoder/motortoolkit_em_2.npy\n",
      "../data/tsne/transformer_encoder/dfdev_001_em_2.npy\n",
      "../data/tsne/transformer_encoder/pfamtarget_em_2.npy\n",
      "../data/tsne/transformer_encoder/pfambalanced_em_2.npy\n",
      "../data/tsne/transformer_encoder/motortoolkit_dfdev_001_em_2_t.npy\n",
      "../data/tsne/transformer_encoder/motortoolkit_dfdev_001_em_2_b.npy\n",
      "../data/tsne/transformer_encoder/kinesinlabelled_pfamkinesin_em_2_t.npy\n",
      "../data/tsne/transformer_encoder/kinesinlabelled_pfamkinesin_em_2_b.npy\n",
      "../data/tsne/transformer_encoder/motortoolkit_pfambalanced_em_2_t.npy\n",
      "../data/tsne/transformer_encoder/motortoolkit_pfambalanced_em_2_b.npy\n",
      "../data/tsne/transformer_encoder/motortoolkit_pfamtarget_em_2_t.npy\n",
      "../data/tsne/transformer_encoder/motortoolkit_pfamtarget_em_2_b.npy\n",
      "../data/tsne/transformer_encoder/pfambalanced_dfdev_001_em_2_t.npy\n",
      "../data/tsne/transformer_encoder/pfambalanced_dfdev_001_em_2_b.npy\n",
      "../data/tsne/transformer_encoder/pfamtarget_dfdev_001_em_2_t.npy\n",
      "../data/tsne/transformer_encoder/pfamtarget_dfdev_001_em_2_b.npy\n"
     ]
    }
   ],
   "source": [
    "for i in range(len(dat)):\n",
    "    file_name = \"../data/tsne/transformer_encoder/\" + dat_names[i] + \".npy\"\n",
    "    print(file_name)\n",
    "    tsne_out = dat[i]\n",
    "    np.save(file_name, tsne_out)"
   ]
  },
  {
   "cell_type": "code",
   "execution_count": 86,
   "metadata": {},
   "outputs": [],
   "source": [
    "np.save(\"../data/tsne/sel_ind/pfamA_kinesin_ind.npy\", pfamA_kinesin_ind)\n",
    "np.save(\"../data/tsne/sel_ind/pfamA_motors_balanced_ind.npy\", pfamA_motors_balanced_ind)\n",
    "np.save(\"../data/tsne/sel_ind/pfamA_target_ind.npy\", pfamA_target_ind)\n",
    "np.save(\"../data/tsne/sel_ind/dfdev_001_ind.npy\", dfdev_001_ind)"
   ]
  },
  {
   "cell_type": "code",
   "execution_count": 96,
   "metadata": {},
   "outputs": [
    {
     "data": {
      "text/plain": [
       "(3235, 9)"
      ]
     },
     "execution_count": 96,
     "metadata": {},
     "output_type": "execute_result"
    }
   ],
   "source": [
    "start_time = time.time()\n",
    "# target then background\n",
    "# fix the kinesin label of transformer as the length is shorter \n",
    "motor_toolkit_transformer = motor_toolkit.loc[motor_toolkit[\"Length\"]<=5000,:]\n",
    "motor_toolkit_transformer.shape"
   ]
  },
  {
   "cell_type": "code",
   "execution_count": 97,
   "metadata": {},
   "outputs": [],
   "source": [
    "kinesin_labelled_transformer_ind = motor_toolkit_transformer.loc[motor_toolkit_transformer[\"type\"] == \"kinesin\",:].index\n",
    "\n"
   ]
  },
  {
   "cell_type": "code",
   "execution_count": 98,
   "metadata": {},
   "outputs": [
    {
     "data": {
      "text/plain": [
       "(1053,)"
      ]
     },
     "execution_count": 98,
     "metadata": {},
     "output_type": "execute_result"
    }
   ],
   "source": [
    "kinesin_labelled_transformer_ind.shape"
   ]
  },
  {
   "cell_type": "code",
   "execution_count": 99,
   "metadata": {},
   "outputs": [
    {
     "data": {
      "text/plain": [
       "(1055,)"
      ]
     },
     "execution_count": 99,
     "metadata": {},
     "output_type": "execute_result"
    }
   ],
   "source": [
    "kinesin_labelled_ind.shape"
   ]
  },
  {
   "cell_type": "code",
   "execution_count": null,
   "metadata": {},
   "outputs": [],
   "source": [
    "start_time = time.time()\n",
    "# target then background\n",
    "# Note: I forgot that 20 sequences from motor_toolkit are too long and that change the index system for sure, regenerate this column in the last cell\n",
    "kinesinlabelled_pfamkinesin_em_2_t, kinesinlabelled_pfamkinesin_em_2_b = joint_embed(hn_motortoolkit[kinesin_labelled_transformer_ind,:]\\\n",
    "                                                                                     ,hn_pfammotors[pfamA_kinesin_ind,:])\n",
    "print(\"--- %s seconds ---\" % (time.time() - start_time))"
   ]
  },
  {
   "cell_type": "code",
   "execution_count": null,
   "metadata": {},
   "outputs": [],
   "source": [
    "np.save(\"../data/tsne/transformer_encoder/kinesinlabelled_pfamkinesin_em_2_t.npy\",kinesinlabelled_pfamkinesin_em_2_t)\n",
    "np.save(\"../data/tsne/transformer_encoder/kinesinlabelled_pfamkinesin_em_2_b.npy\",kinesinlabelled_pfamkinesin_em_2_b)"
   ]
  },
  {
   "cell_type": "code",
   "execution_count": null,
   "metadata": {},
   "outputs": [],
   "source": []
  }
 ],
 "metadata": {
  "kernelspec": {
   "display_name": "Python 3",
   "language": "python",
   "name": "python3"
  },
  "language_info": {
   "codemirror_mode": {
    "name": "ipython",
    "version": 3
   },
   "file_extension": ".py",
   "mimetype": "text/x-python",
   "name": "python",
   "nbconvert_exporter": "python",
   "pygments_lexer": "ipython3",
   "version": "3.7.0"
  }
 },
 "nbformat": 4,
 "nbformat_minor": 2
}
