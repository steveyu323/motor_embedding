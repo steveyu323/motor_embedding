{
 "cells": [
  {
   "cell_type": "markdown",
   "metadata": {
    "id": "2cTd-VLr_mbH"
   },
   "source": [
    "# Bidirectional LSTM on entire kaggle pfam sequence.tsv\n",
    "> The goal of this notebook is to expand the training dataset of LSTM from 8000 protein in a specific pfam to the entire set of pfam sequence on kaggle challenge. A 64*2 directions LSTM is used to predict the next token. After training is done, we would embed the entire/part of the pfam_motors to see is families are grouped"
   ]
  },
  {
   "cell_type": "code",
   "execution_count": 1,
   "metadata": {
    "id": "pydwLMg-hWfd"
   },
   "outputs": [],
   "source": [
    "import torch\n",
    "import torch.nn as nn \n",
    "import torch.optim as optim \n",
    "\n",
    "import torchvision \n",
    "import torchvision.transforms as transforms \n",
    "import torch.nn.functional as F\n",
    "from torch.autograd import Variable\n",
    "from torch.nn.utils.rnn import pad_sequence\n",
    "from torch.utils.data import Dataset, IterableDataset, DataLoader\n",
    "# import tqdm\n",
    "import numpy as np\n",
    "import pandas as pd\n",
    "seed = 7\n",
    "torch.manual_seed(seed)\n",
    "np.random.seed(seed)\n",
    "\n",
    " "
   ]
  },
  {
   "cell_type": "markdown",
   "metadata": {
    "id": "Vwj-lD4ik23I"
   },
   "source": [
    "## Get Training Sequence\n",
    "- Compilation of all pfam sequences from the 4 molecular motors-belonging clans\n",
    "- sample 1000 sequences from each of the four clans for learning the hidden states"
   ]
  },
  {
   "cell_type": "code",
   "execution_count": 2,
   "metadata": {
    "colab": {
     "base_uri": "https://localhost:8080/"
    },
    "executionInfo": {
     "elapsed": 20695,
     "status": "ok",
     "timestamp": 1602109510344,
     "user": {
      "displayName": "Changhua Yu",
      "photoUrl": "https://lh3.googleusercontent.com/a-/AOh14Gg-90F37RT3kEYUkfMbPCPW4fpyitBWQwIqJAXE=s64",
      "userId": "11998671452641273992"
     },
     "user_tz": 420
    },
    "id": "WfpPgYKPi1bd",
    "outputId": "85b35b1e-6df6-4bd5-ecf5-9661acaef31a"
   },
   "outputs": [],
   "source": [
    "# from google.colab import drive\n",
    "# drive.mount('/content/drive')"
   ]
  },
  {
   "cell_type": "code",
   "execution_count": 3,
   "metadata": {
    "colab": {
     "base_uri": "https://localhost:8080/"
    },
    "executionInfo": {
     "elapsed": 20687,
     "status": "ok",
     "timestamp": 1602109510345,
     "user": {
      "displayName": "Changhua Yu",
      "photoUrl": "https://lh3.googleusercontent.com/a-/AOh14Gg-90F37RT3kEYUkfMbPCPW4fpyitBWQwIqJAXE=s64",
      "userId": "11998671452641273992"
     },
     "user_tz": 420
    },
    "id": "MxbZFbSgjW0h",
    "outputId": "15f0355a-d55f-48a3-9437-12e63c19a27f"
   },
   "outputs": [],
   "source": [
    "# !ls ./drive/My\\ Drive/data/"
   ]
  },
  {
   "cell_type": "code",
   "execution_count": 4,
   "metadata": {
    "id": "k6I5_kbuivCs"
   },
   "outputs": [],
   "source": [
    "pfamA_motors = pd.read_csv(\"../data/pfamA_motors.csv\")\n",
    "df_dev = pd.read_csv(\"../data/df_dev.csv\")"
   ]
  },
  {
   "cell_type": "code",
   "execution_count": 5,
   "metadata": {
    "colab": {
     "base_uri": "https://localhost:8080/",
     "height": 317
    },
    "executionInfo": {
     "elapsed": 40969,
     "status": "ok",
     "timestamp": 1602109530640,
     "user": {
      "displayName": "Changhua Yu",
      "photoUrl": "https://lh3.googleusercontent.com/a-/AOh14Gg-90F37RT3kEYUkfMbPCPW4fpyitBWQwIqJAXE=s64",
      "userId": "11998671452641273992"
     },
     "user_tz": 420
    },
    "id": "qef-55vNkiaQ",
    "outputId": "e5c5b6e8-c2d8-4b54-81d2-70d49ef65ff5"
   },
   "outputs": [
    {
     "data": {
      "text/html": [
       "<div>\n",
       "<style scoped>\n",
       "    .dataframe tbody tr th:only-of-type {\n",
       "        vertical-align: middle;\n",
       "    }\n",
       "\n",
       "    .dataframe tbody tr th {\n",
       "        vertical-align: top;\n",
       "    }\n",
       "\n",
       "    .dataframe thead th {\n",
       "        text-align: right;\n",
       "    }\n",
       "</style>\n",
       "<table border=\"1\" class=\"dataframe\">\n",
       "  <thead>\n",
       "    <tr style=\"text-align: right;\">\n",
       "      <th></th>\n",
       "      <th>Unnamed: 0</th>\n",
       "      <th>index</th>\n",
       "      <th>family_id</th>\n",
       "      <th>sequence_name</th>\n",
       "      <th>family_accession</th>\n",
       "      <th>aligned_sequence</th>\n",
       "      <th>sequence</th>\n",
       "      <th>length</th>\n",
       "    </tr>\n",
       "  </thead>\n",
       "  <tbody>\n",
       "    <tr>\n",
       "      <th>0</th>\n",
       "      <td>0</td>\n",
       "      <td>0</td>\n",
       "      <td>Penicillinase_R</td>\n",
       "      <td>Q81U16_BACAN/8-123</td>\n",
       "      <td>PF03965.16</td>\n",
       "      <td>ISEAELEIMKVLWLKSP.QTANEIIEE.LEDP.MDW..KPKTIRTL...</td>\n",
       "      <td>ISEAELEIMKVLWLKSPQTANEIIEELEDPMDWKPKTIRTLINRLV...</td>\n",
       "      <td>116</td>\n",
       "    </tr>\n",
       "    <tr>\n",
       "      <th>1</th>\n",
       "      <td>1</td>\n",
       "      <td>1</td>\n",
       "      <td>Rtt106</td>\n",
       "      <td>POB3_CANAL/362-454</td>\n",
       "      <td>PF08512.12</td>\n",
       "      <td>AGVPCSVKA...SEGYLFPL......DRCFLF.VTKPTLYIPYSE....</td>\n",
       "      <td>AGVPCSVKASEGYLFPLDRCFLFVTKPTLYIPYSEISSVVMSRTGG...</td>\n",
       "      <td>93</td>\n",
       "    </tr>\n",
       "    <tr>\n",
       "      <th>2</th>\n",
       "      <td>2</td>\n",
       "      <td>2</td>\n",
       "      <td>F-actin_cap_A</td>\n",
       "      <td>Q8I3I2_PLAF7/12-301</td>\n",
       "      <td>PF01267.17</td>\n",
       "      <td>IRHVLMNSPPGKLYDLVK..DINILL.G.........SSVSIQ.KI...</td>\n",
       "      <td>IRHVLMNSPPGKLYDLVKDINILLGSSVSIQKILEEVLKDYNEKNY...</td>\n",
       "      <td>290</td>\n",
       "    </tr>\n",
       "    <tr>\n",
       "      <th>3</th>\n",
       "      <td>3</td>\n",
       "      <td>3</td>\n",
       "      <td>HupF_HypC</td>\n",
       "      <td>O28902_ARCFU/1-65</td>\n",
       "      <td>PF01455.18</td>\n",
       "      <td>MCIAIPGR...I.ER..IDY...............P....IAIVDF...</td>\n",
       "      <td>MCIAIPGRIERIDYPIAIVDFKGLKKEVRIDLLENPQIGDYVLVHV...</td>\n",
       "      <td>65</td>\n",
       "    </tr>\n",
       "    <tr>\n",
       "      <th>4</th>\n",
       "      <td>4</td>\n",
       "      <td>4</td>\n",
       "      <td>DUF3794</td>\n",
       "      <td>R6BY75_9CLOT/189-271</td>\n",
       "      <td>PF12673.7</td>\n",
       "      <td>NIFHI..LWEDVDL..E.GVTFKPMG...E...........S.......</td>\n",
       "      <td>NIFHILWEDVDLEGVTFKPMGESISVQGDIHIFVLYEGEGENTPIR...</td>\n",
       "      <td>83</td>\n",
       "    </tr>\n",
       "  </tbody>\n",
       "</table>\n",
       "</div>"
      ],
      "text/plain": [
       "   Unnamed: 0  index        family_id         sequence_name family_accession  \\\n",
       "0           0      0  Penicillinase_R    Q81U16_BACAN/8-123       PF03965.16   \n",
       "1           1      1           Rtt106    POB3_CANAL/362-454       PF08512.12   \n",
       "2           2      2    F-actin_cap_A   Q8I3I2_PLAF7/12-301       PF01267.17   \n",
       "3           3      3        HupF_HypC     O28902_ARCFU/1-65       PF01455.18   \n",
       "4           4      4          DUF3794  R6BY75_9CLOT/189-271        PF12673.7   \n",
       "\n",
       "                                    aligned_sequence  \\\n",
       "0  ISEAELEIMKVLWLKSP.QTANEIIEE.LEDP.MDW..KPKTIRTL...   \n",
       "1  AGVPCSVKA...SEGYLFPL......DRCFLF.VTKPTLYIPYSE....   \n",
       "2  IRHVLMNSPPGKLYDLVK..DINILL.G.........SSVSIQ.KI...   \n",
       "3  MCIAIPGR...I.ER..IDY...............P....IAIVDF...   \n",
       "4  NIFHI..LWEDVDL..E.GVTFKPMG...E...........S.......   \n",
       "\n",
       "                                            sequence  length  \n",
       "0  ISEAELEIMKVLWLKSPQTANEIIEELEDPMDWKPKTIRTLINRLV...     116  \n",
       "1  AGVPCSVKASEGYLFPLDRCFLFVTKPTLYIPYSEISSVVMSRTGG...      93  \n",
       "2  IRHVLMNSPPGKLYDLVKDINILLGSSVSIQKILEEVLKDYNEKNY...     290  \n",
       "3  MCIAIPGRIERIDYPIAIVDFKGLKKEVRIDLLENPQIGDYVLVHV...      65  \n",
       "4  NIFHILWEDVDLEGVTFKPMGESISVQGDIHIFVLYEGEGENTPIR...      83  "
      ]
     },
     "execution_count": 5,
     "metadata": {},
     "output_type": "execute_result"
    }
   ],
   "source": [
    "df_dev.head()"
   ]
  },
  {
   "cell_type": "code",
   "execution_count": 6,
   "metadata": {
    "colab": {
     "base_uri": "https://localhost:8080/"
    },
    "executionInfo": {
     "elapsed": 40962,
     "status": "ok",
     "timestamp": 1602109530641,
     "user": {
      "displayName": "Changhua Yu",
      "photoUrl": "https://lh3.googleusercontent.com/a-/AOh14Gg-90F37RT3kEYUkfMbPCPW4fpyitBWQwIqJAXE=s64",
      "userId": "11998671452641273992"
     },
     "user_tz": 420
    },
    "id": "r---g_9RDEKn",
    "outputId": "56c36d6f-43e7-431c-8938-2e9261bcef83"
   },
   "outputs": [
    {
     "data": {
      "text/plain": [
       "(1212912, 8)"
      ]
     },
     "execution_count": 6,
     "metadata": {},
     "output_type": "execute_result"
    }
   ],
   "source": [
    "df_dev.shape"
   ]
  },
  {
   "cell_type": "code",
   "execution_count": 7,
   "metadata": {
    "colab": {
     "base_uri": "https://localhost:8080/"
    },
    "executionInfo": {
     "elapsed": 40954,
     "status": "ok",
     "timestamp": 1602109530641,
     "user": {
      "displayName": "Changhua Yu",
      "photoUrl": "https://lh3.googleusercontent.com/a-/AOh14Gg-90F37RT3kEYUkfMbPCPW4fpyitBWQwIqJAXE=s64",
      "userId": "11998671452641273992"
     },
     "user_tz": 420
    },
    "id": "8neW66hGkmUx",
    "outputId": "51321284-4176-476a-e97a-aeb84110a046"
   },
   "outputs": [
    {
     "data": {
      "text/plain": [
       "(1914831, 6)"
      ]
     },
     "execution_count": 7,
     "metadata": {},
     "output_type": "execute_result"
    }
   ],
   "source": [
    "pfamA_motors.shape"
   ]
  },
  {
   "cell_type": "code",
   "execution_count": 8,
   "metadata": {
    "colab": {
     "base_uri": "https://localhost:8080/",
     "height": 197
    },
    "executionInfo": {
     "elapsed": 41157,
     "status": "ok",
     "timestamp": 1602109530851,
     "user": {
      "displayName": "Changhua Yu",
      "photoUrl": "https://lh3.googleusercontent.com/a-/AOh14Gg-90F37RT3kEYUkfMbPCPW4fpyitBWQwIqJAXE=s64",
      "userId": "11998671452641273992"
     },
     "user_tz": 420
    },
    "id": "WzYlZGZ1lUfm",
    "outputId": "06b54685-a4c0-4a52-ed00-7f12c508b9ef"
   },
   "outputs": [
    {
     "data": {
      "text/html": [
       "<div>\n",
       "<style scoped>\n",
       "    .dataframe tbody tr th:only-of-type {\n",
       "        vertical-align: middle;\n",
       "    }\n",
       "\n",
       "    .dataframe tbody tr th {\n",
       "        vertical-align: top;\n",
       "    }\n",
       "\n",
       "    .dataframe thead th {\n",
       "        text-align: right;\n",
       "    }\n",
       "</style>\n",
       "<table border=\"1\" class=\"dataframe\">\n",
       "  <thead>\n",
       "    <tr style=\"text-align: right;\">\n",
       "      <th></th>\n",
       "      <th>id</th>\n",
       "      <th>description</th>\n",
       "      <th>seq</th>\n",
       "      <th>pfamA_acc</th>\n",
       "      <th>clan</th>\n",
       "    </tr>\n",
       "  </thead>\n",
       "  <tbody>\n",
       "    <tr>\n",
       "      <th>0</th>\n",
       "      <td>A0A495CYV6_9MYCO/3-388</td>\n",
       "      <td>A0A495CYV6_9MYCO/3-388 A0A495CYV6.1 PF00871.18...</td>\n",
       "      <td>AVLVVNSGSSSIKYQVIDEQSGDRLAQGLVERIGESGRGRVVYKGA...</td>\n",
       "      <td>PF00871</td>\n",
       "      <td>actin_like</td>\n",
       "    </tr>\n",
       "    <tr>\n",
       "      <th>1</th>\n",
       "      <td>A0A3A6QL58_9VIBR/4-390</td>\n",
       "      <td>A0A3A6QL58_9VIBR/4-390 A0A3A6QL58.1 PF00871.18...</td>\n",
       "      <td>LVLVLNCGSSSLKFAIVDAETGAEHLTGLAECLGLPEARMKWKLDG...</td>\n",
       "      <td>PF00871</td>\n",
       "      <td>actin_like</td>\n",
       "    </tr>\n",
       "    <tr>\n",
       "      <th>2</th>\n",
       "      <td>A0A2T0AKP1_9THEO/2-389</td>\n",
       "      <td>A0A2T0AKP1_9THEO/2-389 A0A2T0AKP1.1 PF00871.18...</td>\n",
       "      <td>KILVLNCGSSSVKYQLFDMQREEVMARGLVERIGITGSMLTHRPAG...</td>\n",
       "      <td>PF00871</td>\n",
       "      <td>actin_like</td>\n",
       "    </tr>\n",
       "    <tr>\n",
       "      <th>3</th>\n",
       "      <td>H1XW95_9BACT/146-327</td>\n",
       "      <td>H1XW95_9BACT/146-327 H1XW95.1 PF00871.18;Aceta...</td>\n",
       "      <td>ISGMPLIPRKSIFHALNQKAVARETAKKLGKKYRESSIIVAHMGGG...</td>\n",
       "      <td>PF00871</td>\n",
       "      <td>actin_like</td>\n",
       "    </tr>\n",
       "    <tr>\n",
       "      <th>4</th>\n",
       "      <td>A0A396TZH3_9GAMM/13-397</td>\n",
       "      <td>A0A396TZH3_9GAMM/13-397 A0A396TZH3.1 PF00871.1...</td>\n",
       "      <td>AILVINCGSSSVKFSLIHPKTGQTILSGLAECLLANDAVIKIKFDN...</td>\n",
       "      <td>PF00871</td>\n",
       "      <td>actin_like</td>\n",
       "    </tr>\n",
       "  </tbody>\n",
       "</table>\n",
       "</div>"
      ],
      "text/plain": [
       "                        id                                        description  \\\n",
       "0   A0A495CYV6_9MYCO/3-388  A0A495CYV6_9MYCO/3-388 A0A495CYV6.1 PF00871.18...   \n",
       "1   A0A3A6QL58_9VIBR/4-390  A0A3A6QL58_9VIBR/4-390 A0A3A6QL58.1 PF00871.18...   \n",
       "2   A0A2T0AKP1_9THEO/2-389  A0A2T0AKP1_9THEO/2-389 A0A2T0AKP1.1 PF00871.18...   \n",
       "3     H1XW95_9BACT/146-327  H1XW95_9BACT/146-327 H1XW95.1 PF00871.18;Aceta...   \n",
       "4  A0A396TZH3_9GAMM/13-397  A0A396TZH3_9GAMM/13-397 A0A396TZH3.1 PF00871.1...   \n",
       "\n",
       "                                                 seq pfamA_acc        clan  \n",
       "0  AVLVVNSGSSSIKYQVIDEQSGDRLAQGLVERIGESGRGRVVYKGA...   PF00871  actin_like  \n",
       "1  LVLVLNCGSSSLKFAIVDAETGAEHLTGLAECLGLPEARMKWKLDG...   PF00871  actin_like  \n",
       "2  KILVLNCGSSSVKYQLFDMQREEVMARGLVERIGITGSMLTHRPAG...   PF00871  actin_like  \n",
       "3  ISGMPLIPRKSIFHALNQKAVARETAKKLGKKYRESSIIVAHMGGG...   PF00871  actin_like  \n",
       "4  AILVINCGSSSVKFSLIHPKTGQTILSGLAECLLANDAVIKIKFDN...   PF00871  actin_like  "
      ]
     },
     "execution_count": 8,
     "metadata": {},
     "output_type": "execute_result"
    }
   ],
   "source": [
    "pfamA_motors = pfamA_motors.iloc[:,1:]\n",
    "pfamA_motors.head()"
   ]
  },
  {
   "cell_type": "code",
   "execution_count": 9,
   "metadata": {
    "id": "CTHHv7LvlxRk"
   },
   "outputs": [],
   "source": [
    "clan_train_dat = pfamA_motors.groupby(\"clan\").head(4000)\n"
   ]
  },
  {
   "cell_type": "code",
   "execution_count": 10,
   "metadata": {
    "colab": {
     "base_uri": "https://localhost:8080/"
    },
    "executionInfo": {
     "elapsed": 41148,
     "status": "ok",
     "timestamp": 1602109530855,
     "user": {
      "displayName": "Changhua Yu",
      "photoUrl": "https://lh3.googleusercontent.com/a-/AOh14Gg-90F37RT3kEYUkfMbPCPW4fpyitBWQwIqJAXE=s64",
      "userId": "11998671452641273992"
     },
     "user_tz": 420
    },
    "id": "1u882Eei4l75",
    "outputId": "e56bf18c-83e7-4f7c-b0af-015db60c27e1"
   },
   "outputs": [
    {
     "data": {
      "text/plain": [
       "(16000, 5)"
      ]
     },
     "execution_count": 10,
     "metadata": {},
     "output_type": "execute_result"
    }
   ],
   "source": [
    "clan_train_dat.shape"
   ]
  },
  {
   "cell_type": "code",
   "execution_count": 11,
   "metadata": {
    "colab": {
     "base_uri": "https://localhost:8080/"
    },
    "executionInfo": {
     "elapsed": 41320,
     "status": "ok",
     "timestamp": 1602109531035,
     "user": {
      "displayName": "Changhua Yu",
      "photoUrl": "https://lh3.googleusercontent.com/a-/AOh14Gg-90F37RT3kEYUkfMbPCPW4fpyitBWQwIqJAXE=s64",
      "userId": "11998671452641273992"
     },
     "user_tz": 420
    },
    "id": "RSzMJtZF4TKu",
    "outputId": "9c6723c7-35e3-42fd-d94c-0b88e3cbeb4c"
   },
   "outputs": [
    {
     "data": {
      "text/plain": [
       "7"
      ]
     },
     "execution_count": 11,
     "metadata": {},
     "output_type": "execute_result"
    }
   ],
   "source": [
    "len(clan_train_dat.loc[:,\"pfamA_acc\"].unique())"
   ]
  },
  {
   "cell_type": "code",
   "execution_count": 12,
   "metadata": {
    "colab": {
     "base_uri": "https://localhost:8080/",
     "height": 347
    },
    "executionInfo": {
     "elapsed": 41314,
     "status": "ok",
     "timestamp": 1602109531037,
     "user": {
      "displayName": "Changhua Yu",
      "photoUrl": "https://lh3.googleusercontent.com/a-/AOh14Gg-90F37RT3kEYUkfMbPCPW4fpyitBWQwIqJAXE=s64",
      "userId": "11998671452641273992"
     },
     "user_tz": 420
    },
    "id": "3HPQrYp5NKUV",
    "outputId": "b99912dc-911a-4797-96dc-3f747b2f0d50"
   },
   "outputs": [
    {
     "data": {
      "text/html": [
       "<div>\n",
       "<style scoped>\n",
       "    .dataframe tbody tr th:only-of-type {\n",
       "        vertical-align: middle;\n",
       "    }\n",
       "\n",
       "    .dataframe tbody tr th {\n",
       "        vertical-align: top;\n",
       "    }\n",
       "\n",
       "    .dataframe thead th {\n",
       "        text-align: right;\n",
       "    }\n",
       "</style>\n",
       "<table border=\"1\" class=\"dataframe\">\n",
       "  <thead>\n",
       "    <tr style=\"text-align: right;\">\n",
       "      <th></th>\n",
       "      <th>id</th>\n",
       "      <th>description</th>\n",
       "      <th>seq</th>\n",
       "      <th>pfamA_acc</th>\n",
       "      <th>clan</th>\n",
       "    </tr>\n",
       "  </thead>\n",
       "  <tbody>\n",
       "    <tr>\n",
       "      <th>0</th>\n",
       "      <td>A0A383VKI4_TETOB/329-424</td>\n",
       "      <td>A0A383VKI4_TETOB/329-424 A0A383VKI4.1 PF12327....</td>\n",
       "      <td>GTAMLGVGYGVGPDRALQAAYGATNAPLIQSSIERATGIVYNITGS...</td>\n",
       "      <td>PF12327</td>\n",
       "      <td>tubulin_c</td>\n",
       "    </tr>\n",
       "    <tr>\n",
       "      <th>1</th>\n",
       "      <td>A8QBY9_MALGO/197-429</td>\n",
       "      <td>A8QBY9_MALGO/197-429 A8QBY9.1 PF01591.19;6PF2K;</td>\n",
       "      <td>GEQSNKPDFSGEKIVVAMVGLPARGKSYLSNKLMRYLHWREYEVRV...</td>\n",
       "      <td>PF01591</td>\n",
       "      <td>p_loop_gtpase</td>\n",
       "    </tr>\n",
       "    <tr>\n",
       "      <th>2</th>\n",
       "      <td>R5WA97_9BACT/226-328</td>\n",
       "      <td>R5WA97_9BACT/226-328 R5WA97.1 PF12327.9;FtsZ_C;</td>\n",
       "      <td>GMALMGSGRASGEDKIAKVTEAALSSPLLNHQEIKGARDILFNLSY...</td>\n",
       "      <td>PF12327</td>\n",
       "      <td>tubulin_c</td>\n",
       "    </tr>\n",
       "    <tr>\n",
       "      <th>3</th>\n",
       "      <td>A0A1B7NE26_9AGAM/3-422</td>\n",
       "      <td>A0A1B7NE26_9AGAM/3-422 A0A1B7NE26.1 PF00871.18...</td>\n",
       "      <td>LVLALNAGSSSLKISLFRCSAEDAANPVLLLSSSISSVFGPQTKFK...</td>\n",
       "      <td>PF00871</td>\n",
       "      <td>actin_like</td>\n",
       "    </tr>\n",
       "    <tr>\n",
       "      <th>4</th>\n",
       "      <td>F2Q3F3_TRIEC/31-249</td>\n",
       "      <td>F2Q3F3_TRIEC/31-249 F2Q3F3.1 PF01591.19;6PF2K;</td>\n",
       "      <td>RPANSKKNDDAKICVVMVGLPARGKSLIAGKALRYLSWIGIPAKIF...</td>\n",
       "      <td>PF01591</td>\n",
       "      <td>p_loop_gtpase</td>\n",
       "    </tr>\n",
       "    <tr>\n",
       "      <th>5</th>\n",
       "      <td>D6WBF0_TRICA/266-396</td>\n",
       "      <td>D6WBF0_TRICA/266-396 D6WBF0.1 PF03953.18;Tubul...</td>\n",
       "      <td>PRIHFPLITYAPFVPATKAYHEQLSVAQLTNSCFEPANQMVKCDPR...</td>\n",
       "      <td>PF03953</td>\n",
       "      <td>tubulin_c</td>\n",
       "    </tr>\n",
       "    <tr>\n",
       "      <th>6</th>\n",
       "      <td>A0A3S0SHV6_9SPHN/221-316</td>\n",
       "      <td>A0A3S0SHV6_9SPHN/221-316 A0A3S0SHV6.1 PF12327....</td>\n",
       "      <td>GDAVIGFGERCVGWDRAANAARSALCNPLLEGLPGTARRLLVTVAG...</td>\n",
       "      <td>PF12327</td>\n",
       "      <td>tubulin_c</td>\n",
       "    </tr>\n",
       "    <tr>\n",
       "      <th>7</th>\n",
       "      <td>A0A0A8WHC7_PAESO/147-356</td>\n",
       "      <td>A0A0A8WHC7_PAESO/147-356 A0A0A8WHC7.1 PF00871....</td>\n",
       "      <td>MPEITRKSIFHALNQKATARRAAKDLNKKYEDCNFIVAHMGGGISV...</td>\n",
       "      <td>PF00871</td>\n",
       "      <td>actin_like</td>\n",
       "    </tr>\n",
       "    <tr>\n",
       "      <th>8</th>\n",
       "      <td>Q6NRY0_XENLA/29-250</td>\n",
       "      <td>Q6NRY0_XENLA/29-250 Q6NRY0.1 PF01591.19;6PF2K;</td>\n",
       "      <td>SAQRKVCMTNCPTLIVMVGLPARGKTYISKKLTRYLNWIGVPTKEF...</td>\n",
       "      <td>PF01591</td>\n",
       "      <td>p_loop_gtpase</td>\n",
       "    </tr>\n",
       "    <tr>\n",
       "      <th>9</th>\n",
       "      <td>W1Q8A1_OGAPD/68-309</td>\n",
       "      <td>W1Q8A1_OGAPD/68-309 W1Q8A1.1 PF01591.19;6PF2K;</td>\n",
       "      <td>SKGDTGSEALKLAIICVGLPATGKSYITKKLQRYLNWMQYNTKIFN...</td>\n",
       "      <td>PF01591</td>\n",
       "      <td>p_loop_gtpase</td>\n",
       "    </tr>\n",
       "  </tbody>\n",
       "</table>\n",
       "</div>"
      ],
      "text/plain": [
       "                         id  \\\n",
       "0  A0A383VKI4_TETOB/329-424   \n",
       "1      A8QBY9_MALGO/197-429   \n",
       "2      R5WA97_9BACT/226-328   \n",
       "3    A0A1B7NE26_9AGAM/3-422   \n",
       "4       F2Q3F3_TRIEC/31-249   \n",
       "5      D6WBF0_TRICA/266-396   \n",
       "6  A0A3S0SHV6_9SPHN/221-316   \n",
       "7  A0A0A8WHC7_PAESO/147-356   \n",
       "8       Q6NRY0_XENLA/29-250   \n",
       "9       W1Q8A1_OGAPD/68-309   \n",
       "\n",
       "                                         description  \\\n",
       "0  A0A383VKI4_TETOB/329-424 A0A383VKI4.1 PF12327....   \n",
       "1    A8QBY9_MALGO/197-429 A8QBY9.1 PF01591.19;6PF2K;   \n",
       "2    R5WA97_9BACT/226-328 R5WA97.1 PF12327.9;FtsZ_C;   \n",
       "3  A0A1B7NE26_9AGAM/3-422 A0A1B7NE26.1 PF00871.18...   \n",
       "4     F2Q3F3_TRIEC/31-249 F2Q3F3.1 PF01591.19;6PF2K;   \n",
       "5  D6WBF0_TRICA/266-396 D6WBF0.1 PF03953.18;Tubul...   \n",
       "6  A0A3S0SHV6_9SPHN/221-316 A0A3S0SHV6.1 PF12327....   \n",
       "7  A0A0A8WHC7_PAESO/147-356 A0A0A8WHC7.1 PF00871....   \n",
       "8     Q6NRY0_XENLA/29-250 Q6NRY0.1 PF01591.19;6PF2K;   \n",
       "9     W1Q8A1_OGAPD/68-309 W1Q8A1.1 PF01591.19;6PF2K;   \n",
       "\n",
       "                                                 seq pfamA_acc           clan  \n",
       "0  GTAMLGVGYGVGPDRALQAAYGATNAPLIQSSIERATGIVYNITGS...   PF12327      tubulin_c  \n",
       "1  GEQSNKPDFSGEKIVVAMVGLPARGKSYLSNKLMRYLHWREYEVRV...   PF01591  p_loop_gtpase  \n",
       "2  GMALMGSGRASGEDKIAKVTEAALSSPLLNHQEIKGARDILFNLSY...   PF12327      tubulin_c  \n",
       "3  LVLALNAGSSSLKISLFRCSAEDAANPVLLLSSSISSVFGPQTKFK...   PF00871     actin_like  \n",
       "4  RPANSKKNDDAKICVVMVGLPARGKSLIAGKALRYLSWIGIPAKIF...   PF01591  p_loop_gtpase  \n",
       "5  PRIHFPLITYAPFVPATKAYHEQLSVAQLTNSCFEPANQMVKCDPR...   PF03953      tubulin_c  \n",
       "6  GDAVIGFGERCVGWDRAANAARSALCNPLLEGLPGTARRLLVTVAG...   PF12327      tubulin_c  \n",
       "7  MPEITRKSIFHALNQKATARRAAKDLNKKYEDCNFIVAHMGGGISV...   PF00871     actin_like  \n",
       "8  SAQRKVCMTNCPTLIVMVGLPARGKTYISKKLTRYLNWIGVPTKEF...   PF01591  p_loop_gtpase  \n",
       "9  SKGDTGSEALKLAIICVGLPATGKSYITKKLQRYLNWMQYNTKIFN...   PF01591  p_loop_gtpase  "
      ]
     },
     "execution_count": 12,
     "metadata": {},
     "output_type": "execute_result"
    }
   ],
   "source": [
    "clan_train_dat = clan_train_dat.sample(frac=1).reset_index(drop=True)\n",
    "clan_train_dat.head(10)"
   ]
  },
  {
   "cell_type": "code",
   "execution_count": 13,
   "metadata": {
    "id": "vXF79cqIgw1O"
   },
   "outputs": [],
   "source": [
    "clan_test_dat = pfamA_motors.loc[~pfamA_motors[\"id\"].isin(clan_train_dat[\"id\"]),:].groupby(\"clan\").head(400)"
   ]
  },
  {
   "cell_type": "code",
   "execution_count": 14,
   "metadata": {
    "colab": {
     "base_uri": "https://localhost:8080/"
    },
    "executionInfo": {
     "elapsed": 41927,
     "status": "ok",
     "timestamp": 1602109531663,
     "user": {
      "displayName": "Changhua Yu",
      "photoUrl": "https://lh3.googleusercontent.com/a-/AOh14Gg-90F37RT3kEYUkfMbPCPW4fpyitBWQwIqJAXE=s64",
      "userId": "11998671452641273992"
     },
     "user_tz": 420
    },
    "id": "tDkmtlYHhQrO",
    "outputId": "4b563c5a-6c2a-421d-84a2-7e56d5727a85"
   },
   "outputs": [
    {
     "data": {
      "text/plain": [
       "(1600, 5)"
      ]
     },
     "execution_count": 14,
     "metadata": {},
     "output_type": "execute_result"
    }
   ],
   "source": [
    "clan_test_dat.shape"
   ]
  },
  {
   "cell_type": "code",
   "execution_count": 15,
   "metadata": {
    "id": "lIaph21E4CtO"
   },
   "outputs": [],
   "source": [
    "def df_to_tup(dat):\n",
    "  data = []\n",
    "  for i in range(dat.shape[0]):\n",
    "    row = dat.iloc[i,:]\n",
    "    tup = (row[\"seq\"],row[\"clan\"])\n",
    "    data.append(tup)\n",
    "  return data"
   ]
  },
  {
   "cell_type": "code",
   "execution_count": 16,
   "metadata": {
    "id": "dU91oG1Nfr1b"
   },
   "outputs": [],
   "source": [
    "clan_training_data = df_to_tup(clan_train_dat)\n",
    "clan_test_data = df_to_tup(clan_test_dat)"
   ]
  },
  {
   "cell_type": "code",
   "execution_count": 17,
   "metadata": {
    "colab": {
     "base_uri": "https://localhost:8080/"
    },
    "executionInfo": {
     "elapsed": 43653,
     "status": "ok",
     "timestamp": 1602109533408,
     "user": {
      "displayName": "Changhua Yu",
      "photoUrl": "https://lh3.googleusercontent.com/a-/AOh14Gg-90F37RT3kEYUkfMbPCPW4fpyitBWQwIqJAXE=s64",
      "userId": "11998671452641273992"
     },
     "user_tz": 420
    },
    "id": "x5Y2IvAM5dPa",
    "outputId": "1220efc5-defc-411c-afdf-4751511a942f"
   },
   "outputs": [
    {
     "name": "stdout",
     "output_type": "stream",
     "text": [
      "GTAMLGVGYGVGPDRALQAAYGATNAPLIQSSIERATGIVYNITGSSNLTLAEVNAISEIVTALADPSCNIIFGSVIDEECPPEEIRVTIIATGFS\n",
      "tubulin_c\n"
     ]
    }
   ],
   "source": [
    "for seq,clan in clan_training_data:\n",
    "  print(seq)\n",
    "  print(clan)\n",
    "  break"
   ]
  },
  {
   "cell_type": "code",
   "execution_count": 18,
   "metadata": {
    "colab": {
     "base_uri": "https://localhost:8080/"
    },
    "executionInfo": {
     "elapsed": 43646,
     "status": "ok",
     "timestamp": 1602109533409,
     "user": {
      "displayName": "Changhua Yu",
      "photoUrl": "https://lh3.googleusercontent.com/a-/AOh14Gg-90F37RT3kEYUkfMbPCPW4fpyitBWQwIqJAXE=s64",
      "userId": "11998671452641273992"
     },
     "user_tz": 420
    },
    "id": "rjhd2h6EhfQx",
    "outputId": "594ec4fa-9e6d-455f-8a47-0ec7eb35f815"
   },
   "outputs": [
    {
     "name": "stdout",
     "output_type": "stream",
     "text": [
      "KILVLNCGSSSIKYQLFNMDDQLVVAKGGVEKLGMKGSFLKHNHEDGRQIVFEGEILDHKSGIEYILGVLTSQKYGCLKNLEEIDAVGHRVVHGGEYFHASELINDEVIEALVKCTDLAPLHNPPNLKGINAMEELIPGIPQVGVFDTAFHQTMEPQSYMYGIPYVLYEKYKIRRYGFHGTSHRYVTKRACELLGRDFESQKIISCHLGNGASVAAVKDGKSFDTSMGFTPLEGLVMGTRSGDLDIGVATYIMEKEELGIKSASTLFNKHSGMLGLSGISSDMREIEDASAKGNERAKMALDIYNYKVKKYIGSYIAAMGGLDILILTGGIGENADTTRFGVASGLEFLGIHLDEEKNKGFRSEGIISTDDSPVKIMVVPTNEELMIAL\n",
      "actin_like\n"
     ]
    }
   ],
   "source": [
    "for seq,clan in clan_test_data:\n",
    "  print(seq)\n",
    "  print(clan)\n",
    "  break"
   ]
  },
  {
   "cell_type": "code",
   "execution_count": 19,
   "metadata": {
    "id": "hV8NGyYUvE_R"
   },
   "outputs": [],
   "source": [
    "aminoacid_list = [\n",
    "    'A', 'C', 'D', 'E', 'F', 'G', 'H', 'I', 'K', 'L',\n",
    "    'M', 'N', 'P', 'Q', 'R', 'S', 'T', 'V', 'W', 'Y'\n",
    "]\n",
    "clan_list = [\"actin_like\",\"tubulin_c\",\"tubulin_binding\",\"p_loop_gtpase\"]\n",
    "        \n",
    "aa_to_ix = dict(zip(aminoacid_list, np.arange(1, 21)))\n",
    "clan_to_ix = dict(zip(clan_list, np.arange(0, 4)))\n",
    "\n",
    "def word_to_index(seq,to_ix):\n",
    "    \"Returns a list of indices (integers) from a list of words.\"\n",
    "    return [to_ix.get(word, 0) for word in seq]\n",
    "\n",
    "ix_to_aa = dict(zip(np.arange(1, 21), aminoacid_list))\n",
    "ix_to_clan = dict(zip(np.arange(0, 4), clan_list))\n",
    "\n",
    "def index_to_word(ixs,ix_to): \n",
    "    \"Returns a list of words, given a list of their corresponding indices.\"\n",
    "    return [ix_to.get(ix, 'X') for ix in ixs]\n",
    "\n"
   ]
  },
  {
   "cell_type": "code",
   "execution_count": 20,
   "metadata": {
    "colab": {
     "base_uri": "https://localhost:8080/"
    },
    "executionInfo": {
     "elapsed": 43636,
     "status": "ok",
     "timestamp": 1602109533411,
     "user": {
      "displayName": "Changhua Yu",
      "photoUrl": "https://lh3.googleusercontent.com/a-/AOh14Gg-90F37RT3kEYUkfMbPCPW4fpyitBWQwIqJAXE=s64",
      "userId": "11998671452641273992"
     },
     "user_tz": 420
    },
    "id": "UXcX4myBPWkW",
    "outputId": "4603d50d-cb95-461a-91d7-49e0bce643d6"
   },
   "outputs": [
    {
     "data": {
      "text/plain": [
       "0"
      ]
     },
     "execution_count": 20,
     "metadata": {},
     "output_type": "execute_result"
    }
   ],
   "source": [
    "clan_to_ix.get(\"actin_like\")"
   ]
  },
  {
   "cell_type": "code",
   "execution_count": 21,
   "metadata": {
    "id": "8ZNd98aO3GxB"
   },
   "outputs": [],
   "source": [
    "def prepare_sequence(seq):\n",
    "    idxs = word_to_index(seq[0:-1],aa_to_ix)\n",
    "    return torch.tensor(idxs, dtype=torch.long)\n",
    "\n",
    "def prepare_labels(seq):\n",
    "    idxs = word_to_index(seq[1:],aa_to_ix)\n",
    "    return torch.tensor(idxs, dtype=torch.long)"
   ]
  },
  {
   "cell_type": "code",
   "execution_count": 22,
   "metadata": {
    "id": "o8FpiTrchWfi"
   },
   "outputs": [],
   "source": [
    "# set device\n",
    "device  = torch.device('cuda' if torch.cuda.is_available() else 'cpu')"
   ]
  },
  {
   "cell_type": "code",
   "execution_count": 23,
   "metadata": {
    "colab": {
     "base_uri": "https://localhost:8080/"
    },
    "executionInfo": {
     "elapsed": 43621,
     "status": "ok",
     "timestamp": 1602109533413,
     "user": {
      "displayName": "Changhua Yu",
      "photoUrl": "https://lh3.googleusercontent.com/a-/AOh14Gg-90F37RT3kEYUkfMbPCPW4fpyitBWQwIqJAXE=s64",
      "userId": "11998671452641273992"
     },
     "user_tz": 420
    },
    "id": "lpsVAip-h45-",
    "outputId": "eb878a04-100f-4be7-ee58-2bc36a74b599"
   },
   "outputs": [
    {
     "data": {
      "text/plain": [
       "device(type='cuda')"
      ]
     },
     "execution_count": 23,
     "metadata": {},
     "output_type": "execute_result"
    }
   ],
   "source": [
    "device"
   ]
  },
  {
   "cell_type": "code",
   "execution_count": 24,
   "metadata": {
    "id": "WiTiuLuihWfm"
   },
   "outputs": [],
   "source": [
    "# Hyperparameters\n",
    "input_size = len(aminoacid_list) + 1\n",
    "num_layers = 1\n",
    "hidden_size = 128\n",
    "output_size = len(aminoacid_list) + 1\n",
    "embedding_size= 10\n",
    "learning_rate = 0.001"
   ]
  },
  {
   "cell_type": "code",
   "execution_count": 25,
   "metadata": {
    "colab": {
     "base_uri": "https://localhost:8080/"
    },
    "executionInfo": {
     "elapsed": 43610,
     "status": "ok",
     "timestamp": 1602109533414,
     "user": {
      "displayName": "Changhua Yu",
      "photoUrl": "https://lh3.googleusercontent.com/a-/AOh14Gg-90F37RT3kEYUkfMbPCPW4fpyitBWQwIqJAXE=s64",
      "userId": "11998671452641273992"
     },
     "user_tz": 420
    },
    "id": "zoamaFX42bqU",
    "outputId": "435b13b4-83fe-49f1-8984-2576319bedbd"
   },
   "outputs": [
    {
     "data": {
      "text/plain": [
       "21"
      ]
     },
     "execution_count": 25,
     "metadata": {},
     "output_type": "execute_result"
    }
   ],
   "source": [
    "input_size"
   ]
  },
  {
   "cell_type": "code",
   "execution_count": 26,
   "metadata": {
    "id": "Demgi-XuhWfv"
   },
   "outputs": [],
   "source": [
    "# Create Bidirectional LSTM\n",
    "class BRNN(nn.Module):\n",
    "    def __init__(self,input_size, embedding_size, hidden_size, num_layers, output_size):\n",
    "        super(BRNN,self).__init__()\n",
    "        self.embedding_size = embedding_size\n",
    "        self.hidden_size = hidden_size\n",
    "        self.output_size = output_size\n",
    "        self.num_layers = num_layers\n",
    "        self.log_softmax = nn.LogSoftmax(dim= 1)\n",
    "        self.aa_embedding = nn.Embedding(input_size, embedding_size)\n",
    "        self.lstm = nn.LSTM(input_size = embedding_size, \n",
    "                            hidden_size = hidden_size,\n",
    "                            num_layers = num_layers, \n",
    "                            bidirectional = True)\n",
    "        #hidden_state: a forward and a backward state for each layer of LSTM\n",
    "        self.fc = nn.Linear(hidden_size*2, output_size)\n",
    "    \n",
    "    def aa_encoder(self, input): \n",
    "        \"Helper function to map single aminoacids to the embedding space.\"\n",
    "        projected = self.embedding(input)\n",
    "        return projected \n",
    "    \n",
    "\n",
    "    def forward(self,seq):\n",
    "        # embed each aa to the embedded space\n",
    "        embedding_tensor = self.aa_embedding(seq)\n",
    "\n",
    "        # initialization could be neglected as the default is 0 for h0 and c0\n",
    "        # initialize hidden state\n",
    "        # h0 = torch.zeros(self.num_layers*2,x.size(0),self.hidden_size).to(device)\n",
    "        # initialize cell_state\n",
    "        # c0 = torch.zeros(self.num_layers*2,x.size(0),self.hidden_size).to(device)\n",
    "\n",
    "        # shape(seq_len = len(sequence), batch_size = 1, input_size = -1)\n",
    "        # (5aa,1 sequence per batch, 10-dimension embedded vector)\n",
    "\n",
    "        #output of shape (seq_len, batch, num_directions * hidden_size):\n",
    "        out, (hn, cn) = self.lstm(embedding_tensor.view(len(seq), 1, -1))\n",
    "        # decoded_space = self.fc(out.view(len(seq), -1))\n",
    "        decoded_space = self.fc(out.view(len(seq), -1))\n",
    "        decoded_scores = F.log_softmax(decoded_space, dim=1)\n",
    "        return decoded_scores, hn"
   ]
  },
  {
   "cell_type": "code",
   "execution_count": 27,
   "metadata": {
    "id": "jBffwjrchWfy"
   },
   "outputs": [],
   "source": [
    "# initialize network\n",
    "model = BRNN(input_size, embedding_size, hidden_size, num_layers, output_size).to(device)\n",
    "loss_function = nn.NLLLoss()\n",
    "optimizer = optim.Adam(model.parameters(), lr = learning_rate)"
   ]
  },
  {
   "cell_type": "code",
   "execution_count": 28,
   "metadata": {
    "colab": {
     "base_uri": "https://localhost:8080/"
    },
    "executionInfo": {
     "elapsed": 53863,
     "status": "ok",
     "timestamp": 1602109543683,
     "user": {
      "displayName": "Changhua Yu",
      "photoUrl": "https://lh3.googleusercontent.com/a-/AOh14Gg-90F37RT3kEYUkfMbPCPW4fpyitBWQwIqJAXE=s64",
      "userId": "11998671452641273992"
     },
     "user_tz": 420
    },
    "id": "sH6BdzpNhWf1",
    "outputId": "539a4c5c-fd6c-4089-e078-535bd0edd1ee"
   },
   "outputs": [
    {
     "name": "stdout",
     "output_type": "stream",
     "text": [
      "tensor([[-2.9589, -3.0088, -3.0596,  ..., -3.0521, -3.1482, -3.1533],\n",
      "        [-3.0042, -2.9656, -3.0351,  ..., -3.0500, -3.1325, -3.1060],\n",
      "        [-2.9936, -2.9499, -3.0332,  ..., -3.0208, -3.1243, -3.1085],\n",
      "        ...,\n",
      "        [-3.0752, -3.0345, -3.0380,  ..., -2.9805, -3.1539, -3.0833],\n",
      "        [-3.0476, -3.0403, -3.0451,  ..., -2.9826, -3.1662, -3.1069],\n",
      "        [-2.9837, -3.0100, -3.0419,  ..., -3.0160, -3.1760, -3.1065]],\n",
      "       device='cuda:0')\n"
     ]
    }
   ],
   "source": [
    "# See what the scores are before training\n",
    "# Note that element i,j of the output is the score for tag j for word i.\n",
    "# Here we don't need to train, so the code is wrapped in torch.no_grad()\n",
    "with torch.no_grad():\n",
    "    inputs = Variable(prepare_sequence(df_dev.iloc[0,6]))\n",
    "    inputs = inputs.to(device = device)\n",
    "    aa_scores, _ = model(inputs)\n",
    "    print( aa_scores)"
   ]
  },
  {
   "cell_type": "code",
   "execution_count": 29,
   "metadata": {
    "colab": {
     "base_uri": "https://localhost:8080/"
    },
    "executionInfo": {
     "elapsed": 53855,
     "status": "ok",
     "timestamp": 1602109543683,
     "user": {
      "displayName": "Changhua Yu",
      "photoUrl": "https://lh3.googleusercontent.com/a-/AOh14Gg-90F37RT3kEYUkfMbPCPW4fpyitBWQwIqJAXE=s64",
      "userId": "11998671452641273992"
     },
     "user_tz": 420
    },
    "id": "wvi-wR5FNhlx",
    "outputId": "3207bcaf-fcb4-41ba-d351-c8bcc557f27d"
   },
   "outputs": [
    {
     "data": {
      "text/plain": [
       "torch.Size([115, 21])"
      ]
     },
     "execution_count": 29,
     "metadata": {},
     "output_type": "execute_result"
    }
   ],
   "source": [
    "aa_scores.shape"
   ]
  },
  {
   "cell_type": "code",
   "execution_count": 30,
   "metadata": {
    "id": "77fyNs4lhWf4"
   },
   "outputs": [
    {
     "name": "stdout",
     "output_type": "stream",
     "text": [
      "At Epoch: 0.00\n",
      "Loss 3.05\n",
      "At Epoch: 10000.00\n",
      "Loss 0.04\n",
      "At Epoch: 20000.00\n",
      "Loss 0.03\n",
      "At Epoch: 30000.00\n",
      "Loss 0.01\n",
      "At Epoch: 40000.00\n",
      "Loss 0.03\n",
      "At Epoch: 50000.00\n",
      "Loss 0.04\n",
      "At Epoch: 60000.00\n",
      "Loss 0.04\n",
      "At Epoch: 70000.00\n",
      "Loss 0.04\n",
      "At Epoch: 80000.00\n",
      "Loss 0.01\n",
      "At Epoch: 90000.00\n",
      "Loss 0.01\n",
      "At Epoch: 100000.00\n",
      "Loss 0.02\n",
      "At Epoch: 110000.00\n",
      "Loss 0.05\n",
      "At Epoch: 120000.00\n",
      "Loss 0.02\n",
      "At Epoch: 130000.00\n",
      "Loss 0.23\n",
      "At Epoch: 140000.00\n",
      "Loss 0.03\n",
      "At Epoch: 150000.00\n",
      "Loss 0.01\n",
      "At Epoch: 160000.00\n",
      "Loss 0.06\n",
      "At Epoch: 170000.00\n",
      "Loss 0.06\n",
      "At Epoch: 180000.00\n",
      "Loss 0.08\n",
      "At Epoch: 190000.00\n",
      "Loss 0.01\n",
      "At Epoch: 200000.00\n",
      "Loss 0.01\n",
      "At Epoch: 210000.00\n",
      "Loss 0.04\n",
      "At Epoch: 220000.00\n",
      "Loss 0.06\n",
      "At Epoch: 230000.00\n",
      "Loss 0.02\n",
      "At Epoch: 240000.00\n",
      "Loss 0.04\n",
      "At Epoch: 250000.00\n",
      "Loss 0.02\n",
      "At Epoch: 260000.00\n",
      "Loss 0.02\n",
      "At Epoch: 270000.00\n",
      "Loss 0.06\n",
      "At Epoch: 280000.00\n",
      "Loss 0.06\n",
      "At Epoch: 290000.00\n",
      "Loss 0.02\n",
      "At Epoch: 300000.00\n",
      "Loss 0.05\n",
      "At Epoch: 310000.00\n",
      "Loss 0.03\n",
      "At Epoch: 320000.00\n",
      "Loss 0.03\n",
      "At Epoch: 330000.00\n",
      "Loss 0.03\n",
      "At Epoch: 340000.00\n",
      "Loss 0.04\n",
      "At Epoch: 350000.00\n",
      "Loss 0.03\n",
      "At Epoch: 360000.00\n",
      "Loss 0.07\n",
      "At Epoch: 370000.00\n",
      "Loss 0.01\n",
      "At Epoch: 380000.00\n",
      "Loss 0.00\n",
      "At Epoch: 390000.00\n",
      "Loss 0.02\n",
      "At Epoch: 400000.00\n",
      "Loss 0.02\n",
      "At Epoch: 410000.00\n",
      "Loss 0.01\n",
      "At Epoch: 420000.00\n",
      "Loss 0.03\n",
      "At Epoch: 430000.00\n",
      "Loss 0.02\n",
      "At Epoch: 440000.00\n",
      "Loss 0.01\n",
      "At Epoch: 450000.00\n",
      "Loss 0.01\n",
      "At Epoch: 460000.00\n",
      "Loss 0.04\n",
      "At Epoch: 470000.00\n",
      "Loss 0.02\n",
      "At Epoch: 480000.00\n",
      "Loss 0.02\n",
      "At Epoch: 490000.00\n",
      "Loss 0.01\n",
      "At Epoch: 500000.00\n",
      "Loss 0.04\n",
      "At Epoch: 510000.00\n",
      "Loss 0.01\n",
      "At Epoch: 520000.00\n",
      "Loss 0.03\n",
      "At Epoch: 530000.00\n",
      "Loss 0.03\n",
      "At Epoch: 540000.00\n",
      "Loss 0.02\n",
      "At Epoch: 550000.00\n",
      "Loss 0.09\n",
      "At Epoch: 560000.00\n",
      "Loss 0.02\n",
      "At Epoch: 570000.00\n",
      "Loss 0.02\n",
      "At Epoch: 580000.00\n",
      "Loss 0.06\n",
      "At Epoch: 590000.00\n",
      "Loss 0.01\n",
      "At Epoch: 600000.00\n",
      "Loss 0.02\n",
      "At Epoch: 610000.00\n",
      "Loss 0.07\n",
      "At Epoch: 620000.00\n",
      "Loss 0.02\n",
      "At Epoch: 630000.00\n",
      "Loss 0.03\n",
      "At Epoch: 640000.00\n",
      "Loss 0.05\n",
      "At Epoch: 650000.00\n",
      "Loss 0.03\n",
      "At Epoch: 660000.00\n",
      "Loss 0.02\n",
      "At Epoch: 670000.00\n",
      "Loss 0.01\n",
      "At Epoch: 680000.00\n",
      "Loss 0.09\n",
      "At Epoch: 690000.00\n",
      "Loss 0.05\n",
      "At Epoch: 700000.00\n",
      "Loss 0.02\n",
      "At Epoch: 710000.00\n",
      "Loss 0.01\n",
      "At Epoch: 720000.00\n",
      "Loss 0.03\n",
      "At Epoch: 730000.00\n",
      "Loss 0.01\n",
      "At Epoch: 740000.00\n",
      "Loss 0.02\n",
      "At Epoch: 750000.00\n",
      "Loss 0.02\n",
      "At Epoch: 760000.00\n",
      "Loss 0.04\n",
      "At Epoch: 770000.00\n",
      "Loss 0.03\n",
      "At Epoch: 780000.00\n",
      "Loss 0.06\n",
      "At Epoch: 790000.00\n",
      "Loss 0.02\n",
      "At Epoch: 800000.00\n",
      "Loss 0.01\n",
      "At Epoch: 810000.00\n",
      "Loss 0.03\n",
      "At Epoch: 820000.00\n",
      "Loss 0.01\n",
      "At Epoch: 830000.00\n",
      "Loss 0.02\n",
      "At Epoch: 840000.00\n",
      "Loss 0.00\n",
      "At Epoch: 850000.00\n",
      "Loss 0.06\n",
      "At Epoch: 860000.00\n",
      "Loss 0.04\n",
      "At Epoch: 870000.00\n",
      "Loss 0.05\n",
      "At Epoch: 880000.00\n",
      "Loss 0.01\n",
      "At Epoch: 890000.00\n",
      "Loss 0.05\n",
      "At Epoch: 900000.00\n",
      "Loss 0.01\n",
      "At Epoch: 910000.00\n",
      "Loss 0.05\n",
      "At Epoch: 920000.00\n",
      "Loss 0.02\n",
      "At Epoch: 930000.00\n",
      "Loss 0.03\n",
      "At Epoch: 940000.00\n",
      "Loss 0.05\n",
      "At Epoch: 950000.00\n",
      "Loss 0.01\n",
      "At Epoch: 960000.00\n",
      "Loss 0.02\n",
      "At Epoch: 970000.00\n",
      "Loss 0.02\n",
      "At Epoch: 980000.00\n",
      "Loss 0.03\n",
      "At Epoch: 990000.00\n",
      "Loss 0.03\n",
      "At Epoch: 1000000.00\n",
      "Loss 0.09\n",
      "At Epoch: 1010000.00\n",
      "Loss 0.07\n",
      "At Epoch: 1020000.00\n",
      "Loss 0.02\n",
      "At Epoch: 1030000.00\n",
      "Loss 0.06\n",
      "At Epoch: 1040000.00\n",
      "Loss 0.02\n",
      "At Epoch: 1050000.00\n",
      "Loss 0.01\n",
      "At Epoch: 1060000.00\n",
      "Loss 0.02\n",
      "At Epoch: 1070000.00\n",
      "Loss 0.01\n",
      "At Epoch: 1080000.00\n",
      "Loss 0.07\n",
      "At Epoch: 1090000.00\n",
      "Loss 0.02\n",
      "At Epoch: 1100000.00\n",
      "Loss 0.10\n",
      "At Epoch: 1110000.00\n",
      "Loss 0.04\n",
      "At Epoch: 1120000.00\n",
      "Loss 0.08\n",
      "At Epoch: 1130000.00\n",
      "Loss 0.03\n",
      "At Epoch: 1140000.00\n",
      "Loss 0.02\n",
      "At Epoch: 1150000.00\n",
      "Loss 0.03\n",
      "At Epoch: 1160000.00\n",
      "Loss 0.01\n",
      "At Epoch: 1170000.00\n",
      "Loss 0.01\n",
      "At Epoch: 1180000.00\n",
      "Loss 0.02\n",
      "At Epoch: 1190000.00\n",
      "Loss 0.04\n",
      "At Epoch: 1200000.00\n",
      "Loss 0.03\n",
      "At Epoch: 1210000.00\n",
      "Loss 0.01\n"
     ]
    }
   ],
   "source": [
    "#Train Network\n",
    "\n",
    "loss_vector = []\n",
    "running_loss = 0\n",
    "print_every = 10000\n",
    "\n",
    "for epoch in np.arange(0, df_dev.shape[0]): \n",
    "    seq = df_dev.iloc[epoch, 6]\n",
    "    # Step 1. Remember that Pytorch accumulates gradients.\n",
    "    # We need to clear them out before each instance\n",
    "    \n",
    "    # Step 2. Get our inputs ready for the network, that is, turn them into\n",
    "    # Tensors of word indices.\n",
    "    sentence_in = prepare_sequence(seq)\n",
    "    targets = prepare_labels(seq)\n",
    "    \n",
    "    sentence_in = sentence_in.to(device = device)\n",
    "    targets = targets.to(device = device)\n",
    "    \n",
    "    # Step 3. Run our forward pass.\n",
    "    model.zero_grad()\n",
    "    aa_scores, hn = model(sentence_in)\n",
    "\n",
    "    # Step 4. Compute the loss, gradients, and update the parameters by\n",
    "    #  calling optimizer.step()\n",
    "    \n",
    "    loss = loss_function(aa_scores, targets)\n",
    "    loss.backward()\n",
    "    optimizer.step()\n",
    "\n",
    "    if epoch % print_every == 0:\n",
    "      print(f\"At Epoch: %.2f\"% epoch)\n",
    "      print(f\"Loss %.2f\"% loss)\n",
    "    # Print current loss    \n",
    "    loss_vector.append(loss)"
   ]
  },
  {
   "cell_type": "code",
   "execution_count": 34,
   "metadata": {
    "id": "oFnokZuiGdst"
   },
   "outputs": [],
   "source": [
    "torch.save(model.state_dict(), \"../data/bidirectional_lstm_5_201008.pt\")"
   ]
  },
  {
   "cell_type": "markdown",
   "metadata": {
    "id": "QD4fX7GqZHHf"
   },
   "source": [
    "## select some family to visualize (motors and non-motors from df_dev and from pfam_motors)\n",
    "- 10 distinct family from df_dev including kinesin/actin/dyaenin/tubulin\n",
    "- 8000 sequencefrom different clans of motors"
   ]
  },
  {
   "cell_type": "code",
   "execution_count": null,
   "metadata": {
    "id": "HCKgo4LCZH0X"
   },
   "outputs": [],
   "source": [
    "## select some family to visualize (motors and non-motors)"
   ]
  },
  {
   "cell_type": "code",
   "execution_count": null,
   "metadata": {
    "id": "lOEpvxspHR8a"
   },
   "outputs": [],
   "source": []
  }
 ],
 "metadata": {
  "accelerator": "GPU",
  "colab": {
   "authorship_tag": "ABX9TyP37UQ3uUeskeLk6zWhLq0s",
   "name": "bidirectional_lstm_5.ipynb",
   "provenance": []
  },
  "kernelspec": {
   "display_name": "Python 3",
   "language": "python",
   "name": "python3"
  },
  "language_info": {
   "codemirror_mode": {
    "name": "ipython",
    "version": 3
   },
   "file_extension": ".py",
   "mimetype": "text/x-python",
   "name": "python",
   "nbconvert_exporter": "python",
   "pygments_lexer": "ipython3",
   "version": "3.7.0"
  }
 },
 "nbformat": 4,
 "nbformat_minor": 4
}
