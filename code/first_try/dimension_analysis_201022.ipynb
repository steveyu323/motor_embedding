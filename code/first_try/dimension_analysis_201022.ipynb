{
 "cells": [
  {
   "cell_type": "markdown",
   "metadata": {},
   "source": [
    "# Documentation\n",
    "> From the TSNE analysis for transformer encoder model, there may be too many hidden states output by transformer, and so the PCA and subsequent TSNE have the linear pattern. Perform a SVD to see how each PC account for the variance."
   ]
  },
  {
   "cell_type": "code",
   "execution_count": 2,
   "metadata": {},
   "outputs": [],
   "source": [
    "from sklearn.manifold import TSNE\n",
    "from sklearn.decomposition import PCA\n",
    "import numpy as np\n",
    "import pandas as pd"
   ]
  },
  {
   "cell_type": "markdown",
   "metadata": {},
   "source": [
    "## Transformer Encoder"
   ]
  },
  {
   "cell_type": "code",
   "execution_count": 3,
   "metadata": {},
   "outputs": [
    {
     "name": "stdout",
     "output_type": "stream",
     "text": [
      "(3235, 768)\n",
      "(1914831, 768)\n",
      "(1212912, 768)\n"
     ]
    }
   ],
   "source": [
    "hn_motortoolkit = np.load(\"../data/hn_transformerencoder_motortoolkit.npy\")\n",
    "hn_pfammotors= np.load(\"../data/hn_transformerencoder_pfammotors.npy\")\n",
    "hn_dfdev = np.load(\"../data/hn_transformerencoder_dfdev.npy\")\n",
    "print(hn_motortoolkit.shape)\n",
    "print(hn_pfammotors.shape)\n",
    "print(hn_dfdev.shape)"
   ]
  },
  {
   "cell_type": "code",
   "execution_count": 4,
   "metadata": {},
   "outputs": [],
   "source": [
    "u, s, v = np.linalg.svd(hn_motortoolkit)"
   ]
  },
  {
   "cell_type": "code",
   "execution_count": 7,
   "metadata": {},
   "outputs": [
    {
     "data": {
      "text/plain": [
       "array([1.6293489e+05, 2.0418205e+00, 1.3351089e+00, 1.0232561e+00,\n",
       "       8.3068514e-01, 6.5283227e-01, 5.3178918e-01, 4.0863904e-01,\n",
       "       3.9062384e-01, 3.7214699e-01], dtype=float32)"
      ]
     },
     "execution_count": 7,
     "metadata": {},
     "output_type": "execute_result"
    }
   ],
   "source": [
    "s[0:10]"
   ]
  },
  {
   "cell_type": "code",
   "execution_count": 11,
   "metadata": {},
   "outputs": [],
   "source": [
    "u, s, v = np.linalg.svd(hn_pfammotors[1:10000,:])"
   ]
  },
  {
   "cell_type": "code",
   "execution_count": 12,
   "metadata": {},
   "outputs": [
    {
     "data": {
      "text/plain": [
       "array([8.9091117e+04, 7.2454149e-01, 3.5801572e-01, 3.0840611e-01,\n",
       "       2.6150218e-01, 2.3170654e-01, 1.9952329e-01, 1.9444086e-01,\n",
       "       1.7441043e-01, 1.5912345e-01], dtype=float32)"
      ]
     },
     "execution_count": 12,
     "metadata": {},
     "output_type": "execute_result"
    }
   ],
   "source": [
    "s[0:10]"
   ]
  },
  {
   "cell_type": "code",
   "execution_count": 4,
   "metadata": {},
   "outputs": [],
   "source": [
    "u, s, v = np.linalg.svd(hn_dfdev[110000:120000,:])"
   ]
  },
  {
   "cell_type": "code",
   "execution_count": 5,
   "metadata": {},
   "outputs": [
    {
     "data": {
      "text/plain": [
       "array([4.9420723e+04, 4.5896345e-01, 4.5610082e-01, 2.8848442e-01,\n",
       "       2.5892946e-01, 2.1507658e-01, 2.0485921e-01, 1.7426261e-01,\n",
       "       1.5409079e-01, 1.3732859e-01], dtype=float32)"
      ]
     },
     "execution_count": 5,
     "metadata": {},
     "output_type": "execute_result"
    }
   ],
   "source": [
    "s[0:10]"
   ]
  },
  {
   "cell_type": "markdown",
   "metadata": {},
   "source": [
    "From the analysis, we could tell that only one principle component dominate over, and so the hidden states are actually very linearly dependent. The network need to be randomized/further inspected to see if next token prediction is not effective"
   ]
  },
  {
   "cell_type": "code",
   "execution_count": null,
   "metadata": {},
   "outputs": [],
   "source": []
  },
  {
   "cell_type": "markdown",
   "metadata": {},
   "source": [
    "With above analysis, perform it also on LSTM5 and Seq2Seq result to see if only one PC dominates entirely"
   ]
  },
  {
   "cell_type": "markdown",
   "metadata": {},
   "source": [
    "## Seq2Seq"
   ]
  },
  {
   "cell_type": "code",
   "execution_count": 6,
   "metadata": {},
   "outputs": [],
   "source": [
    "hn_motortoolkit = np.load(\"../data/hn_s2sencoder_motortoolkit.npy\")\n",
    "hn_pfammotors= np.load(\"../data/hn_s2sencoder_pfammotors.npy\")\n",
    "hn_dfdev = np.load(\"../data/hn_s2sencoder_dfdev.npy\")"
   ]
  },
  {
   "cell_type": "code",
   "execution_count": 7,
   "metadata": {},
   "outputs": [],
   "source": [
    "u, s, v = np.linalg.svd(hn_motortoolkit)"
   ]
  },
  {
   "cell_type": "code",
   "execution_count": 8,
   "metadata": {},
   "outputs": [
    {
     "data": {
      "text/plain": [
       "array([257.47748 ,  85.86048 ,  56.964283,  40.470497,  37.40044 ,\n",
       "        30.117552,  25.10778 ,  23.10032 ,  22.317842,  20.853163],\n",
       "      dtype=float32)"
      ]
     },
     "execution_count": 8,
     "metadata": {},
     "output_type": "execute_result"
    }
   ],
   "source": [
    "s[0:10]"
   ]
  },
  {
   "cell_type": "code",
   "execution_count": 9,
   "metadata": {},
   "outputs": [],
   "source": [
    "u, s, v = np.linalg.svd(hn_pfammotors[1:20000,:])"
   ]
  },
  {
   "cell_type": "code",
   "execution_count": 10,
   "metadata": {},
   "outputs": [
    {
     "data": {
      "text/plain": [
       "array([585.71173 , 277.25177 , 176.3308  , 112.73699 , 102.46996 ,\n",
       "        96.50056 ,  77.918335,  73.30223 ,  59.386765,  55.59358 ],\n",
       "      dtype=float32)"
      ]
     },
     "execution_count": 10,
     "metadata": {},
     "output_type": "execute_result"
    }
   ],
   "source": [
    "s[0:10]"
   ]
  },
  {
   "cell_type": "code",
   "execution_count": 11,
   "metadata": {},
   "outputs": [],
   "source": [
    "u, s, v = np.linalg.svd(hn_dfdev[110000:120000,:])"
   ]
  },
  {
   "cell_type": "code",
   "execution_count": 12,
   "metadata": {},
   "outputs": [
    {
     "data": {
      "text/plain": [
       "array([400.16098 , 190.04813 , 113.94885 ,  84.33569 ,  70.39741 ,\n",
       "        68.85091 ,  58.15323 ,  51.65772 ,  43.141678,  41.207542],\n",
       "      dtype=float32)"
      ]
     },
     "execution_count": 12,
     "metadata": {},
     "output_type": "execute_result"
    }
   ],
   "source": [
    "s[0:10]"
   ]
  },
  {
   "cell_type": "markdown",
   "metadata": {},
   "source": [
    "## LSTM5"
   ]
  },
  {
   "cell_type": "code",
   "execution_count": 13,
   "metadata": {},
   "outputs": [
    {
     "name": "stdout",
     "output_type": "stream",
     "text": [
      "(3255, 256)\n",
      "(1914831, 256)\n",
      "(1212912, 256)\n"
     ]
    }
   ],
   "source": [
    "hn_motortoolkit = np.load(\"../data/hn_lstm5_motortoolkit.npy\")\n",
    "hn_pfammotors= np.load(\"../data/hn_lstm5_pfammotors.npy\")\n",
    "hn_dfdev = np.load(\"../data/hn_lstm5_dfdev.npy\")\n",
    "print(hn_motortoolkit.shape)\n",
    "print(hn_pfammotors.shape)\n",
    "print(hn_dfdev.shape)"
   ]
  },
  {
   "cell_type": "code",
   "execution_count": 14,
   "metadata": {},
   "outputs": [],
   "source": [
    "u, s, v = np.linalg.svd(hn_motortoolkit)"
   ]
  },
  {
   "cell_type": "code",
   "execution_count": 15,
   "metadata": {},
   "outputs": [
    {
     "data": {
      "text/plain": [
       "array([349.7835  , 112.17764 ,  96.96205 ,  86.31042 ,  74.649895,\n",
       "        59.51239 ,  55.253628,  52.919804,  51.304253,  50.316635],\n",
       "      dtype=float32)"
      ]
     },
     "execution_count": 15,
     "metadata": {},
     "output_type": "execute_result"
    }
   ],
   "source": [
    "s[0:10]"
   ]
  },
  {
   "cell_type": "code",
   "execution_count": 16,
   "metadata": {},
   "outputs": [],
   "source": [
    "u, s, v = np.linalg.svd(hn_pfammotors[1:20000,:])"
   ]
  },
  {
   "cell_type": "code",
   "execution_count": 17,
   "metadata": {},
   "outputs": [
    {
     "data": {
      "text/plain": [
       "array([762.4147 , 297.05518, 258.34515, 223.35733, 176.10948, 170.1825 ,\n",
       "       158.89563, 154.27856, 149.13907, 138.52145], dtype=float32)"
      ]
     },
     "execution_count": 17,
     "metadata": {},
     "output_type": "execute_result"
    }
   ],
   "source": [
    "s[0:10]"
   ]
  },
  {
   "cell_type": "code",
   "execution_count": 18,
   "metadata": {},
   "outputs": [],
   "source": [
    "u, s, v = np.linalg.svd(hn_dfdev[110000:120000,:])"
   ]
  },
  {
   "cell_type": "code",
   "execution_count": 19,
   "metadata": {},
   "outputs": [
    {
     "data": {
      "text/plain": [
       "array([526.8835  , 189.43001 , 160.37401 , 155.0355  , 129.91481 ,\n",
       "       120.06838 , 117.729546, 114.029755, 110.14683 , 102.44181 ],\n",
       "      dtype=float32)"
      ]
     },
     "execution_count": 19,
     "metadata": {},
     "output_type": "execute_result"
    }
   ],
   "source": [
    "s[0:10]"
   ]
  },
  {
   "cell_type": "code",
   "execution_count": null,
   "metadata": {},
   "outputs": [],
   "source": []
  },
  {
   "cell_type": "markdown",
   "metadata": {},
   "source": [
    "From PCA, it seems only transformer model have the pc of super large magnitude"
   ]
  },
  {
   "cell_type": "markdown",
   "metadata": {},
   "source": [
    "## Perform the analysis but first normalize each hidden dimension "
   ]
  },
  {
   "cell_type": "code",
   "execution_count": 13,
   "metadata": {},
   "outputs": [
    {
     "name": "stdout",
     "output_type": "stream",
     "text": [
      "(3235, 768)\n",
      "(1914831, 768)\n",
      "(1212912, 768)\n"
     ]
    }
   ],
   "source": [
    "hn_motortoolkit = np.load(\"../../data/first_try/hn_transformerencoder_motortoolkit.npy\")\n",
    "hn_pfammotors= np.load(\"../../data/first_try/hn_transformerencoder_pfammotors.npy\")\n",
    "hn_dfdev = np.load(\"../../data/first_try/hn_transformerencoder_dfdev.npy\")\n",
    "print(hn_motortoolkit.shape)\n",
    "print(hn_pfammotors.shape)\n",
    "print(hn_dfdev.shape)"
   ]
  },
  {
   "cell_type": "code",
   "execution_count": 14,
   "metadata": {},
   "outputs": [],
   "source": [
    "from sklearn.preprocessing import StandardScaler"
   ]
  },
  {
   "cell_type": "code",
   "execution_count": 15,
   "metadata": {},
   "outputs": [],
   "source": []
  },
  {
   "cell_type": "code",
   "execution_count": 16,
   "metadata": {},
   "outputs": [],
   "source": [
    "scaler = StandardScaler()\n",
    "scaler.fit(hn_motortoolkit)\n",
    "hn_motortoolkit = scaler.transform(hn_motortoolkit)\n",
    "u, s, v = np.linalg.svd(hn_motortoolkit)\n",
    "s[0:10]"
   ]
  },
  {
   "cell_type": "code",
   "execution_count": 25,
   "metadata": {},
   "outputs": [
    {
     "data": {
      "text/plain": [
       "array([5.8841968e+03, 5.6800276e-01, 4.5774418e-01, 2.6847205e-01,\n",
       "       1.6561021e-01, 1.6108577e-01, 1.3962923e-01, 1.3225430e-01,\n",
       "       9.5220186e-02, 9.0758875e-02], dtype=float32)"
      ]
     },
     "execution_count": 25,
     "metadata": {},
     "output_type": "execute_result"
    }
   ],
   "source": [
    "scaler = StandardScaler()\n",
    "scaler.fit(hn_pfammotors)\n",
    "hn_pfammotors = scaler.transform(hn_pfammotors)\n",
    "u, s, v = np.linalg.svd(hn_pfammotors[1:20000,:])\n",
    "s[0:10]"
   ]
  },
  {
   "cell_type": "code",
   "execution_count": 26,
   "metadata": {},
   "outputs": [],
   "source": [
    "# The function reduced the variance being accounted from x100000 to x10000 and so did help to a limited extent"
   ]
  },
  {
   "cell_type": "code",
   "execution_count": null,
   "metadata": {},
   "outputs": [],
   "source": []
  },
  {
   "cell_type": "code",
   "execution_count": null,
   "metadata": {},
   "outputs": [],
   "source": [
    "\n"
   ]
  },
  {
   "cell_type": "code",
   "execution_count": null,
   "metadata": {},
   "outputs": [],
   "source": []
  },
  {
   "cell_type": "code",
   "execution_count": null,
   "metadata": {},
   "outputs": [],
   "source": []
  },
  {
   "cell_type": "code",
   "execution_count": null,
   "metadata": {},
   "outputs": [],
   "source": []
  }
 ],
 "metadata": {
  "kernelspec": {
   "display_name": "Python 3",
   "language": "python",
   "name": "python3"
  },
  "language_info": {
   "codemirror_mode": {
    "name": "ipython",
    "version": 3
   },
   "file_extension": ".py",
   "mimetype": "text/x-python",
   "name": "python",
   "nbconvert_exporter": "python",
   "pygments_lexer": "ipython3",
   "version": "3.7.0"
  }
 },
 "nbformat": 4,
 "nbformat_minor": 2
}
