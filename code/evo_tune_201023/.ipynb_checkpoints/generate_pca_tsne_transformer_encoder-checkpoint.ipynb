{
 "cells": [
  {
   "cell_type": "code",
   "execution_count": null,
   "metadata": {},
   "outputs": [],
   "source": [
    "from sklearn.manifold import TSNE\n",
    "from sklearn.decomposition import PCA\n",
    "import numpy as np\n",
    "import pandas as pd"
   ]
  },
  {
   "cell_type": "code",
   "execution_count": 31,
   "metadata": {},
   "outputs": [],
   "source": [
    "hn_dir = \"../../out/201027/embedding/\"\n",
    "models_dir  = [\"lstm5/\",\"seq2seq/\", \"transformer_encoder/\"]\n",
    "data_dir = [\"motor_toolkit\",\"pfamA_motors_balanced\",\"pfamA_random\",\"pfamA_target\"]\n",
    "tuning_dir = [\"evotune_balanced\",\"evotune_balanced_target\",\"mini_balanced\",\"mini_balanced_target\",\"raw\"]\n",
    "tsne_out_dir = \"../../out/201027/tsne/\"\n",
    "pca_out_dir = \"../../out/201027/pca/\"\n",
    "\n",
    "def joint_embed_tsne(target,background):\n",
    "    jointed = np.concatenate((target, background), axis=0)\n",
    "    pca_jointed = PCA(n_components=5).fit_transform(jointed)\n",
    "    jointed_em_2 = TSNE(n_components=2).fit_transform(pca_jointed)\n",
    "    target_em = jointed_em_2[0:target.shape[0],:]\n",
    "    background_em = jointed_em_2[target.shape[0]:,:]\n",
    "    return target_em,background_em\n",
    "\n",
    "def joint_embed_pca(target,background):\n",
    "    jointed = np.concatenate((target, background), axis=0)\n",
    "    pca_jointed = PCA(n_components=2).fit_transform(jointed)\n",
    "    target_em = pca_jointed[0:target.shape[0],:]\n",
    "    background_em = pca_jointed[target.shape[0]:,:]\n",
    "    return target_em,background_em"
   ]
  },
  {
   "cell_type": "code",
   "execution_count": 11,
   "metadata": {},
   "outputs": [
    {
     "name": "stdout",
     "output_type": "stream",
     "text": [
      "../../out/201027/pca/lstm5/evotune_balanced\n",
      "../../out/201027/pca/lstm5/evotune_balanced_target\n",
      "../../out/201027/pca/lstm5/mini_balanced\n",
      "../../out/201027/pca/lstm5/mini_balanced_target\n",
      "../../out/201027/pca/lstm5/raw\n",
      "../../out/201027/pca/seq2seq/evotune_balanced\n",
      "../../out/201027/pca/seq2seq/evotune_balanced_target\n",
      "../../out/201027/pca/seq2seq/mini_balanced\n",
      "../../out/201027/pca/seq2seq/mini_balanced_target\n",
      "../../out/201027/pca/seq2seq/raw\n",
      "../../out/201027/pca/transformer_encoder/evotune_balanced\n",
      "../../out/201027/pca/transformer_encoder/evotune_balanced_target\n",
      "../../out/201027/pca/transformer_encoder/mini_balanced\n",
      "../../out/201027/pca/transformer_encoder/mini_balanced_target\n",
      "../../out/201027/pca/transformer_encoder/raw\n"
     ]
    }
   ],
   "source": [
    "# make one directory for each tuning method\n",
    "import os, sys\n",
    "for model_dir in models_dir:\n",
    "    os.mkdir(pca_out_dir+model_dir)\n",
    "    os.mkdir(tsne_out_dir+model_dir)\n",
    "    for tuning_dir_ in tuning_dir:\n",
    "        pca_path = pca_out_dir+model_dir+tuning_dir_\n",
    "        print(pca_path)\n",
    "        os.mkdir(pca_path)\n",
    "        tsne_path = tsne_out_dir+model_dir+tuning_dir_\n",
    "        os.mkdir(tsne_path);"
   ]
  },
  {
   "cell_type": "markdown",
   "metadata": {},
   "source": [
    "## TSNE/PCA \n",
    "- directly PCA to 2 dimensions, or PCA to 5 then TSNE\n",
    "- individual embedding: each of the set [\"motor_toolkit\",\"pfamA_motors\",\"pfamA_random\",\"pfamA_target\"]\n",
    "- jointly embed everything, and everything but random, balanced_target, toolkit_target"
   ]
  },
  {
   "cell_type": "code",
   "execution_count": null,
   "metadata": {},
   "outputs": [
    {
     "name": "stdout",
     "output_type": "stream",
     "text": [
      "lstm5/\n",
      "evotune_balanced\n",
      "../../out/201027/embedding/lstm5/motor_toolkit_evotune_balanced.npy\n",
      "../../out/201027/embedding/lstm5/pfamA_motors_balanced_evotune_balanced.npy\n",
      "../../out/201027/embedding/lstm5/pfamA_random_evotune_balanced.npy\n",
      "../../out/201027/embedding/lstm5/pfamA_target_evotune_balanced.npy\n",
      "(3255, 256)\n",
      "(18000, 256)\n",
      "(1600, 256)\n",
      "(59149, 256)\n",
      "motor_toolkit\n",
      "--- 66.47476363182068 seconds ---\n",
      "pfamA_motors_balanced\n",
      "--- 433.23306941986084 seconds ---\n",
      "pfamA_random\n",
      "--- 29.495662450790405 seconds ---\n",
      "pfamA_target\n"
     ]
    }
   ],
   "source": [
    "import glob\n",
    "# for model in models_dir:\n",
    "import time \n",
    "\n",
    "model = models_dir[0]\n",
    "print(model)\n",
    "for tuning_dir_ in tuning_dir:\n",
    "    print(tuning_dir_)\n",
    "    dats = []\n",
    "    for dat in data_dir:\n",
    "        d_path = '../../out/201027/embedding/'+model+dat+'_'+tuning_dir_ + '.npy'\n",
    "        print(d_path)\n",
    "        d = np.load(d_path)\n",
    "        dats.append(d)\n",
    "    print(dats[0].shape)\n",
    "    print(dats[1].shape)\n",
    "    print(dats[2].shape)\n",
    "    print(dats[3].shape)\n",
    "    # first, embed each of the dataset themselves\n",
    "    pca_res = []\n",
    "    tsne_res = []\n",
    "    for i, dat in enumerate(dats):\n",
    "        print(data_dir[i])\n",
    "        start_time = time.time()\n",
    "        pca_curr = PCA(n_components=2).fit_transform(dat)\n",
    "        pca_res.append(pca_curr)\n",
    "        tsne_curr = PCA(n_components=5).fit_transform(dat)\n",
    "        tsne_curr = TSNE(n_components=2).fit_transform(tsne_curr)\n",
    "        tsne_res.append(tsne_curr)\n",
    "        print(\"--- %s seconds ---\" % (time.time() - start_time))\n",
    "        \n",
    "    for i,dat_name in enumerate(data_dir):\n",
    "        pca_out_path = pca_out_dir+model+tuning_dir_+\"/\"+dat_name+\".npy\"\n",
    "        tsne_out_path = tsne_out_dir+model+tuning_dir_+\"/\"+dat_name+\".npy\"\n",
    "        print(pca_out_path)\n",
    "        print(tsne_out_path)\n",
    "        np.save(pca_out_path, pca_res[i])\n",
    "        np.save(tsne_out_path, tsne_res[i])\n",
    "    # then, perform several jointly embedding\n",
    "    #1. target,random\n",
    "    #2. balanced, random\n",
    "    #3. toolkit,target\n",
    "    for i,j in [(0,2),(1,2)]:\n",
    "        start_time = time.time()\n",
    "        target_tsne,background_tsne = joint_embed_tsne(dat[i],dat[j])\n",
    "        target_pca,background_pca = joint_embed_pca(dat[i],dat[j])\n",
    "        print(\"--- %s seconds ---\" % (time.time() - start_time))\n",
    "        pca_out_path_t = pca_out_dir+model+tuning_dir_+\"/\"+data_dir[i]+\"_\"+data_dir[j]+\"_target.npy\"\n",
    "        tsne_out_path_t = tsne_out_dir+model+tuning_dir_+\"/\"+data_dir[i]+\"_\"+data_dir[j]+\"_target.npy\"\n",
    "        pca_out_path_b = pca_out_dir+model+tuning_dir_+\"/\"+data_dir[i]+\"_\"+data_dir[j]+\"_background.npy\"\n",
    "        tsne_out_path_b = tsne_out_dir+model+tuning_dir_+\"/\"+data_dir[i]+\"_\"+data_dir[j]+\"_background.npy\"\n",
    "        print(pca_out_path_t)\n",
    "        print(pca_out_path_b)\n",
    "        print(tsne_out_path_t)\n",
    "        print(tsne_out_path_b)\n",
    "        np.save(pca_out_path_t, target_pca)\n",
    "        np.save(pca_out_path_b, background_pca)\n",
    "        np.save(tsne_out_path_t, target_tsne)\n",
    "        np.save(tsne_out_path_b, background_tsne)"
   ]
  },
  {
   "cell_type": "code",
   "execution_count": null,
   "metadata": {},
   "outputs": [],
   "source": []
  }
 ],
 "metadata": {
  "kernelspec": {
   "display_name": "Python 3",
   "language": "python",
   "name": "python3"
  },
  "language_info": {
   "codemirror_mode": {
    "name": "ipython",
    "version": 3
   },
   "file_extension": ".py",
   "mimetype": "text/x-python",
   "name": "python",
   "nbconvert_exporter": "python",
   "pygments_lexer": "ipython3",
   "version": "3.7.0"
  }
 },
 "nbformat": 4,
 "nbformat_minor": 2
}
