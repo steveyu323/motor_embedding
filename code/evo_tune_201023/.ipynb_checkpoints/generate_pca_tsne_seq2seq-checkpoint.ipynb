{
 "cells": [
  {
   "cell_type": "code",
   "execution_count": 31,
   "metadata": {},
   "outputs": [],
   "source": [
    "hn_dir = \"../../out/201027/embedding/\"\n",
    "models_dir  = [\"lstm5/\",\"seq2seq/\", \"transformer_encoder/\"]\n",
    "data_dir = [\"motor_toolkit\",\"pfamA_motors_balanced\",\"pfamA_random\",\"pfamA_target\"]\n",
    "tuning_dir = [\"evotune_balanced\",\"evotune_balanced_target\",\"mini_balanced\",\"mini_balanced_target\",\"raw\"]\n",
    "tsne_out_dir = \"../../out/201027/tsne/\"\n",
    "pca_out_dir = \"../../out/201027/pca/\"\n",
    "\n",
    "def joint_embed_tsne(target,background):\n",
    "    jointed = np.concatenate((target, background), axis=0)\n",
    "    pca_jointed = PCA(n_components=5).fit_transform(jointed)\n",
    "    jointed_em_2 = TSNE(n_components=2).fit_transform(pca_jointed)\n",
    "    target_em = jointed_em_2[0:target.shape[0],:]\n",
    "    background_em = jointed_em_2[target.shape[0]:,:]\n",
    "    return target_em,background_em\n",
    "\n",
    "def joint_embed_pca(target,background):\n",
    "    jointed = np.concatenate((target, background), axis=0)\n",
    "    pca_jointed = PCA(n_components=2).fit_transform(jointed)\n",
    "    target_em = pca_jointed[0:target.shape[0],:]\n",
    "    background_em = pca_jointed[target.shape[0]:,:]\n",
    "    return target_em,background_em"
   ]
  },
  {
   "cell_type": "code",
   "execution_count": 11,
   "metadata": {},
   "outputs": [
    {
     "name": "stdout",
     "output_type": "stream",
     "text": [
      "../../out/201027/pca/lstm5/evotune_balanced\n",
      "../../out/201027/pca/lstm5/evotune_balanced_target\n",
      "../../out/201027/pca/lstm5/mini_balanced\n",
      "../../out/201027/pca/lstm5/mini_balanced_target\n",
      "../../out/201027/pca/lstm5/raw\n",
      "../../out/201027/pca/seq2seq/evotune_balanced\n",
      "../../out/201027/pca/seq2seq/evotune_balanced_target\n",
      "../../out/201027/pca/seq2seq/mini_balanced\n",
      "../../out/201027/pca/seq2seq/mini_balanced_target\n",
      "../../out/201027/pca/seq2seq/raw\n",
      "../../out/201027/pca/transformer_encoder/evotune_balanced\n",
      "../../out/201027/pca/transformer_encoder/evotune_balanced_target\n",
      "../../out/201027/pca/transformer_encoder/mini_balanced\n",
      "../../out/201027/pca/transformer_encoder/mini_balanced_target\n",
      "../../out/201027/pca/transformer_encoder/raw\n"
     ]
    }
   ],
   "source": [
    "# make one directory for each tuning method\n",
    "import os, sys\n",
    "for model_dir in models_dir:\n",
    "    os.mkdir(pca_out_dir+model_dir)\n",
    "    os.mkdir(tsne_out_dir+model_dir)\n",
    "    for tuning_dir_ in tuning_dir:\n",
    "        pca_path = pca_out_dir+model_dir+tuning_dir_\n",
    "        print(pca_path)\n",
    "        os.mkdir(pca_path)\n",
    "        tsne_path = tsne_out_dir+model_dir+tuning_dir_\n",
    "        os.mkdir(tsne_path);"
   ]
  },
  {
   "cell_type": "markdown",
   "metadata": {},
   "source": [
    "## TSNE/PCA \n",
    "- directly PCA to 2 dimensions, or PCA to 5 then TSNE\n",
    "- individual embedding: each of the set [\"motor_toolkit\",\"pfamA_motors\",\"pfamA_random\",\"pfamA_target\"]\n",
    "- jointly embed everything, and everything but random, balanced_target, toolkit_target"
   ]
  },
  {
   "cell_type": "code",
   "execution_count": 42,
   "metadata": {},
   "outputs": [
    {
     "name": "stdout",
     "output_type": "stream",
     "text": [
      "lstm5/\n",
      "../../out/201027/embedding/lstm5/motor_toolkit_evotune_balanced.npy\n",
      "../../out/201027/embedding/lstm5/pfamA_motors_balanced_evotune_balanced.npy\n",
      "../../out/201027/embedding/lstm5/pfamA_random_evotune_balanced.npy\n",
      "../../out/201027/embedding/lstm5/pfamA_target_evotune_balanced.npy\n",
      "(3255, 256)\n",
      "(18000, 256)\n",
      "(1600, 256)\n",
      "(59149, 256)\n"
     ]
    },
    {
     "ename": "KeyboardInterrupt",
     "evalue": "",
     "output_type": "error",
     "traceback": [
      "\u001b[0;31m---------------------------------------------------------------------------\u001b[0m",
      "\u001b[0;31mKeyboardInterrupt\u001b[0m                         Traceback (most recent call last)",
      "\u001b[0;32m<ipython-input-42-4bb0fa7ec4d8>\u001b[0m in \u001b[0;36m<module>\u001b[0;34m()\u001b[0m\n\u001b[1;32m     20\u001b[0m             \u001b[0mpca_res\u001b[0m\u001b[0;34m.\u001b[0m\u001b[0mappend\u001b[0m\u001b[0;34m(\u001b[0m\u001b[0mpca_curr\u001b[0m\u001b[0;34m)\u001b[0m\u001b[0;34m\u001b[0m\u001b[0m\n\u001b[1;32m     21\u001b[0m             \u001b[0mtsne_curr\u001b[0m \u001b[0;34m=\u001b[0m \u001b[0mPCA\u001b[0m\u001b[0;34m(\u001b[0m\u001b[0mn_components\u001b[0m\u001b[0;34m=\u001b[0m\u001b[0;36m5\u001b[0m\u001b[0;34m)\u001b[0m\u001b[0;34m.\u001b[0m\u001b[0mfit_transform\u001b[0m\u001b[0;34m(\u001b[0m\u001b[0mdat\u001b[0m\u001b[0;34m)\u001b[0m\u001b[0;34m\u001b[0m\u001b[0m\n\u001b[0;32m---> 22\u001b[0;31m             \u001b[0mtsne_curr\u001b[0m \u001b[0;34m=\u001b[0m \u001b[0mTSNE\u001b[0m\u001b[0;34m(\u001b[0m\u001b[0mn_components\u001b[0m\u001b[0;34m=\u001b[0m\u001b[0;36m2\u001b[0m\u001b[0;34m)\u001b[0m\u001b[0;34m.\u001b[0m\u001b[0mfit_transform\u001b[0m\u001b[0;34m(\u001b[0m\u001b[0mtsne_curr\u001b[0m\u001b[0;34m)\u001b[0m\u001b[0;34m\u001b[0m\u001b[0m\n\u001b[0m\u001b[1;32m     23\u001b[0m             \u001b[0mtsne_res\u001b[0m\u001b[0;34m.\u001b[0m\u001b[0mappend\u001b[0m\u001b[0;34m(\u001b[0m\u001b[0mtsne_curr\u001b[0m\u001b[0;34m)\u001b[0m\u001b[0;34m\u001b[0m\u001b[0m\n\u001b[1;32m     24\u001b[0m         \u001b[0;32mfor\u001b[0m \u001b[0mi\u001b[0m\u001b[0;34m,\u001b[0m\u001b[0mdat_name\u001b[0m \u001b[0;32min\u001b[0m \u001b[0menumerate\u001b[0m\u001b[0;34m(\u001b[0m\u001b[0mdata_dir\u001b[0m\u001b[0;34m)\u001b[0m\u001b[0;34m:\u001b[0m\u001b[0;34m\u001b[0m\u001b[0m\n",
      "\u001b[0;32m/central/software/python/3.7.0/lib/python3.7/site-packages/sklearn/manifold/t_sne.py\u001b[0m in \u001b[0;36mfit_transform\u001b[0;34m(self, X, y)\u001b[0m\n\u001b[1;32m    856\u001b[0m             \u001b[0mEmbedding\u001b[0m \u001b[0mof\u001b[0m \u001b[0mthe\u001b[0m \u001b[0mtraining\u001b[0m \u001b[0mdata\u001b[0m \u001b[0;32min\u001b[0m \u001b[0mlow\u001b[0m\u001b[0;34m-\u001b[0m\u001b[0mdimensional\u001b[0m \u001b[0mspace\u001b[0m\u001b[0;34m.\u001b[0m\u001b[0;34m\u001b[0m\u001b[0m\n\u001b[1;32m    857\u001b[0m         \"\"\"\n\u001b[0;32m--> 858\u001b[0;31m         \u001b[0membedding\u001b[0m \u001b[0;34m=\u001b[0m \u001b[0mself\u001b[0m\u001b[0;34m.\u001b[0m\u001b[0m_fit\u001b[0m\u001b[0;34m(\u001b[0m\u001b[0mX\u001b[0m\u001b[0;34m)\u001b[0m\u001b[0;34m\u001b[0m\u001b[0m\n\u001b[0m\u001b[1;32m    859\u001b[0m         \u001b[0mself\u001b[0m\u001b[0;34m.\u001b[0m\u001b[0membedding_\u001b[0m \u001b[0;34m=\u001b[0m \u001b[0membedding\u001b[0m\u001b[0;34m\u001b[0m\u001b[0m\n\u001b[1;32m    860\u001b[0m         \u001b[0;32mreturn\u001b[0m \u001b[0mself\u001b[0m\u001b[0;34m.\u001b[0m\u001b[0membedding_\u001b[0m\u001b[0;34m\u001b[0m\u001b[0m\n",
      "\u001b[0;32m/central/software/python/3.7.0/lib/python3.7/site-packages/sklearn/manifold/t_sne.py\u001b[0m in \u001b[0;36m_fit\u001b[0;34m(self, X, skip_num_points)\u001b[0m\n\u001b[1;32m    768\u001b[0m                           \u001b[0mX_embedded\u001b[0m\u001b[0;34m=\u001b[0m\u001b[0mX_embedded\u001b[0m\u001b[0;34m,\u001b[0m\u001b[0;34m\u001b[0m\u001b[0m\n\u001b[1;32m    769\u001b[0m                           \u001b[0mneighbors\u001b[0m\u001b[0;34m=\u001b[0m\u001b[0mneighbors_nn\u001b[0m\u001b[0;34m,\u001b[0m\u001b[0;34m\u001b[0m\u001b[0m\n\u001b[0;32m--> 770\u001b[0;31m                           skip_num_points=skip_num_points)\n\u001b[0m\u001b[1;32m    771\u001b[0m \u001b[0;34m\u001b[0m\u001b[0m\n\u001b[1;32m    772\u001b[0m     \u001b[0;34m@\u001b[0m\u001b[0mproperty\u001b[0m\u001b[0;34m\u001b[0m\u001b[0m\n",
      "\u001b[0;32m/central/software/python/3.7.0/lib/python3.7/site-packages/sklearn/manifold/t_sne.py\u001b[0m in \u001b[0;36m_tsne\u001b[0;34m(self, P, degrees_of_freedom, n_samples, X_embedded, neighbors, skip_num_points)\u001b[0m\n\u001b[1;32m    810\u001b[0m         \u001b[0mP\u001b[0m \u001b[0;34m*=\u001b[0m \u001b[0mself\u001b[0m\u001b[0;34m.\u001b[0m\u001b[0mearly_exaggeration\u001b[0m\u001b[0;34m\u001b[0m\u001b[0m\n\u001b[1;32m    811\u001b[0m         params, kl_divergence, it = _gradient_descent(obj_func, params,\n\u001b[0;32m--> 812\u001b[0;31m                                                       **opt_args)\n\u001b[0m\u001b[1;32m    813\u001b[0m         \u001b[0;32mif\u001b[0m \u001b[0mself\u001b[0m\u001b[0;34m.\u001b[0m\u001b[0mverbose\u001b[0m\u001b[0;34m:\u001b[0m\u001b[0;34m\u001b[0m\u001b[0m\n\u001b[1;32m    814\u001b[0m             print(\"[t-SNE] KL divergence after %d iterations with early \"\n",
      "\u001b[0;32m/central/software/python/3.7.0/lib/python3.7/site-packages/sklearn/manifold/t_sne.py\u001b[0m in \u001b[0;36m_gradient_descent\u001b[0;34m(objective, p0, it, n_iter, n_iter_check, n_iter_without_progress, momentum, learning_rate, min_gain, min_grad_norm, verbose, args, kwargs)\u001b[0m\n\u001b[1;32m    337\u001b[0m     \u001b[0mtic\u001b[0m \u001b[0;34m=\u001b[0m \u001b[0mtime\u001b[0m\u001b[0;34m(\u001b[0m\u001b[0;34m)\u001b[0m\u001b[0;34m\u001b[0m\u001b[0m\n\u001b[1;32m    338\u001b[0m     \u001b[0;32mfor\u001b[0m \u001b[0mi\u001b[0m \u001b[0;32min\u001b[0m \u001b[0mrange\u001b[0m\u001b[0;34m(\u001b[0m\u001b[0mit\u001b[0m\u001b[0;34m,\u001b[0m \u001b[0mn_iter\u001b[0m\u001b[0;34m)\u001b[0m\u001b[0;34m:\u001b[0m\u001b[0;34m\u001b[0m\u001b[0m\n\u001b[0;32m--> 339\u001b[0;31m         \u001b[0merror\u001b[0m\u001b[0;34m,\u001b[0m \u001b[0mgrad\u001b[0m \u001b[0;34m=\u001b[0m \u001b[0mobjective\u001b[0m\u001b[0;34m(\u001b[0m\u001b[0mp\u001b[0m\u001b[0;34m,\u001b[0m \u001b[0;34m*\u001b[0m\u001b[0margs\u001b[0m\u001b[0;34m,\u001b[0m \u001b[0;34m**\u001b[0m\u001b[0mkwargs\u001b[0m\u001b[0;34m)\u001b[0m\u001b[0;34m\u001b[0m\u001b[0m\n\u001b[0m\u001b[1;32m    340\u001b[0m         \u001b[0mgrad_norm\u001b[0m \u001b[0;34m=\u001b[0m \u001b[0mlinalg\u001b[0m\u001b[0;34m.\u001b[0m\u001b[0mnorm\u001b[0m\u001b[0;34m(\u001b[0m\u001b[0mgrad\u001b[0m\u001b[0;34m)\u001b[0m\u001b[0;34m\u001b[0m\u001b[0m\n\u001b[1;32m    341\u001b[0m \u001b[0;34m\u001b[0m\u001b[0m\n",
      "\u001b[0;32m/central/software/python/3.7.0/lib/python3.7/site-packages/sklearn/manifold/t_sne.py\u001b[0m in \u001b[0;36m_kl_divergence_bh\u001b[0;34m(params, P, degrees_of_freedom, n_samples, n_components, angle, skip_num_points, verbose)\u001b[0m\n\u001b[1;32m    245\u001b[0m     error = _barnes_hut_tsne.gradient(val_P, X_embedded, neighbors, indptr,\n\u001b[1;32m    246\u001b[0m                                       \u001b[0mgrad\u001b[0m\u001b[0;34m,\u001b[0m \u001b[0mangle\u001b[0m\u001b[0;34m,\u001b[0m \u001b[0mn_components\u001b[0m\u001b[0;34m,\u001b[0m \u001b[0mverbose\u001b[0m\u001b[0;34m,\u001b[0m\u001b[0;34m\u001b[0m\u001b[0m\n\u001b[0;32m--> 247\u001b[0;31m                                       dof=degrees_of_freedom)\n\u001b[0m\u001b[1;32m    248\u001b[0m     \u001b[0mc\u001b[0m \u001b[0;34m=\u001b[0m \u001b[0;36m2.0\u001b[0m \u001b[0;34m*\u001b[0m \u001b[0;34m(\u001b[0m\u001b[0mdegrees_of_freedom\u001b[0m \u001b[0;34m+\u001b[0m \u001b[0;36m1.0\u001b[0m\u001b[0;34m)\u001b[0m \u001b[0;34m/\u001b[0m \u001b[0mdegrees_of_freedom\u001b[0m\u001b[0;34m\u001b[0m\u001b[0m\n\u001b[1;32m    249\u001b[0m     \u001b[0mgrad\u001b[0m \u001b[0;34m=\u001b[0m \u001b[0mgrad\u001b[0m\u001b[0;34m.\u001b[0m\u001b[0mravel\u001b[0m\u001b[0;34m(\u001b[0m\u001b[0;34m)\u001b[0m\u001b[0;34m\u001b[0m\u001b[0m\n",
      "\u001b[0;31mKeyboardInterrupt\u001b[0m: "
     ]
    }
   ],
   "source": [
    "import glob\n",
    "for model in models_dir:\n",
    "    print(model)\n",
    "    for tuning_dir_ in tuning_dir:\n",
    "        dats = []\n",
    "        for dat in data_dir:\n",
    "            d_path = '../../out/201027/embedding/'+model+dat+'_'+tuning_dir_ + '.npy'\n",
    "            print(d_path)\n",
    "            d = np.load(d_path)\n",
    "            dats.append(d)\n",
    "        print(hn_motortoolkit.shape)\n",
    "        print(hn_pfamA_motors_balanced.shape)\n",
    "        print(hn_pfamA_random.shape)\n",
    "        print(hn_pfamA_target.shape)\n",
    "        # first, embed each of the dataset themselves\n",
    "        pca_res = []\n",
    "        tsne_res = []\n",
    "        for dat in dats:\n",
    "            pca_curr = PCA(n_components=2).fit_transform(dat)\n",
    "            pca_res.append(pca_curr)\n",
    "            tsne_curr = PCA(n_components=5).fit_transform(dat)\n",
    "            tsne_curr = TSNE(n_components=2).fit_transform(tsne_curr)\n",
    "            tsne_res.append(tsne_curr)\n",
    "        for i,dat_name in enumerate(data_dir):\n",
    "            pca_out_path = pca_out_dir+model+tuning_dir_+\"/\"+dat_name+\".npy\"\n",
    "            tsne_out_path = tsne_out_dir+model+tuning_dir_+\"/\"+dat_name+\".npy\"\n",
    "            print(pca_out_path)\n",
    "            print(tsne_out_path)\n",
    "            np.save(pca_out_path, pca_res[i])\n",
    "            np.save(tsne_out_path, tsne_res[i])\n",
    "        # then, perform several jointly embedding\n",
    "        #1. target,random\n",
    "        #2. balanced, random\n",
    "        #3. toolkit,target\n",
    "        for i,j in [(0,2),(1,2)]:\n",
    "            target_tsne,background_tsne = joint_embed_tsne(dat[i],dat[j])\n",
    "            target_pca,background_pca = joint_embed_pca(dat[i],dat[j])\n",
    "            \n",
    "            pca_out_path_t = pca_out_dir+model+tuning_dir_+\"/\"+data_dir[i]+\"_\"+data_dir[j]+\"_target.npy\"\n",
    "            tsne_out_path_t = tsne_out_dir+model+tuning_dir_+\"/\"+data_dir[i]+\"_\"+data_dir[j]+\"_target.npy\"\n",
    "            pca_out_path_b = pca_out_dir+model+tuning_dir_+\"/\"+data_dir[i]+\"_\"+data_dir[j]+\"_background.npy\"\n",
    "            tsne_out_path_b = tsne_out_dir+model+tuning_dir_+\"/\"+data_dir[i]+\"_\"+data_dir[j]+\"_background.npy\"\n",
    "            print(pca_out_path_t)\n",
    "            print(pca_out_path_b)\n",
    "            print(tsne_out_path_t)\n",
    "            print(tsne_out_path_b)\n",
    "            np.save(pca_out_path_t, target_pca)\n",
    "            np.save(pca_out_path_b, background_pca)\n",
    "            np.save(tsne_out_path_t, target_tsne)\n",
    "            np.save(tsne_out_path_b, background_tsne)\n",
    "     \n",
    "        break\n",
    "    break"
   ]
  },
  {
   "cell_type": "code",
   "execution_count": null,
   "metadata": {},
   "outputs": [],
   "source": []
  }
 ],
 "metadata": {
  "kernelspec": {
   "display_name": "Python 3",
   "language": "python",
   "name": "python3"
  },
  "language_info": {
   "codemirror_mode": {
    "name": "ipython",
    "version": 3
   },
   "file_extension": ".py",
   "mimetype": "text/x-python",
   "name": "python",
   "nbconvert_exporter": "python",
   "pygments_lexer": "ipython3",
   "version": "3.7.0"
  }
 },
 "nbformat": 4,
 "nbformat_minor": 2
}
